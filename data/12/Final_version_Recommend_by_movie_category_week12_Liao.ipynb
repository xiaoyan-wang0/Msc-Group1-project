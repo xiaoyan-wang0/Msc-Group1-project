{
  "nbformat": 4,
  "nbformat_minor": 0,
  "metadata": {
    "colab": {
      "name": "Final version-Recommend_by_movie_category_week12-Liao.ipynb",
      "provenance": [],
      "collapsed_sections": []
    },
    "kernelspec": {
      "display_name": "Python 3",
      "name": "python3"
    },
    "language_info": {
      "name": "python"
    }
  },
  "cells": [
    {
      "cell_type": "code",
      "metadata": {
        "colab": {
          "base_uri": "https://localhost:8080/"
        },
        "id": "_8CJrNgZTW61",
        "outputId": "e6961638-6cca-4222-dee3-c6821a0466f8"
      },
      "source": [
        "pip install imdbpy"
      ],
      "execution_count": 1,
      "outputs": [
        {
          "output_type": "stream",
          "name": "stdout",
          "text": [
            "Collecting imdbpy\n",
            "  Downloading IMDbPY-2021.4.18-py3-none-any.whl (298 kB)\n",
            "\u001b[?25l\r\u001b[K     |█                               | 10 kB 23.5 MB/s eta 0:00:01\r\u001b[K     |██▏                             | 20 kB 7.0 MB/s eta 0:00:01\r\u001b[K     |███▎                            | 30 kB 8.7 MB/s eta 0:00:01\r\u001b[K     |████▍                           | 40 kB 8.0 MB/s eta 0:00:01\r\u001b[K     |█████▌                          | 51 kB 4.3 MB/s eta 0:00:01\r\u001b[K     |██████▋                         | 61 kB 4.5 MB/s eta 0:00:01\r\u001b[K     |███████▊                        | 71 kB 4.5 MB/s eta 0:00:01\r\u001b[K     |████████▉                       | 81 kB 5.0 MB/s eta 0:00:01\r\u001b[K     |█████████▉                      | 92 kB 5.3 MB/s eta 0:00:01\r\u001b[K     |███████████                     | 102 kB 4.2 MB/s eta 0:00:01\r\u001b[K     |████████████                    | 112 kB 4.2 MB/s eta 0:00:01\r\u001b[K     |█████████████▏                  | 122 kB 4.2 MB/s eta 0:00:01\r\u001b[K     |██████████████▎                 | 133 kB 4.2 MB/s eta 0:00:01\r\u001b[K     |███████████████▍                | 143 kB 4.2 MB/s eta 0:00:01\r\u001b[K     |████████████████▌               | 153 kB 4.2 MB/s eta 0:00:01\r\u001b[K     |█████████████████▋              | 163 kB 4.2 MB/s eta 0:00:01\r\u001b[K     |██████████████████▋             | 174 kB 4.2 MB/s eta 0:00:01\r\u001b[K     |███████████████████▊            | 184 kB 4.2 MB/s eta 0:00:01\r\u001b[K     |████████████████████▉           | 194 kB 4.2 MB/s eta 0:00:01\r\u001b[K     |██████████████████████          | 204 kB 4.2 MB/s eta 0:00:01\r\u001b[K     |███████████████████████         | 215 kB 4.2 MB/s eta 0:00:01\r\u001b[K     |████████████████████████▏       | 225 kB 4.2 MB/s eta 0:00:01\r\u001b[K     |█████████████████████████▎      | 235 kB 4.2 MB/s eta 0:00:01\r\u001b[K     |██████████████████████████▍     | 245 kB 4.2 MB/s eta 0:00:01\r\u001b[K     |███████████████████████████▍    | 256 kB 4.2 MB/s eta 0:00:01\r\u001b[K     |████████████████████████████▌   | 266 kB 4.2 MB/s eta 0:00:01\r\u001b[K     |█████████████████████████████▋  | 276 kB 4.2 MB/s eta 0:00:01\r\u001b[K     |██████████████████████████████▊ | 286 kB 4.2 MB/s eta 0:00:01\r\u001b[K     |███████████████████████████████▉| 296 kB 4.2 MB/s eta 0:00:01\r\u001b[K     |████████████████████████████████| 298 kB 4.2 MB/s \n",
            "\u001b[?25hRequirement already satisfied: SQLAlchemy in /usr/local/lib/python3.7/dist-packages (from imdbpy) (1.4.27)\n",
            "Requirement already satisfied: lxml in /usr/local/lib/python3.7/dist-packages (from imdbpy) (4.2.6)\n",
            "Requirement already satisfied: greenlet!=0.4.17 in /usr/local/lib/python3.7/dist-packages (from SQLAlchemy->imdbpy) (1.1.2)\n",
            "Requirement already satisfied: importlib-metadata in /usr/local/lib/python3.7/dist-packages (from SQLAlchemy->imdbpy) (4.8.2)\n",
            "Requirement already satisfied: zipp>=0.5 in /usr/local/lib/python3.7/dist-packages (from importlib-metadata->SQLAlchemy->imdbpy) (3.6.0)\n",
            "Requirement already satisfied: typing-extensions>=3.6.4 in /usr/local/lib/python3.7/dist-packages (from importlib-metadata->SQLAlchemy->imdbpy) (3.10.0.2)\n",
            "Installing collected packages: imdbpy\n",
            "Successfully installed imdbpy-2021.4.18\n"
          ]
        }
      ]
    },
    {
      "cell_type": "code",
      "metadata": {
        "colab": {
          "base_uri": "https://localhost:8080/"
        },
        "id": "arTVYFWmVRmk",
        "outputId": "d4a41a3c-aaed-4482-b06e-0b79aae2af21"
      },
      "source": [
        "pip install wget"
      ],
      "execution_count": 2,
      "outputs": [
        {
          "output_type": "stream",
          "name": "stdout",
          "text": [
            "Collecting wget\n",
            "  Downloading wget-3.2.zip (10 kB)\n",
            "Building wheels for collected packages: wget\n",
            "  Building wheel for wget (setup.py) ... \u001b[?25l\u001b[?25hdone\n",
            "  Created wheel for wget: filename=wget-3.2-py3-none-any.whl size=9672 sha256=68dfcf92378ec6a028b311b2c81e001ec05ddec8c3841034bcb9f78fc7e03e14\n",
            "  Stored in directory: /root/.cache/pip/wheels/a1/b6/7c/0e63e34eb06634181c63adacca38b79ff8f35c37e3c13e3c02\n",
            "Successfully built wget\n",
            "Installing collected packages: wget\n",
            "Successfully installed wget-3.2\n"
          ]
        }
      ]
    },
    {
      "cell_type": "code",
      "metadata": {
        "colab": {
          "base_uri": "https://localhost:8080/"
        },
        "id": "2TSr_IndaeZR",
        "outputId": "bb1353b2-b1a0-43ac-ccd5-365e9ecd2ffb"
      },
      "source": [
        "pip install tmdbsimple"
      ],
      "execution_count": 3,
      "outputs": [
        {
          "output_type": "stream",
          "name": "stdout",
          "text": [
            "Collecting tmdbsimple\n",
            "  Downloading tmdbsimple-2.8.1-py3-none-any.whl (38 kB)\n",
            "Requirement already satisfied: requests in /usr/local/lib/python3.7/dist-packages (from tmdbsimple) (2.23.0)\n",
            "Requirement already satisfied: certifi>=2017.4.17 in /usr/local/lib/python3.7/dist-packages (from requests->tmdbsimple) (2021.10.8)\n",
            "Requirement already satisfied: idna<3,>=2.5 in /usr/local/lib/python3.7/dist-packages (from requests->tmdbsimple) (2.10)\n",
            "Requirement already satisfied: urllib3!=1.25.0,!=1.25.1,<1.26,>=1.21.1 in /usr/local/lib/python3.7/dist-packages (from requests->tmdbsimple) (1.24.3)\n",
            "Requirement already satisfied: chardet<4,>=3.0.2 in /usr/local/lib/python3.7/dist-packages (from requests->tmdbsimple) (3.0.4)\n",
            "Installing collected packages: tmdbsimple\n",
            "Successfully installed tmdbsimple-2.8.1\n"
          ]
        }
      ]
    },
    {
      "cell_type": "code",
      "metadata": {
        "id": "KbJ3IO9OOIJW"
      },
      "source": [
        "import urllib.request\n",
        "import requests\n",
        "import json\n",
        "import imdb\n",
        "import time\n",
        "import itertools\n",
        "import wget\n",
        "import os\n",
        "import tmdbsimple as tmdb\n",
        "import numpy as np\n",
        "import random\n",
        "import matplotlib\n",
        "import matplotlib.pyplot as plt\n",
        "%matplotlib inline\n",
        "import seaborn as sns\n",
        "import pickle\n",
        "import pickle as pkl"
      ],
      "execution_count": 4,
      "outputs": []
    },
    {
      "cell_type": "code",
      "metadata": {
        "id": "FMJi457OPe-w"
      },
      "source": [
        "api_key = 'cca7512b963db8aa84ed7e1abe3be199' \n",
        "url = 'https://api.themoviedb.org/3/movie/550?api_key=cca7512b963db8aa84ed7e1abe3be199'\n",
        "data = urllib.request.urlopen(url).read()\n",
        "dataDict = json.loads(data)"
      ],
      "execution_count": 5,
      "outputs": []
    },
    {
      "cell_type": "code",
      "metadata": {
        "id": "UttvFoQdP4Kw"
      },
      "source": [
        "poster_folder='posters_final/'\n",
        "if poster_folder.split('/')[0] in os.listdir('./'):\n",
        "    print('Folder already exists')\n",
        "else:\n",
        "    os.mkdir('./'+poster_folder)"
      ],
      "execution_count": 6,
      "outputs": []
    },
    {
      "cell_type": "code",
      "metadata": {
        "id": "cuNQc8p_P_QN"
      },
      "source": [
        "tmdb.API_KEY = api_key \n",
        "search = tmdb.Search()"
      ],
      "execution_count": 7,
      "outputs": []
    },
    {
      "cell_type": "code",
      "metadata": {
        "id": "IukOx5MRQ1c9"
      },
      "source": [
        "def get_movie_id_tmdb(movie):\n",
        "    response = search.movie(query=movie)\n",
        "    movie_id=response['results'][0]['id']\n",
        "    return movie_id"
      ],
      "execution_count": 8,
      "outputs": []
    },
    {
      "cell_type": "code",
      "metadata": {
        "id": "v746gXrvQ5Cn"
      },
      "source": [
        "def get_movie_info_tmdb(movie):\n",
        "    response = search.movie(query=movie)\n",
        "    id=response['results'][0]['id']\n",
        "    movie = tmdb.Movies(id)\n",
        "    info=movie.info()\n",
        "    return info"
      ],
      "execution_count": 9,
      "outputs": []
    },
    {
      "cell_type": "code",
      "metadata": {
        "id": "NUgVYqYhRBCS"
      },
      "source": [
        "def get_movie_genres_tmdb(movie):\n",
        "    response = search.movie(query=movie)\n",
        "    id=response['results'][0]['id']\n",
        "    movie = tmdb.Movies(id)\n",
        "    genres=movie.info()['genres']\n",
        "    return genres"
      ],
      "execution_count": 10,
      "outputs": []
    },
    {
      "cell_type": "code",
      "metadata": {
        "id": "5hPIObyiSUPW"
      },
      "source": [
        "def get_movie_overview_tmdb(movie):\n",
        "    response = search.movie(query=movie)\n",
        "    id=response['results'][0]['id']\n",
        "    movie = tmdb.Movies(id)\n",
        "    overview=movie.info()['overview']\n",
        "    return genres"
      ],
      "execution_count": 11,
      "outputs": []
    },
    {
      "cell_type": "markdown",
      "metadata": {
        "id": "wCeVBHR7eGsB"
      },
      "source": [
        "**Popular** **movie**"
      ]
    },
    {
      "cell_type": "code",
      "metadata": {
        "colab": {
          "base_uri": "https://localhost:8080/"
        },
        "id": "4e4sFb1cXGLF",
        "outputId": "ead22276-2eff-4ce9-984a-10a91335983e"
      },
      "source": [
        "all_movies=tmdb.Movies()\n",
        "top_movies=all_movies.popular()\n",
        "\n",
        "print(len(top_movies['results']))\n",
        "popular_movs=top_movies['results']"
      ],
      "execution_count": 12,
      "outputs": [
        {
          "output_type": "stream",
          "name": "stdout",
          "text": [
            "20\n"
          ]
        }
      ]
    },
    {
      "cell_type": "markdown",
      "metadata": {
        "id": "kbtKAuteyUif"
      },
      "source": [
        "Obtain Top 10,000 popular movies from TMDb"
      ]
    },
    {
      "cell_type": "code",
      "metadata": {
        "colab": {
          "base_uri": "https://localhost:8080/"
        },
        "id": "vGbsrYZIZCp8",
        "outputId": "b8d190a4-c58b-4247-a224-789eb9d6c8b2"
      },
      "source": [
        "all_movies=tmdb.Movies()\n",
        "top10000_movies=[]\n",
        "print('Pulling movie list, Please wait...')\n",
        "for i in range(1,501):\n",
        "    if i%15==0:\n",
        "        time.sleep(7)\n",
        "    movies_on_this_page=all_movies.popular(page=i)['results']\n",
        "    top10000_movies.extend(movies_on_this_page)\n",
        "len(top10000_movies)\n",
        "f3=open('movie_list_week12.pckl','wb')\n",
        "pickle.dump(top10000_movies,f3)\n",
        "f3.close()\n",
        "print('Done!')"
      ],
      "execution_count": 15,
      "outputs": [
        {
          "output_type": "stream",
          "name": "stdout",
          "text": [
            "Pulling movie list, Please wait...\n",
            "Done!\n"
          ]
        }
      ]
    },
    {
      "cell_type": "code",
      "metadata": {
        "id": "_3FaGooOpwxK"
      },
      "source": [
        "f3=open('movie_list_week12.pckl','rb')\n",
        "top10000_movies_week12=pickle.load(f3)\n",
        "f3.close()"
      ],
      "execution_count": 16,
      "outputs": []
    },
    {
      "cell_type": "code",
      "metadata": {
        "colab": {
          "base_uri": "https://localhost:8080/"
        },
        "id": "TcVSK_zWukgP",
        "outputId": "69b37201-0dc4-4405-e72c-22425f4acf2a"
      },
      "source": [
        "len(top10000_movies_week12)"
      ],
      "execution_count": 17,
      "outputs": [
        {
          "output_type": "execute_result",
          "data": {
            "text/plain": [
              "10000"
            ]
          },
          "metadata": {},
          "execution_count": 17
        }
      ]
    },
    {
      "cell_type": "code",
      "metadata": {
        "id": "E1lXlc3v_Ub7"
      },
      "source": [
        "import pandas as pd\n",
        "with open(\"movie_list_week12.pckl\", \"rb\") as f:\n",
        "    object = pkl.load(f)\n",
        "    \n",
        "df = pd.DataFrame(object)\n",
        "df.to_csv(r'top10000_movies_week12.csv')"
      ],
      "execution_count": 18,
      "outputs": []
    },
    {
      "cell_type": "code",
      "metadata": {
        "colab": {
          "base_uri": "https://localhost:8080/"
        },
        "id": "AmCCi2CSTgoL",
        "outputId": "14c503e9-d0dc-4b07-b909-ee374a72e65a"
      },
      "source": [
        "with open('top10000_movies_week12.csv', 'r') as f:\n",
        "    print(len(f.readlines()))"
      ],
      "execution_count": 19,
      "outputs": [
        {
          "output_type": "stream",
          "name": "stdout",
          "text": [
            "10033\n"
          ]
        }
      ]
    },
    {
      "cell_type": "code",
      "metadata": {
        "id": "ECf43mLEV3-K"
      },
      "source": [
        "import pandas as pd\n",
        "\n",
        "df = pd.read_csv('top10000_movies_week12.csv', index_col=None, header=0, engine='python' )"
      ],
      "execution_count": 20,
      "outputs": []
    },
    {
      "cell_type": "code",
      "metadata": {
        "id": "B6pkcMUGWm-B"
      },
      "source": [
        "data = df.values"
      ],
      "execution_count": 21,
      "outputs": []
    },
    {
      "cell_type": "code",
      "metadata": {
        "colab": {
          "base_uri": "https://localhost:8080/"
        },
        "id": "-JXmX6TpWtIf",
        "outputId": "ee2015ad-59a7-4952-a989-3620883233fd"
      },
      "source": [
        "colnames = df.columns\n",
        "colnames"
      ],
      "execution_count": 22,
      "outputs": [
        {
          "output_type": "execute_result",
          "data": {
            "text/plain": [
              "Index(['Unnamed: 0', 'adult', 'backdrop_path', 'genre_ids', 'id',\n",
              "       'original_language', 'original_title', 'overview', 'popularity',\n",
              "       'poster_path', 'release_date', 'title', 'video', 'vote_average',\n",
              "       'vote_count'],\n",
              "      dtype='object')"
            ]
          },
          "metadata": {},
          "execution_count": 22
        }
      ]
    },
    {
      "cell_type": "markdown",
      "metadata": {
        "id": "VwaTPsfMiqWL"
      },
      "source": [
        "Add 'popularity' "
      ]
    },
    {
      "cell_type": "code",
      "metadata": {
        "id": "FAnRKK85XfMt"
      },
      "source": [
        "df.to_csv('train_top10000_week12.csv', columns=['title', 'overview', 'genre_ids', 'id', 'popularity'])"
      ],
      "execution_count": 23,
      "outputs": []
    },
    {
      "cell_type": "code",
      "metadata": {
        "colab": {
          "base_uri": "https://localhost:8080/"
        },
        "id": "1QNh_bE9YMua",
        "outputId": "e4bdfaa9-2a5f-4171-e976-302966cf9da1"
      },
      "source": [
        "with open('train_top10000_week12.csv', 'r') as f:\n",
        "    print(len(f.readlines()))"
      ],
      "execution_count": 24,
      "outputs": [
        {
          "output_type": "stream",
          "name": "stdout",
          "text": [
            "10033\n"
          ]
        }
      ]
    },
    {
      "cell_type": "markdown",
      "metadata": {
        "id": "7BcPaQ9geZKE"
      },
      "source": [
        "***Upcoming movie***"
      ]
    },
    {
      "cell_type": "code",
      "metadata": {
        "colab": {
          "base_uri": "https://localhost:8080/"
        },
        "id": "Q9ZFG2rbe4cz",
        "outputId": "85b37cd5-74a6-44d1-b318-3db9924c82ac"
      },
      "source": [
        "all_movies=tmdb.Movies()\n",
        "upcoming_movies=all_movies.upcoming()\n",
        "\n",
        "print(len(upcoming_movies['results']))\n",
        "upcoming_movs=top_movies['results']"
      ],
      "execution_count": 25,
      "outputs": [
        {
          "output_type": "stream",
          "name": "stdout",
          "text": [
            "20\n"
          ]
        }
      ]
    },
    {
      "cell_type": "code",
      "metadata": {
        "colab": {
          "base_uri": "https://localhost:8080/"
        },
        "id": "KbhkW236fNQZ",
        "outputId": "4bc43721-2a3b-4f92-a3f6-d4ba878c2b70"
      },
      "source": [
        "all_movies=tmdb.Movies()\n",
        "upcoming1000_movies=[]\n",
        "print('Pulling movie list, Please wait...')\n",
        "for i in range(1,51):\n",
        "    if i%15==0:\n",
        "        time.sleep(7)\n",
        "    movies_on_this_page=all_movies.upcoming(page=i)['results']\n",
        "    upcoming1000_movies.extend(movies_on_this_page)\n",
        "len(upcoming1000_movies)\n",
        "f4=open('upcoming_movie_list_week12.pckl','wb')\n",
        "pickle.dump(upcoming1000_movies,f4)\n",
        "f4.close()\n",
        "print('Done!')"
      ],
      "execution_count": 26,
      "outputs": [
        {
          "output_type": "stream",
          "name": "stdout",
          "text": [
            "Pulling movie list, Please wait...\n",
            "Done!\n"
          ]
        }
      ]
    },
    {
      "cell_type": "code",
      "metadata": {
        "id": "c82ZV-Puf_tx"
      },
      "source": [
        "f4=open('upcoming_movie_list_week12.pckl','rb')\n",
        "upcoming1000_movies_week12=pickle.load(f4)\n",
        "f4.close()"
      ],
      "execution_count": 27,
      "outputs": []
    },
    {
      "cell_type": "code",
      "metadata": {
        "colab": {
          "base_uri": "https://localhost:8080/"
        },
        "id": "pYu-lMdngOOF",
        "outputId": "a948e4e2-920e-46fb-d8e9-5d9f589b4574"
      },
      "source": [
        "len(upcoming1000_movies_week12)"
      ],
      "execution_count": 28,
      "outputs": [
        {
          "output_type": "execute_result",
          "data": {
            "text/plain": [
              "836"
            ]
          },
          "metadata": {},
          "execution_count": 28
        }
      ]
    },
    {
      "cell_type": "markdown",
      "metadata": {
        "id": "cuFHScEfgWD4"
      },
      "source": [
        "**600+ upcoming movies for week10**"
      ]
    },
    {
      "cell_type": "code",
      "metadata": {
        "id": "B44XKLJbgccz"
      },
      "source": [
        "with open(\"upcoming_movie_list_week12.pckl\", \"rb\") as f:\n",
        "    object = pkl.load(f)\n",
        "    \n",
        "df = pd.DataFrame(object)\n",
        "df.to_csv(r'upcoming_movies_week12.csv')"
      ],
      "execution_count": 29,
      "outputs": []
    },
    {
      "cell_type": "code",
      "metadata": {
        "id": "J6XtyTtzg-Nv"
      },
      "source": [
        "# with open('upcoming_movies_week12.csv', 'r') as f:\n",
        "#     print(len(f.readlines()))"
      ],
      "execution_count": null,
      "outputs": []
    },
    {
      "cell_type": "code",
      "metadata": {
        "colab": {
          "base_uri": "https://localhost:8080/"
        },
        "id": "KWB6juXbcPej",
        "outputId": "1730eed6-b691-4bfb-e5cb-d282718fadb5"
      },
      "source": [
        "len(upcoming1000_movies_week12)"
      ],
      "execution_count": 30,
      "outputs": [
        {
          "output_type": "execute_result",
          "data": {
            "text/plain": [
              "836"
            ]
          },
          "metadata": {},
          "execution_count": 30
        }
      ]
    },
    {
      "cell_type": "code",
      "metadata": {
        "id": "Hkei4R1ChJuh"
      },
      "source": [
        "df = pd.read_csv('upcoming_movies_week12.csv', index_col=None, header=0, engine='python')\n",
        "data = df.values"
      ],
      "execution_count": 31,
      "outputs": []
    },
    {
      "cell_type": "code",
      "metadata": {
        "id": "DC1OdB3xhhT7"
      },
      "source": [
        "df.to_csv('train_upcoming_week12.csv', columns=['title', 'overview', 'genre_ids', 'id', 'popularity'])"
      ],
      "execution_count": 32,
      "outputs": []
    },
    {
      "cell_type": "code",
      "metadata": {
        "colab": {
          "base_uri": "https://localhost:8080/"
        },
        "id": "E1kXPXmbhqZZ",
        "outputId": "1c6fa0f0-a738-4323-945e-cd1257dc8c3f"
      },
      "source": [
        "with open('train_upcoming_week12.csv', 'r') as f:\n",
        "    print(len(f.readlines()))"
      ],
      "execution_count": 33,
      "outputs": [
        {
          "output_type": "stream",
          "name": "stdout",
          "text": [
            "837\n"
          ]
        }
      ]
    },
    {
      "cell_type": "code",
      "metadata": {
        "id": "Us3LhbJHjvCF"
      },
      "source": [
        "data1=pd.read_csv(\"train_upcoming_week12.csv\")"
      ],
      "execution_count": 34,
      "outputs": []
    },
    {
      "cell_type": "code",
      "metadata": {
        "id": "nQP5XJjFjyB2"
      },
      "source": [
        "data2= pd.read_csv('train_top10000_week12.csv', index_col=None, header=0, engine='python')"
      ],
      "execution_count": 35,
      "outputs": []
    },
    {
      "cell_type": "code",
      "metadata": {
        "id": "LkjMmBzPkOSK"
      },
      "source": [
        "frames = [data1, data2]\n",
        "result = pd.concat(frames)"
      ],
      "execution_count": 36,
      "outputs": []
    },
    {
      "cell_type": "code",
      "metadata": {
        "colab": {
          "base_uri": "https://localhost:8080/"
        },
        "id": "1hefq8ZRkS7S",
        "outputId": "42c15a73-5528-4185-bd71-17fc50f87961"
      },
      "source": [
        "len(result)"
      ],
      "execution_count": 37,
      "outputs": [
        {
          "output_type": "execute_result",
          "data": {
            "text/plain": [
              "10850"
            ]
          },
          "metadata": {},
          "execution_count": 37
        }
      ]
    },
    {
      "cell_type": "code",
      "metadata": {
        "colab": {
          "base_uri": "https://localhost:8080/"
        },
        "id": "_Jb7IbV9kXeN",
        "outputId": "f7e2bea5-c4b2-4959-f2a7-afe51ee546dc"
      },
      "source": [
        "len(data1)"
      ],
      "execution_count": 38,
      "outputs": [
        {
          "output_type": "execute_result",
          "data": {
            "text/plain": [
              "836"
            ]
          },
          "metadata": {},
          "execution_count": 38
        }
      ]
    },
    {
      "cell_type": "code",
      "metadata": {
        "colab": {
          "base_uri": "https://localhost:8080/"
        },
        "id": "GOgzaCuJkaQY",
        "outputId": "4a320087-b727-46c6-df62-20cabddc2a45"
      },
      "source": [
        "len(data2)"
      ],
      "execution_count": 39,
      "outputs": [
        {
          "output_type": "execute_result",
          "data": {
            "text/plain": [
              "10014"
            ]
          },
          "metadata": {},
          "execution_count": 39
        }
      ]
    },
    {
      "cell_type": "code",
      "metadata": {
        "colab": {
          "base_uri": "https://localhost:8080/",
          "height": 206
        },
        "id": "-5Q_xGN6kdmp",
        "outputId": "b4dd1698-290c-40a0-e547-5c2cbf701e3a"
      },
      "source": [
        "result.head()"
      ],
      "execution_count": 40,
      "outputs": [
        {
          "output_type": "execute_result",
          "data": {
            "text/html": [
              "<div>\n",
              "<style scoped>\n",
              "    .dataframe tbody tr th:only-of-type {\n",
              "        vertical-align: middle;\n",
              "    }\n",
              "\n",
              "    .dataframe tbody tr th {\n",
              "        vertical-align: top;\n",
              "    }\n",
              "\n",
              "    .dataframe thead th {\n",
              "        text-align: right;\n",
              "    }\n",
              "</style>\n",
              "<table border=\"1\" class=\"dataframe\">\n",
              "  <thead>\n",
              "    <tr style=\"text-align: right;\">\n",
              "      <th></th>\n",
              "      <th>Unnamed: 0</th>\n",
              "      <th>title</th>\n",
              "      <th>overview</th>\n",
              "      <th>genre_ids</th>\n",
              "      <th>id</th>\n",
              "      <th>popularity</th>\n",
              "    </tr>\n",
              "  </thead>\n",
              "  <tbody>\n",
              "    <tr>\n",
              "      <th>0</th>\n",
              "      <td>0</td>\n",
              "      <td>Clifford the Big Red Dog</td>\n",
              "      <td>As Emily struggles to fit in at home and at sc...</td>\n",
              "      <td>[16, 35, 10751]</td>\n",
              "      <td>585245</td>\n",
              "      <td>2734.004</td>\n",
              "    </tr>\n",
              "    <tr>\n",
              "      <th>1</th>\n",
              "      <td>1</td>\n",
              "      <td>Encanto</td>\n",
              "      <td>The tale of an extraordinary family, the Madri...</td>\n",
              "      <td>[12, 16, 35, 10751, 14, 10402]</td>\n",
              "      <td>568124</td>\n",
              "      <td>2744.462</td>\n",
              "    </tr>\n",
              "    <tr>\n",
              "      <th>2</th>\n",
              "      <td>2</td>\n",
              "      <td>Ron's Gone Wrong</td>\n",
              "      <td>In a world where walking, talking, digitally c...</td>\n",
              "      <td>[16, 878, 10751, 35]</td>\n",
              "      <td>482321</td>\n",
              "      <td>2221.171</td>\n",
              "    </tr>\n",
              "    <tr>\n",
              "      <th>3</th>\n",
              "      <td>3</td>\n",
              "      <td>Spider-Man: No Way Home</td>\n",
              "      <td>Peter Parker is unmasked and no longer able to...</td>\n",
              "      <td>[28, 12, 878]</td>\n",
              "      <td>634649</td>\n",
              "      <td>2098.473</td>\n",
              "    </tr>\n",
              "    <tr>\n",
              "      <th>4</th>\n",
              "      <td>4</td>\n",
              "      <td>No Time to Die</td>\n",
              "      <td>Bond has left active service and is enjoying a...</td>\n",
              "      <td>[12, 28, 53]</td>\n",
              "      <td>370172</td>\n",
              "      <td>1606.287</td>\n",
              "    </tr>\n",
              "  </tbody>\n",
              "</table>\n",
              "</div>"
            ],
            "text/plain": [
              "   Unnamed: 0                     title  ...      id popularity\n",
              "0           0  Clifford the Big Red Dog  ...  585245   2734.004\n",
              "1           1                   Encanto  ...  568124   2744.462\n",
              "2           2          Ron's Gone Wrong  ...  482321   2221.171\n",
              "3           3   Spider-Man: No Way Home  ...  634649   2098.473\n",
              "4           4            No Time to Die  ...  370172   1606.287\n",
              "\n",
              "[5 rows x 6 columns]"
            ]
          },
          "metadata": {},
          "execution_count": 40
        }
      ]
    },
    {
      "cell_type": "code",
      "metadata": {
        "colab": {
          "base_uri": "https://localhost:8080/"
        },
        "id": "1CMN7oeNkg-P",
        "outputId": "443b6187-2768-41bd-d8ba-d6b3208f8e42"
      },
      "source": [
        "result.info()"
      ],
      "execution_count": 41,
      "outputs": [
        {
          "output_type": "stream",
          "name": "stdout",
          "text": [
            "<class 'pandas.core.frame.DataFrame'>\n",
            "Int64Index: 10850 entries, 0 to 10013\n",
            "Data columns (total 6 columns):\n",
            " #   Column      Non-Null Count  Dtype  \n",
            "---  ------      --------------  -----  \n",
            " 0   Unnamed: 0  10850 non-null  int64  \n",
            " 1   title       10834 non-null  object \n",
            " 2   overview    10616 non-null  object \n",
            " 3   genre_ids   10838 non-null  object \n",
            " 4   id          10838 non-null  object \n",
            " 5   popularity  10834 non-null  float64\n",
            "dtypes: float64(1), int64(1), object(4)\n",
            "memory usage: 593.4+ KB\n"
          ]
        }
      ]
    },
    {
      "cell_type": "code",
      "metadata": {
        "colab": {
          "base_uri": "https://localhost:8080/"
        },
        "id": "uPVIz0uLkkSP",
        "outputId": "3456e53f-62f2-41cd-afc3-ce2c82ba4b3d"
      },
      "source": [
        "any(result.duplicated('id')) # Duplicate ID was found in this table"
      ],
      "execution_count": 42,
      "outputs": [
        {
          "output_type": "execute_result",
          "data": {
            "text/plain": [
              "True"
            ]
          },
          "metadata": {},
          "execution_count": 42
        }
      ]
    },
    {
      "cell_type": "code",
      "metadata": {
        "id": "r85nao9_krO2"
      },
      "source": [
        "result.to_csv('result.csv')"
      ],
      "execution_count": 43,
      "outputs": []
    },
    {
      "cell_type": "code",
      "metadata": {
        "colab": {
          "base_uri": "https://localhost:8080/",
          "height": 528
        },
        "id": "ga2jWMsK--I6",
        "outputId": "aeab317f-aed3-42b6-b2f1-95d75dcdcf96"
      },
      "source": [
        "result"
      ],
      "execution_count": 44,
      "outputs": [
        {
          "output_type": "execute_result",
          "data": {
            "text/html": [
              "<div>\n",
              "<style scoped>\n",
              "    .dataframe tbody tr th:only-of-type {\n",
              "        vertical-align: middle;\n",
              "    }\n",
              "\n",
              "    .dataframe tbody tr th {\n",
              "        vertical-align: top;\n",
              "    }\n",
              "\n",
              "    .dataframe thead th {\n",
              "        text-align: right;\n",
              "    }\n",
              "</style>\n",
              "<table border=\"1\" class=\"dataframe\">\n",
              "  <thead>\n",
              "    <tr style=\"text-align: right;\">\n",
              "      <th></th>\n",
              "      <th>Unnamed: 0</th>\n",
              "      <th>title</th>\n",
              "      <th>overview</th>\n",
              "      <th>genre_ids</th>\n",
              "      <th>id</th>\n",
              "      <th>popularity</th>\n",
              "    </tr>\n",
              "  </thead>\n",
              "  <tbody>\n",
              "    <tr>\n",
              "      <th>0</th>\n",
              "      <td>0</td>\n",
              "      <td>Clifford the Big Red Dog</td>\n",
              "      <td>As Emily struggles to fit in at home and at sc...</td>\n",
              "      <td>[16, 35, 10751]</td>\n",
              "      <td>585245</td>\n",
              "      <td>2734.004</td>\n",
              "    </tr>\n",
              "    <tr>\n",
              "      <th>1</th>\n",
              "      <td>1</td>\n",
              "      <td>Encanto</td>\n",
              "      <td>The tale of an extraordinary family, the Madri...</td>\n",
              "      <td>[12, 16, 35, 10751, 14, 10402]</td>\n",
              "      <td>568124</td>\n",
              "      <td>2744.462</td>\n",
              "    </tr>\n",
              "    <tr>\n",
              "      <th>2</th>\n",
              "      <td>2</td>\n",
              "      <td>Ron's Gone Wrong</td>\n",
              "      <td>In a world where walking, talking, digitally c...</td>\n",
              "      <td>[16, 878, 10751, 35]</td>\n",
              "      <td>482321</td>\n",
              "      <td>2221.171</td>\n",
              "    </tr>\n",
              "    <tr>\n",
              "      <th>3</th>\n",
              "      <td>3</td>\n",
              "      <td>Spider-Man: No Way Home</td>\n",
              "      <td>Peter Parker is unmasked and no longer able to...</td>\n",
              "      <td>[28, 12, 878]</td>\n",
              "      <td>634649</td>\n",
              "      <td>2098.473</td>\n",
              "    </tr>\n",
              "    <tr>\n",
              "      <th>4</th>\n",
              "      <td>4</td>\n",
              "      <td>No Time to Die</td>\n",
              "      <td>Bond has left active service and is enjoying a...</td>\n",
              "      <td>[12, 28, 53]</td>\n",
              "      <td>370172</td>\n",
              "      <td>1606.287</td>\n",
              "    </tr>\n",
              "    <tr>\n",
              "      <th>...</th>\n",
              "      <td>...</td>\n",
              "      <td>...</td>\n",
              "      <td>...</td>\n",
              "      <td>...</td>\n",
              "      <td>...</td>\n",
              "      <td>...</td>\n",
              "    </tr>\n",
              "    <tr>\n",
              "      <th>10009</th>\n",
              "      <td>10009</td>\n",
              "      <td>Joint Security Area</td>\n",
              "      <td>After a shooting incident at the North/South K...</td>\n",
              "      <td>[10752, 18, 53, 28]</td>\n",
              "      <td>2440</td>\n",
              "      <td>13.029</td>\n",
              "    </tr>\n",
              "    <tr>\n",
              "      <th>10010</th>\n",
              "      <td>10010</td>\n",
              "      <td>Silent Night</td>\n",
              "      <td>The police force of a remote Midwestern town s...</td>\n",
              "      <td>[35, 27, 53, 9648]</td>\n",
              "      <td>139455</td>\n",
              "      <td>12.032</td>\n",
              "    </tr>\n",
              "    <tr>\n",
              "      <th>10011</th>\n",
              "      <td>10011</td>\n",
              "      <td>The Astronaut Farmer</td>\n",
              "      <td>Texan Charles Farmer left the Air Force as a y...</td>\n",
              "      <td>[878, 12, 35, 18]</td>\n",
              "      <td>5172</td>\n",
              "      <td>12.780</td>\n",
              "    </tr>\n",
              "    <tr>\n",
              "      <th>10012</th>\n",
              "      <td>10012</td>\n",
              "      <td>Hanasaku Iroha: Home Sweet Home</td>\n",
              "      <td>While sorting through a mess of books in the s...</td>\n",
              "      <td>[16, 18, 35]</td>\n",
              "      <td>229756</td>\n",
              "      <td>12.932</td>\n",
              "    </tr>\n",
              "    <tr>\n",
              "      <th>10013</th>\n",
              "      <td>10013</td>\n",
              "      <td>Material Girls</td>\n",
              "      <td>Two wealthy sisters, both heiresses to their f...</td>\n",
              "      <td>[35]</td>\n",
              "      <td>10118</td>\n",
              "      <td>14.260</td>\n",
              "    </tr>\n",
              "  </tbody>\n",
              "</table>\n",
              "<p>10850 rows × 6 columns</p>\n",
              "</div>"
            ],
            "text/plain": [
              "       Unnamed: 0                            title  ...      id popularity\n",
              "0               0         Clifford the Big Red Dog  ...  585245   2734.004\n",
              "1               1                          Encanto  ...  568124   2744.462\n",
              "2               2                 Ron's Gone Wrong  ...  482321   2221.171\n",
              "3               3          Spider-Man: No Way Home  ...  634649   2098.473\n",
              "4               4                   No Time to Die  ...  370172   1606.287\n",
              "...           ...                              ...  ...     ...        ...\n",
              "10009       10009              Joint Security Area  ...    2440     13.029\n",
              "10010       10010                     Silent Night  ...  139455     12.032\n",
              "10011       10011             The Astronaut Farmer  ...    5172     12.780\n",
              "10012       10012  Hanasaku Iroha: Home Sweet Home  ...  229756     12.932\n",
              "10013       10013                   Material Girls  ...   10118     14.260\n",
              "\n",
              "[10850 rows x 6 columns]"
            ]
          },
          "metadata": {},
          "execution_count": 44
        }
      ]
    },
    {
      "cell_type": "code",
      "metadata": {
        "colab": {
          "base_uri": "https://localhost:8080/"
        },
        "id": "_jCgx7oJlG6H",
        "outputId": "a8c0f236-2f65-453a-82c8-ed609a7961c0"
      },
      "source": [
        "result.dtypes"
      ],
      "execution_count": 45,
      "outputs": [
        {
          "output_type": "execute_result",
          "data": {
            "text/plain": [
              "Unnamed: 0      int64\n",
              "title          object\n",
              "overview       object\n",
              "genre_ids      object\n",
              "id             object\n",
              "popularity    float64\n",
              "dtype: object"
            ]
          },
          "metadata": {},
          "execution_count": 45
        }
      ]
    },
    {
      "cell_type": "code",
      "metadata": {
        "colab": {
          "base_uri": "https://localhost:8080/"
        },
        "id": "MOCaMbrGlOuo",
        "outputId": "5c4daacd-ac70-4bfb-a8d3-4956e6a0fc49"
      },
      "source": [
        "any(result.duplicated('id')) #ID is duplicate"
      ],
      "execution_count": 46,
      "outputs": [
        {
          "output_type": "execute_result",
          "data": {
            "text/plain": [
              "True"
            ]
          },
          "metadata": {},
          "execution_count": 46
        }
      ]
    },
    {
      "cell_type": "code",
      "metadata": {
        "colab": {
          "base_uri": "https://localhost:8080/"
        },
        "id": "GrSbnzZElN5k",
        "outputId": "caee6bce-8f10-4ff5-ef2e-06c9a752543b"
      },
      "source": [
        "result.isnull().any() #Missing value query"
      ],
      "execution_count": 47,
      "outputs": [
        {
          "output_type": "execute_result",
          "data": {
            "text/plain": [
              "Unnamed: 0    False\n",
              "title          True\n",
              "overview       True\n",
              "genre_ids      True\n",
              "id             True\n",
              "popularity     True\n",
              "dtype: bool"
            ]
          },
          "metadata": {},
          "execution_count": 47
        }
      ]
    },
    {
      "cell_type": "code",
      "metadata": {
        "colab": {
          "base_uri": "https://localhost:8080/"
        },
        "id": "JIxnrxkhlUJs",
        "outputId": "dbe62177-c6cb-4f84-9fad-645ab5c990ed"
      },
      "source": [
        "result.isnull().sum() #There are missing values in every row"
      ],
      "execution_count": 48,
      "outputs": [
        {
          "output_type": "execute_result",
          "data": {
            "text/plain": [
              "Unnamed: 0      0\n",
              "title          16\n",
              "overview      234\n",
              "genre_ids      12\n",
              "id             12\n",
              "popularity     16\n",
              "dtype: int64"
            ]
          },
          "metadata": {},
          "execution_count": 48
        }
      ]
    },
    {
      "cell_type": "code",
      "metadata": {
        "id": "QcyGn9IalZJb"
      },
      "source": [
        "result_2 = result.drop_duplicates(subset='id', keep='first', inplace=False) #Delete duplicate ID"
      ],
      "execution_count": 49,
      "outputs": []
    },
    {
      "cell_type": "code",
      "metadata": {
        "colab": {
          "base_uri": "https://localhost:8080/"
        },
        "id": "nRWdJmzPlcKw",
        "outputId": "5fa30b4a-363c-450a-9eb8-0e2e16efc35f"
      },
      "source": [
        "len(result_2)"
      ],
      "execution_count": 50,
      "outputs": [
        {
          "output_type": "execute_result",
          "data": {
            "text/plain": [
              "10838"
            ]
          },
          "metadata": {},
          "execution_count": 50
        }
      ]
    },
    {
      "cell_type": "code",
      "metadata": {
        "id": "ZVMct8oMlemy"
      },
      "source": [
        "no_missing_result = result_2.dropna() "
      ],
      "execution_count": 51,
      "outputs": []
    },
    {
      "cell_type": "code",
      "metadata": {
        "colab": {
          "base_uri": "https://localhost:8080/"
        },
        "id": "Zb34zzlAlgwy",
        "outputId": "be0d46ad-9d33-4d60-fc07-e8958c92176a"
      },
      "source": [
        "len(no_missing_result)"
      ],
      "execution_count": 52,
      "outputs": [
        {
          "output_type": "execute_result",
          "data": {
            "text/plain": [
              "10611"
            ]
          },
          "metadata": {},
          "execution_count": 52
        }
      ]
    },
    {
      "cell_type": "code",
      "metadata": {
        "colab": {
          "base_uri": "https://localhost:8080/"
        },
        "id": "PkkwYCSKljgp",
        "outputId": "7fc58577-6056-42e9-fc27-3f009f7c219e"
      },
      "source": [
        "no_missing_result.isnull().sum()"
      ],
      "execution_count": 53,
      "outputs": [
        {
          "output_type": "execute_result",
          "data": {
            "text/plain": [
              "Unnamed: 0    0\n",
              "title         0\n",
              "overview      0\n",
              "genre_ids     0\n",
              "id            0\n",
              "popularity    0\n",
              "dtype: int64"
            ]
          },
          "metadata": {},
          "execution_count": 53
        }
      ]
    },
    {
      "cell_type": "code",
      "metadata": {
        "id": "SFzSLOsOlnYz"
      },
      "source": [
        "no_missing_result.to_csv('no_missing_result_week12.csv')"
      ],
      "execution_count": 54,
      "outputs": []
    },
    {
      "cell_type": "markdown",
      "metadata": {
        "id": "U247srswtnDu"
      },
      "source": [
        "Obtain the target data set, and then perform label separation processing on the data set."
      ]
    }
  ]
}