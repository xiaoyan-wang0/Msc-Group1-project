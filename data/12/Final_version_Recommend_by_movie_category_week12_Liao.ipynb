{
  "nbformat": 4,
  "nbformat_minor": 0,
  "metadata": {
    "colab": {
      "name": "Final version-Recommend_by_movie_category_week12-Liao.ipynb",
      "provenance": [],
      "collapsed_sections": []
    },
    "kernelspec": {
      "display_name": "Python 3",
      "name": "python3"
    },
    "language_info": {
      "name": "python"
    },
    "widgets": {
      "application/vnd.jupyter.widget-state+json": {
        "61e1172a81dc4b9b8ec1aa7005397804": {
          "model_module": "@jupyter-widgets/controls",
          "model_name": "HBoxModel",
          "model_module_version": "1.5.0",
          "state": {
            "_view_name": "HBoxView",
            "_dom_classes": [],
            "_model_name": "HBoxModel",
            "_view_module": "@jupyter-widgets/controls",
            "_model_module_version": "1.5.0",
            "_view_count": null,
            "_view_module_version": "1.5.0",
            "box_style": "",
            "layout": "IPY_MODEL_78765e420cac4d60b5adf5e93c0e1d1d",
            "_model_module": "@jupyter-widgets/controls",
            "children": [
              "IPY_MODEL_c9694c59c13c4632a9c13bd7ff7f3015",
              "IPY_MODEL_d81562cf8355435a975fe61d4c1543fb",
              "IPY_MODEL_e4c2b1b39c124eb887e5e3a016468412"
            ]
          }
        },
        "78765e420cac4d60b5adf5e93c0e1d1d": {
          "model_module": "@jupyter-widgets/base",
          "model_name": "LayoutModel",
          "model_module_version": "1.2.0",
          "state": {
            "_view_name": "LayoutView",
            "grid_template_rows": null,
            "right": null,
            "justify_content": null,
            "_view_module": "@jupyter-widgets/base",
            "overflow": null,
            "_model_module_version": "1.2.0",
            "_view_count": null,
            "flex_flow": null,
            "width": null,
            "min_width": null,
            "border": null,
            "align_items": null,
            "bottom": null,
            "_model_module": "@jupyter-widgets/base",
            "top": null,
            "grid_column": null,
            "overflow_y": null,
            "overflow_x": null,
            "grid_auto_flow": null,
            "grid_area": null,
            "grid_template_columns": null,
            "flex": null,
            "_model_name": "LayoutModel",
            "justify_items": null,
            "grid_row": null,
            "max_height": null,
            "align_content": null,
            "visibility": null,
            "align_self": null,
            "height": null,
            "min_height": null,
            "padding": null,
            "grid_auto_rows": null,
            "grid_gap": null,
            "max_width": null,
            "order": null,
            "_view_module_version": "1.2.0",
            "grid_template_areas": null,
            "object_position": null,
            "object_fit": null,
            "grid_auto_columns": null,
            "margin": null,
            "display": null,
            "left": null
          }
        },
        "c9694c59c13c4632a9c13bd7ff7f3015": {
          "model_module": "@jupyter-widgets/controls",
          "model_name": "HTMLModel",
          "model_module_version": "1.5.0",
          "state": {
            "_view_name": "HTMLView",
            "style": "IPY_MODEL_dd2871f8d68b4e1eb31d29951b5d9aa3",
            "_dom_classes": [],
            "description": "",
            "_model_name": "HTMLModel",
            "placeholder": "​",
            "_view_module": "@jupyter-widgets/controls",
            "_model_module_version": "1.5.0",
            "value": "100%",
            "_view_count": null,
            "_view_module_version": "1.5.0",
            "description_tooltip": null,
            "_model_module": "@jupyter-widgets/controls",
            "layout": "IPY_MODEL_c25097924b4c411a9f5278a0f3ec3f41"
          }
        },
        "d81562cf8355435a975fe61d4c1543fb": {
          "model_module": "@jupyter-widgets/controls",
          "model_name": "FloatProgressModel",
          "model_module_version": "1.5.0",
          "state": {
            "_view_name": "ProgressView",
            "style": "IPY_MODEL_0d78d14dd3ef49ca9fff13e133afcfb6",
            "_dom_classes": [],
            "description": "",
            "_model_name": "FloatProgressModel",
            "bar_style": "success",
            "max": 10265,
            "_view_module": "@jupyter-widgets/controls",
            "_model_module_version": "1.5.0",
            "value": 10265,
            "_view_count": null,
            "_view_module_version": "1.5.0",
            "orientation": "horizontal",
            "min": 0,
            "description_tooltip": null,
            "_model_module": "@jupyter-widgets/controls",
            "layout": "IPY_MODEL_b60a76eb65df431db9ea8791a8d986f6"
          }
        },
        "e4c2b1b39c124eb887e5e3a016468412": {
          "model_module": "@jupyter-widgets/controls",
          "model_name": "HTMLModel",
          "model_module_version": "1.5.0",
          "state": {
            "_view_name": "HTMLView",
            "style": "IPY_MODEL_a89ba790d626454cbf57ad5ec7748c81",
            "_dom_classes": [],
            "description": "",
            "_model_name": "HTMLModel",
            "placeholder": "​",
            "_view_module": "@jupyter-widgets/controls",
            "_model_module_version": "1.5.0",
            "value": " 10265/10265 [02:21&lt;00:00, 53.88it/s]",
            "_view_count": null,
            "_view_module_version": "1.5.0",
            "description_tooltip": null,
            "_model_module": "@jupyter-widgets/controls",
            "layout": "IPY_MODEL_2654bef5d45a4cfbb7282df1210babda"
          }
        },
        "dd2871f8d68b4e1eb31d29951b5d9aa3": {
          "model_module": "@jupyter-widgets/controls",
          "model_name": "DescriptionStyleModel",
          "model_module_version": "1.5.0",
          "state": {
            "_view_name": "StyleView",
            "_model_name": "DescriptionStyleModel",
            "description_width": "",
            "_view_module": "@jupyter-widgets/base",
            "_model_module_version": "1.5.0",
            "_view_count": null,
            "_view_module_version": "1.2.0",
            "_model_module": "@jupyter-widgets/controls"
          }
        },
        "c25097924b4c411a9f5278a0f3ec3f41": {
          "model_module": "@jupyter-widgets/base",
          "model_name": "LayoutModel",
          "model_module_version": "1.2.0",
          "state": {
            "_view_name": "LayoutView",
            "grid_template_rows": null,
            "right": null,
            "justify_content": null,
            "_view_module": "@jupyter-widgets/base",
            "overflow": null,
            "_model_module_version": "1.2.0",
            "_view_count": null,
            "flex_flow": null,
            "width": null,
            "min_width": null,
            "border": null,
            "align_items": null,
            "bottom": null,
            "_model_module": "@jupyter-widgets/base",
            "top": null,
            "grid_column": null,
            "overflow_y": null,
            "overflow_x": null,
            "grid_auto_flow": null,
            "grid_area": null,
            "grid_template_columns": null,
            "flex": null,
            "_model_name": "LayoutModel",
            "justify_items": null,
            "grid_row": null,
            "max_height": null,
            "align_content": null,
            "visibility": null,
            "align_self": null,
            "height": null,
            "min_height": null,
            "padding": null,
            "grid_auto_rows": null,
            "grid_gap": null,
            "max_width": null,
            "order": null,
            "_view_module_version": "1.2.0",
            "grid_template_areas": null,
            "object_position": null,
            "object_fit": null,
            "grid_auto_columns": null,
            "margin": null,
            "display": null,
            "left": null
          }
        },
        "0d78d14dd3ef49ca9fff13e133afcfb6": {
          "model_module": "@jupyter-widgets/controls",
          "model_name": "ProgressStyleModel",
          "model_module_version": "1.5.0",
          "state": {
            "_view_name": "StyleView",
            "_model_name": "ProgressStyleModel",
            "description_width": "",
            "_view_module": "@jupyter-widgets/base",
            "_model_module_version": "1.5.0",
            "_view_count": null,
            "_view_module_version": "1.2.0",
            "bar_color": null,
            "_model_module": "@jupyter-widgets/controls"
          }
        },
        "b60a76eb65df431db9ea8791a8d986f6": {
          "model_module": "@jupyter-widgets/base",
          "model_name": "LayoutModel",
          "model_module_version": "1.2.0",
          "state": {
            "_view_name": "LayoutView",
            "grid_template_rows": null,
            "right": null,
            "justify_content": null,
            "_view_module": "@jupyter-widgets/base",
            "overflow": null,
            "_model_module_version": "1.2.0",
            "_view_count": null,
            "flex_flow": null,
            "width": null,
            "min_width": null,
            "border": null,
            "align_items": null,
            "bottom": null,
            "_model_module": "@jupyter-widgets/base",
            "top": null,
            "grid_column": null,
            "overflow_y": null,
            "overflow_x": null,
            "grid_auto_flow": null,
            "grid_area": null,
            "grid_template_columns": null,
            "flex": null,
            "_model_name": "LayoutModel",
            "justify_items": null,
            "grid_row": null,
            "max_height": null,
            "align_content": null,
            "visibility": null,
            "align_self": null,
            "height": null,
            "min_height": null,
            "padding": null,
            "grid_auto_rows": null,
            "grid_gap": null,
            "max_width": null,
            "order": null,
            "_view_module_version": "1.2.0",
            "grid_template_areas": null,
            "object_position": null,
            "object_fit": null,
            "grid_auto_columns": null,
            "margin": null,
            "display": null,
            "left": null
          }
        },
        "a89ba790d626454cbf57ad5ec7748c81": {
          "model_module": "@jupyter-widgets/controls",
          "model_name": "DescriptionStyleModel",
          "model_module_version": "1.5.0",
          "state": {
            "_view_name": "StyleView",
            "_model_name": "DescriptionStyleModel",
            "description_width": "",
            "_view_module": "@jupyter-widgets/base",
            "_model_module_version": "1.5.0",
            "_view_count": null,
            "_view_module_version": "1.2.0",
            "_model_module": "@jupyter-widgets/controls"
          }
        },
        "2654bef5d45a4cfbb7282df1210babda": {
          "model_module": "@jupyter-widgets/base",
          "model_name": "LayoutModel",
          "model_module_version": "1.2.0",
          "state": {
            "_view_name": "LayoutView",
            "grid_template_rows": null,
            "right": null,
            "justify_content": null,
            "_view_module": "@jupyter-widgets/base",
            "overflow": null,
            "_model_module_version": "1.2.0",
            "_view_count": null,
            "flex_flow": null,
            "width": null,
            "min_width": null,
            "border": null,
            "align_items": null,
            "bottom": null,
            "_model_module": "@jupyter-widgets/base",
            "top": null,
            "grid_column": null,
            "overflow_y": null,
            "overflow_x": null,
            "grid_auto_flow": null,
            "grid_area": null,
            "grid_template_columns": null,
            "flex": null,
            "_model_name": "LayoutModel",
            "justify_items": null,
            "grid_row": null,
            "max_height": null,
            "align_content": null,
            "visibility": null,
            "align_self": null,
            "height": null,
            "min_height": null,
            "padding": null,
            "grid_auto_rows": null,
            "grid_gap": null,
            "max_width": null,
            "order": null,
            "_view_module_version": "1.2.0",
            "grid_template_areas": null,
            "object_position": null,
            "object_fit": null,
            "grid_auto_columns": null,
            "margin": null,
            "display": null,
            "left": null
          }
        },
        "0b6bca01f66044a98bc221e85a37fb31": {
          "model_module": "@jupyter-widgets/controls",
          "model_name": "HBoxModel",
          "model_module_version": "1.5.0",
          "state": {
            "_view_name": "HBoxView",
            "_dom_classes": [],
            "_model_name": "HBoxModel",
            "_view_module": "@jupyter-widgets/controls",
            "_model_module_version": "1.5.0",
            "_view_count": null,
            "_view_module_version": "1.5.0",
            "box_style": "",
            "layout": "IPY_MODEL_e27fce647ab74ee9a58093e25f5eb2d5",
            "_model_module": "@jupyter-widgets/controls",
            "children": [
              "IPY_MODEL_7cf45a06f8744446b1f46318a798d33c",
              "IPY_MODEL_9540ac0ea530419f9b95cecab7ee5e24",
              "IPY_MODEL_23fbd27f68be4d12bb5ecfe7725bcdda"
            ]
          }
        },
        "e27fce647ab74ee9a58093e25f5eb2d5": {
          "model_module": "@jupyter-widgets/base",
          "model_name": "LayoutModel",
          "model_module_version": "1.2.0",
          "state": {
            "_view_name": "LayoutView",
            "grid_template_rows": null,
            "right": null,
            "justify_content": null,
            "_view_module": "@jupyter-widgets/base",
            "overflow": null,
            "_model_module_version": "1.2.0",
            "_view_count": null,
            "flex_flow": null,
            "width": null,
            "min_width": null,
            "border": null,
            "align_items": null,
            "bottom": null,
            "_model_module": "@jupyter-widgets/base",
            "top": null,
            "grid_column": null,
            "overflow_y": null,
            "overflow_x": null,
            "grid_auto_flow": null,
            "grid_area": null,
            "grid_template_columns": null,
            "flex": null,
            "_model_name": "LayoutModel",
            "justify_items": null,
            "grid_row": null,
            "max_height": null,
            "align_content": null,
            "visibility": null,
            "align_self": null,
            "height": null,
            "min_height": null,
            "padding": null,
            "grid_auto_rows": null,
            "grid_gap": null,
            "max_width": null,
            "order": null,
            "_view_module_version": "1.2.0",
            "grid_template_areas": null,
            "object_position": null,
            "object_fit": null,
            "grid_auto_columns": null,
            "margin": null,
            "display": null,
            "left": null
          }
        },
        "7cf45a06f8744446b1f46318a798d33c": {
          "model_module": "@jupyter-widgets/controls",
          "model_name": "HTMLModel",
          "model_module_version": "1.5.0",
          "state": {
            "_view_name": "HTMLView",
            "style": "IPY_MODEL_1e9ceea6a2d64fffaee1943e553a0344",
            "_dom_classes": [],
            "description": "",
            "_model_name": "HTMLModel",
            "placeholder": "​",
            "_view_module": "@jupyter-widgets/controls",
            "_model_module_version": "1.5.0",
            "value": "100%",
            "_view_count": null,
            "_view_module_version": "1.5.0",
            "description_tooltip": null,
            "_model_module": "@jupyter-widgets/controls",
            "layout": "IPY_MODEL_de90f8109ed04430ae4a8161e68c5b59"
          }
        },
        "9540ac0ea530419f9b95cecab7ee5e24": {
          "model_module": "@jupyter-widgets/controls",
          "model_name": "FloatProgressModel",
          "model_module_version": "1.5.0",
          "state": {
            "_view_name": "ProgressView",
            "style": "IPY_MODEL_e77a4baa57b64097be959c45c718fb0f",
            "_dom_classes": [],
            "description": "",
            "_model_name": "FloatProgressModel",
            "bar_style": "success",
            "max": 19,
            "_view_module": "@jupyter-widgets/controls",
            "_model_module_version": "1.5.0",
            "value": 19,
            "_view_count": null,
            "_view_module_version": "1.5.0",
            "orientation": "horizontal",
            "min": 0,
            "description_tooltip": null,
            "_model_module": "@jupyter-widgets/controls",
            "layout": "IPY_MODEL_1700bc34daa549dfaebf7bcbff6c3116"
          }
        },
        "23fbd27f68be4d12bb5ecfe7725bcdda": {
          "model_module": "@jupyter-widgets/controls",
          "model_name": "HTMLModel",
          "model_module_version": "1.5.0",
          "state": {
            "_view_name": "HTMLView",
            "style": "IPY_MODEL_327d59cc84f942f1954f384d59d5a6f7",
            "_dom_classes": [],
            "description": "",
            "_model_name": "HTMLModel",
            "placeholder": "​",
            "_view_module": "@jupyter-widgets/controls",
            "_model_module_version": "1.5.0",
            "value": " 19/19 [00:00&lt;00:00, 119.10it/s]",
            "_view_count": null,
            "_view_module_version": "1.5.0",
            "description_tooltip": null,
            "_model_module": "@jupyter-widgets/controls",
            "layout": "IPY_MODEL_04150aad70ec4621947a0101afe13d04"
          }
        },
        "1e9ceea6a2d64fffaee1943e553a0344": {
          "model_module": "@jupyter-widgets/controls",
          "model_name": "DescriptionStyleModel",
          "model_module_version": "1.5.0",
          "state": {
            "_view_name": "StyleView",
            "_model_name": "DescriptionStyleModel",
            "description_width": "",
            "_view_module": "@jupyter-widgets/base",
            "_model_module_version": "1.5.0",
            "_view_count": null,
            "_view_module_version": "1.2.0",
            "_model_module": "@jupyter-widgets/controls"
          }
        },
        "de90f8109ed04430ae4a8161e68c5b59": {
          "model_module": "@jupyter-widgets/base",
          "model_name": "LayoutModel",
          "model_module_version": "1.2.0",
          "state": {
            "_view_name": "LayoutView",
            "grid_template_rows": null,
            "right": null,
            "justify_content": null,
            "_view_module": "@jupyter-widgets/base",
            "overflow": null,
            "_model_module_version": "1.2.0",
            "_view_count": null,
            "flex_flow": null,
            "width": null,
            "min_width": null,
            "border": null,
            "align_items": null,
            "bottom": null,
            "_model_module": "@jupyter-widgets/base",
            "top": null,
            "grid_column": null,
            "overflow_y": null,
            "overflow_x": null,
            "grid_auto_flow": null,
            "grid_area": null,
            "grid_template_columns": null,
            "flex": null,
            "_model_name": "LayoutModel",
            "justify_items": null,
            "grid_row": null,
            "max_height": null,
            "align_content": null,
            "visibility": null,
            "align_self": null,
            "height": null,
            "min_height": null,
            "padding": null,
            "grid_auto_rows": null,
            "grid_gap": null,
            "max_width": null,
            "order": null,
            "_view_module_version": "1.2.0",
            "grid_template_areas": null,
            "object_position": null,
            "object_fit": null,
            "grid_auto_columns": null,
            "margin": null,
            "display": null,
            "left": null
          }
        },
        "e77a4baa57b64097be959c45c718fb0f": {
          "model_module": "@jupyter-widgets/controls",
          "model_name": "ProgressStyleModel",
          "model_module_version": "1.5.0",
          "state": {
            "_view_name": "StyleView",
            "_model_name": "ProgressStyleModel",
            "description_width": "",
            "_view_module": "@jupyter-widgets/base",
            "_model_module_version": "1.5.0",
            "_view_count": null,
            "_view_module_version": "1.2.0",
            "bar_color": null,
            "_model_module": "@jupyter-widgets/controls"
          }
        },
        "1700bc34daa549dfaebf7bcbff6c3116": {
          "model_module": "@jupyter-widgets/base",
          "model_name": "LayoutModel",
          "model_module_version": "1.2.0",
          "state": {
            "_view_name": "LayoutView",
            "grid_template_rows": null,
            "right": null,
            "justify_content": null,
            "_view_module": "@jupyter-widgets/base",
            "overflow": null,
            "_model_module_version": "1.2.0",
            "_view_count": null,
            "flex_flow": null,
            "width": null,
            "min_width": null,
            "border": null,
            "align_items": null,
            "bottom": null,
            "_model_module": "@jupyter-widgets/base",
            "top": null,
            "grid_column": null,
            "overflow_y": null,
            "overflow_x": null,
            "grid_auto_flow": null,
            "grid_area": null,
            "grid_template_columns": null,
            "flex": null,
            "_model_name": "LayoutModel",
            "justify_items": null,
            "grid_row": null,
            "max_height": null,
            "align_content": null,
            "visibility": null,
            "align_self": null,
            "height": null,
            "min_height": null,
            "padding": null,
            "grid_auto_rows": null,
            "grid_gap": null,
            "max_width": null,
            "order": null,
            "_view_module_version": "1.2.0",
            "grid_template_areas": null,
            "object_position": null,
            "object_fit": null,
            "grid_auto_columns": null,
            "margin": null,
            "display": null,
            "left": null
          }
        },
        "327d59cc84f942f1954f384d59d5a6f7": {
          "model_module": "@jupyter-widgets/controls",
          "model_name": "DescriptionStyleModel",
          "model_module_version": "1.5.0",
          "state": {
            "_view_name": "StyleView",
            "_model_name": "DescriptionStyleModel",
            "description_width": "",
            "_view_module": "@jupyter-widgets/base",
            "_model_module_version": "1.5.0",
            "_view_count": null,
            "_view_module_version": "1.2.0",
            "_model_module": "@jupyter-widgets/controls"
          }
        },
        "04150aad70ec4621947a0101afe13d04": {
          "model_module": "@jupyter-widgets/base",
          "model_name": "LayoutModel",
          "model_module_version": "1.2.0",
          "state": {
            "_view_name": "LayoutView",
            "grid_template_rows": null,
            "right": null,
            "justify_content": null,
            "_view_module": "@jupyter-widgets/base",
            "overflow": null,
            "_model_module_version": "1.2.0",
            "_view_count": null,
            "flex_flow": null,
            "width": null,
            "min_width": null,
            "border": null,
            "align_items": null,
            "bottom": null,
            "_model_module": "@jupyter-widgets/base",
            "top": null,
            "grid_column": null,
            "overflow_y": null,
            "overflow_x": null,
            "grid_auto_flow": null,
            "grid_area": null,
            "grid_template_columns": null,
            "flex": null,
            "_model_name": "LayoutModel",
            "justify_items": null,
            "grid_row": null,
            "max_height": null,
            "align_content": null,
            "visibility": null,
            "align_self": null,
            "height": null,
            "min_height": null,
            "padding": null,
            "grid_auto_rows": null,
            "grid_gap": null,
            "max_width": null,
            "order": null,
            "_view_module_version": "1.2.0",
            "grid_template_areas": null,
            "object_position": null,
            "object_fit": null,
            "grid_auto_columns": null,
            "margin": null,
            "display": null,
            "left": null
          }
        }
      }
    }
  },
  "cells": [
    {
      "cell_type": "markdown",
      "source": [
        "**Section 1: Dataset obtained**"
      ],
      "metadata": {
        "id": "qR-NY9PoAV4h"
      }
    },
    {
      "cell_type": "code",
      "metadata": {
        "colab": {
          "base_uri": "https://localhost:8080/"
        },
        "id": "_8CJrNgZTW61",
        "outputId": "e6961638-6cca-4222-dee3-c6821a0466f8"
      },
      "source": [
        "pip install imdbpy"
      ],
      "execution_count": null,
      "outputs": [
        {
          "output_type": "stream",
          "name": "stdout",
          "text": [
            "Collecting imdbpy\n",
            "  Downloading IMDbPY-2021.4.18-py3-none-any.whl (298 kB)\n",
            "\u001b[?25l\r\u001b[K     |█                               | 10 kB 23.5 MB/s eta 0:00:01\r\u001b[K     |██▏                             | 20 kB 7.0 MB/s eta 0:00:01\r\u001b[K     |███▎                            | 30 kB 8.7 MB/s eta 0:00:01\r\u001b[K     |████▍                           | 40 kB 8.0 MB/s eta 0:00:01\r\u001b[K     |█████▌                          | 51 kB 4.3 MB/s eta 0:00:01\r\u001b[K     |██████▋                         | 61 kB 4.5 MB/s eta 0:00:01\r\u001b[K     |███████▊                        | 71 kB 4.5 MB/s eta 0:00:01\r\u001b[K     |████████▉                       | 81 kB 5.0 MB/s eta 0:00:01\r\u001b[K     |█████████▉                      | 92 kB 5.3 MB/s eta 0:00:01\r\u001b[K     |███████████                     | 102 kB 4.2 MB/s eta 0:00:01\r\u001b[K     |████████████                    | 112 kB 4.2 MB/s eta 0:00:01\r\u001b[K     |█████████████▏                  | 122 kB 4.2 MB/s eta 0:00:01\r\u001b[K     |██████████████▎                 | 133 kB 4.2 MB/s eta 0:00:01\r\u001b[K     |███████████████▍                | 143 kB 4.2 MB/s eta 0:00:01\r\u001b[K     |████████████████▌               | 153 kB 4.2 MB/s eta 0:00:01\r\u001b[K     |█████████████████▋              | 163 kB 4.2 MB/s eta 0:00:01\r\u001b[K     |██████████████████▋             | 174 kB 4.2 MB/s eta 0:00:01\r\u001b[K     |███████████████████▊            | 184 kB 4.2 MB/s eta 0:00:01\r\u001b[K     |████████████████████▉           | 194 kB 4.2 MB/s eta 0:00:01\r\u001b[K     |██████████████████████          | 204 kB 4.2 MB/s eta 0:00:01\r\u001b[K     |███████████████████████         | 215 kB 4.2 MB/s eta 0:00:01\r\u001b[K     |████████████████████████▏       | 225 kB 4.2 MB/s eta 0:00:01\r\u001b[K     |█████████████████████████▎      | 235 kB 4.2 MB/s eta 0:00:01\r\u001b[K     |██████████████████████████▍     | 245 kB 4.2 MB/s eta 0:00:01\r\u001b[K     |███████████████████████████▍    | 256 kB 4.2 MB/s eta 0:00:01\r\u001b[K     |████████████████████████████▌   | 266 kB 4.2 MB/s eta 0:00:01\r\u001b[K     |█████████████████████████████▋  | 276 kB 4.2 MB/s eta 0:00:01\r\u001b[K     |██████████████████████████████▊ | 286 kB 4.2 MB/s eta 0:00:01\r\u001b[K     |███████████████████████████████▉| 296 kB 4.2 MB/s eta 0:00:01\r\u001b[K     |████████████████████████████████| 298 kB 4.2 MB/s \n",
            "\u001b[?25hRequirement already satisfied: SQLAlchemy in /usr/local/lib/python3.7/dist-packages (from imdbpy) (1.4.27)\n",
            "Requirement already satisfied: lxml in /usr/local/lib/python3.7/dist-packages (from imdbpy) (4.2.6)\n",
            "Requirement already satisfied: greenlet!=0.4.17 in /usr/local/lib/python3.7/dist-packages (from SQLAlchemy->imdbpy) (1.1.2)\n",
            "Requirement already satisfied: importlib-metadata in /usr/local/lib/python3.7/dist-packages (from SQLAlchemy->imdbpy) (4.8.2)\n",
            "Requirement already satisfied: zipp>=0.5 in /usr/local/lib/python3.7/dist-packages (from importlib-metadata->SQLAlchemy->imdbpy) (3.6.0)\n",
            "Requirement already satisfied: typing-extensions>=3.6.4 in /usr/local/lib/python3.7/dist-packages (from importlib-metadata->SQLAlchemy->imdbpy) (3.10.0.2)\n",
            "Installing collected packages: imdbpy\n",
            "Successfully installed imdbpy-2021.4.18\n"
          ]
        }
      ]
    },
    {
      "cell_type": "code",
      "metadata": {
        "colab": {
          "base_uri": "https://localhost:8080/"
        },
        "id": "arTVYFWmVRmk",
        "outputId": "d4a41a3c-aaed-4482-b06e-0b79aae2af21"
      },
      "source": [
        "pip install wget"
      ],
      "execution_count": null,
      "outputs": [
        {
          "output_type": "stream",
          "name": "stdout",
          "text": [
            "Collecting wget\n",
            "  Downloading wget-3.2.zip (10 kB)\n",
            "Building wheels for collected packages: wget\n",
            "  Building wheel for wget (setup.py) ... \u001b[?25l\u001b[?25hdone\n",
            "  Created wheel for wget: filename=wget-3.2-py3-none-any.whl size=9672 sha256=68dfcf92378ec6a028b311b2c81e001ec05ddec8c3841034bcb9f78fc7e03e14\n",
            "  Stored in directory: /root/.cache/pip/wheels/a1/b6/7c/0e63e34eb06634181c63adacca38b79ff8f35c37e3c13e3c02\n",
            "Successfully built wget\n",
            "Installing collected packages: wget\n",
            "Successfully installed wget-3.2\n"
          ]
        }
      ]
    },
    {
      "cell_type": "code",
      "metadata": {
        "colab": {
          "base_uri": "https://localhost:8080/"
        },
        "id": "2TSr_IndaeZR",
        "outputId": "bb1353b2-b1a0-43ac-ccd5-365e9ecd2ffb"
      },
      "source": [
        "pip install tmdbsimple"
      ],
      "execution_count": null,
      "outputs": [
        {
          "output_type": "stream",
          "name": "stdout",
          "text": [
            "Collecting tmdbsimple\n",
            "  Downloading tmdbsimple-2.8.1-py3-none-any.whl (38 kB)\n",
            "Requirement already satisfied: requests in /usr/local/lib/python3.7/dist-packages (from tmdbsimple) (2.23.0)\n",
            "Requirement already satisfied: certifi>=2017.4.17 in /usr/local/lib/python3.7/dist-packages (from requests->tmdbsimple) (2021.10.8)\n",
            "Requirement already satisfied: idna<3,>=2.5 in /usr/local/lib/python3.7/dist-packages (from requests->tmdbsimple) (2.10)\n",
            "Requirement already satisfied: urllib3!=1.25.0,!=1.25.1,<1.26,>=1.21.1 in /usr/local/lib/python3.7/dist-packages (from requests->tmdbsimple) (1.24.3)\n",
            "Requirement already satisfied: chardet<4,>=3.0.2 in /usr/local/lib/python3.7/dist-packages (from requests->tmdbsimple) (3.0.4)\n",
            "Installing collected packages: tmdbsimple\n",
            "Successfully installed tmdbsimple-2.8.1\n"
          ]
        }
      ]
    },
    {
      "cell_type": "code",
      "metadata": {
        "id": "KbJ3IO9OOIJW"
      },
      "source": [
        "import urllib.request\n",
        "import requests\n",
        "import json\n",
        "import imdb\n",
        "import time\n",
        "import itertools\n",
        "import wget\n",
        "import os\n",
        "import tmdbsimple as tmdb\n",
        "import numpy as np\n",
        "import random\n",
        "import matplotlib\n",
        "import matplotlib.pyplot as plt\n",
        "%matplotlib inline\n",
        "import seaborn as sns\n",
        "import pickle\n",
        "import pickle as pkl"
      ],
      "execution_count": null,
      "outputs": []
    },
    {
      "cell_type": "code",
      "metadata": {
        "id": "FMJi457OPe-w"
      },
      "source": [
        "api_key = 'cca7512b963db8aa84ed7e1abe3be199' \n",
        "url = 'https://api.themoviedb.org/3/movie/550?api_key=cca7512b963db8aa84ed7e1abe3be199'\n",
        "data = urllib.request.urlopen(url).read()\n",
        "dataDict = json.loads(data)"
      ],
      "execution_count": null,
      "outputs": []
    },
    {
      "cell_type": "code",
      "metadata": {
        "id": "UttvFoQdP4Kw"
      },
      "source": [
        "poster_folder='posters_final/'\n",
        "if poster_folder.split('/')[0] in os.listdir('./'):\n",
        "    print('Folder already exists')\n",
        "else:\n",
        "    os.mkdir('./'+poster_folder)"
      ],
      "execution_count": null,
      "outputs": []
    },
    {
      "cell_type": "code",
      "metadata": {
        "id": "cuNQc8p_P_QN"
      },
      "source": [
        "tmdb.API_KEY = api_key \n",
        "search = tmdb.Search()"
      ],
      "execution_count": null,
      "outputs": []
    },
    {
      "cell_type": "code",
      "metadata": {
        "id": "IukOx5MRQ1c9"
      },
      "source": [
        "def get_movie_id_tmdb(movie):\n",
        "    response = search.movie(query=movie)\n",
        "    movie_id=response['results'][0]['id']\n",
        "    return movie_id"
      ],
      "execution_count": null,
      "outputs": []
    },
    {
      "cell_type": "code",
      "metadata": {
        "id": "v746gXrvQ5Cn"
      },
      "source": [
        "def get_movie_info_tmdb(movie):\n",
        "    response = search.movie(query=movie)\n",
        "    id=response['results'][0]['id']\n",
        "    movie = tmdb.Movies(id)\n",
        "    info=movie.info()\n",
        "    return info"
      ],
      "execution_count": null,
      "outputs": []
    },
    {
      "cell_type": "code",
      "metadata": {
        "id": "NUgVYqYhRBCS"
      },
      "source": [
        "def get_movie_genres_tmdb(movie):\n",
        "    response = search.movie(query=movie)\n",
        "    id=response['results'][0]['id']\n",
        "    movie = tmdb.Movies(id)\n",
        "    genres=movie.info()['genres']\n",
        "    return genres"
      ],
      "execution_count": null,
      "outputs": []
    },
    {
      "cell_type": "code",
      "metadata": {
        "id": "5hPIObyiSUPW"
      },
      "source": [
        "def get_movie_overview_tmdb(movie):\n",
        "    response = search.movie(query=movie)\n",
        "    id=response['results'][0]['id']\n",
        "    movie = tmdb.Movies(id)\n",
        "    overview=movie.info()['overview']\n",
        "    return genres"
      ],
      "execution_count": null,
      "outputs": []
    },
    {
      "cell_type": "markdown",
      "metadata": {
        "id": "wCeVBHR7eGsB"
      },
      "source": [
        "**Popular** **Movie** **Dataset**"
      ]
    },
    {
      "cell_type": "code",
      "metadata": {
        "colab": {
          "base_uri": "https://localhost:8080/"
        },
        "id": "4e4sFb1cXGLF",
        "outputId": "ead22276-2eff-4ce9-984a-10a91335983e"
      },
      "source": [
        "all_movies=tmdb.Movies()\n",
        "top_movies=all_movies.popular()\n",
        "\n",
        "print(len(top_movies['results']))\n",
        "popular_movs=top_movies['results']"
      ],
      "execution_count": null,
      "outputs": [
        {
          "output_type": "stream",
          "name": "stdout",
          "text": [
            "20\n"
          ]
        }
      ]
    },
    {
      "cell_type": "markdown",
      "metadata": {
        "id": "kbtKAuteyUif"
      },
      "source": [
        "Obtain Top 10,000 popular movies from TMDb"
      ]
    },
    {
      "cell_type": "code",
      "metadata": {
        "colab": {
          "base_uri": "https://localhost:8080/"
        },
        "id": "vGbsrYZIZCp8",
        "outputId": "b8d190a4-c58b-4247-a224-789eb9d6c8b2"
      },
      "source": [
        "all_movies=tmdb.Movies()\n",
        "top10000_movies=[]\n",
        "print('Pulling movie list, Please wait...')\n",
        "for i in range(1,501):\n",
        "    if i%15==0:\n",
        "        time.sleep(7)\n",
        "    movies_on_this_page=all_movies.popular(page=i)['results']\n",
        "    top10000_movies.extend(movies_on_this_page)\n",
        "len(top10000_movies)\n",
        "f3=open('movie_list_week12.pckl','wb')\n",
        "pickle.dump(top10000_movies,f3)\n",
        "f3.close()\n",
        "print('Done!')"
      ],
      "execution_count": null,
      "outputs": [
        {
          "output_type": "stream",
          "name": "stdout",
          "text": [
            "Pulling movie list, Please wait...\n",
            "Done!\n"
          ]
        }
      ]
    },
    {
      "cell_type": "code",
      "metadata": {
        "id": "_3FaGooOpwxK"
      },
      "source": [
        "f3=open('movie_list_week12.pckl','rb')\n",
        "top10000_movies_week12=pickle.load(f3)\n",
        "f3.close()"
      ],
      "execution_count": 78,
      "outputs": []
    },
    {
      "cell_type": "code",
      "metadata": {
        "colab": {
          "base_uri": "https://localhost:8080/"
        },
        "id": "TcVSK_zWukgP",
        "outputId": "f4f022b6-a14c-46bf-e8c6-da04a3cd47b8"
      },
      "source": [
        "len(top10000_movies_week12)"
      ],
      "execution_count": 79,
      "outputs": [
        {
          "output_type": "execute_result",
          "data": {
            "text/plain": [
              "10000"
            ]
          },
          "metadata": {},
          "execution_count": 79
        }
      ]
    },
    {
      "cell_type": "code",
      "metadata": {
        "id": "E1lXlc3v_Ub7"
      },
      "source": [
        "import pandas as pd\n",
        "with open(\"movie_list_week12.pckl\", \"rb\") as f:\n",
        "    object = pkl.load(f)\n",
        "    \n",
        "df = pd.DataFrame(object)\n",
        "df.to_csv(r'top10000_movies_week12.csv')"
      ],
      "execution_count": 80,
      "outputs": []
    },
    {
      "cell_type": "code",
      "metadata": {
        "colab": {
          "base_uri": "https://localhost:8080/"
        },
        "id": "AmCCi2CSTgoL",
        "outputId": "797dede7-2272-4c06-de49-8f4c48603eee"
      },
      "source": [
        "with open('top10000_movies_week12.csv', 'r') as f:\n",
        "    print(len(f.readlines()))"
      ],
      "execution_count": 81,
      "outputs": [
        {
          "output_type": "stream",
          "name": "stdout",
          "text": [
            "10033\n"
          ]
        }
      ]
    },
    {
      "cell_type": "code",
      "metadata": {
        "id": "ECf43mLEV3-K"
      },
      "source": [
        "import pandas as pd\n",
        "\n",
        "df = pd.read_csv('top10000_movies_week12.csv', index_col=None, header=0, engine='python' )"
      ],
      "execution_count": 82,
      "outputs": []
    },
    {
      "cell_type": "code",
      "metadata": {
        "id": "B6pkcMUGWm-B"
      },
      "source": [
        "data = df.values"
      ],
      "execution_count": 83,
      "outputs": []
    },
    {
      "cell_type": "code",
      "metadata": {
        "colab": {
          "base_uri": "https://localhost:8080/"
        },
        "id": "-JXmX6TpWtIf",
        "outputId": "a4987534-b256-4051-a0f0-2ed455856cdb"
      },
      "source": [
        "colnames = df.columns\n",
        "colnames"
      ],
      "execution_count": 84,
      "outputs": [
        {
          "output_type": "execute_result",
          "data": {
            "text/plain": [
              "Index(['Unnamed: 0', 'adult', 'backdrop_path', 'genre_ids', 'id',\n",
              "       'original_language', 'original_title', 'overview', 'popularity',\n",
              "       'poster_path', 'release_date', 'title', 'video', 'vote_average',\n",
              "       'vote_count'],\n",
              "      dtype='object')"
            ]
          },
          "metadata": {},
          "execution_count": 84
        }
      ]
    },
    {
      "cell_type": "code",
      "source": [
        "# Delete movies without posters\n",
        "df2=df.dropna(subset=['poster_path'])\n",
        "#Based on user evaluation feedback, we decided to delete movies without poster movie information"
      ],
      "metadata": {
        "id": "Y4UGXuCpCHxB"
      },
      "execution_count": 90,
      "outputs": []
    },
    {
      "cell_type": "code",
      "source": [
        "df2.isnull().any()\n",
        "# Check whether there is a null value in the movie poster column -->'poster_path'"
      ],
      "metadata": {
        "colab": {
          "base_uri": "https://localhost:8080/"
        },
        "id": "rVrmRdPfHG3g",
        "outputId": "26d80899-155e-40c4-9dd0-fe125b42ada5"
      },
      "execution_count": 91,
      "outputs": [
        {
          "output_type": "execute_result",
          "data": {
            "text/plain": [
              "Unnamed: 0           False\n",
              "adult                False\n",
              "backdrop_path         True\n",
              "genre_ids            False\n",
              "id                   False\n",
              "original_language    False\n",
              "original_title       False\n",
              "overview              True\n",
              "popularity           False\n",
              "poster_path          False\n",
              "release_date          True\n",
              "title                False\n",
              "video                False\n",
              "vote_average         False\n",
              "vote_count           False\n",
              "dtype: bool"
            ]
          },
          "metadata": {},
          "execution_count": 91
        }
      ]
    },
    {
      "cell_type": "code",
      "source": [
        "df2.isnull().sum()"
      ],
      "metadata": {
        "colab": {
          "base_uri": "https://localhost:8080/"
        },
        "id": "KT7arTVQKuWB",
        "outputId": "5f80fecc-00e3-4ece-d7d6-33e1b503cc95"
      },
      "execution_count": 92,
      "outputs": [
        {
          "output_type": "execute_result",
          "data": {
            "text/plain": [
              "Unnamed: 0             0\n",
              "adult                  0\n",
              "backdrop_path        338\n",
              "genre_ids              0\n",
              "id                     0\n",
              "original_language      0\n",
              "original_title         0\n",
              "overview              89\n",
              "popularity             0\n",
              "poster_path            0\n",
              "release_date          29\n",
              "title                  0\n",
              "video                  0\n",
              "vote_average           0\n",
              "vote_count             0\n",
              "dtype: int64"
            ]
          },
          "metadata": {},
          "execution_count": 92
        }
      ]
    },
    {
      "cell_type": "markdown",
      "metadata": {
        "id": "VwaTPsfMiqWL"
      },
      "source": [
        "Add 'popularity' "
      ]
    },
    {
      "cell_type": "code",
      "metadata": {
        "id": "FAnRKK85XfMt"
      },
      "source": [
        "df2.to_csv('Top10000_week12.csv', columns=['title', 'overview', 'genre_ids', 'id', 'popularity'])"
      ],
      "execution_count": 97,
      "outputs": []
    },
    {
      "cell_type": "code",
      "metadata": {
        "colab": {
          "base_uri": "https://localhost:8080/"
        },
        "id": "1QNh_bE9YMua",
        "outputId": "488278d6-dff7-4c17-a788-40f53bbf1f2e"
      },
      "source": [
        "with open('Top10000_week12.csv', 'r') as f:\n",
        "    print(len(f.readlines()))"
      ],
      "execution_count": 98,
      "outputs": [
        {
          "output_type": "stream",
          "name": "stdout",
          "text": [
            "9992\n"
          ]
        }
      ]
    },
    {
      "cell_type": "markdown",
      "metadata": {
        "id": "7BcPaQ9geZKE"
      },
      "source": [
        "***Upcoming movie***"
      ]
    },
    {
      "cell_type": "code",
      "metadata": {
        "colab": {
          "base_uri": "https://localhost:8080/"
        },
        "id": "Q9ZFG2rbe4cz",
        "outputId": "85b37cd5-74a6-44d1-b318-3db9924c82ac"
      },
      "source": [
        "all_movies=tmdb.Movies()\n",
        "upcoming_movies=all_movies.upcoming()\n",
        "\n",
        "print(len(upcoming_movies['results']))\n",
        "upcoming_movs=top_movies['results']"
      ],
      "execution_count": null,
      "outputs": [
        {
          "output_type": "stream",
          "name": "stdout",
          "text": [
            "20\n"
          ]
        }
      ]
    },
    {
      "cell_type": "code",
      "metadata": {
        "colab": {
          "base_uri": "https://localhost:8080/"
        },
        "id": "KbhkW236fNQZ",
        "outputId": "4bc43721-2a3b-4f92-a3f6-d4ba878c2b70"
      },
      "source": [
        "all_movies=tmdb.Movies()\n",
        "upcoming1000_movies=[]\n",
        "print('Pulling movie list, Please wait...')\n",
        "for i in range(1,51):\n",
        "    if i%15==0:\n",
        "        time.sleep(7)\n",
        "    movies_on_this_page=all_movies.upcoming(page=i)['results']\n",
        "    upcoming1000_movies.extend(movies_on_this_page)\n",
        "len(upcoming1000_movies)\n",
        "f4=open('upcoming_movie_list_week12.pckl','wb')\n",
        "pickle.dump(upcoming1000_movies,f4)\n",
        "f4.close()\n",
        "print('Done!')"
      ],
      "execution_count": null,
      "outputs": [
        {
          "output_type": "stream",
          "name": "stdout",
          "text": [
            "Pulling movie list, Please wait...\n",
            "Done!\n"
          ]
        }
      ]
    },
    {
      "cell_type": "code",
      "metadata": {
        "id": "c82ZV-Puf_tx"
      },
      "source": [
        "f4=open('upcoming_movie_list_week12.pckl','rb')\n",
        "upcoming1000_movies_week12=pickle.load(f4)\n",
        "f4.close()"
      ],
      "execution_count": null,
      "outputs": []
    },
    {
      "cell_type": "code",
      "metadata": {
        "colab": {
          "base_uri": "https://localhost:8080/"
        },
        "id": "pYu-lMdngOOF",
        "outputId": "b7360158-2d12-4d6a-a2ed-79296bbed907"
      },
      "source": [
        "len(upcoming1000_movies_week12)"
      ],
      "execution_count": 99,
      "outputs": [
        {
          "output_type": "execute_result",
          "data": {
            "text/plain": [
              "836"
            ]
          },
          "metadata": {},
          "execution_count": 99
        }
      ]
    },
    {
      "cell_type": "markdown",
      "metadata": {
        "id": "cuFHScEfgWD4"
      },
      "source": [
        "**600+ upcoming movies for week10**"
      ]
    },
    {
      "cell_type": "code",
      "metadata": {
        "id": "B44XKLJbgccz"
      },
      "source": [
        "with open(\"upcoming_movie_list_week12.pckl\", \"rb\") as f:\n",
        "    object = pkl.load(f)\n",
        "    \n",
        "df = pd.DataFrame(object)\n",
        "df.to_csv(r'upcoming_movies_week12.csv')"
      ],
      "execution_count": 100,
      "outputs": []
    },
    {
      "cell_type": "code",
      "metadata": {
        "colab": {
          "base_uri": "https://localhost:8080/"
        },
        "id": "KWB6juXbcPej",
        "outputId": "ebb8ff32-5b90-4d86-bfde-7c387d64966e"
      },
      "source": [
        "len(upcoming1000_movies_week12)"
      ],
      "execution_count": 101,
      "outputs": [
        {
          "output_type": "execute_result",
          "data": {
            "text/plain": [
              "836"
            ]
          },
          "metadata": {},
          "execution_count": 101
        }
      ]
    },
    {
      "cell_type": "code",
      "metadata": {
        "id": "Hkei4R1ChJuh"
      },
      "source": [
        "df_1 = pd.read_csv('upcoming_movies_week12.csv', index_col=None, header=0, engine='python')\n",
        "data = df_1.values"
      ],
      "execution_count": 107,
      "outputs": []
    },
    {
      "cell_type": "code",
      "source": [
        "df_1.isnull().any()"
      ],
      "metadata": {
        "colab": {
          "base_uri": "https://localhost:8080/"
        },
        "id": "U240f2oXL9WN",
        "outputId": "58d14026-a7c8-4fe6-d39b-fcabfaa39fd5"
      },
      "execution_count": 108,
      "outputs": [
        {
          "output_type": "execute_result",
          "data": {
            "text/plain": [
              "Unnamed: 0           False\n",
              "adult                False\n",
              "backdrop_path         True\n",
              "genre_ids            False\n",
              "id                   False\n",
              "original_language    False\n",
              "original_title       False\n",
              "overview              True\n",
              "popularity           False\n",
              "poster_path           True\n",
              "release_date         False\n",
              "title                False\n",
              "video                False\n",
              "vote_average         False\n",
              "vote_count           False\n",
              "dtype: bool"
            ]
          },
          "metadata": {},
          "execution_count": 108
        }
      ]
    },
    {
      "cell_type": "code",
      "source": [
        "# Delete movies without posters\n",
        "df3=df_1.dropna(subset=['poster_path'])\n",
        "#Based on user evaluation feedback, we decided to delete movies without poster movie information"
      ],
      "metadata": {
        "id": "nh9xZ_WCL3iC"
      },
      "execution_count": 109,
      "outputs": []
    },
    {
      "cell_type": "code",
      "source": [
        "df3.isnull().any()"
      ],
      "metadata": {
        "colab": {
          "base_uri": "https://localhost:8080/"
        },
        "id": "B4_cydD5MjxD",
        "outputId": "d9ac5d7f-cb6c-42d1-a328-7d56088714df"
      },
      "execution_count": 112,
      "outputs": [
        {
          "output_type": "execute_result",
          "data": {
            "text/plain": [
              "Unnamed: 0           False\n",
              "adult                False\n",
              "backdrop_path         True\n",
              "genre_ids            False\n",
              "id                   False\n",
              "original_language    False\n",
              "original_title       False\n",
              "overview              True\n",
              "popularity           False\n",
              "poster_path          False\n",
              "release_date         False\n",
              "title                False\n",
              "video                False\n",
              "vote_average         False\n",
              "vote_count           False\n",
              "dtype: bool"
            ]
          },
          "metadata": {},
          "execution_count": 112
        }
      ]
    },
    {
      "cell_type": "code",
      "metadata": {
        "id": "DC1OdB3xhhT7"
      },
      "source": [
        "df3.to_csv('Upcoming_week12.csv', columns=['title', 'overview', 'genre_ids', 'id', 'popularity'])"
      ],
      "execution_count": 113,
      "outputs": []
    },
    {
      "cell_type": "code",
      "metadata": {
        "colab": {
          "base_uri": "https://localhost:8080/"
        },
        "id": "E1kXPXmbhqZZ",
        "outputId": "48163292-a812-42d4-a633-1e3c49ebeb01"
      },
      "source": [
        "with open('Upcoming_week12.csv', 'r') as f:\n",
        "    print(len(f.readlines()))"
      ],
      "execution_count": 114,
      "outputs": [
        {
          "output_type": "stream",
          "name": "stdout",
          "text": [
            "577\n"
          ]
        }
      ]
    },
    {
      "cell_type": "code",
      "metadata": {
        "id": "Us3LhbJHjvCF"
      },
      "source": [
        "data1=pd.read_csv(\"Upcoming_week12.csv\")"
      ],
      "execution_count": 115,
      "outputs": []
    },
    {
      "cell_type": "code",
      "metadata": {
        "id": "nQP5XJjFjyB2"
      },
      "source": [
        "data2= pd.read_csv('Top10000_week12.csv', index_col=None, header=0, engine='python')"
      ],
      "execution_count": 116,
      "outputs": []
    },
    {
      "cell_type": "code",
      "metadata": {
        "id": "LkjMmBzPkOSK"
      },
      "source": [
        "frames = [data1, data2]\n",
        "result = pd.concat(frames)"
      ],
      "execution_count": 117,
      "outputs": []
    },
    {
      "cell_type": "code",
      "metadata": {
        "colab": {
          "base_uri": "https://localhost:8080/"
        },
        "id": "1hefq8ZRkS7S",
        "outputId": "9c6f0347-88db-4941-c984-72f79625ca22"
      },
      "source": [
        "len(result)"
      ],
      "execution_count": 118,
      "outputs": [
        {
          "output_type": "execute_result",
          "data": {
            "text/plain": [
              "10550"
            ]
          },
          "metadata": {},
          "execution_count": 118
        }
      ]
    },
    {
      "cell_type": "code",
      "metadata": {
        "colab": {
          "base_uri": "https://localhost:8080/"
        },
        "id": "_Jb7IbV9kXeN",
        "outputId": "fa6977ff-a657-4d29-85bc-79f32f16bd1d"
      },
      "source": [
        "len(data1)"
      ],
      "execution_count": 119,
      "outputs": [
        {
          "output_type": "execute_result",
          "data": {
            "text/plain": [
              "576"
            ]
          },
          "metadata": {},
          "execution_count": 119
        }
      ]
    },
    {
      "cell_type": "code",
      "metadata": {
        "colab": {
          "base_uri": "https://localhost:8080/"
        },
        "id": "GOgzaCuJkaQY",
        "outputId": "3efd5740-4ff6-4fbe-91e9-79d3d0db06ec"
      },
      "source": [
        "len(data2)"
      ],
      "execution_count": 120,
      "outputs": [
        {
          "output_type": "execute_result",
          "data": {
            "text/plain": [
              "9974"
            ]
          },
          "metadata": {},
          "execution_count": 120
        }
      ]
    },
    {
      "cell_type": "code",
      "metadata": {
        "colab": {
          "base_uri": "https://localhost:8080/",
          "height": 206
        },
        "id": "-5Q_xGN6kdmp",
        "outputId": "bc6e3041-ffe2-4b43-e590-0e4738e52cee"
      },
      "source": [
        "result.head()"
      ],
      "execution_count": 121,
      "outputs": [
        {
          "output_type": "execute_result",
          "data": {
            "text/html": [
              "<div>\n",
              "<style scoped>\n",
              "    .dataframe tbody tr th:only-of-type {\n",
              "        vertical-align: middle;\n",
              "    }\n",
              "\n",
              "    .dataframe tbody tr th {\n",
              "        vertical-align: top;\n",
              "    }\n",
              "\n",
              "    .dataframe thead th {\n",
              "        text-align: right;\n",
              "    }\n",
              "</style>\n",
              "<table border=\"1\" class=\"dataframe\">\n",
              "  <thead>\n",
              "    <tr style=\"text-align: right;\">\n",
              "      <th></th>\n",
              "      <th>Unnamed: 0</th>\n",
              "      <th>title</th>\n",
              "      <th>overview</th>\n",
              "      <th>genre_ids</th>\n",
              "      <th>id</th>\n",
              "      <th>popularity</th>\n",
              "    </tr>\n",
              "  </thead>\n",
              "  <tbody>\n",
              "    <tr>\n",
              "      <th>0</th>\n",
              "      <td>0</td>\n",
              "      <td>Clifford the Big Red Dog</td>\n",
              "      <td>As Emily struggles to fit in at home and at sc...</td>\n",
              "      <td>[16, 35, 10751]</td>\n",
              "      <td>585245</td>\n",
              "      <td>2734.004</td>\n",
              "    </tr>\n",
              "    <tr>\n",
              "      <th>1</th>\n",
              "      <td>1</td>\n",
              "      <td>Encanto</td>\n",
              "      <td>The tale of an extraordinary family, the Madri...</td>\n",
              "      <td>[12, 16, 35, 10751, 14, 10402]</td>\n",
              "      <td>568124</td>\n",
              "      <td>2744.462</td>\n",
              "    </tr>\n",
              "    <tr>\n",
              "      <th>2</th>\n",
              "      <td>2</td>\n",
              "      <td>Ron's Gone Wrong</td>\n",
              "      <td>In a world where walking, talking, digitally c...</td>\n",
              "      <td>[16, 878, 10751, 35]</td>\n",
              "      <td>482321</td>\n",
              "      <td>2221.171</td>\n",
              "    </tr>\n",
              "    <tr>\n",
              "      <th>3</th>\n",
              "      <td>3</td>\n",
              "      <td>Spider-Man: No Way Home</td>\n",
              "      <td>Peter Parker is unmasked and no longer able to...</td>\n",
              "      <td>[28, 12, 878]</td>\n",
              "      <td>634649</td>\n",
              "      <td>2098.473</td>\n",
              "    </tr>\n",
              "    <tr>\n",
              "      <th>4</th>\n",
              "      <td>4</td>\n",
              "      <td>No Time to Die</td>\n",
              "      <td>Bond has left active service and is enjoying a...</td>\n",
              "      <td>[12, 28, 53]</td>\n",
              "      <td>370172</td>\n",
              "      <td>1606.287</td>\n",
              "    </tr>\n",
              "  </tbody>\n",
              "</table>\n",
              "</div>"
            ],
            "text/plain": [
              "   Unnamed: 0                     title  ...      id popularity\n",
              "0           0  Clifford the Big Red Dog  ...  585245   2734.004\n",
              "1           1                   Encanto  ...  568124   2744.462\n",
              "2           2          Ron's Gone Wrong  ...  482321   2221.171\n",
              "3           3   Spider-Man: No Way Home  ...  634649   2098.473\n",
              "4           4            No Time to Die  ...  370172   1606.287\n",
              "\n",
              "[5 rows x 6 columns]"
            ]
          },
          "metadata": {},
          "execution_count": 121
        }
      ]
    },
    {
      "cell_type": "code",
      "metadata": {
        "colab": {
          "base_uri": "https://localhost:8080/"
        },
        "id": "1CMN7oeNkg-P",
        "outputId": "d57474a2-7899-4fe9-8e28-ce8e3f81d8e8"
      },
      "source": [
        "result.info()"
      ],
      "execution_count": 122,
      "outputs": [
        {
          "output_type": "stream",
          "name": "stdout",
          "text": [
            "<class 'pandas.core.frame.DataFrame'>\n",
            "Int64Index: 10550 entries, 0 to 9973\n",
            "Data columns (total 6 columns):\n",
            " #   Column      Non-Null Count  Dtype  \n",
            "---  ------      --------------  -----  \n",
            " 0   Unnamed: 0  10550 non-null  int64  \n",
            " 1   title       10550 non-null  object \n",
            " 2   overview    10387 non-null  object \n",
            " 3   genre_ids   10550 non-null  object \n",
            " 4   id          10550 non-null  int64  \n",
            " 5   popularity  10550 non-null  float64\n",
            "dtypes: float64(1), int64(2), object(3)\n",
            "memory usage: 577.0+ KB\n"
          ]
        }
      ]
    },
    {
      "cell_type": "code",
      "metadata": {
        "colab": {
          "base_uri": "https://localhost:8080/"
        },
        "id": "uPVIz0uLkkSP",
        "outputId": "ea930a29-ecf9-4b91-8a71-137d54419aaa"
      },
      "source": [
        "any(result.duplicated('id')) # Duplicate ID was found in this table"
      ],
      "execution_count": 123,
      "outputs": [
        {
          "output_type": "execute_result",
          "data": {
            "text/plain": [
              "True"
            ]
          },
          "metadata": {},
          "execution_count": 123
        }
      ]
    },
    {
      "cell_type": "code",
      "metadata": {
        "id": "r85nao9_krO2"
      },
      "source": [
        "result.to_csv('result_week12.csv')"
      ],
      "execution_count": 127,
      "outputs": []
    },
    {
      "cell_type": "code",
      "metadata": {
        "colab": {
          "base_uri": "https://localhost:8080/",
          "height": 528
        },
        "id": "ga2jWMsK--I6",
        "outputId": "90f6606c-89e2-4614-fa66-6945bed8eec7"
      },
      "source": [
        "result"
      ],
      "execution_count": 128,
      "outputs": [
        {
          "output_type": "execute_result",
          "data": {
            "text/html": [
              "<div>\n",
              "<style scoped>\n",
              "    .dataframe tbody tr th:only-of-type {\n",
              "        vertical-align: middle;\n",
              "    }\n",
              "\n",
              "    .dataframe tbody tr th {\n",
              "        vertical-align: top;\n",
              "    }\n",
              "\n",
              "    .dataframe thead th {\n",
              "        text-align: right;\n",
              "    }\n",
              "</style>\n",
              "<table border=\"1\" class=\"dataframe\">\n",
              "  <thead>\n",
              "    <tr style=\"text-align: right;\">\n",
              "      <th></th>\n",
              "      <th>Unnamed: 0</th>\n",
              "      <th>title</th>\n",
              "      <th>overview</th>\n",
              "      <th>genre_ids</th>\n",
              "      <th>id</th>\n",
              "      <th>popularity</th>\n",
              "    </tr>\n",
              "  </thead>\n",
              "  <tbody>\n",
              "    <tr>\n",
              "      <th>0</th>\n",
              "      <td>0</td>\n",
              "      <td>Clifford the Big Red Dog</td>\n",
              "      <td>As Emily struggles to fit in at home and at sc...</td>\n",
              "      <td>[16, 35, 10751]</td>\n",
              "      <td>585245</td>\n",
              "      <td>2734.004</td>\n",
              "    </tr>\n",
              "    <tr>\n",
              "      <th>1</th>\n",
              "      <td>1</td>\n",
              "      <td>Encanto</td>\n",
              "      <td>The tale of an extraordinary family, the Madri...</td>\n",
              "      <td>[12, 16, 35, 10751, 14, 10402]</td>\n",
              "      <td>568124</td>\n",
              "      <td>2744.462</td>\n",
              "    </tr>\n",
              "    <tr>\n",
              "      <th>2</th>\n",
              "      <td>2</td>\n",
              "      <td>Ron's Gone Wrong</td>\n",
              "      <td>In a world where walking, talking, digitally c...</td>\n",
              "      <td>[16, 878, 10751, 35]</td>\n",
              "      <td>482321</td>\n",
              "      <td>2221.171</td>\n",
              "    </tr>\n",
              "    <tr>\n",
              "      <th>3</th>\n",
              "      <td>3</td>\n",
              "      <td>Spider-Man: No Way Home</td>\n",
              "      <td>Peter Parker is unmasked and no longer able to...</td>\n",
              "      <td>[28, 12, 878]</td>\n",
              "      <td>634649</td>\n",
              "      <td>2098.473</td>\n",
              "    </tr>\n",
              "    <tr>\n",
              "      <th>4</th>\n",
              "      <td>4</td>\n",
              "      <td>No Time to Die</td>\n",
              "      <td>Bond has left active service and is enjoying a...</td>\n",
              "      <td>[12, 28, 53]</td>\n",
              "      <td>370172</td>\n",
              "      <td>1606.287</td>\n",
              "    </tr>\n",
              "    <tr>\n",
              "      <th>...</th>\n",
              "      <td>...</td>\n",
              "      <td>...</td>\n",
              "      <td>...</td>\n",
              "      <td>...</td>\n",
              "      <td>...</td>\n",
              "      <td>...</td>\n",
              "    </tr>\n",
              "    <tr>\n",
              "      <th>9969</th>\n",
              "      <td>10009</td>\n",
              "      <td>Joint Security Area</td>\n",
              "      <td>After a shooting incident at the North/South K...</td>\n",
              "      <td>[10752, 18, 53, 28]</td>\n",
              "      <td>2440</td>\n",
              "      <td>13.029</td>\n",
              "    </tr>\n",
              "    <tr>\n",
              "      <th>9970</th>\n",
              "      <td>10010</td>\n",
              "      <td>Silent Night</td>\n",
              "      <td>The police force of a remote Midwestern town s...</td>\n",
              "      <td>[35, 27, 53, 9648]</td>\n",
              "      <td>139455</td>\n",
              "      <td>12.032</td>\n",
              "    </tr>\n",
              "    <tr>\n",
              "      <th>9971</th>\n",
              "      <td>10011</td>\n",
              "      <td>The Astronaut Farmer</td>\n",
              "      <td>Texan Charles Farmer left the Air Force as a y...</td>\n",
              "      <td>[878, 12, 35, 18]</td>\n",
              "      <td>5172</td>\n",
              "      <td>12.780</td>\n",
              "    </tr>\n",
              "    <tr>\n",
              "      <th>9972</th>\n",
              "      <td>10012</td>\n",
              "      <td>Hanasaku Iroha: Home Sweet Home</td>\n",
              "      <td>While sorting through a mess of books in the s...</td>\n",
              "      <td>[16, 18, 35]</td>\n",
              "      <td>229756</td>\n",
              "      <td>12.932</td>\n",
              "    </tr>\n",
              "    <tr>\n",
              "      <th>9973</th>\n",
              "      <td>10013</td>\n",
              "      <td>Material Girls</td>\n",
              "      <td>Two wealthy sisters, both heiresses to their f...</td>\n",
              "      <td>[35]</td>\n",
              "      <td>10118</td>\n",
              "      <td>14.260</td>\n",
              "    </tr>\n",
              "  </tbody>\n",
              "</table>\n",
              "<p>10550 rows × 6 columns</p>\n",
              "</div>"
            ],
            "text/plain": [
              "      Unnamed: 0                            title  ...      id popularity\n",
              "0              0         Clifford the Big Red Dog  ...  585245   2734.004\n",
              "1              1                          Encanto  ...  568124   2744.462\n",
              "2              2                 Ron's Gone Wrong  ...  482321   2221.171\n",
              "3              3          Spider-Man: No Way Home  ...  634649   2098.473\n",
              "4              4                   No Time to Die  ...  370172   1606.287\n",
              "...          ...                              ...  ...     ...        ...\n",
              "9969       10009              Joint Security Area  ...    2440     13.029\n",
              "9970       10010                     Silent Night  ...  139455     12.032\n",
              "9971       10011             The Astronaut Farmer  ...    5172     12.780\n",
              "9972       10012  Hanasaku Iroha: Home Sweet Home  ...  229756     12.932\n",
              "9973       10013                   Material Girls  ...   10118     14.260\n",
              "\n",
              "[10550 rows x 6 columns]"
            ]
          },
          "metadata": {},
          "execution_count": 128
        }
      ]
    },
    {
      "cell_type": "code",
      "metadata": {
        "colab": {
          "base_uri": "https://localhost:8080/"
        },
        "id": "_jCgx7oJlG6H",
        "outputId": "ca938641-49d5-4d1f-80eb-210af5ca4254"
      },
      "source": [
        "result.dtypes"
      ],
      "execution_count": 129,
      "outputs": [
        {
          "output_type": "execute_result",
          "data": {
            "text/plain": [
              "Unnamed: 0      int64\n",
              "title          object\n",
              "overview       object\n",
              "genre_ids      object\n",
              "id              int64\n",
              "popularity    float64\n",
              "dtype: object"
            ]
          },
          "metadata": {},
          "execution_count": 129
        }
      ]
    },
    {
      "cell_type": "code",
      "metadata": {
        "colab": {
          "base_uri": "https://localhost:8080/"
        },
        "id": "MOCaMbrGlOuo",
        "outputId": "28da47d8-7049-426e-9c29-bdf2c7370b0d"
      },
      "source": [
        "any(result.duplicated('id')) #ID is duplicate"
      ],
      "execution_count": 130,
      "outputs": [
        {
          "output_type": "execute_result",
          "data": {
            "text/plain": [
              "True"
            ]
          },
          "metadata": {},
          "execution_count": 130
        }
      ]
    },
    {
      "cell_type": "code",
      "metadata": {
        "colab": {
          "base_uri": "https://localhost:8080/"
        },
        "id": "GrSbnzZElN5k",
        "outputId": "119bd62c-7b37-49f8-e8d7-feccaebb43e2"
      },
      "source": [
        "result.isnull().any() #Missing value query"
      ],
      "execution_count": 158,
      "outputs": [
        {
          "output_type": "execute_result",
          "data": {
            "text/plain": [
              "Unnamed: 0    False\n",
              "title         False\n",
              "overview       True\n",
              "genre_ids     False\n",
              "id            False\n",
              "popularity    False\n",
              "dtype: bool"
            ]
          },
          "metadata": {},
          "execution_count": 158
        }
      ]
    },
    {
      "cell_type": "code",
      "metadata": {
        "colab": {
          "base_uri": "https://localhost:8080/"
        },
        "id": "JIxnrxkhlUJs",
        "outputId": "7741b2e1-4fc0-4505-92a7-3f173d9e3746"
      },
      "source": [
        "result.isnull().sum() "
      ],
      "execution_count": 157,
      "outputs": [
        {
          "output_type": "execute_result",
          "data": {
            "text/plain": [
              "Unnamed: 0      0\n",
              "title           0\n",
              "overview      163\n",
              "genre_ids       0\n",
              "id              0\n",
              "popularity      0\n",
              "dtype: int64"
            ]
          },
          "metadata": {},
          "execution_count": 157
        }
      ]
    },
    {
      "cell_type": "code",
      "metadata": {
        "id": "QcyGn9IalZJb"
      },
      "source": [
        "result_2 = result.drop_duplicates(subset='id', keep='first', inplace=False) \n",
        "#Delete duplicate ID"
      ],
      "execution_count": 162,
      "outputs": []
    },
    {
      "cell_type": "code",
      "metadata": {
        "colab": {
          "base_uri": "https://localhost:8080/"
        },
        "id": "nRWdJmzPlcKw",
        "outputId": "8053ec21-ca8a-4ded-a8ed-485f6e875895"
      },
      "source": [
        "len(result_2)"
      ],
      "execution_count": 163,
      "outputs": [
        {
          "output_type": "execute_result",
          "data": {
            "text/plain": [
              "10428"
            ]
          },
          "metadata": {},
          "execution_count": 163
        }
      ]
    },
    {
      "cell_type": "code",
      "source": [
        "any(result_2.duplicated('id')) "
      ],
      "metadata": {
        "colab": {
          "base_uri": "https://localhost:8080/"
        },
        "id": "iCUySEipRPZo",
        "outputId": "3a51ddf3-8810-419a-953d-209ae1ddba96"
      },
      "execution_count": 165,
      "outputs": [
        {
          "output_type": "execute_result",
          "data": {
            "text/plain": [
              "False"
            ]
          },
          "metadata": {},
          "execution_count": 165
        }
      ]
    },
    {
      "cell_type": "code",
      "metadata": {
        "id": "ZVMct8oMlemy"
      },
      "source": [
        "no_missing_result = result_2.dropna() "
      ],
      "execution_count": 166,
      "outputs": []
    },
    {
      "cell_type": "code",
      "metadata": {
        "colab": {
          "base_uri": "https://localhost:8080/"
        },
        "id": "Zb34zzlAlgwy",
        "outputId": "3873bb28-2c46-4219-fcbb-21d8d774fd1c"
      },
      "source": [
        "len(no_missing_result)"
      ],
      "execution_count": 167,
      "outputs": [
        {
          "output_type": "execute_result",
          "data": {
            "text/plain": [
              "10265"
            ]
          },
          "metadata": {},
          "execution_count": 167
        }
      ]
    },
    {
      "cell_type": "code",
      "metadata": {
        "colab": {
          "base_uri": "https://localhost:8080/"
        },
        "id": "PkkwYCSKljgp",
        "outputId": "c1b7a4c7-2614-4c16-9a7b-2deaaf326d51"
      },
      "source": [
        "no_missing_result.isnull().sum()"
      ],
      "execution_count": 168,
      "outputs": [
        {
          "output_type": "execute_result",
          "data": {
            "text/plain": [
              "Unnamed: 0    0\n",
              "title         0\n",
              "overview      0\n",
              "genre_ids     0\n",
              "id            0\n",
              "popularity    0\n",
              "dtype: int64"
            ]
          },
          "metadata": {},
          "execution_count": 168
        }
      ]
    },
    {
      "cell_type": "code",
      "metadata": {
        "id": "SFzSLOsOlnYz"
      },
      "source": [
        "no_missing_result.to_csv('no_missing_result_week12.csv')"
      ],
      "execution_count": 169,
      "outputs": []
    },
    {
      "cell_type": "markdown",
      "metadata": {
        "id": "U247srswtnDu"
      },
      "source": [
        "Obtain the target data set, and then perform label separation processing on the data set."
      ]
    },
    {
      "cell_type": "markdown",
      "source": [
        "**Section 2: Data processing**"
      ],
      "metadata": {
        "id": "gh8w1lW2AiAh"
      }
    },
    {
      "cell_type": "code",
      "source": [
        "df=pd.read_csv(\"no_missing_result_week12.csv\")"
      ],
      "metadata": {
        "id": "KOHZqXLPAqey"
      },
      "execution_count": 190,
      "outputs": []
    },
    {
      "cell_type": "code",
      "source": [
        "df"
      ],
      "metadata": {
        "colab": {
          "base_uri": "https://localhost:8080/",
          "height": 615
        },
        "id": "b9Mw15aIAv_2",
        "outputId": "4217d9ef-2148-4219-fdc2-6c5d78f8da4f"
      },
      "execution_count": 191,
      "outputs": [
        {
          "output_type": "execute_result",
          "data": {
            "text/html": [
              "<div>\n",
              "<style scoped>\n",
              "    .dataframe tbody tr th:only-of-type {\n",
              "        vertical-align: middle;\n",
              "    }\n",
              "\n",
              "    .dataframe tbody tr th {\n",
              "        vertical-align: top;\n",
              "    }\n",
              "\n",
              "    .dataframe thead th {\n",
              "        text-align: right;\n",
              "    }\n",
              "</style>\n",
              "<table border=\"1\" class=\"dataframe\">\n",
              "  <thead>\n",
              "    <tr style=\"text-align: right;\">\n",
              "      <th></th>\n",
              "      <th>Unnamed: 0</th>\n",
              "      <th>Unnamed: 0.1</th>\n",
              "      <th>title</th>\n",
              "      <th>overview</th>\n",
              "      <th>genre_ids</th>\n",
              "      <th>id</th>\n",
              "      <th>popularity</th>\n",
              "    </tr>\n",
              "  </thead>\n",
              "  <tbody>\n",
              "    <tr>\n",
              "      <th>0</th>\n",
              "      <td>0</td>\n",
              "      <td>0</td>\n",
              "      <td>Clifford the Big Red Dog</td>\n",
              "      <td>As Emily struggles to fit in at home and at sc...</td>\n",
              "      <td>[16, 35, 10751]</td>\n",
              "      <td>585245</td>\n",
              "      <td>2734.004</td>\n",
              "    </tr>\n",
              "    <tr>\n",
              "      <th>1</th>\n",
              "      <td>1</td>\n",
              "      <td>1</td>\n",
              "      <td>Encanto</td>\n",
              "      <td>The tale of an extraordinary family, the Madri...</td>\n",
              "      <td>[12, 16, 35, 10751, 14, 10402]</td>\n",
              "      <td>568124</td>\n",
              "      <td>2744.462</td>\n",
              "    </tr>\n",
              "    <tr>\n",
              "      <th>2</th>\n",
              "      <td>2</td>\n",
              "      <td>2</td>\n",
              "      <td>Ron's Gone Wrong</td>\n",
              "      <td>In a world where walking, talking, digitally c...</td>\n",
              "      <td>[16, 878, 10751, 35]</td>\n",
              "      <td>482321</td>\n",
              "      <td>2221.171</td>\n",
              "    </tr>\n",
              "    <tr>\n",
              "      <th>3</th>\n",
              "      <td>3</td>\n",
              "      <td>3</td>\n",
              "      <td>Spider-Man: No Way Home</td>\n",
              "      <td>Peter Parker is unmasked and no longer able to...</td>\n",
              "      <td>[28, 12, 878]</td>\n",
              "      <td>634649</td>\n",
              "      <td>2098.473</td>\n",
              "    </tr>\n",
              "    <tr>\n",
              "      <th>4</th>\n",
              "      <td>4</td>\n",
              "      <td>4</td>\n",
              "      <td>No Time to Die</td>\n",
              "      <td>Bond has left active service and is enjoying a...</td>\n",
              "      <td>[12, 28, 53]</td>\n",
              "      <td>370172</td>\n",
              "      <td>1606.287</td>\n",
              "    </tr>\n",
              "    <tr>\n",
              "      <th>...</th>\n",
              "      <td>...</td>\n",
              "      <td>...</td>\n",
              "      <td>...</td>\n",
              "      <td>...</td>\n",
              "      <td>...</td>\n",
              "      <td>...</td>\n",
              "      <td>...</td>\n",
              "    </tr>\n",
              "    <tr>\n",
              "      <th>10260</th>\n",
              "      <td>9969</td>\n",
              "      <td>10009</td>\n",
              "      <td>Joint Security Area</td>\n",
              "      <td>After a shooting incident at the North/South K...</td>\n",
              "      <td>[10752, 18, 53, 28]</td>\n",
              "      <td>2440</td>\n",
              "      <td>13.029</td>\n",
              "    </tr>\n",
              "    <tr>\n",
              "      <th>10261</th>\n",
              "      <td>9970</td>\n",
              "      <td>10010</td>\n",
              "      <td>Silent Night</td>\n",
              "      <td>The police force of a remote Midwestern town s...</td>\n",
              "      <td>[35, 27, 53, 9648]</td>\n",
              "      <td>139455</td>\n",
              "      <td>12.032</td>\n",
              "    </tr>\n",
              "    <tr>\n",
              "      <th>10262</th>\n",
              "      <td>9971</td>\n",
              "      <td>10011</td>\n",
              "      <td>The Astronaut Farmer</td>\n",
              "      <td>Texan Charles Farmer left the Air Force as a y...</td>\n",
              "      <td>[878, 12, 35, 18]</td>\n",
              "      <td>5172</td>\n",
              "      <td>12.780</td>\n",
              "    </tr>\n",
              "    <tr>\n",
              "      <th>10263</th>\n",
              "      <td>9972</td>\n",
              "      <td>10012</td>\n",
              "      <td>Hanasaku Iroha: Home Sweet Home</td>\n",
              "      <td>While sorting through a mess of books in the s...</td>\n",
              "      <td>[16, 18, 35]</td>\n",
              "      <td>229756</td>\n",
              "      <td>12.932</td>\n",
              "    </tr>\n",
              "    <tr>\n",
              "      <th>10264</th>\n",
              "      <td>9973</td>\n",
              "      <td>10013</td>\n",
              "      <td>Material Girls</td>\n",
              "      <td>Two wealthy sisters, both heiresses to their f...</td>\n",
              "      <td>[35]</td>\n",
              "      <td>10118</td>\n",
              "      <td>14.260</td>\n",
              "    </tr>\n",
              "  </tbody>\n",
              "</table>\n",
              "<p>10265 rows × 7 columns</p>\n",
              "</div>"
            ],
            "text/plain": [
              "       Unnamed: 0  Unnamed: 0.1  ...      id popularity\n",
              "0               0             0  ...  585245   2734.004\n",
              "1               1             1  ...  568124   2744.462\n",
              "2               2             2  ...  482321   2221.171\n",
              "3               3             3  ...  634649   2098.473\n",
              "4               4             4  ...  370172   1606.287\n",
              "...           ...           ...  ...     ...        ...\n",
              "10260        9969         10009  ...    2440     13.029\n",
              "10261        9970         10010  ...  139455     12.032\n",
              "10262        9971         10011  ...    5172     12.780\n",
              "10263        9972         10012  ...  229756     12.932\n",
              "10264        9973         10013  ...   10118     14.260\n",
              "\n",
              "[10265 rows x 7 columns]"
            ]
          },
          "metadata": {},
          "execution_count": 191
        }
      ]
    },
    {
      "cell_type": "code",
      "source": [
        "df.isnull().sum()"
      ],
      "metadata": {
        "colab": {
          "base_uri": "https://localhost:8080/"
        },
        "id": "xtbIUUcKTvmO",
        "outputId": "57a6467e-5a94-46b9-b3e4-e5e3197a655a"
      },
      "execution_count": 192,
      "outputs": [
        {
          "output_type": "execute_result",
          "data": {
            "text/plain": [
              "Unnamed: 0      0\n",
              "Unnamed: 0.1    0\n",
              "title           0\n",
              "overview        0\n",
              "genre_ids       0\n",
              "id              0\n",
              "popularity      0\n",
              "dtype: int64"
            ]
          },
          "metadata": {},
          "execution_count": 192
        }
      ]
    },
    {
      "cell_type": "code",
      "source": [
        "genre = df['genre_ids']\n",
        "genre"
      ],
      "metadata": {
        "colab": {
          "base_uri": "https://localhost:8080/"
        },
        "id": "_lwcmAwFNjrE",
        "outputId": "d8f967b4-bc27-422d-c0aa-2fa55dd36c6c"
      },
      "execution_count": 193,
      "outputs": [
        {
          "output_type": "execute_result",
          "data": {
            "text/plain": [
              "0                       [16, 35, 10751]\n",
              "1        [12, 16, 35, 10751, 14, 10402]\n",
              "2                  [16, 878, 10751, 35]\n",
              "3                         [28, 12, 878]\n",
              "4                          [12, 28, 53]\n",
              "                      ...              \n",
              "10260               [10752, 18, 53, 28]\n",
              "10261                [35, 27, 53, 9648]\n",
              "10262                 [878, 12, 35, 18]\n",
              "10263                      [16, 18, 35]\n",
              "10264                              [35]\n",
              "Name: genre_ids, Length: 10265, dtype: object"
            ]
          },
          "metadata": {},
          "execution_count": 193
        }
      ]
    },
    {
      "cell_type": "code",
      "source": [
        "genre = genre.str.strip('[]')\n",
        "genre"
      ],
      "metadata": {
        "colab": {
          "base_uri": "https://localhost:8080/"
        },
        "id": "Yf9E_X4rNmax",
        "outputId": "8be487ae-e078-477b-9741-0045cce82836"
      },
      "execution_count": 194,
      "outputs": [
        {
          "output_type": "execute_result",
          "data": {
            "text/plain": [
              "0                       16, 35, 10751\n",
              "1        12, 16, 35, 10751, 14, 10402\n",
              "2                  16, 878, 10751, 35\n",
              "3                         28, 12, 878\n",
              "4                          12, 28, 53\n",
              "                     ...             \n",
              "10260               10752, 18, 53, 28\n",
              "10261                35, 27, 53, 9648\n",
              "10262                 878, 12, 35, 18\n",
              "10263                      16, 18, 35\n",
              "10264                              35\n",
              "Name: genre_ids, Length: 10265, dtype: object"
            ]
          },
          "metadata": {},
          "execution_count": 194
        }
      ]
    },
    {
      "cell_type": "code",
      "source": [
        "genre1=genre.to_frame()\n",
        "genre1"
      ],
      "metadata": {
        "colab": {
          "base_uri": "https://localhost:8080/",
          "height": 424
        },
        "id": "lWegcSFwNo-2",
        "outputId": "4ee9ac6f-59c7-4c8c-ad24-7995dc51aed3"
      },
      "execution_count": 195,
      "outputs": [
        {
          "output_type": "execute_result",
          "data": {
            "text/html": [
              "<div>\n",
              "<style scoped>\n",
              "    .dataframe tbody tr th:only-of-type {\n",
              "        vertical-align: middle;\n",
              "    }\n",
              "\n",
              "    .dataframe tbody tr th {\n",
              "        vertical-align: top;\n",
              "    }\n",
              "\n",
              "    .dataframe thead th {\n",
              "        text-align: right;\n",
              "    }\n",
              "</style>\n",
              "<table border=\"1\" class=\"dataframe\">\n",
              "  <thead>\n",
              "    <tr style=\"text-align: right;\">\n",
              "      <th></th>\n",
              "      <th>genre_ids</th>\n",
              "    </tr>\n",
              "  </thead>\n",
              "  <tbody>\n",
              "    <tr>\n",
              "      <th>0</th>\n",
              "      <td>16, 35, 10751</td>\n",
              "    </tr>\n",
              "    <tr>\n",
              "      <th>1</th>\n",
              "      <td>12, 16, 35, 10751, 14, 10402</td>\n",
              "    </tr>\n",
              "    <tr>\n",
              "      <th>2</th>\n",
              "      <td>16, 878, 10751, 35</td>\n",
              "    </tr>\n",
              "    <tr>\n",
              "      <th>3</th>\n",
              "      <td>28, 12, 878</td>\n",
              "    </tr>\n",
              "    <tr>\n",
              "      <th>4</th>\n",
              "      <td>12, 28, 53</td>\n",
              "    </tr>\n",
              "    <tr>\n",
              "      <th>...</th>\n",
              "      <td>...</td>\n",
              "    </tr>\n",
              "    <tr>\n",
              "      <th>10260</th>\n",
              "      <td>10752, 18, 53, 28</td>\n",
              "    </tr>\n",
              "    <tr>\n",
              "      <th>10261</th>\n",
              "      <td>35, 27, 53, 9648</td>\n",
              "    </tr>\n",
              "    <tr>\n",
              "      <th>10262</th>\n",
              "      <td>878, 12, 35, 18</td>\n",
              "    </tr>\n",
              "    <tr>\n",
              "      <th>10263</th>\n",
              "      <td>16, 18, 35</td>\n",
              "    </tr>\n",
              "    <tr>\n",
              "      <th>10264</th>\n",
              "      <td>35</td>\n",
              "    </tr>\n",
              "  </tbody>\n",
              "</table>\n",
              "<p>10265 rows × 1 columns</p>\n",
              "</div>"
            ],
            "text/plain": [
              "                          genre_ids\n",
              "0                     16, 35, 10751\n",
              "1      12, 16, 35, 10751, 14, 10402\n",
              "2                16, 878, 10751, 35\n",
              "3                       28, 12, 878\n",
              "4                        12, 28, 53\n",
              "...                             ...\n",
              "10260             10752, 18, 53, 28\n",
              "10261              35, 27, 53, 9648\n",
              "10262               878, 12, 35, 18\n",
              "10263                    16, 18, 35\n",
              "10264                            35\n",
              "\n",
              "[10265 rows x 1 columns]"
            ]
          },
          "metadata": {},
          "execution_count": 195
        }
      ]
    },
    {
      "cell_type": "code",
      "source": [
        "y = pd.DataFrame((x.split(',') for x in genre))\n",
        "y"
      ],
      "metadata": {
        "colab": {
          "base_uri": "https://localhost:8080/",
          "height": 424
        },
        "id": "fvSk2-47NpIQ",
        "outputId": "a0480f9c-9ed8-4c46-9093-34daa7ca2718"
      },
      "execution_count": 196,
      "outputs": [
        {
          "output_type": "execute_result",
          "data": {
            "text/html": [
              "<div>\n",
              "<style scoped>\n",
              "    .dataframe tbody tr th:only-of-type {\n",
              "        vertical-align: middle;\n",
              "    }\n",
              "\n",
              "    .dataframe tbody tr th {\n",
              "        vertical-align: top;\n",
              "    }\n",
              "\n",
              "    .dataframe thead th {\n",
              "        text-align: right;\n",
              "    }\n",
              "</style>\n",
              "<table border=\"1\" class=\"dataframe\">\n",
              "  <thead>\n",
              "    <tr style=\"text-align: right;\">\n",
              "      <th></th>\n",
              "      <th>0</th>\n",
              "      <th>1</th>\n",
              "      <th>2</th>\n",
              "      <th>3</th>\n",
              "      <th>4</th>\n",
              "      <th>5</th>\n",
              "      <th>6</th>\n",
              "      <th>7</th>\n",
              "    </tr>\n",
              "  </thead>\n",
              "  <tbody>\n",
              "    <tr>\n",
              "      <th>0</th>\n",
              "      <td>16</td>\n",
              "      <td>35</td>\n",
              "      <td>10751</td>\n",
              "      <td>None</td>\n",
              "      <td>None</td>\n",
              "      <td>None</td>\n",
              "      <td>None</td>\n",
              "      <td>None</td>\n",
              "    </tr>\n",
              "    <tr>\n",
              "      <th>1</th>\n",
              "      <td>12</td>\n",
              "      <td>16</td>\n",
              "      <td>35</td>\n",
              "      <td>10751</td>\n",
              "      <td>14</td>\n",
              "      <td>10402</td>\n",
              "      <td>None</td>\n",
              "      <td>None</td>\n",
              "    </tr>\n",
              "    <tr>\n",
              "      <th>2</th>\n",
              "      <td>16</td>\n",
              "      <td>878</td>\n",
              "      <td>10751</td>\n",
              "      <td>35</td>\n",
              "      <td>None</td>\n",
              "      <td>None</td>\n",
              "      <td>None</td>\n",
              "      <td>None</td>\n",
              "    </tr>\n",
              "    <tr>\n",
              "      <th>3</th>\n",
              "      <td>28</td>\n",
              "      <td>12</td>\n",
              "      <td>878</td>\n",
              "      <td>None</td>\n",
              "      <td>None</td>\n",
              "      <td>None</td>\n",
              "      <td>None</td>\n",
              "      <td>None</td>\n",
              "    </tr>\n",
              "    <tr>\n",
              "      <th>4</th>\n",
              "      <td>12</td>\n",
              "      <td>28</td>\n",
              "      <td>53</td>\n",
              "      <td>None</td>\n",
              "      <td>None</td>\n",
              "      <td>None</td>\n",
              "      <td>None</td>\n",
              "      <td>None</td>\n",
              "    </tr>\n",
              "    <tr>\n",
              "      <th>...</th>\n",
              "      <td>...</td>\n",
              "      <td>...</td>\n",
              "      <td>...</td>\n",
              "      <td>...</td>\n",
              "      <td>...</td>\n",
              "      <td>...</td>\n",
              "      <td>...</td>\n",
              "      <td>...</td>\n",
              "    </tr>\n",
              "    <tr>\n",
              "      <th>10260</th>\n",
              "      <td>10752</td>\n",
              "      <td>18</td>\n",
              "      <td>53</td>\n",
              "      <td>28</td>\n",
              "      <td>None</td>\n",
              "      <td>None</td>\n",
              "      <td>None</td>\n",
              "      <td>None</td>\n",
              "    </tr>\n",
              "    <tr>\n",
              "      <th>10261</th>\n",
              "      <td>35</td>\n",
              "      <td>27</td>\n",
              "      <td>53</td>\n",
              "      <td>9648</td>\n",
              "      <td>None</td>\n",
              "      <td>None</td>\n",
              "      <td>None</td>\n",
              "      <td>None</td>\n",
              "    </tr>\n",
              "    <tr>\n",
              "      <th>10262</th>\n",
              "      <td>878</td>\n",
              "      <td>12</td>\n",
              "      <td>35</td>\n",
              "      <td>18</td>\n",
              "      <td>None</td>\n",
              "      <td>None</td>\n",
              "      <td>None</td>\n",
              "      <td>None</td>\n",
              "    </tr>\n",
              "    <tr>\n",
              "      <th>10263</th>\n",
              "      <td>16</td>\n",
              "      <td>18</td>\n",
              "      <td>35</td>\n",
              "      <td>None</td>\n",
              "      <td>None</td>\n",
              "      <td>None</td>\n",
              "      <td>None</td>\n",
              "      <td>None</td>\n",
              "    </tr>\n",
              "    <tr>\n",
              "      <th>10264</th>\n",
              "      <td>35</td>\n",
              "      <td>None</td>\n",
              "      <td>None</td>\n",
              "      <td>None</td>\n",
              "      <td>None</td>\n",
              "      <td>None</td>\n",
              "      <td>None</td>\n",
              "      <td>None</td>\n",
              "    </tr>\n",
              "  </tbody>\n",
              "</table>\n",
              "<p>10265 rows × 8 columns</p>\n",
              "</div>"
            ],
            "text/plain": [
              "           0     1       2       3     4       5     6     7\n",
              "0         16    35   10751    None  None    None  None  None\n",
              "1         12    16      35   10751    14   10402  None  None\n",
              "2         16   878   10751      35  None    None  None  None\n",
              "3         28    12     878    None  None    None  None  None\n",
              "4         12    28      53    None  None    None  None  None\n",
              "...      ...   ...     ...     ...   ...     ...   ...   ...\n",
              "10260  10752    18      53      28  None    None  None  None\n",
              "10261     35    27      53    9648  None    None  None  None\n",
              "10262    878    12      35      18  None    None  None  None\n",
              "10263     16    18      35    None  None    None  None  None\n",
              "10264     35  None    None    None  None    None  None  None\n",
              "\n",
              "[10265 rows x 8 columns]"
            ]
          },
          "metadata": {},
          "execution_count": 196
        }
      ]
    },
    {
      "cell_type": "code",
      "source": [
        "nmr=df[['title', 'id', 'overview', 'genre_ids','popularity']]\n",
        "nmr"
      ],
      "metadata": {
        "colab": {
          "base_uri": "https://localhost:8080/",
          "height": 424
        },
        "id": "xpHEXRmRNu4X",
        "outputId": "6038420d-3d1f-4e67-f1d4-2cc0ae744bf3"
      },
      "execution_count": 197,
      "outputs": [
        {
          "output_type": "execute_result",
          "data": {
            "text/html": [
              "<div>\n",
              "<style scoped>\n",
              "    .dataframe tbody tr th:only-of-type {\n",
              "        vertical-align: middle;\n",
              "    }\n",
              "\n",
              "    .dataframe tbody tr th {\n",
              "        vertical-align: top;\n",
              "    }\n",
              "\n",
              "    .dataframe thead th {\n",
              "        text-align: right;\n",
              "    }\n",
              "</style>\n",
              "<table border=\"1\" class=\"dataframe\">\n",
              "  <thead>\n",
              "    <tr style=\"text-align: right;\">\n",
              "      <th></th>\n",
              "      <th>title</th>\n",
              "      <th>id</th>\n",
              "      <th>overview</th>\n",
              "      <th>genre_ids</th>\n",
              "      <th>popularity</th>\n",
              "    </tr>\n",
              "  </thead>\n",
              "  <tbody>\n",
              "    <tr>\n",
              "      <th>0</th>\n",
              "      <td>Clifford the Big Red Dog</td>\n",
              "      <td>585245</td>\n",
              "      <td>As Emily struggles to fit in at home and at sc...</td>\n",
              "      <td>[16, 35, 10751]</td>\n",
              "      <td>2734.004</td>\n",
              "    </tr>\n",
              "    <tr>\n",
              "      <th>1</th>\n",
              "      <td>Encanto</td>\n",
              "      <td>568124</td>\n",
              "      <td>The tale of an extraordinary family, the Madri...</td>\n",
              "      <td>[12, 16, 35, 10751, 14, 10402]</td>\n",
              "      <td>2744.462</td>\n",
              "    </tr>\n",
              "    <tr>\n",
              "      <th>2</th>\n",
              "      <td>Ron's Gone Wrong</td>\n",
              "      <td>482321</td>\n",
              "      <td>In a world where walking, talking, digitally c...</td>\n",
              "      <td>[16, 878, 10751, 35]</td>\n",
              "      <td>2221.171</td>\n",
              "    </tr>\n",
              "    <tr>\n",
              "      <th>3</th>\n",
              "      <td>Spider-Man: No Way Home</td>\n",
              "      <td>634649</td>\n",
              "      <td>Peter Parker is unmasked and no longer able to...</td>\n",
              "      <td>[28, 12, 878]</td>\n",
              "      <td>2098.473</td>\n",
              "    </tr>\n",
              "    <tr>\n",
              "      <th>4</th>\n",
              "      <td>No Time to Die</td>\n",
              "      <td>370172</td>\n",
              "      <td>Bond has left active service and is enjoying a...</td>\n",
              "      <td>[12, 28, 53]</td>\n",
              "      <td>1606.287</td>\n",
              "    </tr>\n",
              "    <tr>\n",
              "      <th>...</th>\n",
              "      <td>...</td>\n",
              "      <td>...</td>\n",
              "      <td>...</td>\n",
              "      <td>...</td>\n",
              "      <td>...</td>\n",
              "    </tr>\n",
              "    <tr>\n",
              "      <th>10260</th>\n",
              "      <td>Joint Security Area</td>\n",
              "      <td>2440</td>\n",
              "      <td>After a shooting incident at the North/South K...</td>\n",
              "      <td>[10752, 18, 53, 28]</td>\n",
              "      <td>13.029</td>\n",
              "    </tr>\n",
              "    <tr>\n",
              "      <th>10261</th>\n",
              "      <td>Silent Night</td>\n",
              "      <td>139455</td>\n",
              "      <td>The police force of a remote Midwestern town s...</td>\n",
              "      <td>[35, 27, 53, 9648]</td>\n",
              "      <td>12.032</td>\n",
              "    </tr>\n",
              "    <tr>\n",
              "      <th>10262</th>\n",
              "      <td>The Astronaut Farmer</td>\n",
              "      <td>5172</td>\n",
              "      <td>Texan Charles Farmer left the Air Force as a y...</td>\n",
              "      <td>[878, 12, 35, 18]</td>\n",
              "      <td>12.780</td>\n",
              "    </tr>\n",
              "    <tr>\n",
              "      <th>10263</th>\n",
              "      <td>Hanasaku Iroha: Home Sweet Home</td>\n",
              "      <td>229756</td>\n",
              "      <td>While sorting through a mess of books in the s...</td>\n",
              "      <td>[16, 18, 35]</td>\n",
              "      <td>12.932</td>\n",
              "    </tr>\n",
              "    <tr>\n",
              "      <th>10264</th>\n",
              "      <td>Material Girls</td>\n",
              "      <td>10118</td>\n",
              "      <td>Two wealthy sisters, both heiresses to their f...</td>\n",
              "      <td>[35]</td>\n",
              "      <td>14.260</td>\n",
              "    </tr>\n",
              "  </tbody>\n",
              "</table>\n",
              "<p>10265 rows × 5 columns</p>\n",
              "</div>"
            ],
            "text/plain": [
              "                                 title  ...  popularity\n",
              "0             Clifford the Big Red Dog  ...    2734.004\n",
              "1                              Encanto  ...    2744.462\n",
              "2                     Ron's Gone Wrong  ...    2221.171\n",
              "3              Spider-Man: No Way Home  ...    2098.473\n",
              "4                       No Time to Die  ...    1606.287\n",
              "...                                ...  ...         ...\n",
              "10260              Joint Security Area  ...      13.029\n",
              "10261                     Silent Night  ...      12.032\n",
              "10262             The Astronaut Farmer  ...      12.780\n",
              "10263  Hanasaku Iroha: Home Sweet Home  ...      12.932\n",
              "10264                   Material Girls  ...      14.260\n",
              "\n",
              "[10265 rows x 5 columns]"
            ]
          },
          "metadata": {},
          "execution_count": 197
        }
      ]
    },
    {
      "cell_type": "code",
      "source": [
        "df=pd.merge(nmr, y, left_index=True,right_index=True)\n",
        "dx=nmr.copy()\n",
        "dx=nmr[0:0]\n",
        "dx"
      ],
      "metadata": {
        "colab": {
          "base_uri": "https://localhost:8080/",
          "height": 49
        },
        "id": "fi3X2cTPNx79",
        "outputId": "f422eed9-65e0-4ac7-eb0f-1482488afc8e"
      },
      "execution_count": 198,
      "outputs": [
        {
          "output_type": "execute_result",
          "data": {
            "text/html": [
              "<div>\n",
              "<style scoped>\n",
              "    .dataframe tbody tr th:only-of-type {\n",
              "        vertical-align: middle;\n",
              "    }\n",
              "\n",
              "    .dataframe tbody tr th {\n",
              "        vertical-align: top;\n",
              "    }\n",
              "\n",
              "    .dataframe thead th {\n",
              "        text-align: right;\n",
              "    }\n",
              "</style>\n",
              "<table border=\"1\" class=\"dataframe\">\n",
              "  <thead>\n",
              "    <tr style=\"text-align: right;\">\n",
              "      <th></th>\n",
              "      <th>title</th>\n",
              "      <th>id</th>\n",
              "      <th>overview</th>\n",
              "      <th>genre_ids</th>\n",
              "      <th>popularity</th>\n",
              "    </tr>\n",
              "  </thead>\n",
              "  <tbody>\n",
              "  </tbody>\n",
              "</table>\n",
              "</div>"
            ],
            "text/plain": [
              "Empty DataFrame\n",
              "Columns: [title, id, overview, genre_ids, popularity]\n",
              "Index: []"
            ]
          },
          "metadata": {},
          "execution_count": 198
        }
      ]
    },
    {
      "cell_type": "code",
      "source": [
        "dx"
      ],
      "metadata": {
        "colab": {
          "base_uri": "https://localhost:8080/",
          "height": 49
        },
        "id": "w4-IwKW-N0o4",
        "outputId": "95da5ed6-361a-4e24-fc80-6134946c3d3b"
      },
      "execution_count": 199,
      "outputs": [
        {
          "output_type": "execute_result",
          "data": {
            "text/html": [
              "<div>\n",
              "<style scoped>\n",
              "    .dataframe tbody tr th:only-of-type {\n",
              "        vertical-align: middle;\n",
              "    }\n",
              "\n",
              "    .dataframe tbody tr th {\n",
              "        vertical-align: top;\n",
              "    }\n",
              "\n",
              "    .dataframe thead th {\n",
              "        text-align: right;\n",
              "    }\n",
              "</style>\n",
              "<table border=\"1\" class=\"dataframe\">\n",
              "  <thead>\n",
              "    <tr style=\"text-align: right;\">\n",
              "      <th></th>\n",
              "      <th>title</th>\n",
              "      <th>id</th>\n",
              "      <th>overview</th>\n",
              "      <th>genre_ids</th>\n",
              "      <th>popularity</th>\n",
              "    </tr>\n",
              "  </thead>\n",
              "  <tbody>\n",
              "  </tbody>\n",
              "</table>\n",
              "</div>"
            ],
            "text/plain": [
              "Empty DataFrame\n",
              "Columns: [title, id, overview, genre_ids, popularity]\n",
              "Index: []"
            ]
          },
          "metadata": {},
          "execution_count": 199
        }
      ]
    },
    {
      "cell_type": "code",
      "source": [
        "df.iloc[:,5:12]"
      ],
      "metadata": {
        "colab": {
          "base_uri": "https://localhost:8080/",
          "height": 424
        },
        "id": "x-8a1SQAN3Jn",
        "outputId": "5804161f-cef5-403e-a04f-8280046c64af"
      },
      "execution_count": 200,
      "outputs": [
        {
          "output_type": "execute_result",
          "data": {
            "text/html": [
              "<div>\n",
              "<style scoped>\n",
              "    .dataframe tbody tr th:only-of-type {\n",
              "        vertical-align: middle;\n",
              "    }\n",
              "\n",
              "    .dataframe tbody tr th {\n",
              "        vertical-align: top;\n",
              "    }\n",
              "\n",
              "    .dataframe thead th {\n",
              "        text-align: right;\n",
              "    }\n",
              "</style>\n",
              "<table border=\"1\" class=\"dataframe\">\n",
              "  <thead>\n",
              "    <tr style=\"text-align: right;\">\n",
              "      <th></th>\n",
              "      <th>0</th>\n",
              "      <th>1</th>\n",
              "      <th>2</th>\n",
              "      <th>3</th>\n",
              "      <th>4</th>\n",
              "      <th>5</th>\n",
              "      <th>6</th>\n",
              "    </tr>\n",
              "  </thead>\n",
              "  <tbody>\n",
              "    <tr>\n",
              "      <th>0</th>\n",
              "      <td>16</td>\n",
              "      <td>35</td>\n",
              "      <td>10751</td>\n",
              "      <td>None</td>\n",
              "      <td>None</td>\n",
              "      <td>None</td>\n",
              "      <td>None</td>\n",
              "    </tr>\n",
              "    <tr>\n",
              "      <th>1</th>\n",
              "      <td>12</td>\n",
              "      <td>16</td>\n",
              "      <td>35</td>\n",
              "      <td>10751</td>\n",
              "      <td>14</td>\n",
              "      <td>10402</td>\n",
              "      <td>None</td>\n",
              "    </tr>\n",
              "    <tr>\n",
              "      <th>2</th>\n",
              "      <td>16</td>\n",
              "      <td>878</td>\n",
              "      <td>10751</td>\n",
              "      <td>35</td>\n",
              "      <td>None</td>\n",
              "      <td>None</td>\n",
              "      <td>None</td>\n",
              "    </tr>\n",
              "    <tr>\n",
              "      <th>3</th>\n",
              "      <td>28</td>\n",
              "      <td>12</td>\n",
              "      <td>878</td>\n",
              "      <td>None</td>\n",
              "      <td>None</td>\n",
              "      <td>None</td>\n",
              "      <td>None</td>\n",
              "    </tr>\n",
              "    <tr>\n",
              "      <th>4</th>\n",
              "      <td>12</td>\n",
              "      <td>28</td>\n",
              "      <td>53</td>\n",
              "      <td>None</td>\n",
              "      <td>None</td>\n",
              "      <td>None</td>\n",
              "      <td>None</td>\n",
              "    </tr>\n",
              "    <tr>\n",
              "      <th>...</th>\n",
              "      <td>...</td>\n",
              "      <td>...</td>\n",
              "      <td>...</td>\n",
              "      <td>...</td>\n",
              "      <td>...</td>\n",
              "      <td>...</td>\n",
              "      <td>...</td>\n",
              "    </tr>\n",
              "    <tr>\n",
              "      <th>10260</th>\n",
              "      <td>10752</td>\n",
              "      <td>18</td>\n",
              "      <td>53</td>\n",
              "      <td>28</td>\n",
              "      <td>None</td>\n",
              "      <td>None</td>\n",
              "      <td>None</td>\n",
              "    </tr>\n",
              "    <tr>\n",
              "      <th>10261</th>\n",
              "      <td>35</td>\n",
              "      <td>27</td>\n",
              "      <td>53</td>\n",
              "      <td>9648</td>\n",
              "      <td>None</td>\n",
              "      <td>None</td>\n",
              "      <td>None</td>\n",
              "    </tr>\n",
              "    <tr>\n",
              "      <th>10262</th>\n",
              "      <td>878</td>\n",
              "      <td>12</td>\n",
              "      <td>35</td>\n",
              "      <td>18</td>\n",
              "      <td>None</td>\n",
              "      <td>None</td>\n",
              "      <td>None</td>\n",
              "    </tr>\n",
              "    <tr>\n",
              "      <th>10263</th>\n",
              "      <td>16</td>\n",
              "      <td>18</td>\n",
              "      <td>35</td>\n",
              "      <td>None</td>\n",
              "      <td>None</td>\n",
              "      <td>None</td>\n",
              "      <td>None</td>\n",
              "    </tr>\n",
              "    <tr>\n",
              "      <th>10264</th>\n",
              "      <td>35</td>\n",
              "      <td>None</td>\n",
              "      <td>None</td>\n",
              "      <td>None</td>\n",
              "      <td>None</td>\n",
              "      <td>None</td>\n",
              "      <td>None</td>\n",
              "    </tr>\n",
              "  </tbody>\n",
              "</table>\n",
              "<p>10265 rows × 7 columns</p>\n",
              "</div>"
            ],
            "text/plain": [
              "           0     1       2       3     4       5     6\n",
              "0         16    35   10751    None  None    None  None\n",
              "1         12    16      35   10751    14   10402  None\n",
              "2         16   878   10751      35  None    None  None\n",
              "3         28    12     878    None  None    None  None\n",
              "4         12    28      53    None  None    None  None\n",
              "...      ...   ...     ...     ...   ...     ...   ...\n",
              "10260  10752    18      53      28  None    None  None\n",
              "10261     35    27      53    9648  None    None  None\n",
              "10262    878    12      35      18  None    None  None\n",
              "10263     16    18      35    None  None    None  None\n",
              "10264     35  None    None    None  None    None  None\n",
              "\n",
              "[10265 rows x 7 columns]"
            ]
          },
          "metadata": {},
          "execution_count": 200
        }
      ]
    },
    {
      "cell_type": "code",
      "source": [
        "len(df)"
      ],
      "metadata": {
        "colab": {
          "base_uri": "https://localhost:8080/"
        },
        "id": "bLBsvMP4OFEC",
        "outputId": "472417b9-9fe9-4790-d2ce-d9339689f1eb"
      },
      "execution_count": 201,
      "outputs": [
        {
          "output_type": "execute_result",
          "data": {
            "text/plain": [
              "10265"
            ]
          },
          "metadata": {},
          "execution_count": 201
        }
      ]
    },
    {
      "cell_type": "code",
      "source": [
        "from tqdm.notebook import tqdm\n",
        "import numpy as np \n",
        "from time import sleep"
      ],
      "metadata": {
        "id": "hDsYQSiqOO7s"
      },
      "execution_count": 183,
      "outputs": []
    },
    {
      "cell_type": "code",
      "source": [
        "for i in tqdm(range(len(df))):\n",
        "    a=df[i:i+1]\n",
        "    a=a.iloc[:,5:12].dropna(axis=1, how='any')\n",
        "    a_list =np.array(a).tolist()\n",
        "    popularity=df.loc[i,'popularity']\n",
        "    title=df.loc[i,'title']\n",
        "    id=df.loc[i,'id']\n",
        "    overview=df.loc[i,'overview']\n",
        "    for j in a_list[0]:\n",
        "        dx = dx.append([{'title': title,'id': id,'overview':overview,'popularity':popularity,'genre_ids':j}], ignore_index=True)\n",
        "\n",
        "dx=dx[-(dx['genre_ids']=='')].reset_index(drop=True)"
      ],
      "metadata": {
        "colab": {
          "base_uri": "https://localhost:8080/",
          "height": 49,
          "referenced_widgets": [
            "61e1172a81dc4b9b8ec1aa7005397804",
            "78765e420cac4d60b5adf5e93c0e1d1d",
            "c9694c59c13c4632a9c13bd7ff7f3015",
            "d81562cf8355435a975fe61d4c1543fb",
            "e4c2b1b39c124eb887e5e3a016468412",
            "dd2871f8d68b4e1eb31d29951b5d9aa3",
            "c25097924b4c411a9f5278a0f3ec3f41",
            "0d78d14dd3ef49ca9fff13e133afcfb6",
            "b60a76eb65df431db9ea8791a8d986f6",
            "a89ba790d626454cbf57ad5ec7748c81",
            "2654bef5d45a4cfbb7282df1210babda"
          ]
        },
        "id": "fFqQYP2dOLtm",
        "outputId": "06d0db6b-10b3-4080-8726-069919586405"
      },
      "execution_count": 202,
      "outputs": [
        {
          "output_type": "display_data",
          "data": {
            "application/vnd.jupyter.widget-view+json": {
              "model_id": "61e1172a81dc4b9b8ec1aa7005397804",
              "version_minor": 0,
              "version_major": 2
            },
            "text/plain": [
              "  0%|          | 0/10265 [00:00<?, ?it/s]"
            ]
          },
          "metadata": {}
        }
      ]
    },
    {
      "cell_type": "code",
      "source": [
        "dx"
      ],
      "metadata": {
        "colab": {
          "base_uri": "https://localhost:8080/",
          "height": 424
        },
        "id": "nKdWcqXOOTHt",
        "outputId": "9ab8d46f-baff-4088-d761-a006c74f6d20"
      },
      "execution_count": 203,
      "outputs": [
        {
          "output_type": "execute_result",
          "data": {
            "text/html": [
              "<div>\n",
              "<style scoped>\n",
              "    .dataframe tbody tr th:only-of-type {\n",
              "        vertical-align: middle;\n",
              "    }\n",
              "\n",
              "    .dataframe tbody tr th {\n",
              "        vertical-align: top;\n",
              "    }\n",
              "\n",
              "    .dataframe thead th {\n",
              "        text-align: right;\n",
              "    }\n",
              "</style>\n",
              "<table border=\"1\" class=\"dataframe\">\n",
              "  <thead>\n",
              "    <tr style=\"text-align: right;\">\n",
              "      <th></th>\n",
              "      <th>title</th>\n",
              "      <th>id</th>\n",
              "      <th>overview</th>\n",
              "      <th>genre_ids</th>\n",
              "      <th>popularity</th>\n",
              "    </tr>\n",
              "  </thead>\n",
              "  <tbody>\n",
              "    <tr>\n",
              "      <th>0</th>\n",
              "      <td>Clifford the Big Red Dog</td>\n",
              "      <td>585245</td>\n",
              "      <td>As Emily struggles to fit in at home and at sc...</td>\n",
              "      <td>16</td>\n",
              "      <td>2734.004</td>\n",
              "    </tr>\n",
              "    <tr>\n",
              "      <th>1</th>\n",
              "      <td>Clifford the Big Red Dog</td>\n",
              "      <td>585245</td>\n",
              "      <td>As Emily struggles to fit in at home and at sc...</td>\n",
              "      <td>35</td>\n",
              "      <td>2734.004</td>\n",
              "    </tr>\n",
              "    <tr>\n",
              "      <th>2</th>\n",
              "      <td>Clifford the Big Red Dog</td>\n",
              "      <td>585245</td>\n",
              "      <td>As Emily struggles to fit in at home and at sc...</td>\n",
              "      <td>10751</td>\n",
              "      <td>2734.004</td>\n",
              "    </tr>\n",
              "    <tr>\n",
              "      <th>3</th>\n",
              "      <td>Encanto</td>\n",
              "      <td>568124</td>\n",
              "      <td>The tale of an extraordinary family, the Madri...</td>\n",
              "      <td>12</td>\n",
              "      <td>2744.462</td>\n",
              "    </tr>\n",
              "    <tr>\n",
              "      <th>4</th>\n",
              "      <td>Encanto</td>\n",
              "      <td>568124</td>\n",
              "      <td>The tale of an extraordinary family, the Madri...</td>\n",
              "      <td>16</td>\n",
              "      <td>2744.462</td>\n",
              "    </tr>\n",
              "    <tr>\n",
              "      <th>...</th>\n",
              "      <td>...</td>\n",
              "      <td>...</td>\n",
              "      <td>...</td>\n",
              "      <td>...</td>\n",
              "      <td>...</td>\n",
              "    </tr>\n",
              "    <tr>\n",
              "      <th>26127</th>\n",
              "      <td>The Astronaut Farmer</td>\n",
              "      <td>5172</td>\n",
              "      <td>Texan Charles Farmer left the Air Force as a y...</td>\n",
              "      <td>18</td>\n",
              "      <td>12.780</td>\n",
              "    </tr>\n",
              "    <tr>\n",
              "      <th>26128</th>\n",
              "      <td>Hanasaku Iroha: Home Sweet Home</td>\n",
              "      <td>229756</td>\n",
              "      <td>While sorting through a mess of books in the s...</td>\n",
              "      <td>16</td>\n",
              "      <td>12.932</td>\n",
              "    </tr>\n",
              "    <tr>\n",
              "      <th>26129</th>\n",
              "      <td>Hanasaku Iroha: Home Sweet Home</td>\n",
              "      <td>229756</td>\n",
              "      <td>While sorting through a mess of books in the s...</td>\n",
              "      <td>18</td>\n",
              "      <td>12.932</td>\n",
              "    </tr>\n",
              "    <tr>\n",
              "      <th>26130</th>\n",
              "      <td>Hanasaku Iroha: Home Sweet Home</td>\n",
              "      <td>229756</td>\n",
              "      <td>While sorting through a mess of books in the s...</td>\n",
              "      <td>35</td>\n",
              "      <td>12.932</td>\n",
              "    </tr>\n",
              "    <tr>\n",
              "      <th>26131</th>\n",
              "      <td>Material Girls</td>\n",
              "      <td>10118</td>\n",
              "      <td>Two wealthy sisters, both heiresses to their f...</td>\n",
              "      <td>35</td>\n",
              "      <td>14.260</td>\n",
              "    </tr>\n",
              "  </tbody>\n",
              "</table>\n",
              "<p>26132 rows × 5 columns</p>\n",
              "</div>"
            ],
            "text/plain": [
              "                                 title      id  ... genre_ids popularity\n",
              "0             Clifford the Big Red Dog  585245  ...        16   2734.004\n",
              "1             Clifford the Big Red Dog  585245  ...        35   2734.004\n",
              "2             Clifford the Big Red Dog  585245  ...     10751   2734.004\n",
              "3                              Encanto  568124  ...        12   2744.462\n",
              "4                              Encanto  568124  ...        16   2744.462\n",
              "...                                ...     ...  ...       ...        ...\n",
              "26127             The Astronaut Farmer    5172  ...        18     12.780\n",
              "26128  Hanasaku Iroha: Home Sweet Home  229756  ...        16     12.932\n",
              "26129  Hanasaku Iroha: Home Sweet Home  229756  ...        18     12.932\n",
              "26130  Hanasaku Iroha: Home Sweet Home  229756  ...        35     12.932\n",
              "26131                   Material Girls   10118  ...        35     14.260\n",
              "\n",
              "[26132 rows x 5 columns]"
            ]
          },
          "metadata": {},
          "execution_count": 203
        }
      ]
    },
    {
      "cell_type": "code",
      "source": [
        "dx.loc[(dx['title'] == 'Clifford the Big Red Dog')]"
      ],
      "metadata": {
        "colab": {
          "base_uri": "https://localhost:8080/",
          "height": 143
        },
        "id": "BBOWilW5OVwL",
        "outputId": "324bf30c-c3c8-4a10-f58a-2a67c7cc8797"
      },
      "execution_count": 205,
      "outputs": [
        {
          "output_type": "execute_result",
          "data": {
            "text/html": [
              "<div>\n",
              "<style scoped>\n",
              "    .dataframe tbody tr th:only-of-type {\n",
              "        vertical-align: middle;\n",
              "    }\n",
              "\n",
              "    .dataframe tbody tr th {\n",
              "        vertical-align: top;\n",
              "    }\n",
              "\n",
              "    .dataframe thead th {\n",
              "        text-align: right;\n",
              "    }\n",
              "</style>\n",
              "<table border=\"1\" class=\"dataframe\">\n",
              "  <thead>\n",
              "    <tr style=\"text-align: right;\">\n",
              "      <th></th>\n",
              "      <th>title</th>\n",
              "      <th>id</th>\n",
              "      <th>overview</th>\n",
              "      <th>genre_ids</th>\n",
              "      <th>popularity</th>\n",
              "    </tr>\n",
              "  </thead>\n",
              "  <tbody>\n",
              "    <tr>\n",
              "      <th>0</th>\n",
              "      <td>Clifford the Big Red Dog</td>\n",
              "      <td>585245</td>\n",
              "      <td>As Emily struggles to fit in at home and at sc...</td>\n",
              "      <td>16</td>\n",
              "      <td>2734.004</td>\n",
              "    </tr>\n",
              "    <tr>\n",
              "      <th>1</th>\n",
              "      <td>Clifford the Big Red Dog</td>\n",
              "      <td>585245</td>\n",
              "      <td>As Emily struggles to fit in at home and at sc...</td>\n",
              "      <td>35</td>\n",
              "      <td>2734.004</td>\n",
              "    </tr>\n",
              "    <tr>\n",
              "      <th>2</th>\n",
              "      <td>Clifford the Big Red Dog</td>\n",
              "      <td>585245</td>\n",
              "      <td>As Emily struggles to fit in at home and at sc...</td>\n",
              "      <td>10751</td>\n",
              "      <td>2734.004</td>\n",
              "    </tr>\n",
              "  </tbody>\n",
              "</table>\n",
              "</div>"
            ],
            "text/plain": [
              "                      title      id  ... genre_ids popularity\n",
              "0  Clifford the Big Red Dog  585245  ...        16   2734.004\n",
              "1  Clifford the Big Red Dog  585245  ...        35   2734.004\n",
              "2  Clifford the Big Red Dog  585245  ...     10751   2734.004\n",
              "\n",
              "[3 rows x 5 columns]"
            ]
          },
          "metadata": {},
          "execution_count": 205
        }
      ]
    },
    {
      "cell_type": "code",
      "source": [
        "dx.to_csv('Processed_data_week12.csv')"
      ],
      "metadata": {
        "id": "NJhDPQPeOcVU"
      },
      "execution_count": 206,
      "outputs": []
    },
    {
      "cell_type": "code",
      "source": [
        "num_to_label = {\n",
        "    '28':'Action',\n",
        "    '12':'Adventure',\n",
        "    '16':'Animation',\n",
        "    '35':'Comedy',\n",
        "    '80':'Crime',\n",
        "    '99':'Documentary',\n",
        "    '18':'Drama',\n",
        "    '10751':'Family',\n",
        "    '14':'Fantasy',\n",
        "    '36':'History',\n",
        "    '27':'Horror',\n",
        "    '10402':'Music',\n",
        "    '9648':'Mystery',\n",
        "    '10749':'Romance',\n",
        "    '878':'Science Fiction',\n",
        "    '10770':'TV Movie',\n",
        "    '53':'Thriller',\n",
        "    '10752':'War',\n",
        "    '37':'Western'\n",
        "    }\n",
        "\n",
        "dx['genre_ids']=dx.apply(lambda x:(x['genre_ids'].replace(\" \", \"\")), axis=1)\n",
        "dx['label']=dx.apply(lambda x:(num_to_label[x['genre_ids']]), axis=1)\n",
        "dx"
      ],
      "metadata": {
        "colab": {
          "base_uri": "https://localhost:8080/",
          "height": 424
        },
        "id": "26Ee7TBKOjXP",
        "outputId": "7e58fbee-2bfe-4a24-ef37-565b814ab3ba"
      },
      "execution_count": 207,
      "outputs": [
        {
          "output_type": "execute_result",
          "data": {
            "text/html": [
              "<div>\n",
              "<style scoped>\n",
              "    .dataframe tbody tr th:only-of-type {\n",
              "        vertical-align: middle;\n",
              "    }\n",
              "\n",
              "    .dataframe tbody tr th {\n",
              "        vertical-align: top;\n",
              "    }\n",
              "\n",
              "    .dataframe thead th {\n",
              "        text-align: right;\n",
              "    }\n",
              "</style>\n",
              "<table border=\"1\" class=\"dataframe\">\n",
              "  <thead>\n",
              "    <tr style=\"text-align: right;\">\n",
              "      <th></th>\n",
              "      <th>title</th>\n",
              "      <th>id</th>\n",
              "      <th>overview</th>\n",
              "      <th>genre_ids</th>\n",
              "      <th>popularity</th>\n",
              "      <th>label</th>\n",
              "    </tr>\n",
              "  </thead>\n",
              "  <tbody>\n",
              "    <tr>\n",
              "      <th>0</th>\n",
              "      <td>Clifford the Big Red Dog</td>\n",
              "      <td>585245</td>\n",
              "      <td>As Emily struggles to fit in at home and at sc...</td>\n",
              "      <td>16</td>\n",
              "      <td>2734.004</td>\n",
              "      <td>Animation</td>\n",
              "    </tr>\n",
              "    <tr>\n",
              "      <th>1</th>\n",
              "      <td>Clifford the Big Red Dog</td>\n",
              "      <td>585245</td>\n",
              "      <td>As Emily struggles to fit in at home and at sc...</td>\n",
              "      <td>35</td>\n",
              "      <td>2734.004</td>\n",
              "      <td>Comedy</td>\n",
              "    </tr>\n",
              "    <tr>\n",
              "      <th>2</th>\n",
              "      <td>Clifford the Big Red Dog</td>\n",
              "      <td>585245</td>\n",
              "      <td>As Emily struggles to fit in at home and at sc...</td>\n",
              "      <td>10751</td>\n",
              "      <td>2734.004</td>\n",
              "      <td>Family</td>\n",
              "    </tr>\n",
              "    <tr>\n",
              "      <th>3</th>\n",
              "      <td>Encanto</td>\n",
              "      <td>568124</td>\n",
              "      <td>The tale of an extraordinary family, the Madri...</td>\n",
              "      <td>12</td>\n",
              "      <td>2744.462</td>\n",
              "      <td>Adventure</td>\n",
              "    </tr>\n",
              "    <tr>\n",
              "      <th>4</th>\n",
              "      <td>Encanto</td>\n",
              "      <td>568124</td>\n",
              "      <td>The tale of an extraordinary family, the Madri...</td>\n",
              "      <td>16</td>\n",
              "      <td>2744.462</td>\n",
              "      <td>Animation</td>\n",
              "    </tr>\n",
              "    <tr>\n",
              "      <th>...</th>\n",
              "      <td>...</td>\n",
              "      <td>...</td>\n",
              "      <td>...</td>\n",
              "      <td>...</td>\n",
              "      <td>...</td>\n",
              "      <td>...</td>\n",
              "    </tr>\n",
              "    <tr>\n",
              "      <th>26127</th>\n",
              "      <td>The Astronaut Farmer</td>\n",
              "      <td>5172</td>\n",
              "      <td>Texan Charles Farmer left the Air Force as a y...</td>\n",
              "      <td>18</td>\n",
              "      <td>12.780</td>\n",
              "      <td>Drama</td>\n",
              "    </tr>\n",
              "    <tr>\n",
              "      <th>26128</th>\n",
              "      <td>Hanasaku Iroha: Home Sweet Home</td>\n",
              "      <td>229756</td>\n",
              "      <td>While sorting through a mess of books in the s...</td>\n",
              "      <td>16</td>\n",
              "      <td>12.932</td>\n",
              "      <td>Animation</td>\n",
              "    </tr>\n",
              "    <tr>\n",
              "      <th>26129</th>\n",
              "      <td>Hanasaku Iroha: Home Sweet Home</td>\n",
              "      <td>229756</td>\n",
              "      <td>While sorting through a mess of books in the s...</td>\n",
              "      <td>18</td>\n",
              "      <td>12.932</td>\n",
              "      <td>Drama</td>\n",
              "    </tr>\n",
              "    <tr>\n",
              "      <th>26130</th>\n",
              "      <td>Hanasaku Iroha: Home Sweet Home</td>\n",
              "      <td>229756</td>\n",
              "      <td>While sorting through a mess of books in the s...</td>\n",
              "      <td>35</td>\n",
              "      <td>12.932</td>\n",
              "      <td>Comedy</td>\n",
              "    </tr>\n",
              "    <tr>\n",
              "      <th>26131</th>\n",
              "      <td>Material Girls</td>\n",
              "      <td>10118</td>\n",
              "      <td>Two wealthy sisters, both heiresses to their f...</td>\n",
              "      <td>35</td>\n",
              "      <td>14.260</td>\n",
              "      <td>Comedy</td>\n",
              "    </tr>\n",
              "  </tbody>\n",
              "</table>\n",
              "<p>26132 rows × 6 columns</p>\n",
              "</div>"
            ],
            "text/plain": [
              "                                 title      id  ... popularity      label\n",
              "0             Clifford the Big Red Dog  585245  ...   2734.004  Animation\n",
              "1             Clifford the Big Red Dog  585245  ...   2734.004     Comedy\n",
              "2             Clifford the Big Red Dog  585245  ...   2734.004     Family\n",
              "3                              Encanto  568124  ...   2744.462  Adventure\n",
              "4                              Encanto  568124  ...   2744.462  Animation\n",
              "...                                ...     ...  ...        ...        ...\n",
              "26127             The Astronaut Farmer    5172  ...     12.780      Drama\n",
              "26128  Hanasaku Iroha: Home Sweet Home  229756  ...     12.932  Animation\n",
              "26129  Hanasaku Iroha: Home Sweet Home  229756  ...     12.932      Drama\n",
              "26130  Hanasaku Iroha: Home Sweet Home  229756  ...     12.932     Comedy\n",
              "26131                   Material Girls   10118  ...     14.260     Comedy\n",
              "\n",
              "[26132 rows x 6 columns]"
            ]
          },
          "metadata": {},
          "execution_count": 207
        }
      ]
    },
    {
      "cell_type": "code",
      "source": [
        "lab=dx.drop_duplicates(subset=['label'],keep='first',inplace=False)\n",
        "lab=lab[['label']].reset_index(drop=True)\n",
        "lab"
      ],
      "metadata": {
        "colab": {
          "base_uri": "https://localhost:8080/",
          "height": 645
        },
        "id": "OCc1P-Z_VF42",
        "outputId": "f41c2ebe-3b0a-4190-986f-26b8c3c8bd77"
      },
      "execution_count": 208,
      "outputs": [
        {
          "output_type": "execute_result",
          "data": {
            "text/html": [
              "<div>\n",
              "<style scoped>\n",
              "    .dataframe tbody tr th:only-of-type {\n",
              "        vertical-align: middle;\n",
              "    }\n",
              "\n",
              "    .dataframe tbody tr th {\n",
              "        vertical-align: top;\n",
              "    }\n",
              "\n",
              "    .dataframe thead th {\n",
              "        text-align: right;\n",
              "    }\n",
              "</style>\n",
              "<table border=\"1\" class=\"dataframe\">\n",
              "  <thead>\n",
              "    <tr style=\"text-align: right;\">\n",
              "      <th></th>\n",
              "      <th>label</th>\n",
              "    </tr>\n",
              "  </thead>\n",
              "  <tbody>\n",
              "    <tr>\n",
              "      <th>0</th>\n",
              "      <td>Animation</td>\n",
              "    </tr>\n",
              "    <tr>\n",
              "      <th>1</th>\n",
              "      <td>Comedy</td>\n",
              "    </tr>\n",
              "    <tr>\n",
              "      <th>2</th>\n",
              "      <td>Family</td>\n",
              "    </tr>\n",
              "    <tr>\n",
              "      <th>3</th>\n",
              "      <td>Adventure</td>\n",
              "    </tr>\n",
              "    <tr>\n",
              "      <th>4</th>\n",
              "      <td>Fantasy</td>\n",
              "    </tr>\n",
              "    <tr>\n",
              "      <th>5</th>\n",
              "      <td>Music</td>\n",
              "    </tr>\n",
              "    <tr>\n",
              "      <th>6</th>\n",
              "      <td>Science Fiction</td>\n",
              "    </tr>\n",
              "    <tr>\n",
              "      <th>7</th>\n",
              "      <td>Action</td>\n",
              "    </tr>\n",
              "    <tr>\n",
              "      <th>8</th>\n",
              "      <td>Thriller</td>\n",
              "    </tr>\n",
              "    <tr>\n",
              "      <th>9</th>\n",
              "      <td>Drama</td>\n",
              "    </tr>\n",
              "    <tr>\n",
              "      <th>10</th>\n",
              "      <td>Mystery</td>\n",
              "    </tr>\n",
              "    <tr>\n",
              "      <th>11</th>\n",
              "      <td>Crime</td>\n",
              "    </tr>\n",
              "    <tr>\n",
              "      <th>12</th>\n",
              "      <td>Horror</td>\n",
              "    </tr>\n",
              "    <tr>\n",
              "      <th>13</th>\n",
              "      <td>Romance</td>\n",
              "    </tr>\n",
              "    <tr>\n",
              "      <th>14</th>\n",
              "      <td>Western</td>\n",
              "    </tr>\n",
              "    <tr>\n",
              "      <th>15</th>\n",
              "      <td>History</td>\n",
              "    </tr>\n",
              "    <tr>\n",
              "      <th>16</th>\n",
              "      <td>War</td>\n",
              "    </tr>\n",
              "    <tr>\n",
              "      <th>17</th>\n",
              "      <td>Documentary</td>\n",
              "    </tr>\n",
              "    <tr>\n",
              "      <th>18</th>\n",
              "      <td>TV Movie</td>\n",
              "    </tr>\n",
              "  </tbody>\n",
              "</table>\n",
              "</div>"
            ],
            "text/plain": [
              "              label\n",
              "0         Animation\n",
              "1            Comedy\n",
              "2            Family\n",
              "3         Adventure\n",
              "4           Fantasy\n",
              "5             Music\n",
              "6   Science Fiction\n",
              "7            Action\n",
              "8          Thriller\n",
              "9             Drama\n",
              "10          Mystery\n",
              "11            Crime\n",
              "12           Horror\n",
              "13          Romance\n",
              "14          Western\n",
              "15          History\n",
              "16              War\n",
              "17      Documentary\n",
              "18         TV Movie"
            ]
          },
          "metadata": {},
          "execution_count": 208
        }
      ]
    },
    {
      "cell_type": "code",
      "source": [
        "nr_ids = np.unique(lab)\n",
        "visGrid = np.zeros((len(nr_ids), len(nr_ids)))\n",
        "visGrid"
      ],
      "metadata": {
        "colab": {
          "base_uri": "https://localhost:8080/"
        },
        "id": "Bq3LAQH6VHq5",
        "outputId": "9dc40a32-8293-481a-b8a2-30f2907d57dd"
      },
      "execution_count": 209,
      "outputs": [
        {
          "output_type": "execute_result",
          "data": {
            "text/plain": [
              "array([[0., 0., 0., 0., 0., 0., 0., 0., 0., 0., 0., 0., 0., 0., 0., 0.,\n",
              "        0., 0., 0.],\n",
              "       [0., 0., 0., 0., 0., 0., 0., 0., 0., 0., 0., 0., 0., 0., 0., 0.,\n",
              "        0., 0., 0.],\n",
              "       [0., 0., 0., 0., 0., 0., 0., 0., 0., 0., 0., 0., 0., 0., 0., 0.,\n",
              "        0., 0., 0.],\n",
              "       [0., 0., 0., 0., 0., 0., 0., 0., 0., 0., 0., 0., 0., 0., 0., 0.,\n",
              "        0., 0., 0.],\n",
              "       [0., 0., 0., 0., 0., 0., 0., 0., 0., 0., 0., 0., 0., 0., 0., 0.,\n",
              "        0., 0., 0.],\n",
              "       [0., 0., 0., 0., 0., 0., 0., 0., 0., 0., 0., 0., 0., 0., 0., 0.,\n",
              "        0., 0., 0.],\n",
              "       [0., 0., 0., 0., 0., 0., 0., 0., 0., 0., 0., 0., 0., 0., 0., 0.,\n",
              "        0., 0., 0.],\n",
              "       [0., 0., 0., 0., 0., 0., 0., 0., 0., 0., 0., 0., 0., 0., 0., 0.,\n",
              "        0., 0., 0.],\n",
              "       [0., 0., 0., 0., 0., 0., 0., 0., 0., 0., 0., 0., 0., 0., 0., 0.,\n",
              "        0., 0., 0.],\n",
              "       [0., 0., 0., 0., 0., 0., 0., 0., 0., 0., 0., 0., 0., 0., 0., 0.,\n",
              "        0., 0., 0.],\n",
              "       [0., 0., 0., 0., 0., 0., 0., 0., 0., 0., 0., 0., 0., 0., 0., 0.,\n",
              "        0., 0., 0.],\n",
              "       [0., 0., 0., 0., 0., 0., 0., 0., 0., 0., 0., 0., 0., 0., 0., 0.,\n",
              "        0., 0., 0.],\n",
              "       [0., 0., 0., 0., 0., 0., 0., 0., 0., 0., 0., 0., 0., 0., 0., 0.,\n",
              "        0., 0., 0.],\n",
              "       [0., 0., 0., 0., 0., 0., 0., 0., 0., 0., 0., 0., 0., 0., 0., 0.,\n",
              "        0., 0., 0.],\n",
              "       [0., 0., 0., 0., 0., 0., 0., 0., 0., 0., 0., 0., 0., 0., 0., 0.,\n",
              "        0., 0., 0.],\n",
              "       [0., 0., 0., 0., 0., 0., 0., 0., 0., 0., 0., 0., 0., 0., 0., 0.,\n",
              "        0., 0., 0.],\n",
              "       [0., 0., 0., 0., 0., 0., 0., 0., 0., 0., 0., 0., 0., 0., 0., 0.,\n",
              "        0., 0., 0.],\n",
              "       [0., 0., 0., 0., 0., 0., 0., 0., 0., 0., 0., 0., 0., 0., 0., 0.,\n",
              "        0., 0., 0.],\n",
              "       [0., 0., 0., 0., 0., 0., 0., 0., 0., 0., 0., 0., 0., 0., 0., 0.,\n",
              "        0., 0., 0.]])"
            ]
          },
          "metadata": {},
          "execution_count": 209
        }
      ]
    },
    {
      "cell_type": "code",
      "source": [
        "from tqdm.notebook import tqdm\n",
        "import matplotlib.pyplot as plt"
      ],
      "metadata": {
        "id": "wWRX1stbVMzR"
      },
      "execution_count": 210,
      "outputs": []
    },
    {
      "cell_type": "code",
      "source": [
        "for i in tqdm(range(len(lab))):\n",
        "    label=lab.loc[i,'label']\n",
        "    ds=dx[dx['label']==label]\n",
        "    lab.loc[i,'count']=len(ds)\n",
        "lab "
      ],
      "metadata": {
        "colab": {
          "base_uri": "https://localhost:8080/",
          "height": 677,
          "referenced_widgets": [
            "0b6bca01f66044a98bc221e85a37fb31",
            "e27fce647ab74ee9a58093e25f5eb2d5",
            "7cf45a06f8744446b1f46318a798d33c",
            "9540ac0ea530419f9b95cecab7ee5e24",
            "23fbd27f68be4d12bb5ecfe7725bcdda",
            "1e9ceea6a2d64fffaee1943e553a0344",
            "de90f8109ed04430ae4a8161e68c5b59",
            "e77a4baa57b64097be959c45c718fb0f",
            "1700bc34daa549dfaebf7bcbff6c3116",
            "327d59cc84f942f1954f384d59d5a6f7",
            "04150aad70ec4621947a0101afe13d04"
          ]
        },
        "id": "ncx63bjwVQen",
        "outputId": "ddbdd901-9d3d-45b7-9236-d56c9e3e091d"
      },
      "execution_count": 211,
      "outputs": [
        {
          "output_type": "display_data",
          "data": {
            "application/vnd.jupyter.widget-view+json": {
              "model_id": "0b6bca01f66044a98bc221e85a37fb31",
              "version_minor": 0,
              "version_major": 2
            },
            "text/plain": [
              "  0%|          | 0/19 [00:00<?, ?it/s]"
            ]
          },
          "metadata": {}
        },
        {
          "output_type": "execute_result",
          "data": {
            "text/html": [
              "<div>\n",
              "<style scoped>\n",
              "    .dataframe tbody tr th:only-of-type {\n",
              "        vertical-align: middle;\n",
              "    }\n",
              "\n",
              "    .dataframe tbody tr th {\n",
              "        vertical-align: top;\n",
              "    }\n",
              "\n",
              "    .dataframe thead th {\n",
              "        text-align: right;\n",
              "    }\n",
              "</style>\n",
              "<table border=\"1\" class=\"dataframe\">\n",
              "  <thead>\n",
              "    <tr style=\"text-align: right;\">\n",
              "      <th></th>\n",
              "      <th>label</th>\n",
              "      <th>count</th>\n",
              "    </tr>\n",
              "  </thead>\n",
              "  <tbody>\n",
              "    <tr>\n",
              "      <th>0</th>\n",
              "      <td>Animation</td>\n",
              "      <td>1415.0</td>\n",
              "    </tr>\n",
              "    <tr>\n",
              "      <th>1</th>\n",
              "      <td>Comedy</td>\n",
              "      <td>3139.0</td>\n",
              "    </tr>\n",
              "    <tr>\n",
              "      <th>2</th>\n",
              "      <td>Family</td>\n",
              "      <td>1446.0</td>\n",
              "    </tr>\n",
              "    <tr>\n",
              "      <th>3</th>\n",
              "      <td>Adventure</td>\n",
              "      <td>1731.0</td>\n",
              "    </tr>\n",
              "    <tr>\n",
              "      <th>4</th>\n",
              "      <td>Fantasy</td>\n",
              "      <td>1288.0</td>\n",
              "    </tr>\n",
              "    <tr>\n",
              "      <th>5</th>\n",
              "      <td>Music</td>\n",
              "      <td>330.0</td>\n",
              "    </tr>\n",
              "    <tr>\n",
              "      <th>6</th>\n",
              "      <td>Science Fiction</td>\n",
              "      <td>1274.0</td>\n",
              "    </tr>\n",
              "    <tr>\n",
              "      <th>7</th>\n",
              "      <td>Action</td>\n",
              "      <td>2607.0</td>\n",
              "    </tr>\n",
              "    <tr>\n",
              "      <th>8</th>\n",
              "      <td>Thriller</td>\n",
              "      <td>2531.0</td>\n",
              "    </tr>\n",
              "    <tr>\n",
              "      <th>9</th>\n",
              "      <td>Drama</td>\n",
              "      <td>3845.0</td>\n",
              "    </tr>\n",
              "    <tr>\n",
              "      <th>10</th>\n",
              "      <td>Mystery</td>\n",
              "      <td>789.0</td>\n",
              "    </tr>\n",
              "    <tr>\n",
              "      <th>11</th>\n",
              "      <td>Crime</td>\n",
              "      <td>1241.0</td>\n",
              "    </tr>\n",
              "    <tr>\n",
              "      <th>12</th>\n",
              "      <td>Horror</td>\n",
              "      <td>1559.0</td>\n",
              "    </tr>\n",
              "    <tr>\n",
              "      <th>13</th>\n",
              "      <td>Romance</td>\n",
              "      <td>1516.0</td>\n",
              "    </tr>\n",
              "    <tr>\n",
              "      <th>14</th>\n",
              "      <td>Western</td>\n",
              "      <td>145.0</td>\n",
              "    </tr>\n",
              "    <tr>\n",
              "      <th>15</th>\n",
              "      <td>History</td>\n",
              "      <td>392.0</td>\n",
              "    </tr>\n",
              "    <tr>\n",
              "      <th>16</th>\n",
              "      <td>War</td>\n",
              "      <td>261.0</td>\n",
              "    </tr>\n",
              "    <tr>\n",
              "      <th>17</th>\n",
              "      <td>Documentary</td>\n",
              "      <td>304.0</td>\n",
              "    </tr>\n",
              "    <tr>\n",
              "      <th>18</th>\n",
              "      <td>TV Movie</td>\n",
              "      <td>319.0</td>\n",
              "    </tr>\n",
              "  </tbody>\n",
              "</table>\n",
              "</div>"
            ],
            "text/plain": [
              "              label   count\n",
              "0         Animation  1415.0\n",
              "1            Comedy  3139.0\n",
              "2            Family  1446.0\n",
              "3         Adventure  1731.0\n",
              "4           Fantasy  1288.0\n",
              "5             Music   330.0\n",
              "6   Science Fiction  1274.0\n",
              "7            Action  2607.0\n",
              "8          Thriller  2531.0\n",
              "9             Drama  3845.0\n",
              "10          Mystery   789.0\n",
              "11            Crime  1241.0\n",
              "12           Horror  1559.0\n",
              "13          Romance  1516.0\n",
              "14          Western   145.0\n",
              "15          History   392.0\n",
              "16              War   261.0\n",
              "17      Documentary   304.0\n",
              "18         TV Movie   319.0"
            ]
          },
          "metadata": {},
          "execution_count": 211
        }
      ]
    },
    {
      "cell_type": "code",
      "source": [
        "lab1=lab.sort_values(by=['count'], ascending=True)\n",
        "lab1"
      ],
      "metadata": {
        "colab": {
          "base_uri": "https://localhost:8080/",
          "height": 645
        },
        "id": "plXYz-r-VU78",
        "outputId": "21b19c38-74d9-47e3-9b68-cedb85e43dde"
      },
      "execution_count": 212,
      "outputs": [
        {
          "output_type": "execute_result",
          "data": {
            "text/html": [
              "<div>\n",
              "<style scoped>\n",
              "    .dataframe tbody tr th:only-of-type {\n",
              "        vertical-align: middle;\n",
              "    }\n",
              "\n",
              "    .dataframe tbody tr th {\n",
              "        vertical-align: top;\n",
              "    }\n",
              "\n",
              "    .dataframe thead th {\n",
              "        text-align: right;\n",
              "    }\n",
              "</style>\n",
              "<table border=\"1\" class=\"dataframe\">\n",
              "  <thead>\n",
              "    <tr style=\"text-align: right;\">\n",
              "      <th></th>\n",
              "      <th>label</th>\n",
              "      <th>count</th>\n",
              "    </tr>\n",
              "  </thead>\n",
              "  <tbody>\n",
              "    <tr>\n",
              "      <th>14</th>\n",
              "      <td>Western</td>\n",
              "      <td>145.0</td>\n",
              "    </tr>\n",
              "    <tr>\n",
              "      <th>16</th>\n",
              "      <td>War</td>\n",
              "      <td>261.0</td>\n",
              "    </tr>\n",
              "    <tr>\n",
              "      <th>17</th>\n",
              "      <td>Documentary</td>\n",
              "      <td>304.0</td>\n",
              "    </tr>\n",
              "    <tr>\n",
              "      <th>18</th>\n",
              "      <td>TV Movie</td>\n",
              "      <td>319.0</td>\n",
              "    </tr>\n",
              "    <tr>\n",
              "      <th>5</th>\n",
              "      <td>Music</td>\n",
              "      <td>330.0</td>\n",
              "    </tr>\n",
              "    <tr>\n",
              "      <th>15</th>\n",
              "      <td>History</td>\n",
              "      <td>392.0</td>\n",
              "    </tr>\n",
              "    <tr>\n",
              "      <th>10</th>\n",
              "      <td>Mystery</td>\n",
              "      <td>789.0</td>\n",
              "    </tr>\n",
              "    <tr>\n",
              "      <th>11</th>\n",
              "      <td>Crime</td>\n",
              "      <td>1241.0</td>\n",
              "    </tr>\n",
              "    <tr>\n",
              "      <th>6</th>\n",
              "      <td>Science Fiction</td>\n",
              "      <td>1274.0</td>\n",
              "    </tr>\n",
              "    <tr>\n",
              "      <th>4</th>\n",
              "      <td>Fantasy</td>\n",
              "      <td>1288.0</td>\n",
              "    </tr>\n",
              "    <tr>\n",
              "      <th>0</th>\n",
              "      <td>Animation</td>\n",
              "      <td>1415.0</td>\n",
              "    </tr>\n",
              "    <tr>\n",
              "      <th>2</th>\n",
              "      <td>Family</td>\n",
              "      <td>1446.0</td>\n",
              "    </tr>\n",
              "    <tr>\n",
              "      <th>13</th>\n",
              "      <td>Romance</td>\n",
              "      <td>1516.0</td>\n",
              "    </tr>\n",
              "    <tr>\n",
              "      <th>12</th>\n",
              "      <td>Horror</td>\n",
              "      <td>1559.0</td>\n",
              "    </tr>\n",
              "    <tr>\n",
              "      <th>3</th>\n",
              "      <td>Adventure</td>\n",
              "      <td>1731.0</td>\n",
              "    </tr>\n",
              "    <tr>\n",
              "      <th>8</th>\n",
              "      <td>Thriller</td>\n",
              "      <td>2531.0</td>\n",
              "    </tr>\n",
              "    <tr>\n",
              "      <th>7</th>\n",
              "      <td>Action</td>\n",
              "      <td>2607.0</td>\n",
              "    </tr>\n",
              "    <tr>\n",
              "      <th>1</th>\n",
              "      <td>Comedy</td>\n",
              "      <td>3139.0</td>\n",
              "    </tr>\n",
              "    <tr>\n",
              "      <th>9</th>\n",
              "      <td>Drama</td>\n",
              "      <td>3845.0</td>\n",
              "    </tr>\n",
              "  </tbody>\n",
              "</table>\n",
              "</div>"
            ],
            "text/plain": [
              "              label   count\n",
              "14          Western   145.0\n",
              "16              War   261.0\n",
              "17      Documentary   304.0\n",
              "18         TV Movie   319.0\n",
              "5             Music   330.0\n",
              "15          History   392.0\n",
              "10          Mystery   789.0\n",
              "11            Crime  1241.0\n",
              "6   Science Fiction  1274.0\n",
              "4           Fantasy  1288.0\n",
              "0         Animation  1415.0\n",
              "2            Family  1446.0\n",
              "13          Romance  1516.0\n",
              "12           Horror  1559.0\n",
              "3         Adventure  1731.0\n",
              "8          Thriller  2531.0\n",
              "7            Action  2607.0\n",
              "1            Comedy  3139.0\n",
              "9             Drama  3845.0"
            ]
          },
          "metadata": {},
          "execution_count": 212
        }
      ]
    },
    {
      "cell_type": "code",
      "source": [
        "plt.rcParams['font.sans-serif'] = ['SimHei']\n",
        "plt.rcParams['axes.unicode_minus'] = False\n",
        "dis=lab1\n",
        "a = dis['label']\n",
        "b = dis['count']\n",
        "plt.barh(a, b)  \n",
        "plt.title('Movie type frequency')\n",
        "plt.show()"
      ],
      "metadata": {
        "colab": {
          "base_uri": "https://localhost:8080/",
          "height": 316
        },
        "id": "GgBJ6o6aVVEO",
        "outputId": "e21cdd25-8f0f-4442-a8be-5a311582c0ed"
      },
      "execution_count": 213,
      "outputs": [
        {
          "output_type": "stream",
          "name": "stderr",
          "text": [
            "findfont: Font family ['sans-serif'] not found. Falling back to DejaVu Sans.\n",
            "findfont: Font family ['sans-serif'] not found. Falling back to DejaVu Sans.\n"
          ]
        },
        {
          "output_type": "display_data",
          "data": {
            "image/png": "[encoded data removed]",
            "text/plain": [
              "<Figure size 432x288 with 1 Axes>"
            ]
          },
          "metadata": {
            "needs_background": "light"
          }
        }
      ]
    },
    {
      "cell_type": "code",
      "source": [
        "mystery=dx.loc[dx['label'] == 'Mystery']\n",
        "mystery"
      ],
      "metadata": {
        "colab": {
          "base_uri": "https://localhost:8080/",
          "height": 424
        },
        "id": "98xfYB5aVeKZ",
        "outputId": "9e74a512-320e-48c4-ce36-202378343936"
      },
      "execution_count": 214,
      "outputs": [
        {
          "output_type": "execute_result",
          "data": {
            "text/html": [
              "<div>\n",
              "<style scoped>\n",
              "    .dataframe tbody tr th:only-of-type {\n",
              "        vertical-align: middle;\n",
              "    }\n",
              "\n",
              "    .dataframe tbody tr th {\n",
              "        vertical-align: top;\n",
              "    }\n",
              "\n",
              "    .dataframe thead th {\n",
              "        text-align: right;\n",
              "    }\n",
              "</style>\n",
              "<table border=\"1\" class=\"dataframe\">\n",
              "  <thead>\n",
              "    <tr style=\"text-align: right;\">\n",
              "      <th></th>\n",
              "      <th>title</th>\n",
              "      <th>id</th>\n",
              "      <th>overview</th>\n",
              "      <th>genre_ids</th>\n",
              "      <th>popularity</th>\n",
              "      <th>label</th>\n",
              "    </tr>\n",
              "  </thead>\n",
              "  <tbody>\n",
              "    <tr>\n",
              "      <th>56</th>\n",
              "      <td>Zone 414</td>\n",
              "      <td>675319</td>\n",
              "      <td>In the near future on a colony of state-of-the...</td>\n",
              "      <td>9648</td>\n",
              "      <td>469.457</td>\n",
              "      <td>Mystery</td>\n",
              "    </tr>\n",
              "    <tr>\n",
              "      <th>85</th>\n",
              "      <td>Malignant</td>\n",
              "      <td>619778</td>\n",
              "      <td>Madison is paralyzed by shocking visions of gr...</td>\n",
              "      <td>9648</td>\n",
              "      <td>159.224</td>\n",
              "      <td>Mystery</td>\n",
              "    </tr>\n",
              "    <tr>\n",
              "      <th>89</th>\n",
              "      <td>Escape Room: Tournament of Champions</td>\n",
              "      <td>585216</td>\n",
              "      <td>Six people unwittingly find themselves locked ...</td>\n",
              "      <td>9648</td>\n",
              "      <td>145.097</td>\n",
              "      <td>Mystery</td>\n",
              "    </tr>\n",
              "    <tr>\n",
              "      <th>165</th>\n",
              "      <td>Gone Girl</td>\n",
              "      <td>210577</td>\n",
              "      <td>With his wife's disappearance having become th...</td>\n",
              "      <td>9648</td>\n",
              "      <td>53.371</td>\n",
              "      <td>Mystery</td>\n",
              "    </tr>\n",
              "    <tr>\n",
              "      <th>182</th>\n",
              "      <td>Antlers</td>\n",
              "      <td>516329</td>\n",
              "      <td>A young teacher discovers that her troubled st...</td>\n",
              "      <td>9648</td>\n",
              "      <td>37.413</td>\n",
              "      <td>Mystery</td>\n",
              "    </tr>\n",
              "    <tr>\n",
              "      <th>...</th>\n",
              "      <td>...</td>\n",
              "      <td>...</td>\n",
              "      <td>...</td>\n",
              "      <td>...</td>\n",
              "      <td>...</td>\n",
              "      <td>...</td>\n",
              "    </tr>\n",
              "    <tr>\n",
              "      <th>25867</th>\n",
              "      <td>Psycho II</td>\n",
              "      <td>10576</td>\n",
              "      <td>After years of treatment at a mental instituti...</td>\n",
              "      <td>9648</td>\n",
              "      <td>14.287</td>\n",
              "      <td>Mystery</td>\n",
              "    </tr>\n",
              "    <tr>\n",
              "      <th>25942</th>\n",
              "      <td>Censor</td>\n",
              "      <td>663866</td>\n",
              "      <td>Film censor Enid takes pride in her meticulous...</td>\n",
              "      <td>9648</td>\n",
              "      <td>11.037</td>\n",
              "      <td>Mystery</td>\n",
              "    </tr>\n",
              "    <tr>\n",
              "      <th>25989</th>\n",
              "      <td>The Long Goodbye</td>\n",
              "      <td>1847</td>\n",
              "      <td>Detective Philip Marlowe tries to help a frien...</td>\n",
              "      <td>9648</td>\n",
              "      <td>10.533</td>\n",
              "      <td>Mystery</td>\n",
              "    </tr>\n",
              "    <tr>\n",
              "      <th>26087</th>\n",
              "      <td>Anatomy of a Murder</td>\n",
              "      <td>93</td>\n",
              "      <td>Semi-retired Michigan lawyer Paul Biegler take...</td>\n",
              "      <td>9648</td>\n",
              "      <td>11.030</td>\n",
              "      <td>Mystery</td>\n",
              "    </tr>\n",
              "    <tr>\n",
              "      <th>26123</th>\n",
              "      <td>Silent Night</td>\n",
              "      <td>139455</td>\n",
              "      <td>The police force of a remote Midwestern town s...</td>\n",
              "      <td>9648</td>\n",
              "      <td>12.032</td>\n",
              "      <td>Mystery</td>\n",
              "    </tr>\n",
              "  </tbody>\n",
              "</table>\n",
              "<p>789 rows × 6 columns</p>\n",
              "</div>"
            ],
            "text/plain": [
              "                                      title      id  ... popularity    label\n",
              "56                                 Zone 414  675319  ...    469.457  Mystery\n",
              "85                                Malignant  619778  ...    159.224  Mystery\n",
              "89     Escape Room: Tournament of Champions  585216  ...    145.097  Mystery\n",
              "165                               Gone Girl  210577  ...     53.371  Mystery\n",
              "182                                 Antlers  516329  ...     37.413  Mystery\n",
              "...                                     ...     ...  ...        ...      ...\n",
              "25867                             Psycho II   10576  ...     14.287  Mystery\n",
              "25942                                Censor  663866  ...     11.037  Mystery\n",
              "25989                      The Long Goodbye    1847  ...     10.533  Mystery\n",
              "26087                   Anatomy of a Murder      93  ...     11.030  Mystery\n",
              "26123                          Silent Night  139455  ...     12.032  Mystery\n",
              "\n",
              "[789 rows x 6 columns]"
            ]
          },
          "metadata": {},
          "execution_count": 214
        }
      ]
    },
    {
      "cell_type": "code",
      "source": [
        "dx.loc[(dx['title'] == 'Zone 414')]"
      ],
      "metadata": {
        "colab": {
          "base_uri": "https://localhost:8080/",
          "height": 143
        },
        "id": "MvDEPTItVhhd",
        "outputId": "1afd582b-2ab2-42a0-aa74-aa9af0bb33f4"
      },
      "execution_count": 215,
      "outputs": [
        {
          "output_type": "execute_result",
          "data": {
            "text/html": [
              "<div>\n",
              "<style scoped>\n",
              "    .dataframe tbody tr th:only-of-type {\n",
              "        vertical-align: middle;\n",
              "    }\n",
              "\n",
              "    .dataframe tbody tr th {\n",
              "        vertical-align: top;\n",
              "    }\n",
              "\n",
              "    .dataframe thead th {\n",
              "        text-align: right;\n",
              "    }\n",
              "</style>\n",
              "<table border=\"1\" class=\"dataframe\">\n",
              "  <thead>\n",
              "    <tr style=\"text-align: right;\">\n",
              "      <th></th>\n",
              "      <th>title</th>\n",
              "      <th>id</th>\n",
              "      <th>overview</th>\n",
              "      <th>genre_ids</th>\n",
              "      <th>popularity</th>\n",
              "      <th>label</th>\n",
              "    </tr>\n",
              "  </thead>\n",
              "  <tbody>\n",
              "    <tr>\n",
              "      <th>54</th>\n",
              "      <td>Zone 414</td>\n",
              "      <td>675319</td>\n",
              "      <td>In the near future on a colony of state-of-the...</td>\n",
              "      <td>878</td>\n",
              "      <td>469.457</td>\n",
              "      <td>Science Fiction</td>\n",
              "    </tr>\n",
              "    <tr>\n",
              "      <th>55</th>\n",
              "      <td>Zone 414</td>\n",
              "      <td>675319</td>\n",
              "      <td>In the near future on a colony of state-of-the...</td>\n",
              "      <td>53</td>\n",
              "      <td>469.457</td>\n",
              "      <td>Thriller</td>\n",
              "    </tr>\n",
              "    <tr>\n",
              "      <th>56</th>\n",
              "      <td>Zone 414</td>\n",
              "      <td>675319</td>\n",
              "      <td>In the near future on a colony of state-of-the...</td>\n",
              "      <td>9648</td>\n",
              "      <td>469.457</td>\n",
              "      <td>Mystery</td>\n",
              "    </tr>\n",
              "  </tbody>\n",
              "</table>\n",
              "</div>"
            ],
            "text/plain": [
              "       title      id  ... popularity            label\n",
              "54  Zone 414  675319  ...    469.457  Science Fiction\n",
              "55  Zone 414  675319  ...    469.457         Thriller\n",
              "56  Zone 414  675319  ...    469.457          Mystery\n",
              "\n",
              "[3 rows x 6 columns]"
            ]
          },
          "metadata": {},
          "execution_count": 215
        }
      ]
    },
    {
      "cell_type": "code",
      "source": [
        "dx.loc[(dx['label'] == 'Drama') & (dx['popularity']>10)].head(20)"
      ],
      "metadata": {
        "colab": {
          "base_uri": "https://localhost:8080/",
          "height": 677
        },
        "id": "SHpzOYGaVkyK",
        "outputId": "8f2dca72-a3ad-4912-d5db-55942b400a5b"
      },
      "execution_count": 216,
      "outputs": [
        {
          "output_type": "execute_result",
          "data": {
            "text/html": [
              "<div>\n",
              "<style scoped>\n",
              "    .dataframe tbody tr th:only-of-type {\n",
              "        vertical-align: middle;\n",
              "    }\n",
              "\n",
              "    .dataframe tbody tr th {\n",
              "        vertical-align: top;\n",
              "    }\n",
              "\n",
              "    .dataframe thead th {\n",
              "        text-align: right;\n",
              "    }\n",
              "</style>\n",
              "<table border=\"1\" class=\"dataframe\">\n",
              "  <thead>\n",
              "    <tr style=\"text-align: right;\">\n",
              "      <th></th>\n",
              "      <th>title</th>\n",
              "      <th>id</th>\n",
              "      <th>overview</th>\n",
              "      <th>genre_ids</th>\n",
              "      <th>popularity</th>\n",
              "      <th>label</th>\n",
              "    </tr>\n",
              "  </thead>\n",
              "  <tbody>\n",
              "    <tr>\n",
              "      <th>22</th>\n",
              "      <td>Eternals</td>\n",
              "      <td>524434</td>\n",
              "      <td>The Eternals are a team of ancient aliens who ...</td>\n",
              "      <td>18</td>\n",
              "      <td>1337.989</td>\n",
              "      <td>Drama</td>\n",
              "    </tr>\n",
              "    <tr>\n",
              "      <th>73</th>\n",
              "      <td>House of Gucci</td>\n",
              "      <td>644495</td>\n",
              "      <td>When Patrizia Reggiani, an outsider from humbl...</td>\n",
              "      <td>18</td>\n",
              "      <td>245.070</td>\n",
              "      <td>Drama</td>\n",
              "    </tr>\n",
              "    <tr>\n",
              "      <th>90</th>\n",
              "      <td>Parallel Mothers</td>\n",
              "      <td>766798</td>\n",
              "      <td>Two unmarried women who have become pregnant b...</td>\n",
              "      <td>18</td>\n",
              "      <td>183.562</td>\n",
              "      <td>Drama</td>\n",
              "    </tr>\n",
              "    <tr>\n",
              "      <th>93</th>\n",
              "      <td>The Ice Road</td>\n",
              "      <td>646207</td>\n",
              "      <td>After a remote diamond mine collapses in far n...</td>\n",
              "      <td>18</td>\n",
              "      <td>135.177</td>\n",
              "      <td>Drama</td>\n",
              "    </tr>\n",
              "    <tr>\n",
              "      <th>99</th>\n",
              "      <td>Annette</td>\n",
              "      <td>424277</td>\n",
              "      <td>The story of Henry, a stand-up comedian with a...</td>\n",
              "      <td>18</td>\n",
              "      <td>168.570</td>\n",
              "      <td>Drama</td>\n",
              "    </tr>\n",
              "    <tr>\n",
              "      <th>102</th>\n",
              "      <td>Don't Look Up</td>\n",
              "      <td>646380</td>\n",
              "      <td>Two astronomers go on a media tour to warn hum...</td>\n",
              "      <td>18</td>\n",
              "      <td>111.475</td>\n",
              "      <td>Drama</td>\n",
              "    </tr>\n",
              "    <tr>\n",
              "      <th>108</th>\n",
              "      <td>Cry Macho</td>\n",
              "      <td>749274</td>\n",
              "      <td>Mike Milo, a one-time rodeo star and washed-up...</td>\n",
              "      <td>18</td>\n",
              "      <td>98.773</td>\n",
              "      <td>Drama</td>\n",
              "    </tr>\n",
              "    <tr>\n",
              "      <th>110</th>\n",
              "      <td>West Side Story</td>\n",
              "      <td>511809</td>\n",
              "      <td>Two youngsters from rival New York City gangs ...</td>\n",
              "      <td>18</td>\n",
              "      <td>80.181</td>\n",
              "      <td>Drama</td>\n",
              "    </tr>\n",
              "    <tr>\n",
              "      <th>114</th>\n",
              "      <td>Silent Night</td>\n",
              "      <td>664574</td>\n",
              "      <td>Nell, Simon, and their boy Art are ready to we...</td>\n",
              "      <td>18</td>\n",
              "      <td>70.971</td>\n",
              "      <td>Drama</td>\n",
              "    </tr>\n",
              "    <tr>\n",
              "      <th>115</th>\n",
              "      <td>Stillwater</td>\n",
              "      <td>616651</td>\n",
              "      <td>Bill Baker, an American oil-rig roughneck from...</td>\n",
              "      <td>18</td>\n",
              "      <td>78.493</td>\n",
              "      <td>Drama</td>\n",
              "    </tr>\n",
              "    <tr>\n",
              "      <th>119</th>\n",
              "      <td>Spencer</td>\n",
              "      <td>716612</td>\n",
              "      <td>During her Christmas holidays with the royal f...</td>\n",
              "      <td>18</td>\n",
              "      <td>69.776</td>\n",
              "      <td>Drama</td>\n",
              "    </tr>\n",
              "    <tr>\n",
              "      <th>120</th>\n",
              "      <td>Titane</td>\n",
              "      <td>630240</td>\n",
              "      <td>A woman with a metal plate in her head from a ...</td>\n",
              "      <td>18</td>\n",
              "      <td>72.774</td>\n",
              "      <td>Drama</td>\n",
              "    </tr>\n",
              "    <tr>\n",
              "      <th>142</th>\n",
              "      <td>Benedetta</td>\n",
              "      <td>454527</td>\n",
              "      <td>In the late 17th century, with plague ravaging...</td>\n",
              "      <td>18</td>\n",
              "      <td>56.964</td>\n",
              "      <td>Drama</td>\n",
              "    </tr>\n",
              "    <tr>\n",
              "      <th>155</th>\n",
              "      <td>Belfast</td>\n",
              "      <td>777270</td>\n",
              "      <td>Buddy is a young boy on the cusp of adolescenc...</td>\n",
              "      <td>18</td>\n",
              "      <td>44.667</td>\n",
              "      <td>Drama</td>\n",
              "    </tr>\n",
              "    <tr>\n",
              "      <th>158</th>\n",
              "      <td>1917</td>\n",
              "      <td>530915</td>\n",
              "      <td>At the height of the First World War, two youn...</td>\n",
              "      <td>18</td>\n",
              "      <td>43.188</td>\n",
              "      <td>Drama</td>\n",
              "    </tr>\n",
              "    <tr>\n",
              "      <th>161</th>\n",
              "      <td>Fight Club</td>\n",
              "      <td>550</td>\n",
              "      <td>A ticking-time-bomb insomniac and a slippery s...</td>\n",
              "      <td>18</td>\n",
              "      <td>46.729</td>\n",
              "      <td>Drama</td>\n",
              "    </tr>\n",
              "    <tr>\n",
              "      <th>162</th>\n",
              "      <td>The Card Counter</td>\n",
              "      <td>643532</td>\n",
              "      <td>William Tell just wants to play cards. His spa...</td>\n",
              "      <td>18</td>\n",
              "      <td>58.625</td>\n",
              "      <td>Drama</td>\n",
              "    </tr>\n",
              "    <tr>\n",
              "      <th>167</th>\n",
              "      <td>Gone Girl</td>\n",
              "      <td>210577</td>\n",
              "      <td>With his wife's disappearance having become th...</td>\n",
              "      <td>18</td>\n",
              "      <td>53.371</td>\n",
              "      <td>Drama</td>\n",
              "    </tr>\n",
              "    <tr>\n",
              "      <th>168</th>\n",
              "      <td>The French Dispatch</td>\n",
              "      <td>542178</td>\n",
              "      <td>The quirky staff of an American magazine based...</td>\n",
              "      <td>18</td>\n",
              "      <td>43.679</td>\n",
              "      <td>Drama</td>\n",
              "    </tr>\n",
              "    <tr>\n",
              "      <th>191</th>\n",
              "      <td>Being the Ricardos</td>\n",
              "      <td>517088</td>\n",
              "      <td>Follows Lucille Ball and Desi Arnaz as they fa...</td>\n",
              "      <td>18</td>\n",
              "      <td>33.005</td>\n",
              "      <td>Drama</td>\n",
              "    </tr>\n",
              "  </tbody>\n",
              "</table>\n",
              "</div>"
            ],
            "text/plain": [
              "                   title      id  ... popularity  label\n",
              "22              Eternals  524434  ...   1337.989  Drama\n",
              "73        House of Gucci  644495  ...    245.070  Drama\n",
              "90      Parallel Mothers  766798  ...    183.562  Drama\n",
              "93          The Ice Road  646207  ...    135.177  Drama\n",
              "99               Annette  424277  ...    168.570  Drama\n",
              "102        Don't Look Up  646380  ...    111.475  Drama\n",
              "108            Cry Macho  749274  ...     98.773  Drama\n",
              "110      West Side Story  511809  ...     80.181  Drama\n",
              "114         Silent Night  664574  ...     70.971  Drama\n",
              "115           Stillwater  616651  ...     78.493  Drama\n",
              "119              Spencer  716612  ...     69.776  Drama\n",
              "120               Titane  630240  ...     72.774  Drama\n",
              "142            Benedetta  454527  ...     56.964  Drama\n",
              "155              Belfast  777270  ...     44.667  Drama\n",
              "158                 1917  530915  ...     43.188  Drama\n",
              "161           Fight Club     550  ...     46.729  Drama\n",
              "162     The Card Counter  643532  ...     58.625  Drama\n",
              "167            Gone Girl  210577  ...     53.371  Drama\n",
              "168  The French Dispatch  542178  ...     43.679  Drama\n",
              "191   Being the Ricardos  517088  ...     33.005  Drama\n",
              "\n",
              "[20 rows x 6 columns]"
            ]
          },
          "metadata": {},
          "execution_count": 216
        }
      ]
    },
    {
      "cell_type": "code",
      "source": [
        "dx.loc[dx['popularity']>50]"
      ],
      "metadata": {
        "colab": {
          "base_uri": "https://localhost:8080/",
          "height": 424
        },
        "id": "bOOaFmDwVr-a",
        "outputId": "eb98a0f6-979c-4a23-908e-e4e47d9fc22b"
      },
      "execution_count": 217,
      "outputs": [
        {
          "output_type": "execute_result",
          "data": {
            "text/html": [
              "<div>\n",
              "<style scoped>\n",
              "    .dataframe tbody tr th:only-of-type {\n",
              "        vertical-align: middle;\n",
              "    }\n",
              "\n",
              "    .dataframe tbody tr th {\n",
              "        vertical-align: top;\n",
              "    }\n",
              "\n",
              "    .dataframe thead th {\n",
              "        text-align: right;\n",
              "    }\n",
              "</style>\n",
              "<table border=\"1\" class=\"dataframe\">\n",
              "  <thead>\n",
              "    <tr style=\"text-align: right;\">\n",
              "      <th></th>\n",
              "      <th>title</th>\n",
              "      <th>id</th>\n",
              "      <th>overview</th>\n",
              "      <th>genre_ids</th>\n",
              "      <th>popularity</th>\n",
              "      <th>label</th>\n",
              "    </tr>\n",
              "  </thead>\n",
              "  <tbody>\n",
              "    <tr>\n",
              "      <th>0</th>\n",
              "      <td>Clifford the Big Red Dog</td>\n",
              "      <td>585245</td>\n",
              "      <td>As Emily struggles to fit in at home and at sc...</td>\n",
              "      <td>16</td>\n",
              "      <td>2734.004</td>\n",
              "      <td>Animation</td>\n",
              "    </tr>\n",
              "    <tr>\n",
              "      <th>1</th>\n",
              "      <td>Clifford the Big Red Dog</td>\n",
              "      <td>585245</td>\n",
              "      <td>As Emily struggles to fit in at home and at sc...</td>\n",
              "      <td>35</td>\n",
              "      <td>2734.004</td>\n",
              "      <td>Comedy</td>\n",
              "    </tr>\n",
              "    <tr>\n",
              "      <th>2</th>\n",
              "      <td>Clifford the Big Red Dog</td>\n",
              "      <td>585245</td>\n",
              "      <td>As Emily struggles to fit in at home and at sc...</td>\n",
              "      <td>10751</td>\n",
              "      <td>2734.004</td>\n",
              "      <td>Family</td>\n",
              "    </tr>\n",
              "    <tr>\n",
              "      <th>3</th>\n",
              "      <td>Encanto</td>\n",
              "      <td>568124</td>\n",
              "      <td>The tale of an extraordinary family, the Madri...</td>\n",
              "      <td>12</td>\n",
              "      <td>2744.462</td>\n",
              "      <td>Adventure</td>\n",
              "    </tr>\n",
              "    <tr>\n",
              "      <th>4</th>\n",
              "      <td>Encanto</td>\n",
              "      <td>568124</td>\n",
              "      <td>The tale of an extraordinary family, the Madri...</td>\n",
              "      <td>16</td>\n",
              "      <td>2744.462</td>\n",
              "      <td>Animation</td>\n",
              "    </tr>\n",
              "    <tr>\n",
              "      <th>...</th>\n",
              "      <td>...</td>\n",
              "      <td>...</td>\n",
              "      <td>...</td>\n",
              "      <td>...</td>\n",
              "      <td>...</td>\n",
              "      <td>...</td>\n",
              "    </tr>\n",
              "    <tr>\n",
              "      <th>4856</th>\n",
              "      <td>Love, Rosie</td>\n",
              "      <td>200727</td>\n",
              "      <td>Since the moment they met at age 5, Rosie and ...</td>\n",
              "      <td>10749</td>\n",
              "      <td>55.229</td>\n",
              "      <td>Romance</td>\n",
              "    </tr>\n",
              "    <tr>\n",
              "      <th>5267</th>\n",
              "      <td>Mickey and Minnie Wish Upon a Christmas</td>\n",
              "      <td>864390</td>\n",
              "      <td>After a series of mishaps, Mickey, Minnie and ...</td>\n",
              "      <td>16</td>\n",
              "      <td>51.563</td>\n",
              "      <td>Animation</td>\n",
              "    </tr>\n",
              "    <tr>\n",
              "      <th>5385</th>\n",
              "      <td>Van Helsing</td>\n",
              "      <td>7131</td>\n",
              "      <td>Famed monster slayer Gabriel Van Helsing is di...</td>\n",
              "      <td>27</td>\n",
              "      <td>50.462</td>\n",
              "      <td>Horror</td>\n",
              "    </tr>\n",
              "    <tr>\n",
              "      <th>5386</th>\n",
              "      <td>Van Helsing</td>\n",
              "      <td>7131</td>\n",
              "      <td>Famed monster slayer Gabriel Van Helsing is di...</td>\n",
              "      <td>12</td>\n",
              "      <td>50.462</td>\n",
              "      <td>Adventure</td>\n",
              "    </tr>\n",
              "    <tr>\n",
              "      <th>5387</th>\n",
              "      <td>Van Helsing</td>\n",
              "      <td>7131</td>\n",
              "      <td>Famed monster slayer Gabriel Van Helsing is di...</td>\n",
              "      <td>28</td>\n",
              "      <td>50.462</td>\n",
              "      <td>Action</td>\n",
              "    </tr>\n",
              "  </tbody>\n",
              "</table>\n",
              "<p>3223 rows × 6 columns</p>\n",
              "</div>"
            ],
            "text/plain": [
              "                                        title      id  ... popularity      label\n",
              "0                    Clifford the Big Red Dog  585245  ...   2734.004  Animation\n",
              "1                    Clifford the Big Red Dog  585245  ...   2734.004     Comedy\n",
              "2                    Clifford the Big Red Dog  585245  ...   2734.004     Family\n",
              "3                                     Encanto  568124  ...   2744.462  Adventure\n",
              "4                                     Encanto  568124  ...   2744.462  Animation\n",
              "...                                       ...     ...  ...        ...        ...\n",
              "4856                              Love, Rosie  200727  ...     55.229    Romance\n",
              "5267  Mickey and Minnie Wish Upon a Christmas  864390  ...     51.563  Animation\n",
              "5385                              Van Helsing    7131  ...     50.462     Horror\n",
              "5386                              Van Helsing    7131  ...     50.462  Adventure\n",
              "5387                              Van Helsing    7131  ...     50.462     Action\n",
              "\n",
              "[3223 rows x 6 columns]"
            ]
          },
          "metadata": {},
          "execution_count": 217
        }
      ]
    },
    {
      "cell_type": "markdown",
      "source": [
        "Section 3: Recommendation by **category** "
      ],
      "metadata": {
        "id": "rN7ripFkXIJx"
      }
    },
    {
      "cell_type": "code",
      "source": [
        "A=['Action', 'Music', 'Horror', 'History', 'Crime', 'Comedy', 'Mystery']\n",
        "B=['Adventure', 'Animation', 'Documentary', 'Family']\n",
        "C=['Action', 'Adventure', 'Comedy', 'Fantasy']\n",
        "# list C included most popular label Top 4"
      ],
      "metadata": {
        "id": "r6IcLJhFWeOM"
      },
      "execution_count": 224,
      "outputs": []
    },
    {
      "cell_type": "code",
      "source": [
        "i=input('Select the genre you interested:')"
      ],
      "metadata": {
        "colab": {
          "base_uri": "https://localhost:8080/"
        },
        "id": "cRyPO-WzWjsh",
        "outputId": "97091637-9af2-4df8-e216-8ec53e396d41"
      },
      "execution_count": 225,
      "outputs": [
        {
          "name": "stdout",
          "output_type": "stream",
          "text": [
            "Select the genre you interested:War\n"
          ]
        }
      ]
    },
    {
      "cell_type": "code",
      "source": [
        "from random import choice\n",
        "if i in A:\n",
        "  x=choice(A)\n",
        "  print(x)\n",
        "elif i in B: \n",
        "  x=choice(B)\n",
        "  print(x)\n",
        "else: \n",
        "  x=choice(C)\n",
        "  print(x)"
      ],
      "metadata": {
        "colab": {
          "base_uri": "https://localhost:8080/"
        },
        "id": "AV-Ra62bWoJ4",
        "outputId": "db6912e5-26cd-4608-8195-b68e099b6ace"
      },
      "execution_count": 226,
      "outputs": [
        {
          "output_type": "stream",
          "name": "stdout",
          "text": [
            "Comedy\n"
          ]
        }
      ]
    },
    {
      "cell_type": "code",
      "source": [
        "print('x=', x)\n",
        "print('i=', i)"
      ],
      "metadata": {
        "colab": {
          "base_uri": "https://localhost:8080/"
        },
        "id": "6sk7sztoWq3A",
        "outputId": "b747642f-939e-470a-cc0e-32e0112ac2f6"
      },
      "execution_count": 227,
      "outputs": [
        {
          "output_type": "stream",
          "name": "stdout",
          "text": [
            "x= Comedy\n",
            "i= War\n"
          ]
        }
      ]
    },
    {
      "cell_type": "code",
      "source": [
        "data3=dx.loc[(dx['label'] == x)].head(10)\n",
        "data3"
      ],
      "metadata": {
        "colab": {
          "base_uri": "https://localhost:8080/",
          "height": 363
        },
        "id": "lHxJJh1RWtX9",
        "outputId": "22035055-9fa7-4767-da71-e2010c65ed08"
      },
      "execution_count": 229,
      "outputs": [
        {
          "output_type": "execute_result",
          "data": {
            "text/html": [
              "<div>\n",
              "<style scoped>\n",
              "    .dataframe tbody tr th:only-of-type {\n",
              "        vertical-align: middle;\n",
              "    }\n",
              "\n",
              "    .dataframe tbody tr th {\n",
              "        vertical-align: top;\n",
              "    }\n",
              "\n",
              "    .dataframe thead th {\n",
              "        text-align: right;\n",
              "    }\n",
              "</style>\n",
              "<table border=\"1\" class=\"dataframe\">\n",
              "  <thead>\n",
              "    <tr style=\"text-align: right;\">\n",
              "      <th></th>\n",
              "      <th>title</th>\n",
              "      <th>id</th>\n",
              "      <th>overview</th>\n",
              "      <th>genre_ids</th>\n",
              "      <th>popularity</th>\n",
              "      <th>label</th>\n",
              "    </tr>\n",
              "  </thead>\n",
              "  <tbody>\n",
              "    <tr>\n",
              "      <th>1</th>\n",
              "      <td>Clifford the Big Red Dog</td>\n",
              "      <td>585245</td>\n",
              "      <td>As Emily struggles to fit in at home and at sc...</td>\n",
              "      <td>35</td>\n",
              "      <td>2734.004</td>\n",
              "      <td>Comedy</td>\n",
              "    </tr>\n",
              "    <tr>\n",
              "      <th>5</th>\n",
              "      <td>Encanto</td>\n",
              "      <td>568124</td>\n",
              "      <td>The tale of an extraordinary family, the Madri...</td>\n",
              "      <td>35</td>\n",
              "      <td>2744.462</td>\n",
              "      <td>Comedy</td>\n",
              "    </tr>\n",
              "    <tr>\n",
              "      <th>12</th>\n",
              "      <td>Ron's Gone Wrong</td>\n",
              "      <td>482321</td>\n",
              "      <td>In a world where walking, talking, digitally c...</td>\n",
              "      <td>35</td>\n",
              "      <td>2221.171</td>\n",
              "      <td>Comedy</td>\n",
              "    </tr>\n",
              "    <tr>\n",
              "      <th>36</th>\n",
              "      <td>The Boss Baby: Family Business</td>\n",
              "      <td>459151</td>\n",
              "      <td>The Templeton brothers — Tim and his Boss Baby...</td>\n",
              "      <td>35</td>\n",
              "      <td>633.597</td>\n",
              "      <td>Comedy</td>\n",
              "    </tr>\n",
              "    <tr>\n",
              "      <th>48</th>\n",
              "      <td>The Addams Family 2</td>\n",
              "      <td>639721</td>\n",
              "      <td>The Addams get tangled up in more wacky advent...</td>\n",
              "      <td>35</td>\n",
              "      <td>471.517</td>\n",
              "      <td>Comedy</td>\n",
              "    </tr>\n",
              "    <tr>\n",
              "      <th>53</th>\n",
              "      <td>PAW Patrol: The Movie</td>\n",
              "      <td>675445</td>\n",
              "      <td>Ryder and the pups are called to Adventure Cit...</td>\n",
              "      <td>35</td>\n",
              "      <td>475.101</td>\n",
              "      <td>Comedy</td>\n",
              "    </tr>\n",
              "    <tr>\n",
              "      <th>61</th>\n",
              "      <td>Ghostbusters: Afterlife</td>\n",
              "      <td>425909</td>\n",
              "      <td>When a single mom and her two kids arrive in a...</td>\n",
              "      <td>35</td>\n",
              "      <td>374.068</td>\n",
              "      <td>Comedy</td>\n",
              "    </tr>\n",
              "    <tr>\n",
              "      <th>69</th>\n",
              "      <td>Sing 2</td>\n",
              "      <td>438695</td>\n",
              "      <td>Buster and his new cast now have their sights ...</td>\n",
              "      <td>35</td>\n",
              "      <td>309.915</td>\n",
              "      <td>Comedy</td>\n",
              "    </tr>\n",
              "    <tr>\n",
              "      <th>103</th>\n",
              "      <td>Don't Look Up</td>\n",
              "      <td>646380</td>\n",
              "      <td>Two astronomers go on a media tour to warn hum...</td>\n",
              "      <td>35</td>\n",
              "      <td>111.475</td>\n",
              "      <td>Comedy</td>\n",
              "    </tr>\n",
              "    <tr>\n",
              "      <th>113</th>\n",
              "      <td>Silent Night</td>\n",
              "      <td>664574</td>\n",
              "      <td>Nell, Simon, and their boy Art are ready to we...</td>\n",
              "      <td>35</td>\n",
              "      <td>70.971</td>\n",
              "      <td>Comedy</td>\n",
              "    </tr>\n",
              "  </tbody>\n",
              "</table>\n",
              "</div>"
            ],
            "text/plain": [
              "                              title      id  ... popularity   label\n",
              "1          Clifford the Big Red Dog  585245  ...   2734.004  Comedy\n",
              "5                           Encanto  568124  ...   2744.462  Comedy\n",
              "12                 Ron's Gone Wrong  482321  ...   2221.171  Comedy\n",
              "36   The Boss Baby: Family Business  459151  ...    633.597  Comedy\n",
              "48              The Addams Family 2  639721  ...    471.517  Comedy\n",
              "53            PAW Patrol: The Movie  675445  ...    475.101  Comedy\n",
              "61          Ghostbusters: Afterlife  425909  ...    374.068  Comedy\n",
              "69                           Sing 2  438695  ...    309.915  Comedy\n",
              "103                   Don't Look Up  646380  ...    111.475  Comedy\n",
              "113                    Silent Night  664574  ...     70.971  Comedy\n",
              "\n",
              "[10 rows x 6 columns]"
            ]
          },
          "metadata": {},
          "execution_count": 229
        }
      ]
    },
    {
      "cell_type": "code",
      "source": [
        "data4=dx.loc[(dx['label'] == i)].head(10)\n",
        "data4"
      ],
      "metadata": {
        "colab": {
          "base_uri": "https://localhost:8080/",
          "height": 363
        },
        "id": "hyY_9CTcWyjJ",
        "outputId": "536164b3-121a-4b3c-ee5c-175d80790a04"
      },
      "execution_count": 230,
      "outputs": [
        {
          "output_type": "execute_result",
          "data": {
            "text/html": [
              "<div>\n",
              "<style scoped>\n",
              "    .dataframe tbody tr th:only-of-type {\n",
              "        vertical-align: middle;\n",
              "    }\n",
              "\n",
              "    .dataframe tbody tr th {\n",
              "        vertical-align: top;\n",
              "    }\n",
              "\n",
              "    .dataframe thead th {\n",
              "        text-align: right;\n",
              "    }\n",
              "</style>\n",
              "<table border=\"1\" class=\"dataframe\">\n",
              "  <thead>\n",
              "    <tr style=\"text-align: right;\">\n",
              "      <th></th>\n",
              "      <th>title</th>\n",
              "      <th>id</th>\n",
              "      <th>overview</th>\n",
              "      <th>genre_ids</th>\n",
              "      <th>popularity</th>\n",
              "      <th>label</th>\n",
              "    </tr>\n",
              "  </thead>\n",
              "  <tbody>\n",
              "    <tr>\n",
              "      <th>157</th>\n",
              "      <td>1917</td>\n",
              "      <td>530915</td>\n",
              "      <td>At the height of the First World War, two youn...</td>\n",
              "      <td>10752</td>\n",
              "      <td>43.188</td>\n",
              "      <td>War</td>\n",
              "    </tr>\n",
              "    <tr>\n",
              "      <th>226</th>\n",
              "      <td>The Tragedy of Macbeth</td>\n",
              "      <td>591538</td>\n",
              "      <td>Macbeth, the Thane of Glamis, receives a proph...</td>\n",
              "      <td>10752</td>\n",
              "      <td>18.915</td>\n",
              "      <td>War</td>\n",
              "    </tr>\n",
              "    <tr>\n",
              "      <th>424</th>\n",
              "      <td>Benediction</td>\n",
              "      <td>399178</td>\n",
              "      <td>The story of soldier and poet Siegfried Sassoo...</td>\n",
              "      <td>10752</td>\n",
              "      <td>5.005</td>\n",
              "      <td>War</td>\n",
              "    </tr>\n",
              "    <tr>\n",
              "      <th>588</th>\n",
              "      <td>Narvik: Hitler's First Defeat</td>\n",
              "      <td>619930</td>\n",
              "      <td>April, 1940. The eyes of the world are on Narv...</td>\n",
              "      <td>10752</td>\n",
              "      <td>2.107</td>\n",
              "      <td>War</td>\n",
              "    </tr>\n",
              "    <tr>\n",
              "      <th>781</th>\n",
              "      <td>Zeros and Ones</td>\n",
              "      <td>762433</td>\n",
              "      <td>Called to Rome to stop an imminent terrorist b...</td>\n",
              "      <td>10752</td>\n",
              "      <td>1448.865</td>\n",
              "      <td>War</td>\n",
              "    </tr>\n",
              "    <tr>\n",
              "      <th>792</th>\n",
              "      <td>Amina</td>\n",
              "      <td>885110</td>\n",
              "      <td>In 16th-century Zazzau, now Zaria, Nigeria, Am...</td>\n",
              "      <td>10752</td>\n",
              "      <td>1056.288</td>\n",
              "      <td>War</td>\n",
              "    </tr>\n",
              "    <tr>\n",
              "      <th>1353</th>\n",
              "      <td>Hacksaw Ridge</td>\n",
              "      <td>324786</td>\n",
              "      <td>WWII American Army Medic Desmond T. Doss, who ...</td>\n",
              "      <td>10752</td>\n",
              "      <td>174.553</td>\n",
              "      <td>War</td>\n",
              "    </tr>\n",
              "    <tr>\n",
              "      <th>1632</th>\n",
              "      <td>Fury</td>\n",
              "      <td>228150</td>\n",
              "      <td>In the last months of World War II, as the All...</td>\n",
              "      <td>10752</td>\n",
              "      <td>117.672</td>\n",
              "      <td>War</td>\n",
              "    </tr>\n",
              "    <tr>\n",
              "      <th>1869</th>\n",
              "      <td>Inglourious Basterds</td>\n",
              "      <td>16869</td>\n",
              "      <td>In Nazi-occupied France during World War II, a...</td>\n",
              "      <td>10752</td>\n",
              "      <td>100.361</td>\n",
              "      <td>War</td>\n",
              "    </tr>\n",
              "    <tr>\n",
              "      <th>2206</th>\n",
              "      <td>Justice Society: World War II</td>\n",
              "      <td>736069</td>\n",
              "      <td>When the Flash finds himself dropped into the ...</td>\n",
              "      <td>10752</td>\n",
              "      <td>87.708</td>\n",
              "      <td>War</td>\n",
              "    </tr>\n",
              "  </tbody>\n",
              "</table>\n",
              "</div>"
            ],
            "text/plain": [
              "                              title      id  ... popularity label\n",
              "157                            1917  530915  ...     43.188   War\n",
              "226          The Tragedy of Macbeth  591538  ...     18.915   War\n",
              "424                     Benediction  399178  ...      5.005   War\n",
              "588   Narvik: Hitler's First Defeat  619930  ...      2.107   War\n",
              "781                  Zeros and Ones  762433  ...   1448.865   War\n",
              "792                           Amina  885110  ...   1056.288   War\n",
              "1353                  Hacksaw Ridge  324786  ...    174.553   War\n",
              "1632                           Fury  228150  ...    117.672   War\n",
              "1869           Inglourious Basterds   16869  ...    100.361   War\n",
              "2206  Justice Society: World War II  736069  ...     87.708   War\n",
              "\n",
              "[10 rows x 6 columns]"
            ]
          },
          "metadata": {},
          "execution_count": 230
        }
      ]
    },
    {
      "cell_type": "code",
      "source": [
        "if x!=i:\n",
        "  frames = [data3, data4]\n",
        "  result_3 = pd.concat(frames)\n",
        "else: result_3 = dx.loc[(dx['label'] == i)].head(20)"
      ],
      "metadata": {
        "id": "IEezp-RcW2_K"
      },
      "execution_count": 233,
      "outputs": []
    },
    {
      "cell_type": "code",
      "source": [
        "result_3"
      ],
      "metadata": {
        "colab": {
          "base_uri": "https://localhost:8080/",
          "height": 677
        },
        "id": "dmtMQw8tXAqd",
        "outputId": "e5e0d5da-5b12-4385-da85-de6eecfc8b24"
      },
      "execution_count": 234,
      "outputs": [
        {
          "output_type": "execute_result",
          "data": {
            "text/html": [
              "<div>\n",
              "<style scoped>\n",
              "    .dataframe tbody tr th:only-of-type {\n",
              "        vertical-align: middle;\n",
              "    }\n",
              "\n",
              "    .dataframe tbody tr th {\n",
              "        vertical-align: top;\n",
              "    }\n",
              "\n",
              "    .dataframe thead th {\n",
              "        text-align: right;\n",
              "    }\n",
              "</style>\n",
              "<table border=\"1\" class=\"dataframe\">\n",
              "  <thead>\n",
              "    <tr style=\"text-align: right;\">\n",
              "      <th></th>\n",
              "      <th>title</th>\n",
              "      <th>id</th>\n",
              "      <th>overview</th>\n",
              "      <th>genre_ids</th>\n",
              "      <th>popularity</th>\n",
              "      <th>label</th>\n",
              "    </tr>\n",
              "  </thead>\n",
              "  <tbody>\n",
              "    <tr>\n",
              "      <th>1</th>\n",
              "      <td>Clifford the Big Red Dog</td>\n",
              "      <td>585245</td>\n",
              "      <td>As Emily struggles to fit in at home and at sc...</td>\n",
              "      <td>35</td>\n",
              "      <td>2734.004</td>\n",
              "      <td>Comedy</td>\n",
              "    </tr>\n",
              "    <tr>\n",
              "      <th>5</th>\n",
              "      <td>Encanto</td>\n",
              "      <td>568124</td>\n",
              "      <td>The tale of an extraordinary family, the Madri...</td>\n",
              "      <td>35</td>\n",
              "      <td>2744.462</td>\n",
              "      <td>Comedy</td>\n",
              "    </tr>\n",
              "    <tr>\n",
              "      <th>12</th>\n",
              "      <td>Ron's Gone Wrong</td>\n",
              "      <td>482321</td>\n",
              "      <td>In a world where walking, talking, digitally c...</td>\n",
              "      <td>35</td>\n",
              "      <td>2221.171</td>\n",
              "      <td>Comedy</td>\n",
              "    </tr>\n",
              "    <tr>\n",
              "      <th>36</th>\n",
              "      <td>The Boss Baby: Family Business</td>\n",
              "      <td>459151</td>\n",
              "      <td>The Templeton brothers — Tim and his Boss Baby...</td>\n",
              "      <td>35</td>\n",
              "      <td>633.597</td>\n",
              "      <td>Comedy</td>\n",
              "    </tr>\n",
              "    <tr>\n",
              "      <th>48</th>\n",
              "      <td>The Addams Family 2</td>\n",
              "      <td>639721</td>\n",
              "      <td>The Addams get tangled up in more wacky advent...</td>\n",
              "      <td>35</td>\n",
              "      <td>471.517</td>\n",
              "      <td>Comedy</td>\n",
              "    </tr>\n",
              "    <tr>\n",
              "      <th>53</th>\n",
              "      <td>PAW Patrol: The Movie</td>\n",
              "      <td>675445</td>\n",
              "      <td>Ryder and the pups are called to Adventure Cit...</td>\n",
              "      <td>35</td>\n",
              "      <td>475.101</td>\n",
              "      <td>Comedy</td>\n",
              "    </tr>\n",
              "    <tr>\n",
              "      <th>61</th>\n",
              "      <td>Ghostbusters: Afterlife</td>\n",
              "      <td>425909</td>\n",
              "      <td>When a single mom and her two kids arrive in a...</td>\n",
              "      <td>35</td>\n",
              "      <td>374.068</td>\n",
              "      <td>Comedy</td>\n",
              "    </tr>\n",
              "    <tr>\n",
              "      <th>69</th>\n",
              "      <td>Sing 2</td>\n",
              "      <td>438695</td>\n",
              "      <td>Buster and his new cast now have their sights ...</td>\n",
              "      <td>35</td>\n",
              "      <td>309.915</td>\n",
              "      <td>Comedy</td>\n",
              "    </tr>\n",
              "    <tr>\n",
              "      <th>103</th>\n",
              "      <td>Don't Look Up</td>\n",
              "      <td>646380</td>\n",
              "      <td>Two astronomers go on a media tour to warn hum...</td>\n",
              "      <td>35</td>\n",
              "      <td>111.475</td>\n",
              "      <td>Comedy</td>\n",
              "    </tr>\n",
              "    <tr>\n",
              "      <th>113</th>\n",
              "      <td>Silent Night</td>\n",
              "      <td>664574</td>\n",
              "      <td>Nell, Simon, and their boy Art are ready to we...</td>\n",
              "      <td>35</td>\n",
              "      <td>70.971</td>\n",
              "      <td>Comedy</td>\n",
              "    </tr>\n",
              "    <tr>\n",
              "      <th>157</th>\n",
              "      <td>1917</td>\n",
              "      <td>530915</td>\n",
              "      <td>At the height of the First World War, two youn...</td>\n",
              "      <td>10752</td>\n",
              "      <td>43.188</td>\n",
              "      <td>War</td>\n",
              "    </tr>\n",
              "    <tr>\n",
              "      <th>226</th>\n",
              "      <td>The Tragedy of Macbeth</td>\n",
              "      <td>591538</td>\n",
              "      <td>Macbeth, the Thane of Glamis, receives a proph...</td>\n",
              "      <td>10752</td>\n",
              "      <td>18.915</td>\n",
              "      <td>War</td>\n",
              "    </tr>\n",
              "    <tr>\n",
              "      <th>424</th>\n",
              "      <td>Benediction</td>\n",
              "      <td>399178</td>\n",
              "      <td>The story of soldier and poet Siegfried Sassoo...</td>\n",
              "      <td>10752</td>\n",
              "      <td>5.005</td>\n",
              "      <td>War</td>\n",
              "    </tr>\n",
              "    <tr>\n",
              "      <th>588</th>\n",
              "      <td>Narvik: Hitler's First Defeat</td>\n",
              "      <td>619930</td>\n",
              "      <td>April, 1940. The eyes of the world are on Narv...</td>\n",
              "      <td>10752</td>\n",
              "      <td>2.107</td>\n",
              "      <td>War</td>\n",
              "    </tr>\n",
              "    <tr>\n",
              "      <th>781</th>\n",
              "      <td>Zeros and Ones</td>\n",
              "      <td>762433</td>\n",
              "      <td>Called to Rome to stop an imminent terrorist b...</td>\n",
              "      <td>10752</td>\n",
              "      <td>1448.865</td>\n",
              "      <td>War</td>\n",
              "    </tr>\n",
              "    <tr>\n",
              "      <th>792</th>\n",
              "      <td>Amina</td>\n",
              "      <td>885110</td>\n",
              "      <td>In 16th-century Zazzau, now Zaria, Nigeria, Am...</td>\n",
              "      <td>10752</td>\n",
              "      <td>1056.288</td>\n",
              "      <td>War</td>\n",
              "    </tr>\n",
              "    <tr>\n",
              "      <th>1353</th>\n",
              "      <td>Hacksaw Ridge</td>\n",
              "      <td>324786</td>\n",
              "      <td>WWII American Army Medic Desmond T. Doss, who ...</td>\n",
              "      <td>10752</td>\n",
              "      <td>174.553</td>\n",
              "      <td>War</td>\n",
              "    </tr>\n",
              "    <tr>\n",
              "      <th>1632</th>\n",
              "      <td>Fury</td>\n",
              "      <td>228150</td>\n",
              "      <td>In the last months of World War II, as the All...</td>\n",
              "      <td>10752</td>\n",
              "      <td>117.672</td>\n",
              "      <td>War</td>\n",
              "    </tr>\n",
              "    <tr>\n",
              "      <th>1869</th>\n",
              "      <td>Inglourious Basterds</td>\n",
              "      <td>16869</td>\n",
              "      <td>In Nazi-occupied France during World War II, a...</td>\n",
              "      <td>10752</td>\n",
              "      <td>100.361</td>\n",
              "      <td>War</td>\n",
              "    </tr>\n",
              "    <tr>\n",
              "      <th>2206</th>\n",
              "      <td>Justice Society: World War II</td>\n",
              "      <td>736069</td>\n",
              "      <td>When the Flash finds himself dropped into the ...</td>\n",
              "      <td>10752</td>\n",
              "      <td>87.708</td>\n",
              "      <td>War</td>\n",
              "    </tr>\n",
              "  </tbody>\n",
              "</table>\n",
              "</div>"
            ],
            "text/plain": [
              "                               title      id  ... popularity   label\n",
              "1           Clifford the Big Red Dog  585245  ...   2734.004  Comedy\n",
              "5                            Encanto  568124  ...   2744.462  Comedy\n",
              "12                  Ron's Gone Wrong  482321  ...   2221.171  Comedy\n",
              "36    The Boss Baby: Family Business  459151  ...    633.597  Comedy\n",
              "48               The Addams Family 2  639721  ...    471.517  Comedy\n",
              "53             PAW Patrol: The Movie  675445  ...    475.101  Comedy\n",
              "61           Ghostbusters: Afterlife  425909  ...    374.068  Comedy\n",
              "69                            Sing 2  438695  ...    309.915  Comedy\n",
              "103                    Don't Look Up  646380  ...    111.475  Comedy\n",
              "113                     Silent Night  664574  ...     70.971  Comedy\n",
              "157                             1917  530915  ...     43.188     War\n",
              "226           The Tragedy of Macbeth  591538  ...     18.915     War\n",
              "424                      Benediction  399178  ...      5.005     War\n",
              "588    Narvik: Hitler's First Defeat  619930  ...      2.107     War\n",
              "781                   Zeros and Ones  762433  ...   1448.865     War\n",
              "792                            Amina  885110  ...   1056.288     War\n",
              "1353                   Hacksaw Ridge  324786  ...    174.553     War\n",
              "1632                            Fury  228150  ...    117.672     War\n",
              "1869            Inglourious Basterds   16869  ...    100.361     War\n",
              "2206   Justice Society: World War II  736069  ...     87.708     War\n",
              "\n",
              "[20 rows x 6 columns]"
            ]
          },
          "metadata": {},
          "execution_count": 234
        }
      ]
    }
  ]
}