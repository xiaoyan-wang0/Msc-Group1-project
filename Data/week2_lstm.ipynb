{
 "cells": [
  {
   "cell_type": "code",
   "execution_count": 1,
   "metadata": {},
   "outputs": [
    {
     "name": "stderr",
     "output_type": "stream",
     "text": [
      "[nltk_data] Downloading package stopwords to\n",
      "[nltk_data]     C:\\Users\\TengkaiGao\\AppData\\Roaming\\nltk_data...\n",
      "[nltk_data]   Package stopwords is already up-to-date!\n"
     ]
    }
   ],
   "source": [
    "import seaborn as sns\n",
    "import matplotlib.pyplot as plt\n",
    "import pandas as pd\n",
    "import numpy as np\n",
    "import numpy as np # linear algebra\n",
    "import pandas as pd # data processing, CSV file I/O (e.g. pd.read_csv)\n",
    "import tensorflow as tf\n",
    "from tensorflow.keras.preprocessing import text,sequence\n",
    "from tensorflow.keras.models import Sequential\n",
    "from tensorflow.keras.layers import Dense,Dropout,Activation\n",
    "from tensorflow.keras.layers import Embedding\n",
    "from tensorflow.keras.layers import Conv1D,GlobalMaxPooling1D,MaxPooling1D\n",
    "from sklearn.model_selection import train_test_split\n",
    "import re    #for regex\n",
    "import string\n",
    "import re    #for regex\n",
    "import nltk\n",
    "import nltk\n",
    "nltk.download('stopwords')\n",
    "from wordcloud import WordCloud\n",
    "from nltk.corpus import stopwords"
   ]
  },
  {
   "cell_type": "code",
   "execution_count": 2,
   "metadata": {},
   "outputs": [],
   "source": [
    "from tensorflow.keras.layers import Dense, Dropout, Activation, Flatten, Embedding, Conv1D, GlobalMaxPooling1D,SpatialDropout1D,GlobalAveragePooling1D, LSTM, SimpleRNN"
   ]
  },
  {
   "cell_type": "code",
   "execution_count": 3,
   "metadata": {},
   "outputs": [],
   "source": [
    "train = pd.read_csv('G:/toxic_detector_final.csv',usecols =[\"comment_text\",\"Toxic\"])"
   ]
  },
  {
   "cell_type": "code",
   "execution_count": 4,
   "metadata": {},
   "outputs": [],
   "source": [
    "clean = {\n",
    "\"aren't\" : \"are not\",\n",
    "\"can't\" : \"can not\",\n",
    "\"couldn't\" : \"could not\",\n",
    "\"didn't\" : \"did not\",\n",
    "\"doesn't\" : \"does not\",\n",
    "\"don't\" : \"do not\",\n",
    "\"hadn't\" : \"had not\",\n",
    "\"hasn't\" : \"has not\",\n",
    "\"haven't\" : \"have not\",\n",
    "\"he'd\" : \"he would\",\n",
    "\"he'll\" : \"he will\",\n",
    "\"he's\" : \"he is\",\n",
    "\"i'd\" : \"I would\",\n",
    "\"i'd\" : \"I had\",\n",
    "\"i'll\" : \"I will\",\n",
    "\"i'm\" : \"I am\",\n",
    "\"isn't\" : \"is not\",\n",
    "\"it's\" : \"it is\",\n",
    "\"it'll\":\"it will\",\n",
    "\"i've\" : \"I have\",\n",
    "\"let's\" : \"let us\",\n",
    "\"mightn't\" : \"might not\",\n",
    "\"mustn't\" : \"must not\",\n",
    "\"shan't\" : \"shall not\",\n",
    "\"she'd\" : \"she would\",\n",
    "\"she'll\" : \"she will\",\n",
    "\"she's\" : \"she is\",\n",
    "\"shouldn't\" : \"should not\",\n",
    "\"that's\" : \"that is\",\n",
    "\"there's\" : \"there is\",\n",
    "\"they'd\" : \"they would\",\n",
    "\"they'll\" : \"they will\",\n",
    "\"they're\" : \"they are\",\n",
    "\"they've\" : \"they have\",\n",
    "\"we'd\" : \"we would\",\n",
    "\"we're\" : \"we are\",\n",
    "\"weren't\" : \"were not\",\n",
    "\"we've\" : \"we have\",\n",
    "\"what'll\" : \"what will\",\n",
    "\"what're\" : \"what are\",\n",
    "\"what's\" : \"what is\",\n",
    "\"what've\" : \"what have\",\n",
    "\"where's\" : \"where is\",\n",
    "\"who'd\" : \"who would\",\n",
    "\"who'll\" : \"who will\",\n",
    "\"who're\" : \"who are\",\n",
    "\"who's\" : \"who is\",\n",
    "\"who've\" : \"who have\",\n",
    "\"won't\" : \"will not\",\n",
    "\"wouldn't\" : \"would not\",\n",
    "\"you'd\" : \"you would\",\n",
    "\"you'll\" : \"you will\",\n",
    "\"you're\" : \"you are\",\n",
    "\"you've\" : \"you have\",\n",
    "\"'re\": \" are\",\n",
    "\"wasn't\": \"was not\",\n",
    "\"we'll\":\" will\",\n",
    "\"didn't\": \"did not\",\n",
    "\"tryin'\":\"trying\"\n",
    "}"
   ]
  },
  {
   "cell_type": "code",
   "execution_count": 5,
   "metadata": {},
   "outputs": [],
   "source": [
    "def clean_text(text):\n",
    "    \n",
    "    text = text.lower()\n",
    "    text = re.sub(r'http[s]?://(?:[a-z]|[0-9]|[$-_@.&+]|[!*\\(\\),]|(?:%[0-9a-f][0-9a-f]))+', '', text) # clean url\n",
    "    text = re.sub(r'#(\\w+)', '', text)   # clean hashes\n",
    "    text = re.sub(r'@(\\w+)', '', text)   # clean @\n",
    "    text = re.sub(r'<[^>]+>', '', text)  # clean tags\n",
    "    text = re.sub(r'\\d+', '', text)      # clean digits\n",
    "    text = [clean[word] if word in clean else word for word in text.split()] \n",
    "    \n",
    "   \n",
    "    \n",
    "    return text"
   ]
  },
  {
   "cell_type": "code",
   "execution_count": 6,
   "metadata": {},
   "outputs": [],
   "source": [
    "train['comment_text_clean'] = train['comment_text'].apply(lambda x: clean_text(x))"
   ]
  },
  {
   "cell_type": "code",
   "execution_count": 7,
   "metadata": {},
   "outputs": [],
   "source": [
    "x=train[\"comment_text_clean\"]\n",
    "y=train[\"Toxic\"]"
   ]
  },
  {
   "cell_type": "code",
   "execution_count": 8,
   "metadata": {},
   "outputs": [],
   "source": [
    "train_x, test_x, train_y, test_y = train_test_split(x,y, test_size=0.2, random_state=1,shuffle=True)"
   ]
  },
  {
   "cell_type": "code",
   "execution_count": 9,
   "metadata": {},
   "outputs": [],
   "source": [
    "max_feature = 7000\n",
    "tokenizer = tf.keras.preprocessing.text.Tokenizer(max_feature,\n",
    "                                                  lower= True,\n",
    "                                                  filters= '!\"#$%&()*+,-./:;<=>?@[\\\\]^_`{|}~\\t\\n',\n",
    "                                                  split = \" \")\n",
    "\n",
    "tokenizer.fit_on_texts(train_x)"
   ]
  },
  {
   "cell_type": "code",
   "execution_count": 10,
   "metadata": {},
   "outputs": [],
   "source": [
    "sequences = tokenizer.texts_to_sequences(train_x)"
   ]
  },
  {
   "cell_type": "code",
   "execution_count": 11,
   "metadata": {},
   "outputs": [],
   "source": [
    "pad_sequences = tf.keras.preprocessing.sequence.pad_sequences(sequences,\n",
    "                                                             maxlen = 300)"
   ]
  },
  {
   "cell_type": "code",
   "execution_count": 12,
   "metadata": {},
   "outputs": [],
   "source": [
    "test_x_tokenized=tokenizer.texts_to_sequences(test_x)\n",
    "x_testing=tf.keras.preprocessing.sequence.pad_sequences(test_x_tokenized,maxlen=300)"
   ]
  },
  {
   "cell_type": "code",
   "execution_count": 39,
   "metadata": {},
   "outputs": [
    {
     "name": "stdout",
     "output_type": "stream",
     "text": [
      "Model: \"sequential_5\"\n",
      "_________________________________________________________________\n",
      "Layer (type)                 Output Shape              Param #   \n",
      "=================================================================\n",
      "embedding_5 (Embedding)      (None, 300, 32)           224000    \n",
      "_________________________________________________________________\n",
      "dropout_3 (Dropout)          (None, 300, 32)           0         \n",
      "_________________________________________________________________\n",
      "lstm_3 (LSTM)                (None, 30)                7560      \n",
      "_________________________________________________________________\n",
      "dropout_4 (Dropout)          (None, 30)                0         \n",
      "_________________________________________________________________\n",
      "dense_7 (Dense)              (None, 1)                 31        \n",
      "=================================================================\n",
      "Total params: 231,591\n",
      "Trainable params: 231,591\n",
      "Non-trainable params: 0\n",
      "_________________________________________________________________\n"
     ]
    }
   ],
   "source": [
    "model_lstm= tf.keras.Sequential([tf.keras.layers.Embedding(max_feature,32,input_length = 300),  \n",
    "                                 tf.keras.layers.Dropout(0.2),  \n",
    "                                 tf.keras.layers.LSTM(32),  \n",
    "                                 tf.keras.layers.Dropout(0.2),  \n",
    "                                 tf.keras.layers.Dense(1, activation = \"sigmoid\")]\n",
    "                                )\n",
    "\n",
    "model_lstm.summary()"
   ]
  },
  {
   "cell_type": "code",
   "execution_count": 40,
   "metadata": {},
   "outputs": [],
   "source": [
    "model_lstm.compile(loss = \"binary_crossentropy\",\n",
    "                 optimizer = tf.keras.optimizers.Adam(3e-3),\n",
    "                 metrics= [\"accuracy\"])"
   ]
  },
  {
   "cell_type": "code",
   "execution_count": 41,
   "metadata": {},
   "outputs": [
    {
     "name": "stdout",
     "output_type": "stream",
     "text": [
      "Epoch 1/20\n",
      "440/440 [==============================] - 10s 18ms/step - loss: 0.3422 - accuracy: 0.8539 - val_loss: 0.2499 - val_accuracy: 0.9012\n",
      "Epoch 2/20\n",
      "440/440 [==============================] - 8s 17ms/step - loss: 0.2238 - accuracy: 0.9135 - val_loss: 0.2476 - val_accuracy: 0.8989\n",
      "Epoch 3/20\n",
      "440/440 [==============================] - 8s 17ms/step - loss: 0.1887 - accuracy: 0.9267 - val_loss: 0.2547 - val_accuracy: 0.9024\n",
      "Epoch 4/20\n",
      "440/440 [==============================] - 8s 17ms/step - loss: 0.1542 - accuracy: 0.9393 - val_loss: 0.2855 - val_accuracy: 0.8941\n",
      "Epoch 5/20\n",
      "440/440 [==============================] - 8s 17ms/step - loss: 0.1368 - accuracy: 0.9463 - val_loss: 0.3259 - val_accuracy: 0.8996\n",
      "Epoch 6/20\n",
      "440/440 [==============================] - 8s 17ms/step - loss: 0.1162 - accuracy: 0.9565 - val_loss: 0.3232 - val_accuracy: 0.9044\n",
      "Epoch 7/20\n",
      "440/440 [==============================] - 8s 17ms/step - loss: 0.1026 - accuracy: 0.9598 - val_loss: 0.3363 - val_accuracy: 0.8928\n",
      "Epoch 8/20\n",
      "440/440 [==============================] - 8s 17ms/step - loss: 0.0888 - accuracy: 0.9645 - val_loss: 0.3830 - val_accuracy: 0.8964\n",
      "Epoch 9/20\n",
      "440/440 [==============================] - 8s 17ms/step - loss: 0.0774 - accuracy: 0.9704 - val_loss: 0.3880 - val_accuracy: 0.8893\n",
      "Epoch 10/20\n",
      "440/440 [==============================] - 8s 17ms/step - loss: 0.0716 - accuracy: 0.9719 - val_loss: 0.4084 - val_accuracy: 0.8964\n",
      "Epoch 11/20\n",
      "440/440 [==============================] - 8s 17ms/step - loss: 0.0740 - accuracy: 0.9726 - val_loss: 0.4363 - val_accuracy: 0.8925\n",
      "Epoch 12/20\n",
      "440/440 [==============================] - 8s 18ms/step - loss: 0.0567 - accuracy: 0.9788 - val_loss: 0.4809 - val_accuracy: 0.8887\n",
      "Epoch 13/20\n",
      "440/440 [==============================] - 8s 17ms/step - loss: 0.0535 - accuracy: 0.9798 - val_loss: 0.5088 - val_accuracy: 0.8919\n",
      "Epoch 14/20\n",
      "440/440 [==============================] - 8s 17ms/step - loss: 0.0555 - accuracy: 0.9798 - val_loss: 0.5189 - val_accuracy: 0.8903\n",
      "Epoch 15/20\n",
      "440/440 [==============================] - 8s 17ms/step - loss: 0.0445 - accuracy: 0.9830 - val_loss: 0.5576 - val_accuracy: 0.8909\n",
      "Epoch 16/20\n",
      "440/440 [==============================] - 8s 18ms/step - loss: 0.0470 - accuracy: 0.9833 - val_loss: 0.5469 - val_accuracy: 0.8906\n",
      "Epoch 17/20\n",
      "440/440 [==============================] - 8s 17ms/step - loss: 0.0389 - accuracy: 0.9858 - val_loss: 0.5926 - val_accuracy: 0.8839\n",
      "Epoch 18/20\n",
      "440/440 [==============================] - 8s 17ms/step - loss: 0.0336 - accuracy: 0.9880 - val_loss: 0.6424 - val_accuracy: 0.8944\n",
      "Epoch 19/20\n",
      "440/440 [==============================] - 8s 17ms/step - loss: 0.0315 - accuracy: 0.9881 - val_loss: 0.6166 - val_accuracy: 0.8884\n",
      "Epoch 20/20\n",
      "440/440 [==============================] - 8s 17ms/step - loss: 0.0316 - accuracy: 0.9888 - val_loss: 0.6837 - val_accuracy: 0.8951\n"
     ]
    }
   ],
   "source": [
    "history = model_lstm.fit(\n",
    "    pad_sequences,train_y,\n",
    "    batch_size= 64,\n",
    "    epochs= 20,\n",
    "    validation_split= 0.1,\n",
    "    verbose=1,shuffle=True\n",
    ")"
   ]
  },
  {
   "cell_type": "code",
   "execution_count": 42,
   "metadata": {},
   "outputs": [
    {
     "name": "stdout",
     "output_type": "stream",
     "text": [
      "              precision    recall  f1-score   support\n",
      "\n",
      "           0     0.8700    0.9070    0.8881      3998\n",
      "           1     0.8979    0.8579    0.8775      3815\n",
      "\n",
      "    accuracy                         0.8830      7813\n",
      "   macro avg     0.8840    0.8824    0.8828      7813\n",
      "weighted avg     0.8836    0.8830    0.8829      7813\n",
      "\n"
     ]
    }
   ],
   "source": [
    "predictions = (model_lstm.predict(x_testing) > 0.5).astype(\"int32\")\n",
    "from sklearn.metrics import classification_report,confusion_matrix,accuracy_score\n",
    "#Classification report for bag of words \n",
    "report=classification_report(test_y,predictions,digits=4)\n",
    "print(report)"
   ]
  },
  {
   "cell_type": "code",
   "execution_count": 43,
   "metadata": {},
   "outputs": [
    {
     "data": {
      "image/png": "[encoded data removed]",
      "text/plain": [
       "<Figure size 432x288 with 1 Axes>"
      ]
     },
     "metadata": {
      "needs_background": "light"
     },
     "output_type": "display_data"
    }
   ],
   "source": [
    "from sklearn.metrics import roc_curve\n",
    "y_pred_keras =model_lstm.predict(x_testing).ravel()\n",
    "fpr_keras, tpr_keras, thresholds_keras = roc_curve(test_y, y_pred_keras)\n",
    "from sklearn.metrics import auc\n",
    "auc_keras = auc(fpr_keras, tpr_keras)\n",
    "plt.figure(1)\n",
    "plt.plot([0, 1], [0, 1], 'k--')\n",
    "plt.plot(fpr_keras, tpr_keras, label='Keras (area = {:.3f})'.format(auc_keras))\n",
    "plt.xlabel('False positive rate')\n",
    "plt.ylabel('True positive rate')\n",
    "plt.title('ROC curve')\n",
    "plt.legend(loc='best')\n",
    "plt.show()"
   ]
  },
  {
   "cell_type": "code",
   "execution_count": 71,
   "metadata": {},
   "outputs": [
    {
     "name": "stdout",
     "output_type": "stream",
     "text": [
      "Model: \"sequential_13\"\n",
      "_________________________________________________________________\n",
      "Layer (type)                 Output Shape              Param #   \n",
      "=================================================================\n",
      "embedding_13 (Embedding)     (None, 300, 32)           224000    \n",
      "_________________________________________________________________\n",
      "conv1d_4 (Conv1D)            (None, 296, 64)           10304     \n",
      "_________________________________________________________________\n",
      "global_max_pooling1d_3 (Glob (None, 64)                0         \n",
      "_________________________________________________________________\n",
      "dense_24 (Dense)             (None, 16)                1040      \n",
      "_________________________________________________________________\n",
      "dense_25 (Dense)             (None, 1)                 17        \n",
      "=================================================================\n",
      "Total params: 235,361\n",
      "Trainable params: 235,361\n",
      "Non-trainable params: 0\n",
      "_________________________________________________________________\n"
     ]
    }
   ],
   "source": [
    "model_cnn = tf.keras.Sequential([\n",
    "    tf.keras.layers.Embedding(max_feature, 32, input_length=300),\n",
    "    tf.keras.layers.Conv1D(64, 5, activation='relu'),\n",
    "    tf.keras.layers.GlobalMaxPooling1D(),\n",
    "    tf.keras.layers.Dense(16, activation='relu'),\n",
    "    tf.keras.layers.Dense(1, activation='sigmoid')\n",
    "])\n",
    "\n",
    "# compile model\n",
    "model_cnn.compile(loss='binary_crossentropy',\n",
    "              optimizer='adam',\n",
    "              metrics=['accuracy'])\n",
    "\n",
    "# model summary\n",
    "model_cnn.summary()"
   ]
  },
  {
   "cell_type": "code",
   "execution_count": 72,
   "metadata": {},
   "outputs": [],
   "source": [
    "model_cnn.compile(loss = \"binary_crossentropy\",\n",
    "                 optimizer = tf.keras.optimizers.Adam(3e-3),\n",
    "                 metrics= [\"accuracy\"])"
   ]
  },
  {
   "cell_type": "code",
   "execution_count": 73,
   "metadata": {},
   "outputs": [
    {
     "name": "stdout",
     "output_type": "stream",
     "text": [
      "Epoch 1/20\n",
      "440/440 [==============================] - 5s 8ms/step - loss: 0.3254 - accuracy: 0.8553 - val_loss: 0.2523 - val_accuracy: 0.8948\n",
      "Epoch 2/20\n",
      "440/440 [==============================] - 4s 8ms/step - loss: 0.1911 - accuracy: 0.9236 - val_loss: 0.2447 - val_accuracy: 0.9012\n",
      "Epoch 3/20\n",
      "440/440 [==============================] - 4s 8ms/step - loss: 0.1204 - accuracy: 0.9540 - val_loss: 0.3066 - val_accuracy: 0.8938\n",
      "Epoch 4/20\n",
      "440/440 [==============================] - 3s 8ms/step - loss: 0.0609 - accuracy: 0.9790 - val_loss: 0.3735 - val_accuracy: 0.8922\n",
      "Epoch 5/20\n",
      "440/440 [==============================] - 3s 8ms/step - loss: 0.0313 - accuracy: 0.9911 - val_loss: 0.4552 - val_accuracy: 0.8858\n",
      "Epoch 6/20\n",
      "440/440 [==============================] - 3s 8ms/step - loss: 0.0190 - accuracy: 0.9952 - val_loss: 0.4753 - val_accuracy: 0.8820\n",
      "Epoch 7/20\n",
      "440/440 [==============================] - 4s 9ms/step - loss: 0.0133 - accuracy: 0.9964 - val_loss: 0.5349 - val_accuracy: 0.8887\n",
      "Epoch 8/20\n",
      "440/440 [==============================] - 3s 8ms/step - loss: 0.0146 - accuracy: 0.9970 - val_loss: 0.5418 - val_accuracy: 0.8922\n",
      "Epoch 9/20\n",
      "440/440 [==============================] - 3s 8ms/step - loss: 0.0092 - accuracy: 0.9978 - val_loss: 0.6167 - val_accuracy: 0.8935\n",
      "Epoch 10/20\n",
      "440/440 [==============================] - 3s 8ms/step - loss: 0.0145 - accuracy: 0.9958 - val_loss: 0.6521 - val_accuracy: 0.8880\n",
      "Epoch 11/20\n",
      "440/440 [==============================] - 3s 8ms/step - loss: 0.0238 - accuracy: 0.9914 - val_loss: 0.6257 - val_accuracy: 0.8864\n",
      "Epoch 12/20\n",
      "440/440 [==============================] - 4s 8ms/step - loss: 0.0154 - accuracy: 0.9946 - val_loss: 0.7019 - val_accuracy: 0.8861\n",
      "Epoch 13/20\n",
      "440/440 [==============================] - 3s 8ms/step - loss: 0.0106 - accuracy: 0.9962 - val_loss: 0.7580 - val_accuracy: 0.8797\n",
      "Epoch 14/20\n",
      "440/440 [==============================] - 3s 8ms/step - loss: 0.0097 - accuracy: 0.9966 - val_loss: 0.7012 - val_accuracy: 0.8845\n",
      "Epoch 15/20\n",
      "440/440 [==============================] - 3s 8ms/step - loss: 0.0037 - accuracy: 0.9983 - val_loss: 0.7838 - val_accuracy: 0.8874\n",
      "Epoch 16/20\n",
      "440/440 [==============================] - 3s 8ms/step - loss: 0.0033 - accuracy: 0.9986 - val_loss: 0.8523 - val_accuracy: 0.8877\n",
      "Epoch 17/20\n",
      "440/440 [==============================] - 4s 8ms/step - loss: 0.0028 - accuracy: 0.9989 - val_loss: 0.8373 - val_accuracy: 0.8839\n",
      "Epoch 18/20\n",
      "440/440 [==============================] - 3s 8ms/step - loss: 0.0026 - accuracy: 0.9988 - val_loss: 0.8868 - val_accuracy: 0.8839\n",
      "Epoch 19/20\n",
      "440/440 [==============================] - 3s 8ms/step - loss: 0.0037 - accuracy: 0.9985 - val_loss: 1.0844 - val_accuracy: 0.8788\n",
      "Epoch 20/20\n",
      "440/440 [==============================] - 3s 8ms/step - loss: 0.0257 - accuracy: 0.9912 - val_loss: 0.6424 - val_accuracy: 0.8807\n"
     ]
    }
   ],
   "source": [
    "history = model_cnn.fit(\n",
    "    pad_sequences,train_y,\n",
    "    batch_size= 64,\n",
    "    epochs= 20,\n",
    "    validation_split= 0.1,\n",
    "    verbose=1,shuffle=True\n",
    ")"
   ]
  },
  {
   "cell_type": "code",
   "execution_count": 74,
   "metadata": {},
   "outputs": [
    {
     "name": "stdout",
     "output_type": "stream",
     "text": [
      "              precision    recall  f1-score   support\n",
      "\n",
      "           0     0.8679    0.9002    0.8837      3998\n",
      "           1     0.8912    0.8564    0.8734      3815\n",
      "\n",
      "    accuracy                         0.8788      7813\n",
      "   macro avg     0.8795    0.8783    0.8786      7813\n",
      "weighted avg     0.8792    0.8788    0.8787      7813\n",
      "\n"
     ]
    }
   ],
   "source": [
    "predictions = (model_cnn.predict(x_testing) > 0.5).astype(\"int32\")\n",
    "from sklearn.metrics import classification_report,confusion_matrix,accuracy_score\n",
    "#Classification report for bag of words \n",
    "report=classification_report(test_y,predictions,digits=4)\n",
    "print(report)"
   ]
  },
  {
   "cell_type": "code",
   "execution_count": 75,
   "metadata": {},
   "outputs": [
    {
     "data": {
      "image/png": "[encoded data removed]",
      "text/plain": [
       "<Figure size 432x288 with 1 Axes>"
      ]
     },
     "metadata": {
      "needs_background": "light"
     },
     "output_type": "display_data"
    }
   ],
   "source": [
    "from sklearn.metrics import roc_curve\n",
    "y_pred_keras =model_cnn.predict(x_testing).ravel()\n",
    "fpr_keras, tpr_keras, thresholds_keras = roc_curve(test_y, y_pred_keras)\n",
    "from sklearn.metrics import auc\n",
    "auc_keras = auc(fpr_keras, tpr_keras)\n",
    "plt.figure(1)\n",
    "plt.plot([0, 1], [0, 1], 'k--')\n",
    "plt.plot(fpr_keras, tpr_keras, label='Keras (area = {:.3f})'.format(auc_keras))\n",
    "plt.xlabel('False positive rate')\n",
    "plt.ylabel('True positive rate')\n",
    "plt.title('ROC curve')\n",
    "plt.legend(loc='best')\n",
    "plt.show()"
   ]
  },
  {
   "cell_type": "code",
   "execution_count": null,
   "metadata": {},
   "outputs": [],
   "source": []
  }
 ],
 "metadata": {
  "kernelspec": {
   "display_name": "Python 3",
   "language": "python",
   "name": "python3"
  },
  "language_info": {
   "codemirror_mode": {
    "name": "ipython",
    "version": 3
   },
   "file_extension": ".py",
   "mimetype": "text/x-python",
   "name": "python",
   "nbconvert_exporter": "python",
   "pygments_lexer": "ipython3",
   "version": "3.6.13"
  }
 },
 "nbformat": 4,
 "nbformat_minor": 4
}
