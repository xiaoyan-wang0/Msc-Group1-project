{
  "nbformat": 4,
  "nbformat_minor": 0,
  "metadata": {
    "colab": {
      "name": "nnlm.ipynb",
      "provenance": [],
      "collapsed_sections": []
    },
    "kernelspec": {
      "name": "python3",
      "display_name": "Python 3"
    },
    "language_info": {
      "name": "python"
    },
    "accelerator": "GPU"
  },
  "cells": [
    {
      "cell_type": "code",
      "metadata": {
        "id": "6VnyJwyZfnkv",
        "colab": {
          "base_uri": "https://localhost:8080/"
        },
        "outputId": "ea586e57-a06a-4fe8-c1fd-924296f94382"
      },
      "source": [
        "from google.colab import drive\n",
        "drive.mount('/content/drive')"
      ],
      "execution_count": 1,
      "outputs": [
        {
          "output_type": "stream",
          "name": "stdout",
          "text": [
            "Mounted at /content/drive\n"
          ]
        }
      ]
    },
    {
      "cell_type": "code",
      "metadata": {
        "id": "KpQSotrWJ3fF"
      },
      "source": [
        "import numpy as np\n",
        "import tensorflow as tf\n",
        "import tensorflow_hub as hub\n",
        "import seaborn as sns\n",
        "import matplotlib.pyplot as plt\n",
        "import pandas as pd\n",
        "import tensorflow as tf\n",
        "from tensorflow.keras.models import Sequential\n",
        "from tensorflow.keras.layers import Dense,Dropout,Activation\n",
        "from tensorflow.keras.layers import Embedding\n",
        "from tensorflow.keras.layers import Conv1D,GlobalMaxPooling1D,MaxPooling1D\n",
        "from sklearn.model_selection import train_test_split\n",
        "from keras.layers import Dense, Bidirectional, LSTM, Dropout, BatchNormalization,CuDNNLSTM\n",
        "from tensorflow import keras\n",
        "import string"
      ],
      "execution_count": 2,
      "outputs": []
    },
    {
      "cell_type": "code",
      "metadata": {
        "id": "nFZKV0EqfosH"
      },
      "source": [
        "train = pd.read_csv('/content/drive/MyDrive/toxic_5.csv')"
      ],
      "execution_count": 17,
      "outputs": []
    },
    {
      "cell_type": "code",
      "metadata": {
        "id": "r_RCPFTyJ3qq"
      },
      "source": [
        "train['comment_text'] = pd.DataFrame(train[\"comment_text\"].astype('str')) "
      ],
      "execution_count": 18,
      "outputs": []
    },
    {
      "cell_type": "code",
      "metadata": {
        "id": "uauRj4EaJ3tf",
        "colab": {
          "base_uri": "https://localhost:8080/"
        },
        "outputId": "0751f673-e0b1-409e-e518-f385e912d27c"
      },
      "source": [
        "import re\n",
        "!pip install contractions\n",
        "import contractions\n",
        "\n",
        "\n",
        "i=0\n",
        "for doc in train.comment_text:\n",
        "    doc = doc.lower()\n",
        "    doc=  re.sub(r\"https?://\\S+|www\\.\\S+\",'', doc)  #Remove URLs from a sample string\n",
        "    doc = re.sub(r'http[s]?://(?:[a-z]|[0-9]|[$-_@.&+]|[!*\\(\\),]|(?:%[0-9a-f][0-9a-f]))+', '', doc) # clean url\n",
        "    doc = re.sub(r'#(\\w+)', '',doc)   # clean hashes\n",
        "    doc = re.sub(r'[^\\x00-\\x7f]',r'', doc) #Remove non-ASCII characters \n",
        "    doc = re.sub(r'@(\\w+)', '', doc)   # clean @\n",
        "    doc = re.sub(r'<[^>]+>', '',doc)  # clean tags\n",
        "    doc = re.sub(r'\\d+', '',doc)      # clean digits\n",
        "    doc=re.sub(r'<.*?>','',doc)\n",
        "    doc = re.sub(\"#\", \" \",doc)\n",
        "    doc = re.sub(\":::\", \" \", doc)\n",
        "    doc = re.sub(\"\\n\", \" \",doc)\n",
        "    doc=re.sub(r'[^a-zA-Z\\s]','',doc,re.I|re.A)\n",
        "    punctuation = set(string.punctuation)  #remove the punctuation\n",
        "    doc = \"\".join([p for p in doc if p not in punctuation])\n",
        "    doc=contractions.fix(doc)\n",
        "    train.comment_text[i]=doc\n",
        "    i+=1"
      ],
      "execution_count": 19,
      "outputs": [
        {
          "output_type": "stream",
          "name": "stdout",
          "text": [
            "Requirement already satisfied: contractions in /usr/local/lib/python3.7/dist-packages (0.0.58)\n",
            "Requirement already satisfied: textsearch>=0.0.21 in /usr/local/lib/python3.7/dist-packages (from contractions) (0.0.21)\n",
            "Requirement already satisfied: anyascii in /usr/local/lib/python3.7/dist-packages (from textsearch>=0.0.21->contractions) (0.3.0)\n",
            "Requirement already satisfied: pyahocorasick in /usr/local/lib/python3.7/dist-packages (from textsearch>=0.0.21->contractions) (1.4.2)\n"
          ]
        },
        {
          "output_type": "stream",
          "name": "stderr",
          "text": [
            "/usr/local/lib/python3.7/dist-packages/ipykernel_launcher.py:24: SettingWithCopyWarning: \n",
            "A value is trying to be set on a copy of a slice from a DataFrame\n",
            "\n",
            "See the caveats in the documentation: https://pandas.pydata.org/pandas-docs/stable/user_guide/indexing.html#returning-a-view-versus-a-copy\n"
          ]
        }
      ]
    },
    {
      "cell_type": "code",
      "source": [
        "train['comment_text'] = pd.DataFrame(train[\"comment_text\"].astype('str')) "
      ],
      "metadata": {
        "id": "gl26ob7Js9n4"
      },
      "execution_count": 20,
      "outputs": []
    },
    {
      "cell_type": "code",
      "metadata": {
        "id": "ZFWgIlw0prt9"
      },
      "source": [
        "x=train[\"comment_text\"]\n",
        "y=train[\"Toxic\"]"
      ],
      "execution_count": 21,
      "outputs": []
    },
    {
      "cell_type": "code",
      "metadata": {
        "id": "Zqdm5nlbKsL0"
      },
      "source": [
        ""
      ],
      "execution_count": null,
      "outputs": []
    },
    {
      "cell_type": "code",
      "metadata": {
        "id": "bywqEF-Np9J2"
      },
      "source": [
        "train_x, test_x, train_y, test_y = train_test_split(x,y, test_size=0.2, random_state=2,shuffle=True)"
      ],
      "execution_count": 22,
      "outputs": []
    },
    {
      "cell_type": "code",
      "metadata": {
        "id": "5dur0ozAKsWt"
      },
      "source": [
        "embedding = \"https://tfhub.dev/google/nnlm-en-dim128/2\"    \n",
        "    \n",
        "hub_layer = hub.KerasLayer(embedding,output_shape=[128], input_shape=[], dtype=tf.string, trainable=True)"
      ],
      "execution_count": 23,
      "outputs": []
    },
    {
      "cell_type": "code",
      "metadata": {
        "colab": {
          "base_uri": "https://localhost:8080/"
        },
        "id": "GchTUOm9KsaO",
        "outputId": "d11dd538-124d-4db4-f399-506e9e096925"
      },
      "source": [
        "from tensorflow.keras.layers import LSTM\n",
        "from tensorflow.keras.layers import Dense\n",
        "from tensorflow.keras.layers import Bidirectional\n",
        "from tensorflow.keras.layers import Dropout\n",
        "bi_model=Sequential()\n",
        "bi_model.add(hub_layer)\n",
        "bi_model.add(tf.keras.layers.Reshape((1,128)))\n",
        "bi_model.add(Dropout(0.3))\n",
        "bi_model.add(Bidirectional(CuDNNLSTM(64,return_sequences=True)))\n",
        "bi_model.add(Dropout(0.3))\n",
        "bi_model.add(Bidirectional(CuDNNLSTM(64))) #lstm with 64 neurons\n",
        "bi_model.add(Dropout(0.3))\n",
        "bi_model.add(Dense(1,activation='sigmoid'))\n",
        "bi_model.compile(loss='binary_crossentropy',optimizer=tf.keras.optimizers.Adam(3e-3),metrics=['accuracy'])\n",
        "print(bi_model.summary())"
      ],
      "execution_count": 25,
      "outputs": [
        {
          "output_type": "stream",
          "name": "stdout",
          "text": [
            "Model: \"sequential_4\"\n",
            "_________________________________________________________________\n",
            " Layer (type)                Output Shape              Param #   \n",
            "=================================================================\n",
            " keras_layer_1 (KerasLayer)  (None, 128)               124642688 \n",
            "                                                                 \n",
            " reshape_4 (Reshape)         (None, 1, 128)            0         \n",
            "                                                                 \n",
            " dropout_4 (Dropout)         (None, 1, 128)            0         \n",
            "                                                                 \n",
            " bidirectional (Bidirectiona  (None, 1, 128)           99328     \n",
            " l)                                                              \n",
            "                                                                 \n",
            " dropout_5 (Dropout)         (None, 1, 128)            0         \n",
            "                                                                 \n",
            " bidirectional_1 (Bidirectio  (None, 128)              99328     \n",
            " nal)                                                            \n",
            "                                                                 \n",
            " dropout_6 (Dropout)         (None, 128)               0         \n",
            "                                                                 \n",
            " dense_1 (Dense)             (None, 1)                 129       \n",
            "                                                                 \n",
            "=================================================================\n",
            "Total params: 124,841,473\n",
            "Trainable params: 124,841,473\n",
            "Non-trainable params: 0\n",
            "_________________________________________________________________\n",
            "None\n"
          ]
        }
      ]
    },
    {
      "cell_type": "code",
      "metadata": {
        "colab": {
          "base_uri": "https://localhost:8080/"
        },
        "id": "BnDcSnGRLCV2",
        "outputId": "ed25204b-3784-4a51-b15b-bc794cde911c"
      },
      "source": [
        "callback=keras.callbacks.EarlyStopping(monitor='val_loss',min_delta=0, patience=5, verbose=2, mode='auto', restore_best_weights=True)\n",
        "history = bi_model.fit(x=train_x, y=train_y, batch_size=64, verbose=1, epochs=20, validation_split= 0.1,shuffle=True,callbacks=[callback])"
      ],
      "execution_count": 27,
      "outputs": [
        {
          "output_type": "stream",
          "name": "stdout",
          "text": [
            "Epoch 1/20\n",
            "462/462 [==============================] - 57s 124ms/step - loss: 0.2595 - accuracy: 0.8966 - val_loss: 0.2369 - val_accuracy: 0.9032\n",
            "Epoch 2/20\n",
            "462/462 [==============================] - 56s 121ms/step - loss: 0.1298 - accuracy: 0.9494 - val_loss: 0.2491 - val_accuracy: 0.9007\n",
            "Epoch 3/20\n",
            "462/462 [==============================] - 56s 121ms/step - loss: 0.0766 - accuracy: 0.9715 - val_loss: 0.3663 - val_accuracy: 0.8974\n",
            "Epoch 4/20\n",
            "462/462 [==============================] - 56s 121ms/step - loss: 0.0517 - accuracy: 0.9800 - val_loss: 0.4407 - val_accuracy: 0.8934\n",
            "Epoch 5/20\n",
            "462/462 [==============================] - 56s 121ms/step - loss: 0.0371 - accuracy: 0.9858 - val_loss: 0.4768 - val_accuracy: 0.8940\n",
            "Epoch 6/20\n",
            "462/462 [==============================] - ETA: 0s - loss: 0.0310 - accuracy: 0.9881Restoring model weights from the end of the best epoch: 1.\n",
            "462/462 [==============================] - 56s 121ms/step - loss: 0.0310 - accuracy: 0.9881 - val_loss: 0.5117 - val_accuracy: 0.8980\n",
            "Epoch 00006: early stopping\n"
          ]
        }
      ]
    },
    {
      "cell_type": "code",
      "metadata": {
        "colab": {
          "base_uri": "https://localhost:8080/",
          "height": 295
        },
        "id": "AQ4waDGENggm",
        "outputId": "e3ecd6e0-cc50-4585-91b7-63d4eab06ef5"
      },
      "source": [
        "from sklearn.metrics import roc_curve\n",
        "y_pred=bi_model.predict(test_x).ravel()\n",
        "fpr, tpr, thresholds = roc_curve(test_y, y_pred)\n",
        "from sklearn.metrics import auc\n",
        "auc_keras = auc(fpr, tpr)\n",
        "plt.figure(1)\n",
        "plt.plot([0, 1], [0, 1], 'k--')\n",
        "plt.plot(fpr, tpr, label='Keras (area = {:.3f})'.format(auc_keras))\n",
        "plt.xlabel('False positive rate')\n",
        "plt.ylabel('True positive rate')\n",
        "plt.title('NNLM_BI-LSTM_ROC curve')\n",
        "plt.legend(loc='best')\n",
        "plt.show()"
      ],
      "execution_count": 28,
      "outputs": [
        {
          "output_type": "display_data",
          "data": {
            "image/png": "[encoded data removed]",
            "text/plain": [
              "<Figure size 432x288 with 1 Axes>"
            ]
          },
          "metadata": {
            "needs_background": "light"
          }
        }
      ]
    },
    {
      "cell_type": "code",
      "metadata": {
        "colab": {
          "base_uri": "https://localhost:8080/"
        },
        "id": "RS2uXckJLCjX",
        "outputId": "13427b6b-1261-4619-b3f7-dae23f72ebe6"
      },
      "source": [
        "from sklearn.metrics import roc_curve\n",
        "import numpy as np\n",
        "from sklearn.metrics import classification_report\n",
        "fpr, tpr, thresholds = roc_curve(test_y, y_pred)\n",
        "y=tpr-fpr\n",
        "idx=np.argmax(y)#Youden_index\n",
        "best_threshold=thresholds[idx]\n",
        "print(\"The best threshold is\",best_threshold)\n",
        "print(classification_report(test_y, y_pred >best_threshold ,digits=4))"
      ],
      "execution_count": 29,
      "outputs": [
        {
          "output_type": "stream",
          "name": "stdout",
          "text": [
            "The best threshold is 0.6594613\n",
            "              precision    recall  f1-score   support\n",
            "\n",
            "           0     0.9028    0.9214    0.9120      4162\n",
            "           1     0.9174    0.8979    0.9076      4046\n",
            "\n",
            "    accuracy                         0.9098      8208\n",
            "   macro avg     0.9101    0.9097    0.9098      8208\n",
            "weighted avg     0.9100    0.9098    0.9098      8208\n",
            "\n"
          ]
        }
      ]
    },
    {
      "cell_type": "code",
      "metadata": {
        "id": "6aMPx3HaN8F0"
      },
      "source": [
        ""
      ],
      "execution_count": null,
      "outputs": []
    },
    {
      "cell_type": "code",
      "metadata": {
        "colab": {
          "base_uri": "https://localhost:8080/"
        },
        "id": "QHzPYVWjN8Vn",
        "outputId": "ad5edc7d-0ba6-4021-ce8e-afb2354722d2"
      },
      "source": [
        "from tensorflow.keras.layers import LSTM\n",
        "from tensorflow.keras.layers import Dense\n",
        "\n",
        "from tensorflow.keras.layers import Dropout\n",
        "lstm_model=Sequential()\n",
        "lstm_model.add(hub_layer)\n",
        "lstm_model.add(tf.keras.layers.Reshape((1,128)))\n",
        "lstm_model.add(LSTM(64))\n",
        "lstm_model.add(Dropout(0.3))\n",
        "lstm_model.add(Dense(1,activation='sigmoid'))\n",
        "lstm_model.compile(loss='binary_crossentropy',optimizer=tf.keras.optimizers.Adam(3e-3),metrics=['accuracy'])\n",
        "print(lstm_model.summary())"
      ],
      "execution_count": 30,
      "outputs": [
        {
          "output_type": "stream",
          "name": "stdout",
          "text": [
            "Model: \"sequential_5\"\n",
            "_________________________________________________________________\n",
            " Layer (type)                Output Shape              Param #   \n",
            "=================================================================\n",
            " keras_layer_1 (KerasLayer)  (None, 128)               124642688 \n",
            "                                                                 \n",
            " reshape_5 (Reshape)         (None, 1, 128)            0         \n",
            "                                                                 \n",
            " lstm_4 (LSTM)               (None, 64)                49408     \n",
            "                                                                 \n",
            " dropout_7 (Dropout)         (None, 64)                0         \n",
            "                                                                 \n",
            " dense_2 (Dense)             (None, 1)                 65        \n",
            "                                                                 \n",
            "=================================================================\n",
            "Total params: 124,692,161\n",
            "Trainable params: 124,692,161\n",
            "Non-trainable params: 0\n",
            "_________________________________________________________________\n",
            "None\n"
          ]
        }
      ]
    },
    {
      "cell_type": "code",
      "metadata": {
        "colab": {
          "base_uri": "https://localhost:8080/"
        },
        "id": "zVlA0CWUN8Y9",
        "outputId": "db515a22-f31b-4b61-8057-4c463c3f7ef2"
      },
      "source": [
        "callback=keras.callbacks.EarlyStopping(monitor='val_loss',min_delta=0, patience=5, verbose=2, mode='auto', restore_best_weights=True)\n",
        "history = lstm_model.fit(x=train_x, y=train_y, batch_size=64, verbose=1, epochs=20, validation_split= 0.1,shuffle=True,callbacks=[callback])"
      ],
      "execution_count": 31,
      "outputs": [
        {
          "output_type": "stream",
          "name": "stdout",
          "text": [
            "Epoch 1/20\n",
            "462/462 [==============================] - 58s 120ms/step - loss: 0.1661 - accuracy: 0.9380 - val_loss: 0.2513 - val_accuracy: 0.9004\n",
            "Epoch 2/20\n",
            "462/462 [==============================] - 54s 118ms/step - loss: 0.0805 - accuracy: 0.9704 - val_loss: 0.3473 - val_accuracy: 0.8986\n",
            "Epoch 3/20\n",
            "462/462 [==============================] - 54s 117ms/step - loss: 0.0450 - accuracy: 0.9829 - val_loss: 0.4653 - val_accuracy: 0.8910\n",
            "Epoch 4/20\n",
            "462/462 [==============================] - 54s 118ms/step - loss: 0.0297 - accuracy: 0.9883 - val_loss: 0.5423 - val_accuracy: 0.8919\n",
            "Epoch 5/20\n",
            "462/462 [==============================] - 54s 117ms/step - loss: 0.0237 - accuracy: 0.9911 - val_loss: 0.5972 - val_accuracy: 0.8898\n",
            "Epoch 6/20\n",
            "462/462 [==============================] - ETA: 0s - loss: 0.0161 - accuracy: 0.9936Restoring model weights from the end of the best epoch: 1.\n",
            "462/462 [==============================] - 54s 118ms/step - loss: 0.0161 - accuracy: 0.9936 - val_loss: 0.6935 - val_accuracy: 0.8864\n",
            "Epoch 00006: early stopping\n"
          ]
        }
      ]
    },
    {
      "cell_type": "code",
      "metadata": {
        "colab": {
          "base_uri": "https://localhost:8080/",
          "height": 295
        },
        "id": "wSml6tPxN8gK",
        "outputId": "83909bb8-6a69-4095-daa5-b6d454a56b93"
      },
      "source": [
        "from sklearn.metrics import roc_curve\n",
        "y_pred=lstm_model.predict(test_x).ravel()\n",
        "fpr, tpr, thresholds = roc_curve(test_y, y_pred)\n",
        "from sklearn.metrics import auc\n",
        "auc_keras = auc(fpr, tpr)\n",
        "plt.figure(1)\n",
        "plt.plot([0, 1], [0, 1], 'k--')\n",
        "plt.plot(fpr, tpr, label='Keras (area = {:.3f})'.format(auc_keras))\n",
        "plt.xlabel('False positive rate')\n",
        "plt.ylabel('True positive rate')\n",
        "plt.title('NNLM_LSTM_ROC curve')\n",
        "plt.legend(loc='best')\n",
        "plt.show()"
      ],
      "execution_count": 32,
      "outputs": [
        {
          "output_type": "display_data",
          "data": {
            "image/png": "[encoded data removed]",
            "text/plain": [
              "<Figure size 432x288 with 1 Axes>"
            ]
          },
          "metadata": {
            "needs_background": "light"
          }
        }
      ]
    },
    {
      "cell_type": "code",
      "metadata": {
        "colab": {
          "base_uri": "https://localhost:8080/"
        },
        "id": "NAuRZVesN8jV",
        "outputId": "9531750b-9bf8-47ed-9965-22271f77a54a"
      },
      "source": [
        "from sklearn.metrics import roc_curve\n",
        "import numpy as np\n",
        "from sklearn.metrics import classification_report\n",
        "fpr, tpr, thresholds = roc_curve(test_y, y_pred)\n",
        "y=tpr-fpr\n",
        "idx=np.argmax(y)#Youden_index\n",
        "best_threshold=thresholds[idx]\n",
        "print(\"The best threshold is\",best_threshold)\n",
        "print(classification_report(test_y, y_pred >best_threshold ,digits=4))"
      ],
      "execution_count": 33,
      "outputs": [
        {
          "output_type": "stream",
          "name": "stdout",
          "text": [
            "The best threshold is 0.68088305\n",
            "              precision    recall  f1-score   support\n",
            "\n",
            "           0     0.8973    0.9178    0.9075      4162\n",
            "           1     0.9134    0.8920    0.9026      4046\n",
            "\n",
            "    accuracy                         0.9051      8208\n",
            "   macro avg     0.9054    0.9049    0.9050      8208\n",
            "weighted avg     0.9053    0.9051    0.9051      8208\n",
            "\n"
          ]
        }
      ]
    },
    {
      "cell_type": "code",
      "metadata": {
        "id": "jXIYsT9hN8l-",
        "colab": {
          "base_uri": "https://localhost:8080/"
        },
        "outputId": "8733c107-f9c2-496c-cc3d-ffbbe3788dc1"
      },
      "source": [
        "from tensorflow.keras.layers import LSTM\n",
        "from tensorflow.keras.layers import Dense\n",
        "\n",
        "from tensorflow.keras.layers import Dropout\n",
        "lstm_model=Sequential()\n",
        "lstm_model.add(hub_layer)\n",
        "lstm_model.add(tf.keras.layers.Reshape((1,128)))\n",
        "lstm_model.add(Dropout(0.3))\n",
        "lstm_model.add(LSTM(64,return_sequences=True))\n",
        "lstm_model.add(Dropout(0.3))\n",
        "lstm_model.add(LSTM(64))\n",
        "lstm_model.add(Dense(1,activation='sigmoid'))\n",
        "lstm_model.compile(loss='binary_crossentropy',optimizer=tf.keras.optimizers.Adam(3e-3),metrics=['accuracy'])\n",
        "print(lstm_model.summary())"
      ],
      "execution_count": 34,
      "outputs": [
        {
          "output_type": "stream",
          "name": "stdout",
          "text": [
            "Model: \"sequential_6\"\n",
            "_________________________________________________________________\n",
            " Layer (type)                Output Shape              Param #   \n",
            "=================================================================\n",
            " keras_layer_1 (KerasLayer)  (None, 128)               124642688 \n",
            "                                                                 \n",
            " reshape_6 (Reshape)         (None, 1, 128)            0         \n",
            "                                                                 \n",
            " dropout_8 (Dropout)         (None, 1, 128)            0         \n",
            "                                                                 \n",
            " lstm_5 (LSTM)               (None, 1, 64)             49408     \n",
            "                                                                 \n",
            " dropout_9 (Dropout)         (None, 1, 64)             0         \n",
            "                                                                 \n",
            " lstm_6 (LSTM)               (None, 64)                33024     \n",
            "                                                                 \n",
            " dense_3 (Dense)             (None, 1)                 65        \n",
            "                                                                 \n",
            "=================================================================\n",
            "Total params: 124,725,185\n",
            "Trainable params: 124,725,185\n",
            "Non-trainable params: 0\n",
            "_________________________________________________________________\n",
            "None\n"
          ]
        }
      ]
    },
    {
      "cell_type": "code",
      "source": [
        "callback=keras.callbacks.EarlyStopping(monitor='val_loss',min_delta=0, patience=5, verbose=2, mode='auto', restore_best_weights=True)\n",
        "history = lstm_model.fit(x=train_x, y=train_y, batch_size=64, verbose=1, epochs=20, validation_split= 0.1,shuffle=True,callbacks=[callback])"
      ],
      "metadata": {
        "colab": {
          "base_uri": "https://localhost:8080/"
        },
        "id": "b0G5ME5lMnz8",
        "outputId": "39898552-5a1e-459b-c3ee-81ecf1b3013d"
      },
      "execution_count": 35,
      "outputs": [
        {
          "output_type": "stream",
          "name": "stdout",
          "text": [
            "Epoch 1/20\n",
            "462/462 [==============================] - 61s 123ms/step - loss: 0.1117 - accuracy: 0.9636 - val_loss: 0.2839 - val_accuracy: 0.8986\n",
            "Epoch 2/20\n",
            "462/462 [==============================] - 56s 120ms/step - loss: 0.0612 - accuracy: 0.9780 - val_loss: 0.3653 - val_accuracy: 0.8986\n",
            "Epoch 3/20\n",
            "462/462 [==============================] - 55s 120ms/step - loss: 0.0404 - accuracy: 0.9850 - val_loss: 0.4340 - val_accuracy: 0.8980\n",
            "Epoch 4/20\n",
            "462/462 [==============================] - 55s 120ms/step - loss: 0.0307 - accuracy: 0.9879 - val_loss: 0.5310 - val_accuracy: 0.8934\n",
            "Epoch 5/20\n",
            "462/462 [==============================] - 55s 120ms/step - loss: 0.0228 - accuracy: 0.9913 - val_loss: 0.5654 - val_accuracy: 0.8980\n",
            "Epoch 6/20\n",
            "462/462 [==============================] - ETA: 0s - loss: 0.0171 - accuracy: 0.9939Restoring model weights from the end of the best epoch: 1.\n",
            "462/462 [==============================] - 56s 120ms/step - loss: 0.0171 - accuracy: 0.9939 - val_loss: 0.6176 - val_accuracy: 0.8840\n",
            "Epoch 00006: early stopping\n"
          ]
        }
      ]
    },
    {
      "cell_type": "code",
      "source": [
        "from sklearn.metrics import roc_curve\n",
        "y_pred=lstm_model.predict(test_x).ravel()\n",
        "fpr, tpr, thresholds = roc_curve(test_y, y_pred)\n",
        "from sklearn.metrics import auc\n",
        "auc_keras = auc(fpr, tpr)\n",
        "plt.figure(1)\n",
        "plt.plot([0, 1], [0, 1], 'k--')\n",
        "plt.plot(fpr, tpr, label='Keras (area = {:.3f})'.format(auc_keras))\n",
        "plt.xlabel('False positive rate')\n",
        "plt.ylabel('True positive rate')\n",
        "plt.title('NNLM_STACK_LSTM_ROC curve')\n",
        "plt.legend(loc='best')\n",
        "plt.show()"
      ],
      "metadata": {
        "colab": {
          "base_uri": "https://localhost:8080/",
          "height": 295
        },
        "id": "4CkjIdALMsBc",
        "outputId": "8fbe57b7-a7a9-42cd-9072-76e8a25e57b6"
      },
      "execution_count": 36,
      "outputs": [
        {
          "output_type": "display_data",
          "data": {
            "image/png": "[encoded data removed]",
            "text/plain": [
              "<Figure size 432x288 with 1 Axes>"
            ]
          },
          "metadata": {
            "needs_background": "light"
          }
        }
      ]
    },
    {
      "cell_type": "code",
      "source": [
        "from sklearn.metrics import roc_curve\n",
        "import numpy as np\n",
        "from sklearn.metrics import classification_report\n",
        "fpr, tpr, thresholds = roc_curve(test_y, y_pred)\n",
        "y=tpr-fpr\n",
        "idx=np.argmax(y)#Youden_index\n",
        "best_threshold=thresholds[idx]\n",
        "print(\"The best threshold is\",best_threshold)\n",
        "print(classification_report(test_y, y_pred >best_threshold ,digits=4))"
      ],
      "metadata": {
        "colab": {
          "base_uri": "https://localhost:8080/"
        },
        "id": "gbV0Ws61NyUk",
        "outputId": "b7339ddf-5c1f-4d76-f566-2a97389bd766"
      },
      "execution_count": 37,
      "outputs": [
        {
          "output_type": "stream",
          "name": "stdout",
          "text": [
            "The best threshold is 0.5695874\n",
            "              precision    recall  f1-score   support\n",
            "\n",
            "           0     0.8927    0.9200    0.9062      4162\n",
            "           1     0.9150    0.8863    0.9004      4046\n",
            "\n",
            "    accuracy                         0.9034      8208\n",
            "   macro avg     0.9039    0.9031    0.9033      8208\n",
            "weighted avg     0.9037    0.9034    0.9033      8208\n",
            "\n"
          ]
        }
      ]
    }
  ]
}