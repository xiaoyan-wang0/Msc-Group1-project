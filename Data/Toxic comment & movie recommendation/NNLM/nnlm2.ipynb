{
  "nbformat": 4,
  "nbformat_minor": 0,
  "metadata": {
    "colab": {
      "name": "nnlm2.ipynb",
      "provenance": [],
      "collapsed_sections": []
    },
    "kernelspec": {
      "name": "python3",
      "display_name": "Python 3"
    },
    "language_info": {
      "name": "python"
    },
    "accelerator": "GPU"
  },
  "cells": [
    {
      "cell_type": "code",
      "metadata": {
        "id": "6VnyJwyZfnkv",
        "colab": {
          "base_uri": "https://localhost:8080/"
        },
        "outputId": "ea586e57-a06a-4fe8-c1fd-924296f94382"
      },
      "source": [
        "from google.colab import drive\n",
        "drive.mount('/content/drive')"
      ],
      "execution_count": 1,
      "outputs": [
        {
          "output_type": "stream",
          "name": "stdout",
          "text": [
            "Mounted at /content/drive\n"
          ]
        }
      ]
    },
    {
      "cell_type": "code",
      "metadata": {
        "id": "KpQSotrWJ3fF"
      },
      "source": [
        "import numpy as np\n",
        "import tensorflow as tf\n",
        "import tensorflow_hub as hub\n",
        "import seaborn as sns\n",
        "import matplotlib.pyplot as plt\n",
        "import pandas as pd\n",
        "import tensorflow as tf\n",
        "from tensorflow.keras.models import Sequential\n",
        "from tensorflow.keras.layers import Dense,Dropout,Activation\n",
        "from tensorflow.keras.layers import Embedding\n",
        "from tensorflow.keras.layers import Conv1D,GlobalMaxPooling1D,MaxPooling1D\n",
        "from sklearn.model_selection import train_test_split\n",
        "from keras.layers import Dense, Bidirectional, LSTM, Dropout, BatchNormalization,CuDNNLSTM\n",
        "from tensorflow import keras\n",
        "import string"
      ],
      "execution_count": 2,
      "outputs": []
    },
    {
      "cell_type": "code",
      "metadata": {
        "id": "nFZKV0EqfosH"
      },
      "source": [
        "train = pd.read_csv('/content/drive/MyDrive/toxic_5.csv')"
      ],
      "execution_count": 17,
      "outputs": []
    },
    {
      "cell_type": "code",
      "metadata": {
        "id": "r_RCPFTyJ3qq"
      },
      "source": [
        "train['comment_text'] = pd.DataFrame(train[\"comment_text\"].astype('str')) "
      ],
      "execution_count": 18,
      "outputs": []
    },
    {
      "cell_type": "code",
      "metadata": {
        "id": "uauRj4EaJ3tf",
        "colab": {
          "base_uri": "https://localhost:8080/"
        },
        "outputId": "0751f673-e0b1-409e-e518-f385e912d27c"
      },
      "source": [
        "import re\n",
        "!pip install contractions\n",
        "import contractions\n",
        "\n",
        "\n",
        "i=0\n",
        "for doc in train.comment_text:\n",
        "    doc = doc.lower()\n",
        "    doc=  re.sub(r\"https?://\\S+|www\\.\\S+\",'', doc)  #Remove URLs from a sample string\n",
        "    doc = re.sub(r'http[s]?://(?:[a-z]|[0-9]|[$-_@.&+]|[!*\\(\\),]|(?:%[0-9a-f][0-9a-f]))+', '', doc) # clean url\n",
        "    doc = re.sub(r'#(\\w+)', '',doc)   # clean hashes\n",
        "    doc = re.sub(r'[^\\x00-\\x7f]',r'', doc) #Remove non-ASCII characters \n",
        "    doc = re.sub(r'@(\\w+)', '', doc)   # clean @\n",
        "    doc = re.sub(r'<[^>]+>', '',doc)  # clean tags\n",
        "    doc = re.sub(r'\\d+', '',doc)      # clean digits\n",
        "    doc=re.sub(r'<.*?>','',doc)\n",
        "    doc = re.sub(\"#\", \" \",doc)\n",
        "    doc = re.sub(\":::\", \" \", doc)\n",
        "    doc = re.sub(\"\\n\", \" \",doc)\n",
        "    doc=re.sub(r'[^a-zA-Z\\s]','',doc,re.I|re.A)\n",
        "    punctuation = set(string.punctuation)  #remove the punctuation\n",
        "    doc = \"\".join([p for p in doc if p not in punctuation])\n",
        "    doc=contractions.fix(doc)\n",
        "    train.comment_text[i]=doc\n",
        "    i+=1"
      ],
      "execution_count": 19,
      "outputs": [
        {
          "output_type": "stream",
          "name": "stdout",
          "text": [
            "Requirement already satisfied: contractions in /usr/local/lib/python3.7/dist-packages (0.0.58)\n",
            "Requirement already satisfied: textsearch>=0.0.21 in /usr/local/lib/python3.7/dist-packages (from contractions) (0.0.21)\n",
            "Requirement already satisfied: anyascii in /usr/local/lib/python3.7/dist-packages (from textsearch>=0.0.21->contractions) (0.3.0)\n",
            "Requirement already satisfied: pyahocorasick in /usr/local/lib/python3.7/dist-packages (from textsearch>=0.0.21->contractions) (1.4.2)\n"
          ]
        },
        {
          "output_type": "stream",
          "name": "stderr",
          "text": [
            "/usr/local/lib/python3.7/dist-packages/ipykernel_launcher.py:24: SettingWithCopyWarning: \n",
            "A value is trying to be set on a copy of a slice from a DataFrame\n",
            "\n",
            "See the caveats in the documentation: https://pandas.pydata.org/pandas-docs/stable/user_guide/indexing.html#returning-a-view-versus-a-copy\n"
          ]
        }
      ]
    },
    {
      "cell_type": "code",
      "source": [
        "train['comment_text'] = pd.DataFrame(train[\"comment_text\"].astype('str')) "
      ],
      "metadata": {
        "id": "gl26ob7Js9n4"
      },
      "execution_count": 39,
      "outputs": []
    },
    {
      "cell_type": "code",
      "metadata": {
        "id": "ZFWgIlw0prt9"
      },
      "source": [
        "x=train[\"comment_text\"]\n",
        "y=train[\"Toxic\"]"
      ],
      "execution_count": 40,
      "outputs": []
    },
    {
      "cell_type": "code",
      "metadata": {
        "id": "Zqdm5nlbKsL0"
      },
      "source": [
        ""
      ],
      "execution_count": null,
      "outputs": []
    },
    {
      "cell_type": "code",
      "metadata": {
        "id": "bywqEF-Np9J2"
      },
      "source": [
        "train_x, test_x, train_y, test_y = train_test_split(x,y, test_size=0.2, random_state=3,shuffle=True)"
      ],
      "execution_count": 41,
      "outputs": []
    },
    {
      "cell_type": "code",
      "metadata": {
        "id": "5dur0ozAKsWt"
      },
      "source": [
        "embedding = \"https://tfhub.dev/google/nnlm-en-dim128/2\"    \n",
        "    \n",
        "hub_layer = hub.KerasLayer(embedding,output_shape=[128], input_shape=[], dtype=tf.string, trainable=True)"
      ],
      "execution_count": 42,
      "outputs": []
    },
    {
      "cell_type": "code",
      "metadata": {
        "colab": {
          "base_uri": "https://localhost:8080/"
        },
        "id": "GchTUOm9KsaO",
        "outputId": "fa8d49c7-c975-421c-f81f-d6ad4e053212"
      },
      "source": [
        "from tensorflow.keras.layers import LSTM\n",
        "from tensorflow.keras.layers import Dense\n",
        "from tensorflow.keras.layers import Bidirectional\n",
        "from tensorflow.keras.layers import Dropout\n",
        "bi_model=Sequential()\n",
        "bi_model.add(hub_layer)\n",
        "bi_model.add(tf.keras.layers.Reshape((1,128)))\n",
        "bi_model.add(Dropout(0.3))\n",
        "bi_model.add(Bidirectional(CuDNNLSTM(64,return_sequences=True)))\n",
        "bi_model.add(Dropout(0.3))\n",
        "bi_model.add(Bidirectional(CuDNNLSTM(64))) #lstm with 64 neurons\n",
        "bi_model.add(Dropout(0.3))\n",
        "bi_model.add(Dense(1,activation='sigmoid'))\n",
        "bi_model.compile(loss='binary_crossentropy',optimizer=tf.keras.optimizers.Adam(3e-3),metrics=['accuracy'])\n",
        "print(bi_model.summary())"
      ],
      "execution_count": 43,
      "outputs": [
        {
          "output_type": "stream",
          "name": "stdout",
          "text": [
            "Model: \"sequential_7\"\n",
            "_________________________________________________________________\n",
            " Layer (type)                Output Shape              Param #   \n",
            "=================================================================\n",
            " keras_layer_2 (KerasLayer)  (None, 128)               124642688 \n",
            "                                                                 \n",
            " reshape_7 (Reshape)         (None, 1, 128)            0         \n",
            "                                                                 \n",
            " dropout_10 (Dropout)        (None, 1, 128)            0         \n",
            "                                                                 \n",
            " bidirectional_2 (Bidirectio  (None, 1, 128)           99328     \n",
            " nal)                                                            \n",
            "                                                                 \n",
            " dropout_11 (Dropout)        (None, 1, 128)            0         \n",
            "                                                                 \n",
            " bidirectional_3 (Bidirectio  (None, 128)              99328     \n",
            " nal)                                                            \n",
            "                                                                 \n",
            " dropout_12 (Dropout)        (None, 128)               0         \n",
            "                                                                 \n",
            " dense_4 (Dense)             (None, 1)                 129       \n",
            "                                                                 \n",
            "=================================================================\n",
            "Total params: 124,841,473\n",
            "Trainable params: 124,841,473\n",
            "Non-trainable params: 0\n",
            "_________________________________________________________________\n",
            "None\n"
          ]
        }
      ]
    },
    {
      "cell_type": "code",
      "metadata": {
        "colab": {
          "base_uri": "https://localhost:8080/"
        },
        "id": "BnDcSnGRLCV2",
        "outputId": "b6c9b60d-5a24-4114-83f3-db7d3a575484"
      },
      "source": [
        "callback=keras.callbacks.EarlyStopping(monitor='val_loss',min_delta=0, patience=5, verbose=2, mode='auto', restore_best_weights=True)\n",
        "history = bi_model.fit(x=train_x, y=train_y, batch_size=64, verbose=1, epochs=20, validation_split= 0.1,shuffle=True,callbacks=[callback])"
      ],
      "execution_count": 44,
      "outputs": [
        {
          "output_type": "stream",
          "name": "stdout",
          "text": [
            "Epoch 1/20\n",
            "462/462 [==============================] - 61s 124ms/step - loss: 0.2681 - accuracy: 0.8866 - val_loss: 0.2223 - val_accuracy: 0.9096\n",
            "Epoch 2/20\n",
            "462/462 [==============================] - 56s 121ms/step - loss: 0.1305 - accuracy: 0.9507 - val_loss: 0.2763 - val_accuracy: 0.9010\n",
            "Epoch 3/20\n",
            "462/462 [==============================] - 56s 121ms/step - loss: 0.0770 - accuracy: 0.9687 - val_loss: 0.3012 - val_accuracy: 0.8986\n",
            "Epoch 4/20\n",
            "462/462 [==============================] - 56s 121ms/step - loss: 0.0540 - accuracy: 0.9784 - val_loss: 0.4217 - val_accuracy: 0.8986\n",
            "Epoch 5/20\n",
            "462/462 [==============================] - 56s 121ms/step - loss: 0.0393 - accuracy: 0.9848 - val_loss: 0.4546 - val_accuracy: 0.8952\n",
            "Epoch 6/20\n",
            "462/462 [==============================] - ETA: 0s - loss: 0.0322 - accuracy: 0.9874Restoring model weights from the end of the best epoch: 1.\n",
            "462/462 [==============================] - 56s 121ms/step - loss: 0.0322 - accuracy: 0.9874 - val_loss: 0.4658 - val_accuracy: 0.8965\n",
            "Epoch 00006: early stopping\n"
          ]
        }
      ]
    },
    {
      "cell_type": "code",
      "metadata": {
        "colab": {
          "base_uri": "https://localhost:8080/",
          "height": 295
        },
        "id": "AQ4waDGENggm",
        "outputId": "f193ecb6-897f-4cd9-eff4-fc9b79e57efd"
      },
      "source": [
        "from sklearn.metrics import roc_curve\n",
        "y_pred=bi_model.predict(test_x).ravel()\n",
        "fpr, tpr, thresholds = roc_curve(test_y, y_pred)\n",
        "from sklearn.metrics import auc\n",
        "auc_keras = auc(fpr, tpr)\n",
        "plt.figure(1)\n",
        "plt.plot([0, 1], [0, 1], 'k--')\n",
        "plt.plot(fpr, tpr, label='Keras (area = {:.3f})'.format(auc_keras))\n",
        "plt.xlabel('False positive rate')\n",
        "plt.ylabel('True positive rate')\n",
        "plt.title('NNLM_BI-LSTM_ROC curve')\n",
        "plt.legend(loc='best')\n",
        "plt.show()"
      ],
      "execution_count": 45,
      "outputs": [
        {
          "output_type": "display_data",
          "data": {
            "image/png": "[encoded data removed]",
            "text/plain": [
              "<Figure size 432x288 with 1 Axes>"
            ]
          },
          "metadata": {
            "needs_background": "light"
          }
        }
      ]
    },
    {
      "cell_type": "code",
      "metadata": {
        "colab": {
          "base_uri": "https://localhost:8080/"
        },
        "id": "RS2uXckJLCjX",
        "outputId": "82d15836-e1a5-4d60-aa2c-2eeaa200a941"
      },
      "source": [
        "from sklearn.metrics import roc_curve\n",
        "import numpy as np\n",
        "from sklearn.metrics import classification_report\n",
        "fpr, tpr, thresholds = roc_curve(test_y, y_pred)\n",
        "y=tpr-fpr\n",
        "idx=np.argmax(y)#Youden_index\n",
        "best_threshold=thresholds[idx]\n",
        "print(\"The best threshold is\",best_threshold)\n",
        "print(classification_report(test_y, y_pred >best_threshold ,digits=4))"
      ],
      "execution_count": 46,
      "outputs": [
        {
          "output_type": "stream",
          "name": "stdout",
          "text": [
            "The best threshold is 0.51362383\n",
            "              precision    recall  f1-score   support\n",
            "\n",
            "           0     0.9060    0.9285    0.9171      4154\n",
            "           1     0.9248    0.9013    0.9129      4054\n",
            "\n",
            "    accuracy                         0.9151      8208\n",
            "   macro avg     0.9154    0.9149    0.9150      8208\n",
            "weighted avg     0.9153    0.9151    0.9151      8208\n",
            "\n"
          ]
        }
      ]
    },
    {
      "cell_type": "code",
      "metadata": {
        "id": "6aMPx3HaN8F0"
      },
      "source": [
        ""
      ],
      "execution_count": null,
      "outputs": []
    },
    {
      "cell_type": "code",
      "metadata": {
        "colab": {
          "base_uri": "https://localhost:8080/"
        },
        "id": "QHzPYVWjN8Vn",
        "outputId": "8538472c-6e27-4170-9928-763189928cf6"
      },
      "source": [
        "from tensorflow.keras.layers import LSTM\n",
        "from tensorflow.keras.layers import Dense\n",
        "\n",
        "from tensorflow.keras.layers import Dropout\n",
        "lstm_model=Sequential()\n",
        "lstm_model.add(hub_layer)\n",
        "lstm_model.add(tf.keras.layers.Reshape((1,128)))\n",
        "lstm_model.add(LSTM(64))\n",
        "lstm_model.add(Dropout(0.3))\n",
        "lstm_model.add(Dense(1,activation='sigmoid'))\n",
        "lstm_model.compile(loss='binary_crossentropy',optimizer=tf.keras.optimizers.Adam(3e-3),metrics=['accuracy'])\n",
        "print(lstm_model.summary())"
      ],
      "execution_count": 47,
      "outputs": [
        {
          "output_type": "stream",
          "name": "stdout",
          "text": [
            "Model: \"sequential_8\"\n",
            "_________________________________________________________________\n",
            " Layer (type)                Output Shape              Param #   \n",
            "=================================================================\n",
            " keras_layer_2 (KerasLayer)  (None, 128)               124642688 \n",
            "                                                                 \n",
            " reshape_8 (Reshape)         (None, 1, 128)            0         \n",
            "                                                                 \n",
            " lstm_7 (LSTM)               (None, 64)                49408     \n",
            "                                                                 \n",
            " dropout_13 (Dropout)        (None, 64)                0         \n",
            "                                                                 \n",
            " dense_5 (Dense)             (None, 1)                 65        \n",
            "                                                                 \n",
            "=================================================================\n",
            "Total params: 124,692,161\n",
            "Trainable params: 124,692,161\n",
            "Non-trainable params: 0\n",
            "_________________________________________________________________\n",
            "None\n"
          ]
        }
      ]
    },
    {
      "cell_type": "code",
      "metadata": {
        "colab": {
          "base_uri": "https://localhost:8080/"
        },
        "id": "zVlA0CWUN8Y9",
        "outputId": "4e00150b-3c95-42f3-93cd-bf9b5df9d16a"
      },
      "source": [
        "callback=keras.callbacks.EarlyStopping(monitor='val_loss',min_delta=0, patience=5, verbose=2, mode='auto', restore_best_weights=True)\n",
        "history = lstm_model.fit(x=train_x, y=train_y, batch_size=64, verbose=1, epochs=20, validation_split= 0.1,shuffle=True,callbacks=[callback])"
      ],
      "execution_count": 48,
      "outputs": [
        {
          "output_type": "stream",
          "name": "stdout",
          "text": [
            "Epoch 1/20\n",
            "462/462 [==============================] - 57s 120ms/step - loss: 0.1670 - accuracy: 0.9397 - val_loss: 0.2582 - val_accuracy: 0.9029\n",
            "Epoch 2/20\n",
            "462/462 [==============================] - 54s 118ms/step - loss: 0.0818 - accuracy: 0.9690 - val_loss: 0.3195 - val_accuracy: 0.8971\n",
            "Epoch 3/20\n",
            "462/462 [==============================] - 55s 118ms/step - loss: 0.0446 - accuracy: 0.9829 - val_loss: 0.4385 - val_accuracy: 0.8986\n",
            "Epoch 4/20\n",
            "462/462 [==============================] - 55s 118ms/step - loss: 0.0290 - accuracy: 0.9889 - val_loss: 0.5558 - val_accuracy: 0.8861\n",
            "Epoch 5/20\n",
            "462/462 [==============================] - 55s 118ms/step - loss: 0.0213 - accuracy: 0.9916 - val_loss: 0.6500 - val_accuracy: 0.8998\n",
            "Epoch 6/20\n",
            "462/462 [==============================] - ETA: 0s - loss: 0.0158 - accuracy: 0.9941Restoring model weights from the end of the best epoch: 1.\n",
            "462/462 [==============================] - 55s 118ms/step - loss: 0.0158 - accuracy: 0.9941 - val_loss: 0.6162 - val_accuracy: 0.8882\n",
            "Epoch 00006: early stopping\n"
          ]
        }
      ]
    },
    {
      "cell_type": "code",
      "metadata": {
        "colab": {
          "base_uri": "https://localhost:8080/",
          "height": 295
        },
        "id": "wSml6tPxN8gK",
        "outputId": "0d349f9b-d710-46c8-a495-621c7586d6a1"
      },
      "source": [
        "from sklearn.metrics import roc_curve\n",
        "y_pred=lstm_model.predict(test_x).ravel()\n",
        "fpr, tpr, thresholds = roc_curve(test_y, y_pred)\n",
        "from sklearn.metrics import auc\n",
        "auc_keras = auc(fpr, tpr)\n",
        "plt.figure(1)\n",
        "plt.plot([0, 1], [0, 1], 'k--')\n",
        "plt.plot(fpr, tpr, label='Keras (area = {:.3f})'.format(auc_keras))\n",
        "plt.xlabel('False positive rate')\n",
        "plt.ylabel('True positive rate')\n",
        "plt.title('NNLM_LSTM_ROC curve')\n",
        "plt.legend(loc='best')\n",
        "plt.show()"
      ],
      "execution_count": 49,
      "outputs": [
        {
          "output_type": "display_data",
          "data": {
            "image/png": "[encoded data removed]",
            "text/plain": [
              "<Figure size 432x288 with 1 Axes>"
            ]
          },
          "metadata": {
            "needs_background": "light"
          }
        }
      ]
    },
    {
      "cell_type": "code",
      "metadata": {
        "colab": {
          "base_uri": "https://localhost:8080/"
        },
        "id": "NAuRZVesN8jV",
        "outputId": "708aca51-eea3-4f5f-ec51-ee8abf3d3f0a"
      },
      "source": [
        "from sklearn.metrics import roc_curve\n",
        "import numpy as np\n",
        "from sklearn.metrics import classification_report\n",
        "fpr, tpr, thresholds = roc_curve(test_y, y_pred)\n",
        "y=tpr-fpr\n",
        "idx=np.argmax(y)#Youden_index\n",
        "best_threshold=thresholds[idx]\n",
        "print(\"The best threshold is\",best_threshold)\n",
        "print(classification_report(test_y, y_pred >best_threshold ,digits=4))"
      ],
      "execution_count": 50,
      "outputs": [
        {
          "output_type": "stream",
          "name": "stdout",
          "text": [
            "The best threshold is 0.6189995\n",
            "              precision    recall  f1-score   support\n",
            "\n",
            "           0     0.9005    0.9213    0.9108      4154\n",
            "           1     0.9174    0.8957    0.9064      4054\n",
            "\n",
            "    accuracy                         0.9086      8208\n",
            "   macro avg     0.9089    0.9085    0.9086      8208\n",
            "weighted avg     0.9088    0.9086    0.9086      8208\n",
            "\n"
          ]
        }
      ]
    },
    {
      "cell_type": "code",
      "metadata": {
        "id": "jXIYsT9hN8l-",
        "colab": {
          "base_uri": "https://localhost:8080/"
        },
        "outputId": "617b10a0-4977-4550-f7f8-6ba86716df57"
      },
      "source": [
        "from tensorflow.keras.layers import LSTM\n",
        "from tensorflow.keras.layers import Dense\n",
        "\n",
        "from tensorflow.keras.layers import Dropout\n",
        "lstm_model=Sequential()\n",
        "lstm_model.add(hub_layer)\n",
        "lstm_model.add(tf.keras.layers.Reshape((1,128)))\n",
        "lstm_model.add(Dropout(0.3))\n",
        "lstm_model.add(LSTM(64,return_sequences=True))\n",
        "lstm_model.add(Dropout(0.3))\n",
        "lstm_model.add(LSTM(64))\n",
        "lstm_model.add(Dense(1,activation='sigmoid'))\n",
        "lstm_model.compile(loss='binary_crossentropy',optimizer=tf.keras.optimizers.Adam(3e-3),metrics=['accuracy'])\n",
        "print(lstm_model.summary())"
      ],
      "execution_count": 51,
      "outputs": [
        {
          "output_type": "stream",
          "name": "stdout",
          "text": [
            "Model: \"sequential_9\"\n",
            "_________________________________________________________________\n",
            " Layer (type)                Output Shape              Param #   \n",
            "=================================================================\n",
            " keras_layer_2 (KerasLayer)  (None, 128)               124642688 \n",
            "                                                                 \n",
            " reshape_9 (Reshape)         (None, 1, 128)            0         \n",
            "                                                                 \n",
            " dropout_14 (Dropout)        (None, 1, 128)            0         \n",
            "                                                                 \n",
            " lstm_8 (LSTM)               (None, 1, 64)             49408     \n",
            "                                                                 \n",
            " dropout_15 (Dropout)        (None, 1, 64)             0         \n",
            "                                                                 \n",
            " lstm_9 (LSTM)               (None, 64)                33024     \n",
            "                                                                 \n",
            " dense_6 (Dense)             (None, 1)                 65        \n",
            "                                                                 \n",
            "=================================================================\n",
            "Total params: 124,725,185\n",
            "Trainable params: 124,725,185\n",
            "Non-trainable params: 0\n",
            "_________________________________________________________________\n",
            "None\n"
          ]
        }
      ]
    },
    {
      "cell_type": "code",
      "source": [
        "callback=keras.callbacks.EarlyStopping(monitor='val_loss',min_delta=0, patience=5, verbose=2, mode='auto', restore_best_weights=True)\n",
        "history = lstm_model.fit(x=train_x, y=train_y, batch_size=64, verbose=1, epochs=20, validation_split= 0.1,shuffle=True,callbacks=[callback])"
      ],
      "metadata": {
        "colab": {
          "base_uri": "https://localhost:8080/"
        },
        "id": "b0G5ME5lMnz8",
        "outputId": "b07dfc2b-79db-43af-9575-9bfc8ab84d41"
      },
      "execution_count": 52,
      "outputs": [
        {
          "output_type": "stream",
          "name": "stdout",
          "text": [
            "Epoch 1/20\n",
            "462/462 [==============================] - 61s 123ms/step - loss: 0.1136 - accuracy: 0.9640 - val_loss: 0.2869 - val_accuracy: 0.9056\n",
            "Epoch 2/20\n",
            "462/462 [==============================] - 55s 120ms/step - loss: 0.0622 - accuracy: 0.9767 - val_loss: 0.3750 - val_accuracy: 0.8986\n",
            "Epoch 3/20\n",
            "462/462 [==============================] - 55s 120ms/step - loss: 0.0407 - accuracy: 0.9851 - val_loss: 0.4537 - val_accuracy: 0.8965\n",
            "Epoch 4/20\n",
            "462/462 [==============================] - 56s 121ms/step - loss: 0.0301 - accuracy: 0.9889 - val_loss: 0.4968 - val_accuracy: 0.9013\n",
            "Epoch 5/20\n",
            "462/462 [==============================] - 56s 120ms/step - loss: 0.0211 - accuracy: 0.9918 - val_loss: 0.5682 - val_accuracy: 0.8946\n",
            "Epoch 6/20\n",
            "462/462 [==============================] - ETA: 0s - loss: 0.0155 - accuracy: 0.9940Restoring model weights from the end of the best epoch: 1.\n",
            "462/462 [==============================] - 56s 120ms/step - loss: 0.0155 - accuracy: 0.9940 - val_loss: 0.6560 - val_accuracy: 0.8952\n",
            "Epoch 00006: early stopping\n"
          ]
        }
      ]
    },
    {
      "cell_type": "code",
      "source": [
        "from sklearn.metrics import roc_curve\n",
        "y_pred=lstm_model.predict(test_x).ravel()\n",
        "fpr, tpr, thresholds = roc_curve(test_y, y_pred)\n",
        "from sklearn.metrics import auc\n",
        "auc_keras = auc(fpr, tpr)\n",
        "plt.figure(1)\n",
        "plt.plot([0, 1], [0, 1], 'k--')\n",
        "plt.plot(fpr, tpr, label='Keras (area = {:.3f})'.format(auc_keras))\n",
        "plt.xlabel('False positive rate')\n",
        "plt.ylabel('True positive rate')\n",
        "plt.title('NNLM_STACK_LSTM_ROC curve')\n",
        "plt.legend(loc='best')\n",
        "plt.show()"
      ],
      "metadata": {
        "colab": {
          "base_uri": "https://localhost:8080/",
          "height": 295
        },
        "id": "4CkjIdALMsBc",
        "outputId": "bd1b66da-28fa-4036-f6ec-e7d9fd8a09ed"
      },
      "execution_count": 53,
      "outputs": [
        {
          "output_type": "display_data",
          "data": {
            "image/png": "[encoded data removed]",
            "text/plain": [
              "<Figure size 432x288 with 1 Axes>"
            ]
          },
          "metadata": {
            "needs_background": "light"
          }
        }
      ]
    },
    {
      "cell_type": "code",
      "source": [
        "from sklearn.metrics import roc_curve\n",
        "import numpy as np\n",
        "from sklearn.metrics import classification_report\n",
        "fpr, tpr, thresholds = roc_curve(test_y, y_pred)\n",
        "y=tpr-fpr\n",
        "idx=np.argmax(y)#Youden_index\n",
        "best_threshold=thresholds[idx]\n",
        "print(\"The best threshold is\",best_threshold)\n",
        "print(classification_report(test_y, y_pred >best_threshold ,digits=4))"
      ],
      "metadata": {
        "colab": {
          "base_uri": "https://localhost:8080/"
        },
        "id": "gbV0Ws61NyUk",
        "outputId": "a23942f9-a1e7-44eb-fb37-fd97510435bd"
      },
      "execution_count": 54,
      "outputs": [
        {
          "output_type": "stream",
          "name": "stdout",
          "text": [
            "The best threshold is 0.6059422\n",
            "              precision    recall  f1-score   support\n",
            "\n",
            "           0     0.8953    0.9266    0.9107      4154\n",
            "           1     0.9220    0.8890    0.9052      4054\n",
            "\n",
            "    accuracy                         0.9080      8208\n",
            "   macro avg     0.9086    0.9078    0.9079      8208\n",
            "weighted avg     0.9085    0.9080    0.9080      8208\n",
            "\n"
          ]
        }
      ]
    }
  ]
}