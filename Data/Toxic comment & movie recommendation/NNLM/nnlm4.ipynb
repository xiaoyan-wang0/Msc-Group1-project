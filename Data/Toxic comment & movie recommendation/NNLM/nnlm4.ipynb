{
  "nbformat": 4,
  "nbformat_minor": 0,
  "metadata": {
    "colab": {
      "name": "nnlm4.ipynb",
      "provenance": [],
      "collapsed_sections": []
    },
    "kernelspec": {
      "name": "python3",
      "display_name": "Python 3"
    },
    "language_info": {
      "name": "python"
    },
    "accelerator": "GPU"
  },
  "cells": [
    {
      "cell_type": "code",
      "metadata": {
        "id": "6VnyJwyZfnkv",
        "colab": {
          "base_uri": "https://localhost:8080/"
        },
        "outputId": "4ea1f4ff-eccb-4752-f3f4-8ae9bdd6e00c"
      },
      "source": [
        "from google.colab import drive\n",
        "drive.mount('/content/drive')"
      ],
      "execution_count": 55,
      "outputs": [
        {
          "output_type": "stream",
          "name": "stdout",
          "text": [
            "Drive already mounted at /content/drive; to attempt to forcibly remount, call drive.mount(\"/content/drive\", force_remount=True).\n"
          ]
        }
      ]
    },
    {
      "cell_type": "code",
      "metadata": {
        "id": "KpQSotrWJ3fF"
      },
      "source": [
        "import numpy as np\n",
        "import tensorflow as tf\n",
        "import tensorflow_hub as hub\n",
        "import seaborn as sns\n",
        "import matplotlib.pyplot as plt\n",
        "import pandas as pd\n",
        "import tensorflow as tf\n",
        "from tensorflow.keras.models import Sequential\n",
        "from tensorflow.keras.layers import Dense,Dropout,Activation\n",
        "from tensorflow.keras.layers import Embedding\n",
        "from tensorflow.keras.layers import Conv1D,GlobalMaxPooling1D,MaxPooling1D\n",
        "from sklearn.model_selection import train_test_split\n",
        "from keras.layers import Dense, Bidirectional, LSTM, Dropout, BatchNormalization,CuDNNLSTM\n",
        "from tensorflow import keras\n",
        "import string"
      ],
      "execution_count": 76,
      "outputs": []
    },
    {
      "cell_type": "code",
      "metadata": {
        "id": "nFZKV0EqfosH"
      },
      "source": [
        "train = pd.read_csv('/content/drive/MyDrive/toxic_5.csv')"
      ],
      "execution_count": 57,
      "outputs": []
    },
    {
      "cell_type": "code",
      "metadata": {
        "id": "r_RCPFTyJ3qq"
      },
      "source": [
        "train['comment_text'] = pd.DataFrame(train[\"comment_text\"].astype('str')) "
      ],
      "execution_count": 58,
      "outputs": []
    },
    {
      "cell_type": "code",
      "metadata": {
        "id": "uauRj4EaJ3tf",
        "colab": {
          "base_uri": "https://localhost:8080/"
        },
        "outputId": "405ae7a4-8a54-4bd2-c17a-a420c5873c2f"
      },
      "source": [
        "import re\n",
        "!pip install contractions\n",
        "import contractions\n",
        "\n",
        "\n",
        "i=0\n",
        "for doc in train.comment_text:\n",
        "    doc = doc.lower()\n",
        "    doc=  re.sub(r\"https?://\\S+|www\\.\\S+\",'', doc)  #Remove URLs from a sample string\n",
        "    doc = re.sub(r'http[s]?://(?:[a-z]|[0-9]|[$-_@.&+]|[!*\\(\\),]|(?:%[0-9a-f][0-9a-f]))+', '', doc) # clean url\n",
        "    doc = re.sub(r'#(\\w+)', '',doc)   # clean hashes\n",
        "    doc = re.sub(r'[^\\x00-\\x7f]',r'', doc) #Remove non-ASCII characters \n",
        "    doc = re.sub(r'@(\\w+)', '', doc)   # clean @\n",
        "    doc = re.sub(r'<[^>]+>', '',doc)  # clean tags\n",
        "    doc = re.sub(r'\\d+', '',doc)      # clean digits\n",
        "    doc=re.sub(r'<.*?>','',doc)\n",
        "    doc = re.sub(\"#\", \" \",doc)\n",
        "    doc = re.sub(\":::\", \" \", doc)\n",
        "    doc = re.sub(\"\\n\", \" \",doc)\n",
        "    doc=re.sub(r'[^a-zA-Z\\s]','',doc,re.I|re.A)\n",
        "    punctuation = set(string.punctuation)  #remove the punctuation\n",
        "    doc = \"\".join([p for p in doc if p not in punctuation])\n",
        "    doc=contractions.fix(doc)\n",
        "    train.comment_text[i]=doc\n",
        "    i+=1"
      ],
      "execution_count": 59,
      "outputs": [
        {
          "output_type": "stream",
          "name": "stdout",
          "text": [
            "Requirement already satisfied: contractions in /usr/local/lib/python3.7/dist-packages (0.0.58)\n",
            "Requirement already satisfied: textsearch>=0.0.21 in /usr/local/lib/python3.7/dist-packages (from contractions) (0.0.21)\n",
            "Requirement already satisfied: anyascii in /usr/local/lib/python3.7/dist-packages (from textsearch>=0.0.21->contractions) (0.3.0)\n",
            "Requirement already satisfied: pyahocorasick in /usr/local/lib/python3.7/dist-packages (from textsearch>=0.0.21->contractions) (1.4.2)\n"
          ]
        },
        {
          "output_type": "stream",
          "name": "stderr",
          "text": [
            "/usr/local/lib/python3.7/dist-packages/ipykernel_launcher.py:24: SettingWithCopyWarning: \n",
            "A value is trying to be set on a copy of a slice from a DataFrame\n",
            "\n",
            "See the caveats in the documentation: https://pandas.pydata.org/pandas-docs/stable/user_guide/indexing.html#returning-a-view-versus-a-copy\n"
          ]
        }
      ]
    },
    {
      "cell_type": "code",
      "source": [
        "train['comment_text'] = pd.DataFrame(train[\"comment_text\"].astype('str')) "
      ],
      "metadata": {
        "id": "gl26ob7Js9n4"
      },
      "execution_count": 77,
      "outputs": []
    },
    {
      "cell_type": "code",
      "metadata": {
        "id": "ZFWgIlw0prt9"
      },
      "source": [
        "x=train[\"comment_text\"]\n",
        "y=train[\"Toxic\"]"
      ],
      "execution_count": 78,
      "outputs": []
    },
    {
      "cell_type": "code",
      "metadata": {
        "id": "Zqdm5nlbKsL0"
      },
      "source": [
        ""
      ],
      "execution_count": null,
      "outputs": []
    },
    {
      "cell_type": "code",
      "metadata": {
        "id": "bywqEF-Np9J2"
      },
      "source": [
        "train_x, test_x, train_y, test_y = train_test_split(x,y, test_size=0.2, random_state=4,shuffle=True)"
      ],
      "execution_count": 79,
      "outputs": []
    },
    {
      "cell_type": "code",
      "metadata": {
        "id": "5dur0ozAKsWt"
      },
      "source": [
        "embedding = \"https://tfhub.dev/google/nnlm-en-dim128/2\"    \n",
        "    \n",
        "hub_layer = hub.KerasLayer(embedding,output_shape=[128], input_shape=[], dtype=tf.string, trainable=True)"
      ],
      "execution_count": 80,
      "outputs": []
    },
    {
      "cell_type": "code",
      "metadata": {
        "colab": {
          "base_uri": "https://localhost:8080/"
        },
        "id": "GchTUOm9KsaO",
        "outputId": "e5d8b711-cc8d-48ba-e8de-8ed4f93875b2"
      },
      "source": [
        "from tensorflow.keras.layers import LSTM\n",
        "from tensorflow.keras.layers import Dense\n",
        "from tensorflow.keras.layers import Bidirectional\n",
        "from tensorflow.keras.layers import Dropout\n",
        "bi_model=Sequential()\n",
        "bi_model.add(hub_layer)\n",
        "bi_model.add(tf.keras.layers.Reshape((1,128)))\n",
        "bi_model.add(Dropout(0.3))\n",
        "bi_model.add(Bidirectional(CuDNNLSTM(64,return_sequences=True)))\n",
        "bi_model.add(Dropout(0.3))\n",
        "bi_model.add(Bidirectional(CuDNNLSTM(64))) #lstm with 64 neurons\n",
        "bi_model.add(Dropout(0.3))\n",
        "bi_model.add(Dense(1,activation='sigmoid'))\n",
        "bi_model.compile(loss='binary_crossentropy',optimizer=tf.keras.optimizers.Adam(3e-3),metrics=['accuracy'])\n",
        "print(bi_model.summary())"
      ],
      "execution_count": 81,
      "outputs": [
        {
          "output_type": "stream",
          "name": "stdout",
          "text": [
            "Model: \"sequential_13\"\n",
            "_________________________________________________________________\n",
            " Layer (type)                Output Shape              Param #   \n",
            "=================================================================\n",
            " keras_layer_4 (KerasLayer)  (None, 128)               124642688 \n",
            "                                                                 \n",
            " reshape_13 (Reshape)        (None, 1, 128)            0         \n",
            "                                                                 \n",
            " dropout_22 (Dropout)        (None, 1, 128)            0         \n",
            "                                                                 \n",
            " bidirectional_6 (Bidirectio  (None, 1, 128)           99328     \n",
            " nal)                                                            \n",
            "                                                                 \n",
            " dropout_23 (Dropout)        (None, 1, 128)            0         \n",
            "                                                                 \n",
            " bidirectional_7 (Bidirectio  (None, 128)              99328     \n",
            " nal)                                                            \n",
            "                                                                 \n",
            " dropout_24 (Dropout)        (None, 128)               0         \n",
            "                                                                 \n",
            " dense_10 (Dense)            (None, 1)                 129       \n",
            "                                                                 \n",
            "=================================================================\n",
            "Total params: 124,841,473\n",
            "Trainable params: 124,841,473\n",
            "Non-trainable params: 0\n",
            "_________________________________________________________________\n",
            "None\n"
          ]
        }
      ]
    },
    {
      "cell_type": "code",
      "metadata": {
        "colab": {
          "base_uri": "https://localhost:8080/"
        },
        "id": "BnDcSnGRLCV2",
        "outputId": "14ec4915-6317-4cc4-e937-3d23b5d7d93e"
      },
      "source": [
        "callback=keras.callbacks.EarlyStopping(monitor='val_loss',min_delta=0, patience=5, verbose=3, mode='auto', restore_best_weights=True)\n",
        "history = bi_model.fit(x=train_x, y=train_y, batch_size=64, verbose=1, epochs=20, validation_split= 0.1,shuffle=True,callbacks=[callback])"
      ],
      "execution_count": 82,
      "outputs": [
        {
          "output_type": "stream",
          "name": "stdout",
          "text": [
            "Epoch 1/20\n",
            "462/462 [==============================] - 61s 123ms/step - loss: 0.2619 - accuracy: 0.8914 - val_loss: 0.2294 - val_accuracy: 0.9086\n",
            "Epoch 2/20\n",
            "462/462 [==============================] - 56s 120ms/step - loss: 0.1304 - accuracy: 0.9492 - val_loss: 0.2448 - val_accuracy: 0.9038\n",
            "Epoch 3/20\n",
            "462/462 [==============================] - 56s 121ms/step - loss: 0.0748 - accuracy: 0.9717 - val_loss: 0.3347 - val_accuracy: 0.8959\n",
            "Epoch 4/20\n",
            "462/462 [==============================] - 55s 120ms/step - loss: 0.0481 - accuracy: 0.9809 - val_loss: 0.4402 - val_accuracy: 0.8907\n",
            "Epoch 5/20\n",
            "462/462 [==============================] - 56s 120ms/step - loss: 0.0371 - accuracy: 0.9855 - val_loss: 0.4519 - val_accuracy: 0.8895\n",
            "Epoch 6/20\n",
            "462/462 [==============================] - ETA: 0s - loss: 0.0276 - accuracy: 0.9900Restoring model weights from the end of the best epoch: 1.\n",
            "462/462 [==============================] - 56s 121ms/step - loss: 0.0276 - accuracy: 0.9900 - val_loss: 0.4970 - val_accuracy: 0.8889\n",
            "Epoch 00006: early stopping\n"
          ]
        }
      ]
    },
    {
      "cell_type": "code",
      "metadata": {
        "colab": {
          "base_uri": "https://localhost:8080/",
          "height": 295
        },
        "id": "AQ4waDGENggm",
        "outputId": "b2541a4b-50c9-418f-ce63-61adb04b64f9"
      },
      "source": [
        "from sklearn.metrics import roc_curve\n",
        "y_pred=bi_model.predict(test_x).ravel()\n",
        "fpr, tpr, thresholds = roc_curve(test_y, y_pred)\n",
        "from sklearn.metrics import auc\n",
        "auc_keras = auc(fpr, tpr)\n",
        "plt.figure(1)\n",
        "plt.plot([0, 1], [0, 1], 'k--')\n",
        "plt.plot(fpr, tpr, label='Keras (area = {:.3f})'.format(auc_keras))\n",
        "plt.xlabel('False positive rate')\n",
        "plt.ylabel('True positive rate')\n",
        "plt.title('NNLM_BI-LSTM_ROC curve')\n",
        "plt.legend(loc='best')\n",
        "plt.show()"
      ],
      "execution_count": 83,
      "outputs": [
        {
          "output_type": "display_data",
          "data": {
            "image/png": "[encoded data removed]",
            "text/plain": [
              "<Figure size 432x288 with 1 Axes>"
            ]
          },
          "metadata": {
            "needs_background": "light"
          }
        }
      ]
    },
    {
      "cell_type": "code",
      "metadata": {
        "colab": {
          "base_uri": "https://localhost:8080/"
        },
        "id": "RS2uXckJLCjX",
        "outputId": "56909ae2-c1a1-411c-9e01-740dff3c28d6"
      },
      "source": [
        "from sklearn.metrics import roc_curve\n",
        "import numpy as np\n",
        "from sklearn.metrics import classification_report\n",
        "fpr, tpr, thresholds = roc_curve(test_y, y_pred)\n",
        "y=tpr-fpr\n",
        "idx=np.argmax(y)#Youden_index\n",
        "best_threshold=thresholds[idx]\n",
        "print(\"The best threshold is\",best_threshold)\n",
        "print(classification_report(test_y, y_pred >best_threshold ,digits=4))"
      ],
      "execution_count": 84,
      "outputs": [
        {
          "output_type": "stream",
          "name": "stdout",
          "text": [
            "The best threshold is 0.46694884\n",
            "              precision    recall  f1-score   support\n",
            "\n",
            "           0     0.9080    0.9322    0.9199      4289\n",
            "           1     0.9235    0.8967    0.9099      3919\n",
            "\n",
            "    accuracy                         0.9152      8208\n",
            "   macro avg     0.9158    0.9144    0.9149      8208\n",
            "weighted avg     0.9154    0.9152    0.9151      8208\n",
            "\n"
          ]
        }
      ]
    },
    {
      "cell_type": "code",
      "metadata": {
        "id": "6aMPx3HaN8F0"
      },
      "source": [
        ""
      ],
      "execution_count": null,
      "outputs": []
    },
    {
      "cell_type": "code",
      "metadata": {
        "colab": {
          "base_uri": "https://localhost:8080/"
        },
        "id": "QHzPYVWjN8Vn",
        "outputId": "2b1099e4-b876-43d1-c861-9470f53b3850"
      },
      "source": [
        "from tensorflow.keras.layers import LSTM\n",
        "from tensorflow.keras.layers import Dense\n",
        "\n",
        "from tensorflow.keras.layers import Dropout\n",
        "lstm_model=Sequential()\n",
        "lstm_model.add(hub_layer)\n",
        "lstm_model.add(tf.keras.layers.Reshape((1,128)))\n",
        "lstm_model.add(LSTM(64))\n",
        "lstm_model.add(Dropout(0.3))\n",
        "lstm_model.add(Dense(1,activation='sigmoid'))\n",
        "lstm_model.compile(loss='binary_crossentropy',optimizer=tf.keras.optimizers.Adam(3e-3),metrics=['accuracy'])\n",
        "print(lstm_model.summary())"
      ],
      "execution_count": 85,
      "outputs": [
        {
          "output_type": "stream",
          "name": "stdout",
          "text": [
            "Model: \"sequential_14\"\n",
            "_________________________________________________________________\n",
            " Layer (type)                Output Shape              Param #   \n",
            "=================================================================\n",
            " keras_layer_4 (KerasLayer)  (None, 128)               124642688 \n",
            "                                                                 \n",
            " reshape_14 (Reshape)        (None, 1, 128)            0         \n",
            "                                                                 \n",
            " lstm_13 (LSTM)              (None, 64)                49408     \n",
            "                                                                 \n",
            " dropout_25 (Dropout)        (None, 64)                0         \n",
            "                                                                 \n",
            " dense_11 (Dense)            (None, 1)                 65        \n",
            "                                                                 \n",
            "=================================================================\n",
            "Total params: 124,692,161\n",
            "Trainable params: 124,692,161\n",
            "Non-trainable params: 0\n",
            "_________________________________________________________________\n",
            "None\n"
          ]
        }
      ]
    },
    {
      "cell_type": "code",
      "metadata": {
        "colab": {
          "base_uri": "https://localhost:8080/"
        },
        "id": "zVlA0CWUN8Y9",
        "outputId": "6a3dfa0c-4a23-4ab1-89c9-16e577aad05b"
      },
      "source": [
        "callback=keras.callbacks.EarlyStopping(monitor='val_loss',min_delta=0, patience=5, verbose=2, mode='auto', restore_best_weights=True)\n",
        "history = lstm_model.fit(x=train_x, y=train_y, batch_size=64, verbose=1, epochs=20, validation_split= 0.1,shuffle=True,callbacks=[callback])"
      ],
      "execution_count": 86,
      "outputs": [
        {
          "output_type": "stream",
          "name": "stdout",
          "text": [
            "Epoch 1/20\n",
            "462/462 [==============================] - 58s 120ms/step - loss: 0.1696 - accuracy: 0.9379 - val_loss: 0.2480 - val_accuracy: 0.8998\n",
            "Epoch 2/20\n",
            "462/462 [==============================] - 54s 117ms/step - loss: 0.0812 - accuracy: 0.9692 - val_loss: 0.3359 - val_accuracy: 0.8907\n",
            "Epoch 3/20\n",
            "462/462 [==============================] - 54s 117ms/step - loss: 0.0447 - accuracy: 0.9827 - val_loss: 0.4032 - val_accuracy: 0.8901\n",
            "Epoch 4/20\n",
            "462/462 [==============================] - 54s 117ms/step - loss: 0.0294 - accuracy: 0.9891 - val_loss: 0.5373 - val_accuracy: 0.8946\n",
            "Epoch 5/20\n",
            "462/462 [==============================] - 54s 117ms/step - loss: 0.0188 - accuracy: 0.9928 - val_loss: 0.6380 - val_accuracy: 0.8858\n",
            "Epoch 6/20\n",
            "462/462 [==============================] - ETA: 0s - loss: 0.0178 - accuracy: 0.9932Restoring model weights from the end of the best epoch: 1.\n",
            "462/462 [==============================] - 54s 117ms/step - loss: 0.0178 - accuracy: 0.9932 - val_loss: 0.6513 - val_accuracy: 0.8910\n",
            "Epoch 00006: early stopping\n"
          ]
        }
      ]
    },
    {
      "cell_type": "code",
      "metadata": {
        "colab": {
          "base_uri": "https://localhost:8080/",
          "height": 295
        },
        "id": "wSml6tPxN8gK",
        "outputId": "2d91e128-56e3-4900-b475-658ec439ad13"
      },
      "source": [
        "from sklearn.metrics import roc_curve\n",
        "y_pred=lstm_model.predict(test_x).ravel()\n",
        "fpr, tpr, thresholds = roc_curve(test_y, y_pred)\n",
        "from sklearn.metrics import auc\n",
        "auc_keras = auc(fpr, tpr)\n",
        "plt.figure(1)\n",
        "plt.plot([0, 1], [0, 1], 'k--')\n",
        "plt.plot(fpr, tpr, label='Keras (area = {:.3f})'.format(auc_keras))\n",
        "plt.xlabel('False positive rate')\n",
        "plt.ylabel('True positive rate')\n",
        "plt.title('NNLM_LSTM_ROC curve')\n",
        "plt.legend(loc='best')\n",
        "plt.show()"
      ],
      "execution_count": 87,
      "outputs": [
        {
          "output_type": "display_data",
          "data": {
            "image/png": "[encoded data removed]",
            "text/plain": [
              "<Figure size 432x288 with 1 Axes>"
            ]
          },
          "metadata": {
            "needs_background": "light"
          }
        }
      ]
    },
    {
      "cell_type": "code",
      "metadata": {
        "colab": {
          "base_uri": "https://localhost:8080/"
        },
        "id": "NAuRZVesN8jV",
        "outputId": "3a966c7c-a8f6-4e0f-dd1d-2e72374e1cef"
      },
      "source": [
        "from sklearn.metrics import roc_curve\n",
        "import numpy as np\n",
        "from sklearn.metrics import classification_report\n",
        "fpr, tpr, thresholds = roc_curve(test_y, y_pred)\n",
        "y=tpr-fpr\n",
        "idx=np.argmax(y)#Youden_index\n",
        "best_threshold=thresholds[idx]\n",
        "print(\"The best threshold is\",best_threshold)\n",
        "print(classification_report(test_y, y_pred >best_threshold ,digits=4))"
      ],
      "execution_count": 88,
      "outputs": [
        {
          "output_type": "stream",
          "name": "stdout",
          "text": [
            "The best threshold is 0.5515567\n",
            "              precision    recall  f1-score   support\n",
            "\n",
            "           0     0.9040    0.9282    0.9159      4289\n",
            "           1     0.9190    0.8921    0.9053      3919\n",
            "\n",
            "    accuracy                         0.9109      8208\n",
            "   macro avg     0.9115    0.9101    0.9106      8208\n",
            "weighted avg     0.9112    0.9109    0.9109      8208\n",
            "\n"
          ]
        }
      ]
    },
    {
      "cell_type": "code",
      "metadata": {
        "id": "jXIYsT9hN8l-",
        "colab": {
          "base_uri": "https://localhost:8080/"
        },
        "outputId": "40b3dc3c-2da1-47f3-f8a7-82605aeff957"
      },
      "source": [
        "from tensorflow.keras.layers import LSTM\n",
        "from tensorflow.keras.layers import Dense\n",
        "\n",
        "from tensorflow.keras.layers import Dropout\n",
        "lstm_model=Sequential()\n",
        "lstm_model.add(hub_layer)\n",
        "lstm_model.add(tf.keras.layers.Reshape((1,128)))\n",
        "lstm_model.add(Dropout(0.3))\n",
        "lstm_model.add(LSTM(64,return_sequences=True))\n",
        "lstm_model.add(Dropout(0.3))\n",
        "lstm_model.add(LSTM(64))\n",
        "lstm_model.add(Dense(1,activation='sigmoid'))\n",
        "lstm_model.compile(loss='binary_crossentropy',optimizer=tf.keras.optimizers.Adam(3e-3),metrics=['accuracy'])\n",
        "print(lstm_model.summary())"
      ],
      "execution_count": 89,
      "outputs": [
        {
          "output_type": "stream",
          "name": "stdout",
          "text": [
            "Model: \"sequential_15\"\n",
            "_________________________________________________________________\n",
            " Layer (type)                Output Shape              Param #   \n",
            "=================================================================\n",
            " keras_layer_4 (KerasLayer)  (None, 128)               124642688 \n",
            "                                                                 \n",
            " reshape_15 (Reshape)        (None, 1, 128)            0         \n",
            "                                                                 \n",
            " dropout_26 (Dropout)        (None, 1, 128)            0         \n",
            "                                                                 \n",
            " lstm_14 (LSTM)              (None, 1, 64)             49408     \n",
            "                                                                 \n",
            " dropout_27 (Dropout)        (None, 1, 64)             0         \n",
            "                                                                 \n",
            " lstm_15 (LSTM)              (None, 64)                33024     \n",
            "                                                                 \n",
            " dense_12 (Dense)            (None, 1)                 65        \n",
            "                                                                 \n",
            "=================================================================\n",
            "Total params: 124,725,185\n",
            "Trainable params: 124,725,185\n",
            "Non-trainable params: 0\n",
            "_________________________________________________________________\n",
            "None\n"
          ]
        }
      ]
    },
    {
      "cell_type": "code",
      "source": [
        "callback=keras.callbacks.EarlyStopping(monitor='val_loss',min_delta=0, patience=5, verbose=2, mode='auto', restore_best_weights=True)\n",
        "history = lstm_model.fit(x=train_x, y=train_y, batch_size=64, verbose=1, epochs=20, validation_split= 0.1,shuffle=True,callbacks=[callback])"
      ],
      "metadata": {
        "colab": {
          "base_uri": "https://localhost:8080/"
        },
        "id": "b0G5ME5lMnz8",
        "outputId": "37d3a1dd-0550-4d44-d263-9c418dd63490"
      },
      "execution_count": 90,
      "outputs": [
        {
          "output_type": "stream",
          "name": "stdout",
          "text": [
            "Epoch 1/20\n",
            "462/462 [==============================] - 61s 123ms/step - loss: 0.1119 - accuracy: 0.9629 - val_loss: 0.3016 - val_accuracy: 0.8968\n",
            "Epoch 2/20\n",
            "462/462 [==============================] - 55s 120ms/step - loss: 0.0629 - accuracy: 0.9776 - val_loss: 0.3533 - val_accuracy: 0.8934\n",
            "Epoch 3/20\n",
            "462/462 [==============================] - 55s 119ms/step - loss: 0.0419 - accuracy: 0.9835 - val_loss: 0.5173 - val_accuracy: 0.8931\n",
            "Epoch 4/20\n",
            "462/462 [==============================] - 56s 121ms/step - loss: 0.0273 - accuracy: 0.9899 - val_loss: 0.5409 - val_accuracy: 0.8922\n",
            "Epoch 5/20\n",
            "462/462 [==============================] - 55s 120ms/step - loss: 0.0239 - accuracy: 0.9912 - val_loss: 0.5168 - val_accuracy: 0.8904\n",
            "Epoch 6/20\n",
            "462/462 [==============================] - ETA: 0s - loss: 0.0174 - accuracy: 0.9934Restoring model weights from the end of the best epoch: 1.\n",
            "462/462 [==============================] - 56s 120ms/step - loss: 0.0174 - accuracy: 0.9934 - val_loss: 0.6082 - val_accuracy: 0.8870\n",
            "Epoch 00006: early stopping\n"
          ]
        }
      ]
    },
    {
      "cell_type": "code",
      "source": [
        "from sklearn.metrics import roc_curve\n",
        "y_pred=lstm_model.predict(test_x).ravel()\n",
        "fpr, tpr, thresholds = roc_curve(test_y, y_pred)\n",
        "from sklearn.metrics import auc\n",
        "auc_keras = auc(fpr, tpr)\n",
        "plt.figure(1)\n",
        "plt.plot([0, 1], [0, 1], 'k--')\n",
        "plt.plot(fpr, tpr, label='Keras (area = {:.3f})'.format(auc_keras))\n",
        "plt.xlabel('False positive rate')\n",
        "plt.ylabel('True positive rate')\n",
        "plt.title('NNLM_STACK_LSTM_ROC curve')\n",
        "plt.legend(loc='best')\n",
        "plt.show()"
      ],
      "metadata": {
        "colab": {
          "base_uri": "https://localhost:8080/",
          "height": 295
        },
        "id": "4CkjIdALMsBc",
        "outputId": "dc636785-0cd7-4050-8d20-414b311aa25e"
      },
      "execution_count": 91,
      "outputs": [
        {
          "output_type": "display_data",
          "data": {
            "image/png": "[encoded data removed]",
            "text/plain": [
              "<Figure size 432x288 with 1 Axes>"
            ]
          },
          "metadata": {
            "needs_background": "light"
          }
        }
      ]
    },
    {
      "cell_type": "code",
      "source": [
        "from sklearn.metrics import roc_curve\n",
        "import numpy as np\n",
        "from sklearn.metrics import classification_report\n",
        "fpr, tpr, thresholds = roc_curve(test_y, y_pred)\n",
        "y=tpr-fpr\n",
        "idx=np.argmax(y)#Youden_index\n",
        "best_threshold=thresholds[idx]\n",
        "print(\"The best threshold is\",best_threshold)\n",
        "print(classification_report(test_y, y_pred >best_threshold ,digits=4))"
      ],
      "metadata": {
        "colab": {
          "base_uri": "https://localhost:8080/"
        },
        "id": "gbV0Ws61NyUk",
        "outputId": "30bdf732-0e6f-44a2-eb7e-b989d87c0666"
      },
      "execution_count": 92,
      "outputs": [
        {
          "output_type": "stream",
          "name": "stdout",
          "text": [
            "The best threshold is 0.5776153\n",
            "              precision    recall  f1-score   support\n",
            "\n",
            "           0     0.9067    0.9130    0.9099      4289\n",
            "           1     0.9041    0.8972    0.9006      3919\n",
            "\n",
            "    accuracy                         0.9055      8208\n",
            "   macro avg     0.9054    0.9051    0.9052      8208\n",
            "weighted avg     0.9054    0.9055    0.9054      8208\n",
            "\n"
          ]
        }
      ]
    }
  ]
}