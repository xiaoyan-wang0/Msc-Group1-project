{
  "nbformat": 4,
  "nbformat_minor": 0,
  "metadata": {
    "colab": {
      "name": "nnlm5.ipynb",
      "provenance": [],
      "collapsed_sections": []
    },
    "kernelspec": {
      "name": "python3",
      "display_name": "Python 3"
    },
    "language_info": {
      "name": "python"
    },
    "accelerator": "GPU"
  },
  "cells": [
    {
      "cell_type": "code",
      "metadata": {
        "id": "6VnyJwyZfnkv",
        "colab": {
          "base_uri": "https://localhost:8080/"
        },
        "outputId": "4ea1f4ff-eccb-4752-f3f4-8ae9bdd6e00c"
      },
      "source": [
        "from google.colab import drive\n",
        "drive.mount('/content/drive')"
      ],
      "execution_count": 55,
      "outputs": [
        {
          "output_type": "stream",
          "name": "stdout",
          "text": [
            "Drive already mounted at /content/drive; to attempt to forcibly remount, call drive.mount(\"/content/drive\", force_remount=True).\n"
          ]
        }
      ]
    },
    {
      "cell_type": "code",
      "metadata": {
        "id": "KpQSotrWJ3fF"
      },
      "source": [
        "import numpy as np\n",
        "import tensorflow as tf\n",
        "import tensorflow_hub as hub\n",
        "import seaborn as sns\n",
        "import matplotlib.pyplot as plt\n",
        "import pandas as pd\n",
        "import tensorflow as tf\n",
        "from tensorflow.keras.models import Sequential\n",
        "from tensorflow.keras.layers import Dense,Dropout,Activation\n",
        "from tensorflow.keras.layers import Embedding\n",
        "from tensorflow.keras.layers import Conv1D,GlobalMaxPooling1D,MaxPooling1D\n",
        "from sklearn.model_selection import train_test_split\n",
        "from keras.layers import Dense, Bidirectional, LSTM, Dropout, BatchNormalization,CuDNNLSTM\n",
        "from tensorflow import keras\n",
        "import string"
      ],
      "execution_count": 76,
      "outputs": []
    },
    {
      "cell_type": "code",
      "metadata": {
        "id": "nFZKV0EqfosH"
      },
      "source": [
        "train = pd.read_csv('/content/drive/MyDrive/toxic_5.csv')"
      ],
      "execution_count": 57,
      "outputs": []
    },
    {
      "cell_type": "code",
      "metadata": {
        "id": "r_RCPFTyJ3qq"
      },
      "source": [
        "train['comment_text'] = pd.DataFrame(train[\"comment_text\"].astype('str')) "
      ],
      "execution_count": 58,
      "outputs": []
    },
    {
      "cell_type": "code",
      "metadata": {
        "id": "uauRj4EaJ3tf",
        "colab": {
          "base_uri": "https://localhost:8080/"
        },
        "outputId": "405ae7a4-8a54-4bd2-c17a-a420c5873c2f"
      },
      "source": [
        "import re\n",
        "!pip install contractions\n",
        "import contractions\n",
        "\n",
        "\n",
        "i=0\n",
        "for doc in train.comment_text:\n",
        "    doc = doc.lower()\n",
        "    doc=  re.sub(r\"https?://\\S+|www\\.\\S+\",'', doc)  #Remove URLs from a sample string\n",
        "    doc = re.sub(r'http[s]?://(?:[a-z]|[0-9]|[$-_@.&+]|[!*\\(\\),]|(?:%[0-9a-f][0-9a-f]))+', '', doc) # clean url\n",
        "    doc = re.sub(r'#(\\w+)', '',doc)   # clean hashes\n",
        "    doc = re.sub(r'[^\\x00-\\x7f]',r'', doc) #Remove non-ASCII characters \n",
        "    doc = re.sub(r'@(\\w+)', '', doc)   # clean @\n",
        "    doc = re.sub(r'<[^>]+>', '',doc)  # clean tags\n",
        "    doc = re.sub(r'\\d+', '',doc)      # clean digits\n",
        "    doc=re.sub(r'<.*?>','',doc)\n",
        "    doc = re.sub(\"#\", \" \",doc)\n",
        "    doc = re.sub(\":::\", \" \", doc)\n",
        "    doc = re.sub(\"\\n\", \" \",doc)\n",
        "    doc=re.sub(r'[^a-zA-Z\\s]','',doc,re.I|re.A)\n",
        "    punctuation = set(string.punctuation)  #remove the punctuation\n",
        "    doc = \"\".join([p for p in doc if p not in punctuation])\n",
        "    doc=contractions.fix(doc)\n",
        "    train.comment_text[i]=doc\n",
        "    i+=1"
      ],
      "execution_count": 59,
      "outputs": [
        {
          "output_type": "stream",
          "name": "stdout",
          "text": [
            "Requirement already satisfied: contractions in /usr/local/lib/python3.7/dist-packages (0.0.58)\n",
            "Requirement already satisfied: textsearch>=0.0.21 in /usr/local/lib/python3.7/dist-packages (from contractions) (0.0.21)\n",
            "Requirement already satisfied: anyascii in /usr/local/lib/python3.7/dist-packages (from textsearch>=0.0.21->contractions) (0.3.0)\n",
            "Requirement already satisfied: pyahocorasick in /usr/local/lib/python3.7/dist-packages (from textsearch>=0.0.21->contractions) (1.4.2)\n"
          ]
        },
        {
          "output_type": "stream",
          "name": "stderr",
          "text": [
            "/usr/local/lib/python3.7/dist-packages/ipykernel_launcher.py:24: SettingWithCopyWarning: \n",
            "A value is trying to be set on a copy of a slice from a DataFrame\n",
            "\n",
            "See the caveats in the documentation: https://pandas.pydata.org/pandas-docs/stable/user_guide/indexing.html#returning-a-view-versus-a-copy\n"
          ]
        }
      ]
    },
    {
      "cell_type": "code",
      "source": [
        "train['comment_text'] = pd.DataFrame(train[\"comment_text\"].astype('str')) "
      ],
      "metadata": {
        "id": "gl26ob7Js9n4"
      },
      "execution_count": 93,
      "outputs": []
    },
    {
      "cell_type": "code",
      "metadata": {
        "id": "ZFWgIlw0prt9"
      },
      "source": [
        "x=train[\"comment_text\"]\n",
        "y=train[\"Toxic\"]"
      ],
      "execution_count": 94,
      "outputs": []
    },
    {
      "cell_type": "code",
      "metadata": {
        "id": "Zqdm5nlbKsL0"
      },
      "source": [
        ""
      ],
      "execution_count": null,
      "outputs": []
    },
    {
      "cell_type": "code",
      "metadata": {
        "id": "bywqEF-Np9J2"
      },
      "source": [
        "train_x, test_x, train_y, test_y = train_test_split(x,y, test_size=0.2, random_state=5,shuffle=True)"
      ],
      "execution_count": 95,
      "outputs": []
    },
    {
      "cell_type": "code",
      "metadata": {
        "id": "5dur0ozAKsWt"
      },
      "source": [
        "embedding = \"https://tfhub.dev/google/nnlm-en-dim128/2\"    \n",
        "    \n",
        "hub_layer = hub.KerasLayer(embedding,output_shape=[128], input_shape=[], dtype=tf.string, trainable=True)"
      ],
      "execution_count": 96,
      "outputs": []
    },
    {
      "cell_type": "code",
      "metadata": {
        "colab": {
          "base_uri": "https://localhost:8080/"
        },
        "id": "GchTUOm9KsaO",
        "outputId": "ebbef4ae-0cef-460c-a06e-306c9678f06c"
      },
      "source": [
        "from tensorflow.keras.layers import LSTM\n",
        "from tensorflow.keras.layers import Dense\n",
        "from tensorflow.keras.layers import Bidirectional\n",
        "from tensorflow.keras.layers import Dropout\n",
        "bi_model=Sequential()\n",
        "bi_model.add(hub_layer)\n",
        "bi_model.add(tf.keras.layers.Reshape((1,128)))\n",
        "bi_model.add(Dropout(0.3))\n",
        "bi_model.add(Bidirectional(CuDNNLSTM(64,return_sequences=True)))\n",
        "bi_model.add(Dropout(0.3))\n",
        "bi_model.add(Bidirectional(CuDNNLSTM(64))) #lstm with 64 neurons\n",
        "bi_model.add(Dropout(0.3))\n",
        "bi_model.add(Dense(1,activation='sigmoid'))\n",
        "bi_model.compile(loss='binary_crossentropy',optimizer=tf.keras.optimizers.Adam(3e-3),metrics=['accuracy'])\n",
        "print(bi_model.summary())"
      ],
      "execution_count": 97,
      "outputs": [
        {
          "output_type": "stream",
          "name": "stdout",
          "text": [
            "Model: \"sequential_16\"\n",
            "_________________________________________________________________\n",
            " Layer (type)                Output Shape              Param #   \n",
            "=================================================================\n",
            " keras_layer_5 (KerasLayer)  (None, 128)               124642688 \n",
            "                                                                 \n",
            " reshape_16 (Reshape)        (None, 1, 128)            0         \n",
            "                                                                 \n",
            " dropout_28 (Dropout)        (None, 1, 128)            0         \n",
            "                                                                 \n",
            " bidirectional_8 (Bidirectio  (None, 1, 128)           99328     \n",
            " nal)                                                            \n",
            "                                                                 \n",
            " dropout_29 (Dropout)        (None, 1, 128)            0         \n",
            "                                                                 \n",
            " bidirectional_9 (Bidirectio  (None, 128)              99328     \n",
            " nal)                                                            \n",
            "                                                                 \n",
            " dropout_30 (Dropout)        (None, 128)               0         \n",
            "                                                                 \n",
            " dense_13 (Dense)            (None, 1)                 129       \n",
            "                                                                 \n",
            "=================================================================\n",
            "Total params: 124,841,473\n",
            "Trainable params: 124,841,473\n",
            "Non-trainable params: 0\n",
            "_________________________________________________________________\n",
            "None\n"
          ]
        }
      ]
    },
    {
      "cell_type": "code",
      "metadata": {
        "colab": {
          "base_uri": "https://localhost:8080/"
        },
        "id": "BnDcSnGRLCV2",
        "outputId": "a84593a3-7117-4fda-bbbd-8bc1c917d26a"
      },
      "source": [
        "callback=keras.callbacks.EarlyStopping(monitor='val_loss',min_delta=0, patience=5, verbose=3, mode='auto', restore_best_weights=True)\n",
        "history = bi_model.fit(x=train_x, y=train_y, batch_size=64, verbose=1, epochs=20, validation_split= 0.1,shuffle=True,callbacks=[callback])"
      ],
      "execution_count": 98,
      "outputs": [
        {
          "output_type": "stream",
          "name": "stdout",
          "text": [
            "Epoch 1/20\n",
            "462/462 [==============================] - 60s 123ms/step - loss: 0.2674 - accuracy: 0.8882 - val_loss: 0.2190 - val_accuracy: 0.9108\n",
            "Epoch 2/20\n",
            "462/462 [==============================] - 56s 121ms/step - loss: 0.1299 - accuracy: 0.9500 - val_loss: 0.2409 - val_accuracy: 0.9099\n",
            "Epoch 3/20\n",
            "462/462 [==============================] - 56s 120ms/step - loss: 0.0765 - accuracy: 0.9708 - val_loss: 0.3144 - val_accuracy: 0.8989\n",
            "Epoch 4/20\n",
            "462/462 [==============================] - 56s 121ms/step - loss: 0.0530 - accuracy: 0.9807 - val_loss: 0.4209 - val_accuracy: 0.8971\n",
            "Epoch 5/20\n",
            "462/462 [==============================] - 56s 121ms/step - loss: 0.0388 - accuracy: 0.9849 - val_loss: 0.4471 - val_accuracy: 0.9023\n",
            "Epoch 6/20\n",
            "462/462 [==============================] - ETA: 0s - loss: 0.0284 - accuracy: 0.9885Restoring model weights from the end of the best epoch: 1.\n",
            "462/462 [==============================] - 56s 121ms/step - loss: 0.0284 - accuracy: 0.9885 - val_loss: 0.5279 - val_accuracy: 0.8925\n",
            "Epoch 00006: early stopping\n"
          ]
        }
      ]
    },
    {
      "cell_type": "code",
      "metadata": {
        "colab": {
          "base_uri": "https://localhost:8080/",
          "height": 295
        },
        "id": "AQ4waDGENggm",
        "outputId": "10933bd9-2c4c-468d-bf10-098d63746c0f"
      },
      "source": [
        "from sklearn.metrics import roc_curve\n",
        "y_pred=bi_model.predict(test_x).ravel()\n",
        "fpr, tpr, thresholds = roc_curve(test_y, y_pred)\n",
        "from sklearn.metrics import auc\n",
        "auc_keras = auc(fpr, tpr)\n",
        "plt.figure(1)\n",
        "plt.plot([0, 1], [0, 1], 'k--')\n",
        "plt.plot(fpr, tpr, label='Keras (area = {:.3f})'.format(auc_keras))\n",
        "plt.xlabel('False positive rate')\n",
        "plt.ylabel('True positive rate')\n",
        "plt.title('NNLM_BI-LSTM_ROC curve')\n",
        "plt.legend(loc='best')\n",
        "plt.show()"
      ],
      "execution_count": 99,
      "outputs": [
        {
          "output_type": "display_data",
          "data": {
            "image/png": "[encoded data removed]",
            "text/plain": [
              "<Figure size 432x288 with 1 Axes>"
            ]
          },
          "metadata": {
            "needs_background": "light"
          }
        }
      ]
    },
    {
      "cell_type": "code",
      "metadata": {
        "colab": {
          "base_uri": "https://localhost:8080/"
        },
        "id": "RS2uXckJLCjX",
        "outputId": "0e2ab82b-0ce5-4b61-ada0-63e374561e65"
      },
      "source": [
        "from sklearn.metrics import roc_curve\n",
        "import numpy as np\n",
        "from sklearn.metrics import classification_report\n",
        "fpr, tpr, thresholds = roc_curve(test_y, y_pred)\n",
        "y=tpr-fpr\n",
        "idx=np.argmax(y)#Youden_index\n",
        "best_threshold=thresholds[idx]\n",
        "print(\"The best threshold is\",best_threshold)\n",
        "print(classification_report(test_y, y_pred >best_threshold ,digits=4))"
      ],
      "execution_count": 100,
      "outputs": [
        {
          "output_type": "stream",
          "name": "stdout",
          "text": [
            "The best threshold is 0.5794307\n",
            "              precision    recall  f1-score   support\n",
            "\n",
            "           0     0.8962    0.9353    0.9153      4202\n",
            "           1     0.9289    0.8864    0.9071      4006\n",
            "\n",
            "    accuracy                         0.9114      8208\n",
            "   macro avg     0.9125    0.9108    0.9112      8208\n",
            "weighted avg     0.9122    0.9114    0.9113      8208\n",
            "\n"
          ]
        }
      ]
    },
    {
      "cell_type": "code",
      "metadata": {
        "id": "6aMPx3HaN8F0"
      },
      "source": [
        ""
      ],
      "execution_count": null,
      "outputs": []
    },
    {
      "cell_type": "code",
      "metadata": {
        "colab": {
          "base_uri": "https://localhost:8080/"
        },
        "id": "QHzPYVWjN8Vn",
        "outputId": "3735739e-c17e-4a64-c35e-e6e73ed7025f"
      },
      "source": [
        "from tensorflow.keras.layers import LSTM\n",
        "from tensorflow.keras.layers import Dense\n",
        "\n",
        "from tensorflow.keras.layers import Dropout\n",
        "lstm_model=Sequential()\n",
        "lstm_model.add(hub_layer)\n",
        "lstm_model.add(tf.keras.layers.Reshape((1,128)))\n",
        "lstm_model.add(LSTM(64))\n",
        "lstm_model.add(Dropout(0.3))\n",
        "lstm_model.add(Dense(1,activation='sigmoid'))\n",
        "lstm_model.compile(loss='binary_crossentropy',optimizer=tf.keras.optimizers.Adam(3e-3),metrics=['accuracy'])\n",
        "print(lstm_model.summary())"
      ],
      "execution_count": 101,
      "outputs": [
        {
          "output_type": "stream",
          "name": "stdout",
          "text": [
            "Model: \"sequential_17\"\n",
            "_________________________________________________________________\n",
            " Layer (type)                Output Shape              Param #   \n",
            "=================================================================\n",
            " keras_layer_5 (KerasLayer)  (None, 128)               124642688 \n",
            "                                                                 \n",
            " reshape_17 (Reshape)        (None, 1, 128)            0         \n",
            "                                                                 \n",
            " lstm_16 (LSTM)              (None, 64)                49408     \n",
            "                                                                 \n",
            " dropout_31 (Dropout)        (None, 64)                0         \n",
            "                                                                 \n",
            " dense_14 (Dense)            (None, 1)                 65        \n",
            "                                                                 \n",
            "=================================================================\n",
            "Total params: 124,692,161\n",
            "Trainable params: 124,692,161\n",
            "Non-trainable params: 0\n",
            "_________________________________________________________________\n",
            "None\n"
          ]
        }
      ]
    },
    {
      "cell_type": "code",
      "metadata": {
        "colab": {
          "base_uri": "https://localhost:8080/"
        },
        "id": "zVlA0CWUN8Y9",
        "outputId": "dacc81f7-bfff-4359-90fb-3faca8b5f0a2"
      },
      "source": [
        "callback=keras.callbacks.EarlyStopping(monitor='val_loss',min_delta=0, patience=5, verbose=2, mode='auto', restore_best_weights=True)\n",
        "history = lstm_model.fit(x=train_x, y=train_y, batch_size=64, verbose=1, epochs=20, validation_split= 0.1,shuffle=True,callbacks=[callback])"
      ],
      "execution_count": 102,
      "outputs": [
        {
          "output_type": "stream",
          "name": "stdout",
          "text": [
            "Epoch 1/20\n",
            "462/462 [==============================] - 57s 119ms/step - loss: 0.1694 - accuracy: 0.9393 - val_loss: 0.2320 - val_accuracy: 0.9105\n",
            "Epoch 2/20\n",
            "462/462 [==============================] - 54s 116ms/step - loss: 0.0864 - accuracy: 0.9677 - val_loss: 0.2922 - val_accuracy: 0.9047\n",
            "Epoch 3/20\n",
            "462/462 [==============================] - 54s 117ms/step - loss: 0.0470 - accuracy: 0.9825 - val_loss: 0.3614 - val_accuracy: 0.9047\n",
            "Epoch 4/20\n",
            "462/462 [==============================] - 54s 117ms/step - loss: 0.0301 - accuracy: 0.9879 - val_loss: 0.5234 - val_accuracy: 0.8980\n",
            "Epoch 5/20\n",
            "462/462 [==============================] - 54s 116ms/step - loss: 0.0241 - accuracy: 0.9906 - val_loss: 0.5204 - val_accuracy: 0.8986\n",
            "Epoch 6/20\n",
            "462/462 [==============================] - ETA: 0s - loss: 0.0228 - accuracy: 0.9913Restoring model weights from the end of the best epoch: 1.\n",
            "462/462 [==============================] - 54s 118ms/step - loss: 0.0228 - accuracy: 0.9913 - val_loss: 0.5514 - val_accuracy: 0.9013\n",
            "Epoch 00006: early stopping\n"
          ]
        }
      ]
    },
    {
      "cell_type": "code",
      "metadata": {
        "colab": {
          "base_uri": "https://localhost:8080/",
          "height": 295
        },
        "id": "wSml6tPxN8gK",
        "outputId": "a0a88c72-313e-48e2-f4d0-3b568e15bc7b"
      },
      "source": [
        "from sklearn.metrics import roc_curve\n",
        "y_pred=lstm_model.predict(test_x).ravel()\n",
        "fpr, tpr, thresholds = roc_curve(test_y, y_pred)\n",
        "from sklearn.metrics import auc\n",
        "auc_keras = auc(fpr, tpr)\n",
        "plt.figure(1)\n",
        "plt.plot([0, 1], [0, 1], 'k--')\n",
        "plt.plot(fpr, tpr, label='Keras (area = {:.3f})'.format(auc_keras))\n",
        "plt.xlabel('False positive rate')\n",
        "plt.ylabel('True positive rate')\n",
        "plt.title('NNLM_LSTM_ROC curve')\n",
        "plt.legend(loc='best')\n",
        "plt.show()"
      ],
      "execution_count": 103,
      "outputs": [
        {
          "output_type": "display_data",
          "data": {
            "image/png": "[encoded data removed]",
            "text/plain": [
              "<Figure size 432x288 with 1 Axes>"
            ]
          },
          "metadata": {
            "needs_background": "light"
          }
        }
      ]
    },
    {
      "cell_type": "code",
      "metadata": {
        "colab": {
          "base_uri": "https://localhost:8080/"
        },
        "id": "NAuRZVesN8jV",
        "outputId": "d6ca61f4-b783-44c7-b44b-f5b2a384875c"
      },
      "source": [
        "from sklearn.metrics import roc_curve\n",
        "import numpy as np\n",
        "from sklearn.metrics import classification_report\n",
        "fpr, tpr, thresholds = roc_curve(test_y, y_pred)\n",
        "y=tpr-fpr\n",
        "idx=np.argmax(y)#Youden_index\n",
        "best_threshold=thresholds[idx]\n",
        "print(\"The best threshold is\",best_threshold)\n",
        "print(classification_report(test_y, y_pred >best_threshold ,digits=4))"
      ],
      "execution_count": 104,
      "outputs": [
        {
          "output_type": "stream",
          "name": "stdout",
          "text": [
            "The best threshold is 0.6315213\n",
            "              precision    recall  f1-score   support\n",
            "\n",
            "           0     0.8883    0.9386    0.9128      4202\n",
            "           1     0.9315    0.8762    0.9030      4006\n",
            "\n",
            "    accuracy                         0.9081      8208\n",
            "   macro avg     0.9099    0.9074    0.9079      8208\n",
            "weighted avg     0.9094    0.9081    0.9080      8208\n",
            "\n"
          ]
        }
      ]
    },
    {
      "cell_type": "code",
      "metadata": {
        "id": "jXIYsT9hN8l-",
        "colab": {
          "base_uri": "https://localhost:8080/"
        },
        "outputId": "e2590d2e-c6d3-40bd-ce76-81bac9ba929d"
      },
      "source": [
        "from tensorflow.keras.layers import LSTM\n",
        "from tensorflow.keras.layers import Dense\n",
        "\n",
        "from tensorflow.keras.layers import Dropout\n",
        "lstm_model=Sequential()\n",
        "lstm_model.add(hub_layer)\n",
        "lstm_model.add(tf.keras.layers.Reshape((1,128)))\n",
        "lstm_model.add(Dropout(0.3))\n",
        "lstm_model.add(LSTM(64,return_sequences=True))\n",
        "lstm_model.add(Dropout(0.3))\n",
        "lstm_model.add(LSTM(64))\n",
        "lstm_model.add(Dense(1,activation='sigmoid'))\n",
        "lstm_model.compile(loss='binary_crossentropy',optimizer=tf.keras.optimizers.Adam(3e-3),metrics=['accuracy'])\n",
        "print(lstm_model.summary())"
      ],
      "execution_count": 105,
      "outputs": [
        {
          "output_type": "stream",
          "name": "stdout",
          "text": [
            "Model: \"sequential_18\"\n",
            "_________________________________________________________________\n",
            " Layer (type)                Output Shape              Param #   \n",
            "=================================================================\n",
            " keras_layer_5 (KerasLayer)  (None, 128)               124642688 \n",
            "                                                                 \n",
            " reshape_18 (Reshape)        (None, 1, 128)            0         \n",
            "                                                                 \n",
            " dropout_32 (Dropout)        (None, 1, 128)            0         \n",
            "                                                                 \n",
            " lstm_17 (LSTM)              (None, 1, 64)             49408     \n",
            "                                                                 \n",
            " dropout_33 (Dropout)        (None, 1, 64)             0         \n",
            "                                                                 \n",
            " lstm_18 (LSTM)              (None, 64)                33024     \n",
            "                                                                 \n",
            " dense_15 (Dense)            (None, 1)                 65        \n",
            "                                                                 \n",
            "=================================================================\n",
            "Total params: 124,725,185\n",
            "Trainable params: 124,725,185\n",
            "Non-trainable params: 0\n",
            "_________________________________________________________________\n",
            "None\n"
          ]
        }
      ]
    },
    {
      "cell_type": "code",
      "source": [
        "callback=keras.callbacks.EarlyStopping(monitor='val_loss',min_delta=0, patience=5, verbose=2, mode='auto', restore_best_weights=True)\n",
        "history = lstm_model.fit(x=train_x, y=train_y, batch_size=64, verbose=1, epochs=20, validation_split= 0.1,shuffle=True,callbacks=[callback])"
      ],
      "metadata": {
        "colab": {
          "base_uri": "https://localhost:8080/"
        },
        "id": "b0G5ME5lMnz8",
        "outputId": "c5a85894-658c-4a00-f0ff-0f492da17312"
      },
      "execution_count": 106,
      "outputs": [
        {
          "output_type": "stream",
          "name": "stdout",
          "text": [
            "Epoch 1/20\n",
            "462/462 [==============================] - 61s 124ms/step - loss: 0.1153 - accuracy: 0.9627 - val_loss: 0.2813 - val_accuracy: 0.9062\n",
            "Epoch 2/20\n",
            "462/462 [==============================] - 56s 121ms/step - loss: 0.0645 - accuracy: 0.9766 - val_loss: 0.3451 - val_accuracy: 0.9016\n",
            "Epoch 3/20\n",
            "462/462 [==============================] - 56s 120ms/step - loss: 0.0413 - accuracy: 0.9836 - val_loss: 0.3917 - val_accuracy: 0.8977\n",
            "Epoch 4/20\n",
            "462/462 [==============================] - 56s 121ms/step - loss: 0.0309 - accuracy: 0.9883 - val_loss: 0.4933 - val_accuracy: 0.8989\n",
            "Epoch 5/20\n",
            "462/462 [==============================] - 56s 120ms/step - loss: 0.0220 - accuracy: 0.9916 - val_loss: 0.6016 - val_accuracy: 0.8968\n",
            "Epoch 6/20\n",
            "462/462 [==============================] - ETA: 0s - loss: 0.0204 - accuracy: 0.9922Restoring model weights from the end of the best epoch: 1.\n",
            "462/462 [==============================] - 55s 120ms/step - loss: 0.0204 - accuracy: 0.9922 - val_loss: 0.5591 - val_accuracy: 0.8940\n",
            "Epoch 00006: early stopping\n"
          ]
        }
      ]
    },
    {
      "cell_type": "code",
      "source": [
        "from sklearn.metrics import roc_curve\n",
        "y_pred=lstm_model.predict(test_x).ravel()\n",
        "fpr, tpr, thresholds = roc_curve(test_y, y_pred)\n",
        "from sklearn.metrics import auc\n",
        "auc_keras = auc(fpr, tpr)\n",
        "plt.figure(1)\n",
        "plt.plot([0, 1], [0, 1], 'k--')\n",
        "plt.plot(fpr, tpr, label='Keras (area = {:.3f})'.format(auc_keras))\n",
        "plt.xlabel('False positive rate')\n",
        "plt.ylabel('True positive rate')\n",
        "plt.title('NNLM_STACK_LSTM_ROC curve')\n",
        "plt.legend(loc='best')\n",
        "plt.show()"
      ],
      "metadata": {
        "colab": {
          "base_uri": "https://localhost:8080/",
          "height": 295
        },
        "id": "4CkjIdALMsBc",
        "outputId": "7f82c41b-528b-4d96-eff8-79082c5ef790"
      },
      "execution_count": 107,
      "outputs": [
        {
          "output_type": "display_data",
          "data": {
            "image/png": "[encoded data removed]",
            "text/plain": [
              "<Figure size 432x288 with 1 Axes>"
            ]
          },
          "metadata": {
            "needs_background": "light"
          }
        }
      ]
    },
    {
      "cell_type": "code",
      "source": [
        "from sklearn.metrics import roc_curve\n",
        "import numpy as np\n",
        "from sklearn.metrics import classification_report\n",
        "fpr, tpr, thresholds = roc_curve(test_y, y_pred)\n",
        "y=tpr-fpr\n",
        "idx=np.argmax(y)#Youden_index\n",
        "best_threshold=thresholds[idx]\n",
        "print(\"The best threshold is\",best_threshold)\n",
        "print(classification_report(test_y, y_pred >best_threshold ,digits=4))"
      ],
      "metadata": {
        "colab": {
          "base_uri": "https://localhost:8080/"
        },
        "id": "gbV0Ws61NyUk",
        "outputId": "c25e2657-eb96-4304-e44d-175732126e19"
      },
      "execution_count": 108,
      "outputs": [
        {
          "output_type": "stream",
          "name": "stdout",
          "text": [
            "The best threshold is 0.5392542\n",
            "              precision    recall  f1-score   support\n",
            "\n",
            "           0     0.9087    0.9046    0.9066      4202\n",
            "           1     0.9004    0.9046    0.9025      4006\n",
            "\n",
            "    accuracy                         0.9046      8208\n",
            "   macro avg     0.9045    0.9046    0.9046      8208\n",
            "weighted avg     0.9046    0.9046    0.9046      8208\n",
            "\n"
          ]
        }
      ]
    }
  ]
}