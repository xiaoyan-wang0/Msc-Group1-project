{
  "nbformat": 4,
  "nbformat_minor": 0,
  "metadata": {
    "colab": {
      "name": "balance_Data preprocessing.ipynb",
      "provenance": []
    },
    "kernelspec": {
      "name": "python3",
      "display_name": "Python 3"
    },
    "language_info": {
      "name": "python"
    }
  },
  "cells": [
    {
      "cell_type": "code",
      "execution_count": 1,
      "metadata": {
        "colab": {
          "base_uri": "https://localhost:8080/"
        },
        "id": "04jeAL0ylTLc",
        "outputId": "372cedd0-3ff7-4b70-b971-fc2fc9fb7ca6"
      },
      "outputs": [
        {
          "output_type": "stream",
          "name": "stdout",
          "text": [
            "Mounted at /content/drive\n"
          ]
        }
      ],
      "source": [
        "from google.colab import drive\n",
        "drive.mount('/content/drive')"
      ]
    },
    {
      "cell_type": "code",
      "source": [
        "import seaborn as sns\n",
        "import matplotlib.pyplot as plt\n",
        "import pandas as pd\n",
        "import numpy as np\n",
        "import tensorflow as tf\n",
        "from tensorflow.keras.preprocessing import text,sequence\n",
        "from tensorflow.keras.models import Sequential\n",
        "from tensorflow.keras.layers import Dense,Dropout,Activation\n",
        "from tensorflow.keras.layers import Embedding\n",
        "from tensorflow.keras.layers import Conv1D,GlobalMaxPooling1D,MaxPooling1D\n",
        "from sklearn.model_selection import train_test_split\n",
        "import re    #for regex\n",
        "import string\n",
        "import nltk\n",
        "from wordcloud import WordCloud"
      ],
      "metadata": {
        "id": "a3pRrm1UpjdR"
      },
      "execution_count": 2,
      "outputs": []
    },
    {
      "cell_type": "code",
      "source": [
        "train = pd.read_csv('/content/drive/MyDrive/toxic_5.csv')"
      ],
      "metadata": {
        "id": "Nbq4n0QOpjmU"
      },
      "execution_count": 3,
      "outputs": []
    },
    {
      "cell_type": "code",
      "source": [
        "train['comment_text'] = pd.DataFrame(train[\"comment_text\"].astype('str')) "
      ],
      "metadata": {
        "id": "mX6hCjeLstCX"
      },
      "execution_count": 7,
      "outputs": []
    },
    {
      "cell_type": "code",
      "source": [
        "import re\n",
        "!pip install contractions\n",
        "import contractions\n",
        "\n",
        "\n",
        "i=0\n",
        "for doc in train.comment_text:\n",
        "    doc = doc.lower()\n",
        "    doc=  re.sub(r\"https?://\\S+|www\\.\\S+\",'', doc)  #Remove URLs from a sample string\n",
        "    doc = re.sub(r'http[s]?://(?:[a-z]|[0-9]|[$-_@.&+]|[!*\\(\\),]|(?:%[0-9a-f][0-9a-f]))+', '', doc) # clean url\n",
        "    doc = re.sub(r'#(\\w+)', '',doc)   # clean hashes\n",
        "    doc = re.sub(r'[^\\x00-\\x7f]',r'', doc) #Remove non-ASCII characters \n",
        "    doc = re.sub(r'@(\\w+)', '', doc)   # clean @\n",
        "    doc = re.sub(r'<[^>]+>', '',doc)  # clean tags\n",
        "    doc = re.sub(r'\\d+', '',doc)      # clean digits\n",
        "    doc=re.sub(r'<.*?>','',doc)\n",
        "    doc = re.sub(\"#\", \" \",doc)\n",
        "    doc = re.sub(\":::\", \" \", doc)\n",
        "    doc = re.sub(\"\\n\", \" \",doc)\n",
        "    doc=re.sub(r'[^a-zA-Z\\s]','',doc,re.I|re.A)\n",
        "    punctuation = set(string.punctuation)  #remove the punctuation\n",
        "    doc = \"\".join([p for p in doc if p not in punctuation])\n",
        "    doc=contractions.fix(doc)\n",
        "    train.comment_text[i]=doc\n",
        "    i+=1"
      ],
      "metadata": {
        "colab": {
          "base_uri": "https://localhost:8080/"
        },
        "id": "lEvfzwrmpjqo",
        "outputId": "4603498d-731b-42fb-d5c1-6b5acd5eea8b"
      },
      "execution_count": 8,
      "outputs": [
        {
          "output_type": "stream",
          "name": "stdout",
          "text": [
            "Requirement already satisfied: contractions in /usr/local/lib/python3.7/dist-packages (0.0.58)\n",
            "Requirement already satisfied: textsearch>=0.0.21 in /usr/local/lib/python3.7/dist-packages (from contractions) (0.0.21)\n",
            "Requirement already satisfied: anyascii in /usr/local/lib/python3.7/dist-packages (from textsearch>=0.0.21->contractions) (0.3.0)\n",
            "Requirement already satisfied: pyahocorasick in /usr/local/lib/python3.7/dist-packages (from textsearch>=0.0.21->contractions) (1.4.2)\n"
          ]
        },
        {
          "output_type": "stream",
          "name": "stderr",
          "text": [
            "/usr/local/lib/python3.7/dist-packages/ipykernel_launcher.py:24: SettingWithCopyWarning: \n",
            "A value is trying to be set on a copy of a slice from a DataFrame\n",
            "\n",
            "See the caveats in the documentation: https://pandas.pydata.org/pandas-docs/stable/user_guide/indexing.html#returning-a-view-versus-a-copy\n"
          ]
        }
      ]
    },
    {
      "cell_type": "code",
      "source": [
        "train"
      ],
      "metadata": {
        "colab": {
          "base_uri": "https://localhost:8080/",
          "height": 424
        },
        "id": "fBuyDnkGr9uY",
        "outputId": "2b44fd1d-7547-4cd5-a275-b5faf547c048"
      },
      "execution_count": 9,
      "outputs": [
        {
          "output_type": "execute_result",
          "data": {
            "text/html": [
              "<div>\n",
              "<style scoped>\n",
              "    .dataframe tbody tr th:only-of-type {\n",
              "        vertical-align: middle;\n",
              "    }\n",
              "\n",
              "    .dataframe tbody tr th {\n",
              "        vertical-align: top;\n",
              "    }\n",
              "\n",
              "    .dataframe thead th {\n",
              "        text-align: right;\n",
              "    }\n",
              "</style>\n",
              "<table border=\"1\" class=\"dataframe\">\n",
              "  <thead>\n",
              "    <tr style=\"text-align: right;\">\n",
              "      <th></th>\n",
              "      <th>Unnamed: 0</th>\n",
              "      <th>comment_text</th>\n",
              "      <th>Toxic</th>\n",
              "    </tr>\n",
              "  </thead>\n",
              "  <tbody>\n",
              "    <tr>\n",
              "      <th>0</th>\n",
              "      <td>61</td>\n",
              "      <td>discussion requires both parties to explain th...</td>\n",
              "      <td>0</td>\n",
              "    </tr>\n",
              "    <tr>\n",
              "      <th>1</th>\n",
              "      <td>40630</td>\n",
              "      <td>avoiding edit wars   acroterion i have been tr...</td>\n",
              "      <td>0</td>\n",
              "    </tr>\n",
              "    <tr>\n",
              "      <th>2</th>\n",
              "      <td>12124</td>\n",
              "      <td>omg i have never thought of it that way pure g...</td>\n",
              "      <td>0</td>\n",
              "    </tr>\n",
              "    <tr>\n",
              "      <th>3</th>\n",
              "      <td>11380</td>\n",
              "      <td>because of our recent edits to skycable the us...</td>\n",
              "      <td>0</td>\n",
              "    </tr>\n",
              "    <tr>\n",
              "      <th>4</th>\n",
              "      <td>5844</td>\n",
              "      <td>no harm done i deleted the second comment</td>\n",
              "      <td>0</td>\n",
              "    </tr>\n",
              "    <tr>\n",
              "      <th>...</th>\n",
              "      <td>...</td>\n",
              "      <td>...</td>\n",
              "      <td>...</td>\n",
              "    </tr>\n",
              "    <tr>\n",
              "      <th>41034</th>\n",
              "      <td>43459</td>\n",
              "      <td>new mutants putlocker about to be the  google ...</td>\n",
              "      <td>1</td>\n",
              "    </tr>\n",
              "    <tr>\n",
              "      <th>41035</th>\n",
              "      <td>43460</td>\n",
              "      <td>it was better than the new mutants there were ...</td>\n",
              "      <td>1</td>\n",
              "    </tr>\n",
              "    <tr>\n",
              "      <th>41036</th>\n",
              "      <td>43461</td>\n",
              "      <td>whenever i think that I am truly fast  furious...</td>\n",
              "      <td>1</td>\n",
              "    </tr>\n",
              "    <tr>\n",
              "      <th>41037</th>\n",
              "      <td>43462</td>\n",
              "      <td>my man was not to happy i left on this harley ...</td>\n",
              "      <td>1</td>\n",
              "    </tr>\n",
              "    <tr>\n",
              "      <th>41038</th>\n",
              "      <td>43463</td>\n",
              "      <td>just got my ass worn the fuck out in an exhaus...</td>\n",
              "      <td>1</td>\n",
              "    </tr>\n",
              "  </tbody>\n",
              "</table>\n",
              "<p>41039 rows × 3 columns</p>\n",
              "</div>"
            ],
            "text/plain": [
              "       Unnamed: 0                                       comment_text  Toxic\n",
              "0              61  discussion requires both parties to explain th...      0\n",
              "1           40630  avoiding edit wars   acroterion i have been tr...      0\n",
              "2           12124  omg i have never thought of it that way pure g...      0\n",
              "3           11380  because of our recent edits to skycable the us...      0\n",
              "4            5844          no harm done i deleted the second comment      0\n",
              "...           ...                                                ...    ...\n",
              "41034       43459  new mutants putlocker about to be the  google ...      1\n",
              "41035       43460  it was better than the new mutants there were ...      1\n",
              "41036       43461  whenever i think that I am truly fast  furious...      1\n",
              "41037       43462  my man was not to happy i left on this harley ...      1\n",
              "41038       43463  just got my ass worn the fuck out in an exhaus...      1\n",
              "\n",
              "[41039 rows x 3 columns]"
            ]
          },
          "metadata": {},
          "execution_count": 9
        }
      ]
    },
    {
      "cell_type": "code",
      "source": [
        "data_frame = pd.DataFrame(train) \n",
        " \n",
        "data_frame.to_csv('toxic_final.csv')"
      ],
      "metadata": {
        "id": "u0o-3SFMpjt-"
      },
      "execution_count": 10,
      "outputs": []
    },
    {
      "cell_type": "code",
      "source": [
        ""
      ],
      "metadata": {
        "id": "OMoH1z8VNWeJ"
      },
      "execution_count": null,
      "outputs": []
    },
    {
      "cell_type": "code",
      "source": [
        "import re\n",
        "!pip install contractions\n",
        "import contractions\n",
        "\n",
        "\n",
        "i=0\n",
        "for doc in text:\n",
        "    doc = doc.lower()\n",
        "    doc=  re.sub(r\"https?://\\S+|www\\.\\S+\",'', doc)  #Remove URLs from a sample string\n",
        "    doc = re.sub(r'http[s]?://(?:[a-z]|[0-9]|[$-_@.&+]|[!*\\(\\),]|(?:%[0-9a-f][0-9a-f]))+', '', doc) # clean url\n",
        "    doc = re.sub(r'#(\\w+)', '',doc)   # clean hashes\n",
        "    doc = re.sub(r'[^\\x00-\\x7f]',r'', doc) #Remove non-ASCII characters \n",
        "    doc = re.sub(r'@(\\w+)', '', doc)   # clean @\n",
        "    doc = re.sub(r'<[^>]+>', '',doc)  # clean tags\n",
        "    doc = re.sub(r'\\d+', '',doc)      # clean digits\n",
        "    doc=re.sub(r'<.*?>','',doc)\n",
        "    doc = re.sub(\"#\", \" \",doc)\n",
        "    doc = re.sub(\":::\", \" \", doc)\n",
        "    doc = re.sub(\"\\n\", \" \",doc)\n",
        "    doc=re.sub(r'[^a-zA-Z\\s]','',doc,re.I|re.A)\n",
        "    punctuation = set(string.punctuation)  #remove the punctuation\n",
        "    doc = \"\".join([p for p in doc if p not in punctuation])\n",
        "    doc=contractions.fix(doc)\n",
        "    text=doc\n",
        "    i+=1"
      ],
      "metadata": {
        "colab": {
          "base_uri": "https://localhost:8080/"
        },
        "outputId": "702189b3-5af1-48f7-e97b-2cfcfcee840e",
        "id": "IazfQmLSNXN0"
      },
      "execution_count": 4,
      "outputs": [
        {
          "output_type": "stream",
          "name": "stdout",
          "text": [
            "Collecting contractions\n",
            "  Downloading contractions-0.0.58-py2.py3-none-any.whl (8.0 kB)\n",
            "Collecting textsearch>=0.0.21\n",
            "  Downloading textsearch-0.0.21-py2.py3-none-any.whl (7.5 kB)\n",
            "Collecting anyascii\n",
            "  Downloading anyascii-0.3.0-py3-none-any.whl (284 kB)\n",
            "\u001b[K     |████████████████████████████████| 284 kB 4.1 MB/s \n",
            "\u001b[?25hCollecting pyahocorasick\n",
            "  Downloading pyahocorasick-1.4.2.tar.gz (321 kB)\n",
            "\u001b[K     |████████████████████████████████| 321 kB 37.5 MB/s \n",
            "\u001b[?25hBuilding wheels for collected packages: pyahocorasick\n",
            "  Building wheel for pyahocorasick (setup.py) ... \u001b[?25l\u001b[?25hdone\n",
            "  Created wheel for pyahocorasick: filename=pyahocorasick-1.4.2-cp37-cp37m-linux_x86_64.whl size=85453 sha256=880e1e0241f75154afe5647bec7509ca912be5a438eed2f79cb77e9807042e2f\n",
            "  Stored in directory: /root/.cache/pip/wheels/25/19/a6/8f363d9939162782bb8439d886469756271abc01f76fbd790f\n",
            "Successfully built pyahocorasick\n",
            "Installing collected packages: pyahocorasick, anyascii, textsearch, contractions\n",
            "Successfully installed anyascii-0.3.0 contractions-0.0.58 pyahocorasick-1.4.2 textsearch-0.0.21\n"
          ]
        }
      ]
    },
    {
      "cell_type": "code",
      "source": [
        "text=['Venom is so high strung/hyperactive and Eddie is almost the exact opposite of him. It&#39;s hilarious seeing these two interact. I guess if Venom&#39;s out of Eddie&#39;s closet now he can be more open with Eddies ex and her fiance.']"
      ],
      "metadata": {
        "id": "8jdNaTgTpjz-"
      },
      "execution_count": 3,
      "outputs": []
    },
    {
      "cell_type": "code",
      "source": [
        "text"
      ],
      "metadata": {
        "id": "XCflJ-iPpj3f",
        "colab": {
          "base_uri": "https://localhost:8080/",
          "height": 54
        },
        "outputId": "a9085cb5-dda3-4818-b3ed-cb57193d47de"
      },
      "execution_count": 5,
      "outputs": [
        {
          "output_type": "execute_result",
          "data": {
            "application/vnd.google.colaboratory.intrinsic+json": {
              "type": "string"
            },
            "text/plain": [
              "'venom is so high strunghyperactive and eddie is almost the exact opposite of him its hilarious seeing these two interact i guess if venoms out of eddies closet now he can be more open with eddies ex and her fiance'"
            ]
          },
          "metadata": {},
          "execution_count": 5
        }
      ]
    }
  ]
}