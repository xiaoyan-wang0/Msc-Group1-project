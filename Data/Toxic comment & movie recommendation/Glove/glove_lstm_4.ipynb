{
 "cells": [
  {
   "cell_type": "code",
   "execution_count": 171,
   "metadata": {},
   "outputs": [
    {
     "name": "stderr",
     "output_type": "stream",
     "text": [
      "[nltk_data] Downloading package stopwords to\n",
      "[nltk_data]     C:\\Users\\TengkaiGao\\AppData\\Roaming\\nltk_data...\n",
      "[nltk_data]   Package stopwords is already up-to-date!\n"
     ]
    }
   ],
   "source": [
    "import seaborn as sns\n",
    "import matplotlib.pyplot as plt\n",
    "import pandas as pd\n",
    "import numpy as np \n",
    "import tensorflow as tf\n",
    "from tensorflow.keras.preprocessing import text,sequence\n",
    "from tensorflow.keras.models import Sequential\n",
    "from tensorflow.keras.layers import Dense,Dropout,Activation\n",
    "from tensorflow.keras.layers import Embedding\n",
    "from tensorflow.keras.layers import Conv1D,GlobalMaxPooling1D,MaxPooling1D\n",
    "from sklearn.model_selection import train_test_split\n",
    "from keras.layers import Dense, Bidirectional, LSTM, Dropout, BatchNormalization,CuDNNLSTM\n",
    "import re    #for regex\n",
    "import seaborn as sns\n",
    "import matplotlib.pyplot as plt\n",
    "import string\n",
    "from tensorflow import keras\n",
    "import nltk\n",
    "nltk.download('stopwords')\n",
    "from wordcloud import WordCloud\n",
    "from tensorflow.keras.layers import Dense, Dropout, Activation, Flatten, Embedding, Conv1D, GlobalMaxPooling1D,SpatialDropout1D,GlobalAveragePooling1D, LSTM, SimpleRNN"
   ]
  },
  {
   "cell_type": "code",
   "execution_count": 172,
   "metadata": {},
   "outputs": [],
   "source": [
    "train = pd.read_csv('G:/toxic_final.csv')"
   ]
  },
  {
   "cell_type": "code",
   "execution_count": 173,
   "metadata": {},
   "outputs": [
    {
     "data": {
      "text/plain": [
       "Unnamed: 0       int64\n",
       "Unnamed: 0.1     int64\n",
       "comment_text    object\n",
       "Toxic            int64\n",
       "dtype: object"
      ]
     },
     "execution_count": 173,
     "metadata": {},
     "output_type": "execute_result"
    }
   ],
   "source": [
    "train.dtypes"
   ]
  },
  {
   "cell_type": "code",
   "execution_count": 174,
   "metadata": {},
   "outputs": [
    {
     "data": {
      "text/html": [
       "<div>\n",
       "<style scoped>\n",
       "    .dataframe tbody tr th:only-of-type {\n",
       "        vertical-align: middle;\n",
       "    }\n",
       "\n",
       "    .dataframe tbody tr th {\n",
       "        vertical-align: top;\n",
       "    }\n",
       "\n",
       "    .dataframe thead th {\n",
       "        text-align: right;\n",
       "    }\n",
       "</style>\n",
       "<table border=\"1\" class=\"dataframe\">\n",
       "  <thead>\n",
       "    <tr style=\"text-align: right;\">\n",
       "      <th></th>\n",
       "      <th>Unnamed: 0</th>\n",
       "      <th>Unnamed: 0.1</th>\n",
       "      <th>comment_text</th>\n",
       "      <th>Toxic</th>\n",
       "    </tr>\n",
       "  </thead>\n",
       "  <tbody>\n",
       "    <tr>\n",
       "      <th>0</th>\n",
       "      <td>0</td>\n",
       "      <td>61</td>\n",
       "      <td>discussion requires both parties to explain th...</td>\n",
       "      <td>0</td>\n",
       "    </tr>\n",
       "    <tr>\n",
       "      <th>1</th>\n",
       "      <td>1</td>\n",
       "      <td>40630</td>\n",
       "      <td>avoiding edit wars   acroterion i have been tr...</td>\n",
       "      <td>0</td>\n",
       "    </tr>\n",
       "    <tr>\n",
       "      <th>2</th>\n",
       "      <td>2</td>\n",
       "      <td>12124</td>\n",
       "      <td>omg i have never thought of it that way pure g...</td>\n",
       "      <td>0</td>\n",
       "    </tr>\n",
       "    <tr>\n",
       "      <th>3</th>\n",
       "      <td>3</td>\n",
       "      <td>11380</td>\n",
       "      <td>because of our recent edits to skycable the us...</td>\n",
       "      <td>0</td>\n",
       "    </tr>\n",
       "    <tr>\n",
       "      <th>4</th>\n",
       "      <td>4</td>\n",
       "      <td>5844</td>\n",
       "      <td>no harm done i deleted the second comment</td>\n",
       "      <td>0</td>\n",
       "    </tr>\n",
       "    <tr>\n",
       "      <th>...</th>\n",
       "      <td>...</td>\n",
       "      <td>...</td>\n",
       "      <td>...</td>\n",
       "      <td>...</td>\n",
       "    </tr>\n",
       "    <tr>\n",
       "      <th>41034</th>\n",
       "      <td>41034</td>\n",
       "      <td>43459</td>\n",
       "      <td>new mutants putlocker about to be the  google ...</td>\n",
       "      <td>1</td>\n",
       "    </tr>\n",
       "    <tr>\n",
       "      <th>41035</th>\n",
       "      <td>41035</td>\n",
       "      <td>43460</td>\n",
       "      <td>it was better than the new mutants there were ...</td>\n",
       "      <td>1</td>\n",
       "    </tr>\n",
       "    <tr>\n",
       "      <th>41036</th>\n",
       "      <td>41036</td>\n",
       "      <td>43461</td>\n",
       "      <td>whenever i think that I am truly fast  furious...</td>\n",
       "      <td>1</td>\n",
       "    </tr>\n",
       "    <tr>\n",
       "      <th>41037</th>\n",
       "      <td>41037</td>\n",
       "      <td>43462</td>\n",
       "      <td>my man was not to happy i left on this harley ...</td>\n",
       "      <td>1</td>\n",
       "    </tr>\n",
       "    <tr>\n",
       "      <th>41038</th>\n",
       "      <td>41038</td>\n",
       "      <td>43463</td>\n",
       "      <td>just got my ass worn the fuck out in an exhaus...</td>\n",
       "      <td>1</td>\n",
       "    </tr>\n",
       "  </tbody>\n",
       "</table>\n",
       "<p>41039 rows × 4 columns</p>\n",
       "</div>"
      ],
      "text/plain": [
       "       Unnamed: 0  Unnamed: 0.1  \\\n",
       "0               0            61   \n",
       "1               1         40630   \n",
       "2               2         12124   \n",
       "3               3         11380   \n",
       "4               4          5844   \n",
       "...           ...           ...   \n",
       "41034       41034         43459   \n",
       "41035       41035         43460   \n",
       "41036       41036         43461   \n",
       "41037       41037         43462   \n",
       "41038       41038         43463   \n",
       "\n",
       "                                            comment_text  Toxic  \n",
       "0      discussion requires both parties to explain th...      0  \n",
       "1      avoiding edit wars   acroterion i have been tr...      0  \n",
       "2      omg i have never thought of it that way pure g...      0  \n",
       "3      because of our recent edits to skycable the us...      0  \n",
       "4              no harm done i deleted the second comment      0  \n",
       "...                                                  ...    ...  \n",
       "41034  new mutants putlocker about to be the  google ...      1  \n",
       "41035  it was better than the new mutants there were ...      1  \n",
       "41036  whenever i think that I am truly fast  furious...      1  \n",
       "41037  my man was not to happy i left on this harley ...      1  \n",
       "41038  just got my ass worn the fuck out in an exhaus...      1  \n",
       "\n",
       "[41039 rows x 4 columns]"
      ]
     },
     "execution_count": 174,
     "metadata": {},
     "output_type": "execute_result"
    }
   ],
   "source": [
    "train"
   ]
  },
  {
   "cell_type": "code",
   "execution_count": 175,
   "metadata": {},
   "outputs": [],
   "source": [
    "train['comment_text'] = pd.DataFrame(train[\"comment_text\"].astype('str')) "
   ]
  },
  {
   "cell_type": "code",
   "execution_count": 176,
   "metadata": {},
   "outputs": [
    {
     "data": {
      "image/png": "[encoded data removed]",
      "text/plain": [
       "<Figure size 720x432 with 1 Axes>"
      ]
     },
     "metadata": {},
     "output_type": "display_data"
    }
   ],
   "source": [
    "# Now, let's see the average number of words per sample\n",
    "plt.figure(figsize=(10, 6))\n",
    "plt.hist([len(sample) for sample in list(train['comment_text'])], 50)\n",
    "plt.xlabel('Length of samples')\n",
    "plt.ylabel('Number of samples')\n",
    "plt.title('Sample length distribution')\n",
    "plt.show()"
   ]
  },
  {
   "cell_type": "code",
   "execution_count": 177,
   "metadata": {},
   "outputs": [
    {
     "name": "stdout",
     "output_type": "stream",
     "text": [
      "There are 0 duplicate reviews present in the dataset\n"
     ]
    }
   ],
   "source": [
    "num_duplicates = train.duplicated().sum() #identify duplicates\n",
    "print('There are {} duplicate reviews present in the dataset'.format(num_duplicates))"
   ]
  },
  {
   "cell_type": "code",
   "execution_count": 178,
   "metadata": {},
   "outputs": [
    {
     "data": {
      "image/png": "[encoded data removed]",
      "text/plain": [
       "<Figure size 432x288 with 1 Axes>"
      ]
     },
     "metadata": {},
     "output_type": "display_data"
    }
   ],
   "source": [
    "target_count = train.groupby('Toxic').size().reset_index(name='counts')\n",
    "plt.bar(target_count.Toxic, target_count.counts)\n",
    "plt.xticks([0,1], labels=[\"Non_toxic\", \"Toxic\"])\n",
    "plt.title(\"Target Distribution\")\n",
    "plt.show()"
   ]
  },
  {
   "cell_type": "code",
   "execution_count": 204,
   "metadata": {},
   "outputs": [],
   "source": [
    "x=train[\"comment_text\"]\n",
    "y=train[\"Toxic\"]"
   ]
  },
  {
   "cell_type": "code",
   "execution_count": 205,
   "metadata": {},
   "outputs": [],
   "source": [
    "train_x, test_x, train_y, test_y = train_test_split(x,y, test_size=0.2, random_state=4,shuffle=True)"
   ]
  },
  {
   "cell_type": "code",
   "execution_count": 206,
   "metadata": {},
   "outputs": [],
   "source": [
    "max_feature = 3000\n",
    "tokenizer = tf.keras.preprocessing.text.Tokenizer(max_feature,\n",
    "                                                  lower= True,\n",
    "                                                  filters= '!\"#$%&()*+,-./:;<=>?@[\\\\]^_`{|}~\\t\\n',\n",
    "                                                  split = \" \")\n",
    "\n",
    "tokenizer.fit_on_texts(train_x)"
   ]
  },
  {
   "cell_type": "code",
   "execution_count": 207,
   "metadata": {},
   "outputs": [],
   "source": [
    "sequences = tokenizer.texts_to_sequences(train_x)"
   ]
  },
  {
   "cell_type": "code",
   "execution_count": 208,
   "metadata": {},
   "outputs": [],
   "source": [
    "pad_sequences = tf.keras.preprocessing.sequence.pad_sequences(sequences,\n",
    "                                                             maxlen = 500)"
   ]
  },
  {
   "cell_type": "code",
   "execution_count": 209,
   "metadata": {},
   "outputs": [],
   "source": [
    "test_x_tokenized=tokenizer.texts_to_sequences(test_x)\n",
    "x_testing=tf.keras.preprocessing.sequence.pad_sequences(test_x_tokenized,maxlen=500)"
   ]
  },
  {
   "cell_type": "code",
   "execution_count": 210,
   "metadata": {},
   "outputs": [],
   "source": [
    "word_index = tokenizer.word_index"
   ]
  },
  {
   "cell_type": "code",
   "execution_count": 211,
   "metadata": {},
   "outputs": [],
   "source": [
    "embeddings_index = {}\n",
    "with open(\"G:/glove.6B/glove.6B.100d.txt\", 'r', encoding=\"utf-8\") as f:#100dim\n",
    "    for line in f:\n",
    "        values = line.split()\n",
    "        word = values[0]\n",
    "        coefs = np.asarray(values[1:], dtype='float32')\n",
    "        embeddings_index[word] = coefs\n",
    "    f.close()\n",
    "\n"
   ]
  },
  {
   "cell_type": "code",
   "execution_count": 212,
   "metadata": {},
   "outputs": [],
   "source": [
    "EMBEDDING_DIM = 100\n",
    "embedding_matrix = np.zeros((len(word_index) + 1, EMBEDDING_DIM))\n",
    "for word, i in word_index.items():\n",
    "    embedding_vector = embeddings_index.get(word)\n",
    "    if embedding_vector is not None:\n",
    "        # words not found in embedding index will be all-zeros.\n",
    "        embedding_matrix[i] = embedding_vector"
   ]
  },
  {
   "cell_type": "code",
   "execution_count": 213,
   "metadata": {},
   "outputs": [],
   "source": [
    "import matplotlib.pyplot as plt\n",
    "plt.style.use('ggplot')\n",
    "\n",
    "def plot_history(history):\n",
    "    acc = history.history['accuracy']\n",
    "    val_acc = history.history['val_accuracy']\n",
    "    loss = history.history['loss']\n",
    "    val_loss = history.history['val_loss']\n",
    "    x = range(1, len(acc) + 1)\n",
    "\n",
    "    plt.figure(figsize=(12, 5))\n",
    "    plt.subplot(1, 2, 1)\n",
    "    plt.plot(x, acc, 'b', label='Training acc')\n",
    "    plt.plot(x, val_acc, 'r', label='Validation acc')\n",
    "    plt.title('Training and validation accuracy')\n",
    "    plt.legend()\n",
    "    plt.subplot(1, 2, 2)\n",
    "    plt.plot(x, loss, 'b', label='Training loss')\n",
    "    plt.plot(x, val_loss, 'r', label='Validation loss')\n",
    "    plt.title('Training and validation loss')\n",
    "    plt.legend()"
   ]
  },
  {
   "cell_type": "code",
   "execution_count": 214,
   "metadata": {},
   "outputs": [
    {
     "name": "stdout",
     "output_type": "stream",
     "text": [
      "Model: \"sequential_17\"\n",
      "_________________________________________________________________\n",
      "Layer (type)                 Output Shape              Param #   \n",
      "=================================================================\n",
      "embedding_18 (Embedding)     (None, 500, 100)          6989600   \n",
      "_________________________________________________________________\n",
      "dropout_33 (Dropout)         (None, 500, 100)          0         \n",
      "_________________________________________________________________\n",
      "lstm_34 (LSTM)               (None, 64)                42240     \n",
      "_________________________________________________________________\n",
      "dropout_34 (Dropout)         (None, 64)                0         \n",
      "_________________________________________________________________\n",
      "dense_16 (Dense)             (None, 1)                 65        \n",
      "=================================================================\n",
      "Total params: 7,031,905\n",
      "Trainable params: 42,305\n",
      "Non-trainable params: 6,989,600\n",
      "_________________________________________________________________\n",
      "None\n"
     ]
    }
   ],
   "source": [
    "from tensorflow.keras.layers import LSTM\n",
    "from tensorflow.keras.layers import Dense\n",
    "\n",
    "from tensorflow.keras.layers import Dropout\n",
    "lstm_model=Sequential()\n",
    "lstm_model.add(Embedding(len(word_index)+1, #Vocablury number\n",
    "                                    100, #Embedding dim\n",
    "                                    weights=[embedding_matrix], #Embeddings matrix pre-trained model\n",
    "                                    trainable=False, #False.\n",
    "                                  input_length=500))#maxlens\n",
    "lstm_model.add(Dropout(0.3))\n",
    "lstm_model.add(LSTM(64))\n",
    "lstm_model.add(Dropout(0.3))\n",
    "lstm_model.add(Dense(1,activation='sigmoid'))\n",
    "lstm_model.compile(loss='binary_crossentropy',optimizer=tf.keras.optimizers.Adam(3e-3),metrics=['accuracy'])\n",
    "print(lstm_model.summary())"
   ]
  },
  {
   "cell_type": "code",
   "execution_count": 215,
   "metadata": {},
   "outputs": [
    {
     "name": "stdout",
     "output_type": "stream",
     "text": [
      "Epoch 1/20\n",
      "462/462 [==============================] - 17s 33ms/step - loss: 0.3253 - accuracy: 0.8620 - val_loss: 0.2442 - val_accuracy: 0.8928\n",
      "Epoch 2/20\n",
      "462/462 [==============================] - 15s 32ms/step - loss: 0.2610 - accuracy: 0.8904 - val_loss: 0.2477 - val_accuracy: 0.8937\n",
      "Epoch 3/20\n",
      "462/462 [==============================] - 15s 32ms/step - loss: 0.2358 - accuracy: 0.9028 - val_loss: 0.2192 - val_accuracy: 0.9035\n",
      "Epoch 4/20\n",
      "462/462 [==============================] - 15s 32ms/step - loss: 0.2237 - accuracy: 0.9068 - val_loss: 0.2165 - val_accuracy: 0.9047\n",
      "Epoch 5/20\n",
      "462/462 [==============================] - 15s 32ms/step - loss: 0.2134 - accuracy: 0.9108 - val_loss: 0.2177 - val_accuracy: 0.9086\n",
      "Epoch 6/20\n",
      "462/462 [==============================] - 15s 32ms/step - loss: 0.2044 - accuracy: 0.9157 - val_loss: 0.2197 - val_accuracy: 0.9059\n",
      "Epoch 7/20\n",
      "462/462 [==============================] - 15s 33ms/step - loss: 0.1965 - accuracy: 0.9199 - val_loss: 0.2089 - val_accuracy: 0.9074\n",
      "Epoch 8/20\n",
      "462/462 [==============================] - 15s 32ms/step - loss: 0.1950 - accuracy: 0.9207 - val_loss: 0.2160 - val_accuracy: 0.9074\n",
      "Epoch 9/20\n",
      "462/462 [==============================] - 15s 32ms/step - loss: 0.1897 - accuracy: 0.9216 - val_loss: 0.2135 - val_accuracy: 0.9093\n",
      "Epoch 10/20\n",
      "462/462 [==============================] - 15s 32ms/step - loss: 0.1870 - accuracy: 0.9247 - val_loss: 0.2149 - val_accuracy: 0.9096\n",
      "Epoch 11/20\n",
      "462/462 [==============================] - 15s 33ms/step - loss: 0.1789 - accuracy: 0.9273 - val_loss: 0.2185 - val_accuracy: 0.9077\n",
      "Epoch 12/20\n",
      "462/462 [==============================] - 15s 32ms/step - loss: 0.1750 - accuracy: 0.9267 - val_loss: 0.2150 - val_accuracy: 0.9062\n",
      "Restoring model weights from the end of the best epoch.\n",
      "Epoch 00012: early stopping\n"
     ]
    }
   ],
   "source": [
    "callback=keras.callbacks.EarlyStopping(monitor='val_loss',min_delta=0, patience=5, verbose=2, mode='auto', restore_best_weights=True)\n",
    "history = lstm_model.fit(x=pad_sequences, y=train_y, batch_size=64, verbose=1, epochs=20, validation_split= 0.1,shuffle=True,callbacks=[callback])"
   ]
  },
  {
   "cell_type": "code",
   "execution_count": 216,
   "metadata": {},
   "outputs": [
    {
     "data": {
      "image/png": "[encoded data removed]",
      "text/plain": [
       "<Figure size 864x360 with 2 Axes>"
      ]
     },
     "metadata": {},
     "output_type": "display_data"
    }
   ],
   "source": [
    "plot_history(history)"
   ]
  },
  {
   "cell_type": "code",
   "execution_count": 217,
   "metadata": {},
   "outputs": [
    {
     "data": {
      "image/png": "[encoded data removed]",
      "text/plain": [
       "<Figure size 432x288 with 1 Axes>"
      ]
     },
     "metadata": {},
     "output_type": "display_data"
    }
   ],
   "source": [
    "from sklearn.metrics import roc_curve\n",
    "y_pred=lstm_model.predict(x_testing).ravel()\n",
    "fpr, tpr, thresholds = roc_curve(test_y, y_pred)\n",
    "from sklearn.metrics import auc\n",
    "auc_keras = auc(fpr, tpr)\n",
    "plt.figure(1)\n",
    "plt.plot([0, 1], [0, 1], 'k--')\n",
    "plt.plot(fpr, tpr, label='Keras (area = {:.3f})'.format(auc_keras))\n",
    "plt.xlabel('False positive rate')\n",
    "plt.ylabel('True positive rate')\n",
    "plt.title('Glove 100 dims LSTM ROC curve')\n",
    "plt.legend(loc='best')\n",
    "plt.show()"
   ]
  },
  {
   "cell_type": "code",
   "execution_count": 218,
   "metadata": {},
   "outputs": [
    {
     "name": "stdout",
     "output_type": "stream",
     "text": [
      "The best threshold is 0.46526703\n",
      "              precision    recall  f1-score   support\n",
      "\n",
      "           0     0.9152    0.9212    0.9182      4289\n",
      "           1     0.9131    0.9066    0.9099      3919\n",
      "\n",
      "    accuracy                         0.9142      8208\n",
      "   macro avg     0.9142    0.9139    0.9140      8208\n",
      "weighted avg     0.9142    0.9142    0.9142      8208\n",
      "\n"
     ]
    }
   ],
   "source": [
    "from sklearn.metrics import roc_curve\n",
    "from sklearn.metrics import classification_report\n",
    "import numpy as np\n",
    "fpr, tpr, thresholds = roc_curve(test_y, y_pred)\n",
    "y=tpr-fpr\n",
    "idx=np.argmax(y)#Youden_index\n",
    "best_threshold=thresholds[idx]\n",
    "print(\"The best threshold is\",best_threshold)\n",
    "print(classification_report(test_y, y_pred >best_threshold ,digits=4))"
   ]
  },
  {
   "cell_type": "code",
   "execution_count": null,
   "metadata": {},
   "outputs": [],
   "source": []
  },
  {
   "cell_type": "code",
   "execution_count": null,
   "metadata": {},
   "outputs": [],
   "source": []
  },
  {
   "cell_type": "code",
   "execution_count": 219,
   "metadata": {},
   "outputs": [
    {
     "name": "stdout",
     "output_type": "stream",
     "text": [
      "Model: \"sequential_18\"\n",
      "_________________________________________________________________\n",
      "Layer (type)                 Output Shape              Param #   \n",
      "=================================================================\n",
      "embedding_19 (Embedding)     (None, 500, 100)          6989600   \n",
      "_________________________________________________________________\n",
      "bidirectional_10 (Bidirectio (None, 500, 128)          84480     \n",
      "_________________________________________________________________\n",
      "dropout_35 (Dropout)         (None, 500, 128)          0         \n",
      "_________________________________________________________________\n",
      "bidirectional_11 (Bidirectio (None, 128)               98816     \n",
      "_________________________________________________________________\n",
      "dense_17 (Dense)             (None, 1)                 129       \n",
      "=================================================================\n",
      "Total params: 7,173,025\n",
      "Trainable params: 183,425\n",
      "Non-trainable params: 6,989,600\n",
      "_________________________________________________________________\n",
      "None\n"
     ]
    }
   ],
   "source": [
    "from tensorflow.keras.layers import LSTM\n",
    "from tensorflow.keras.layers import Dense\n",
    "from tensorflow.keras.layers import Bidirectional\n",
    "from tensorflow.keras.layers import Dropout\n",
    "bi_model=Sequential()\n",
    "bi_model.add(Embedding(len(word_index)+1, #Vocablury number\n",
    "                                    100, #Embedding dim\n",
    "                                    weights=[embedding_matrix], #Embeddings matrix pre-trained model\n",
    "                                    trainable=False, #False.\n",
    "                                  input_length=500))#maxlens\n",
    "bi_model.add(Bidirectional(LSTM(64,return_sequences=True,dropout=0.3)))\n",
    "bi_model.add(Dropout(0.3))\n",
    "bi_model.add(Bidirectional(LSTM(64))) \n",
    "bi_model.add(Dense(1,activation='sigmoid'))\n",
    "bi_model.compile(loss='binary_crossentropy',optimizer=tf.keras.optimizers.Adam(3e-3),metrics=['accuracy'])\n",
    "print(bi_model.summary())"
   ]
  },
  {
   "cell_type": "code",
   "execution_count": 220,
   "metadata": {},
   "outputs": [
    {
     "name": "stdout",
     "output_type": "stream",
     "text": [
      "Epoch 1/20\n",
      "462/462 [==============================] - 71s 138ms/step - loss: 0.3148 - accuracy: 0.8671 - val_loss: 0.2533 - val_accuracy: 0.8940\n",
      "Epoch 2/20\n",
      "462/462 [==============================] - 62s 135ms/step - loss: 0.2389 - accuracy: 0.9025 - val_loss: 0.2310 - val_accuracy: 0.9053\n",
      "Epoch 3/20\n",
      "462/462 [==============================] - 62s 133ms/step - loss: 0.2190 - accuracy: 0.9105 - val_loss: 0.2120 - val_accuracy: 0.9096\n",
      "Epoch 4/20\n",
      "462/462 [==============================] - 61s 133ms/step - loss: 0.2036 - accuracy: 0.9172 - val_loss: 0.2070 - val_accuracy: 0.9111\n",
      "Epoch 5/20\n",
      "462/462 [==============================] - 61s 132ms/step - loss: 0.1943 - accuracy: 0.9218 - val_loss: 0.2081 - val_accuracy: 0.9108\n",
      "Epoch 6/20\n",
      "462/462 [==============================] - 61s 132ms/step - loss: 0.1867 - accuracy: 0.9235 - val_loss: 0.2063 - val_accuracy: 0.9123\n",
      "Epoch 7/20\n",
      "462/462 [==============================] - 61s 132ms/step - loss: 0.1794 - accuracy: 0.9264 - val_loss: 0.2089 - val_accuracy: 0.9099\n",
      "Epoch 8/20\n",
      "462/462 [==============================] - 61s 133ms/step - loss: 0.1788 - accuracy: 0.9281 - val_loss: 0.2147 - val_accuracy: 0.9077\n",
      "Epoch 9/20\n",
      "462/462 [==============================] - 61s 133ms/step - loss: 0.1676 - accuracy: 0.9318 - val_loss: 0.2059 - val_accuracy: 0.9132\n",
      "Epoch 10/20\n",
      "462/462 [==============================] - 61s 132ms/step - loss: 0.1608 - accuracy: 0.9346 - val_loss: 0.2157 - val_accuracy: 0.9135\n",
      "Epoch 11/20\n",
      "462/462 [==============================] - 61s 133ms/step - loss: 0.1547 - accuracy: 0.9361 - val_loss: 0.2158 - val_accuracy: 0.9132\n",
      "Epoch 12/20\n",
      "462/462 [==============================] - 61s 133ms/step - loss: 0.1522 - accuracy: 0.9381 - val_loss: 0.2282 - val_accuracy: 0.9096\n",
      "Epoch 13/20\n",
      "462/462 [==============================] - 61s 133ms/step - loss: 0.1474 - accuracy: 0.9403 - val_loss: 0.2227 - val_accuracy: 0.9147\n",
      "Epoch 14/20\n",
      "462/462 [==============================] - 61s 133ms/step - loss: 0.1423 - accuracy: 0.9419 - val_loss: 0.2161 - val_accuracy: 0.9153\n",
      "Restoring model weights from the end of the best epoch.\n",
      "Epoch 00014: early stopping\n"
     ]
    }
   ],
   "source": [
    "callback=keras.callbacks.EarlyStopping(monitor='val_loss',min_delta=0, patience=5, verbose=2, mode='auto', restore_best_weights=True)\n",
    "history = bi_model.fit(x=pad_sequences, y=train_y, batch_size=64, verbose=1, epochs=20,  validation_split= 0.1,shuffle=True,callbacks=[callback])"
   ]
  },
  {
   "cell_type": "code",
   "execution_count": 221,
   "metadata": {},
   "outputs": [
    {
     "data": {
      "image/png": "[encoded data removed]",
      "text/plain": [
       "<Figure size 864x360 with 2 Axes>"
      ]
     },
     "metadata": {},
     "output_type": "display_data"
    }
   ],
   "source": [
    "plot_history(history)"
   ]
  },
  {
   "cell_type": "code",
   "execution_count": 222,
   "metadata": {},
   "outputs": [
    {
     "data": {
      "image/png": "[encoded data removed]",
      "text/plain": [
       "<Figure size 432x288 with 1 Axes>"
      ]
     },
     "metadata": {},
     "output_type": "display_data"
    }
   ],
   "source": [
    "from sklearn.metrics import roc_curve\n",
    "y_pred=bi_model.predict(x_testing).ravel()\n",
    "fpr, tpr, thresholds = roc_curve(test_y, y_pred)\n",
    "from sklearn.metrics import auc\n",
    "auc_keras = auc(fpr, tpr)\n",
    "plt.figure(1)\n",
    "plt.plot([0, 1], [0, 1], 'k--')\n",
    "plt.plot(fpr, tpr, label='Keras (area = {:.3f})'.format(auc_keras))\n",
    "plt.xlabel('False positive rate')\n",
    "plt.ylabel('True positive rate')\n",
    "plt.title('ROC curve')\n",
    "plt.legend(loc='best')\n",
    "plt.show()"
   ]
  },
  {
   "cell_type": "code",
   "execution_count": 223,
   "metadata": {},
   "outputs": [
    {
     "name": "stdout",
     "output_type": "stream",
     "text": [
      "The best threshold is 0.5047411\n",
      "              precision    recall  f1-score   support\n",
      "\n",
      "           0     0.9132    0.9270    0.9201      4289\n",
      "           1     0.9188    0.9035    0.9111      3919\n",
      "\n",
      "    accuracy                         0.9158      8208\n",
      "   macro avg     0.9160    0.9153    0.9156      8208\n",
      "weighted avg     0.9159    0.9158    0.9158      8208\n",
      "\n"
     ]
    }
   ],
   "source": [
    "from sklearn.metrics import roc_curve\n",
    "import numpy as np\n",
    "from sklearn.metrics import classification_report\n",
    "fpr, tpr, thresholds = roc_curve(test_y, y_pred)\n",
    "y=tpr-fpr\n",
    "idx=np.argmax(y)#Youden_index\n",
    "best_threshold=thresholds[idx]\n",
    "print(\"The best threshold is\",best_threshold)\n",
    "print(classification_report(test_y, y_pred >best_threshold ,digits=4))"
   ]
  },
  {
   "cell_type": "code",
   "execution_count": 224,
   "metadata": {},
   "outputs": [
    {
     "name": "stdout",
     "output_type": "stream",
     "text": [
      "Model: \"sequential_19\"\n",
      "_________________________________________________________________\n",
      "Layer (type)                 Output Shape              Param #   \n",
      "=================================================================\n",
      "embedding_20 (Embedding)     (None, 500, 100)          6989600   \n",
      "_________________________________________________________________\n",
      "dropout_36 (Dropout)         (None, 500, 100)          0         \n",
      "_________________________________________________________________\n",
      "lstm_37 (LSTM)               (None, 500, 64)           42240     \n",
      "_________________________________________________________________\n",
      "dropout_37 (Dropout)         (None, 500, 64)           0         \n",
      "_________________________________________________________________\n",
      "lstm_38 (LSTM)               (None, 64)                33024     \n",
      "_________________________________________________________________\n",
      "dense_18 (Dense)             (None, 1)                 65        \n",
      "=================================================================\n",
      "Total params: 7,064,929\n",
      "Trainable params: 75,329\n",
      "Non-trainable params: 6,989,600\n",
      "_________________________________________________________________\n",
      "None\n"
     ]
    }
   ],
   "source": [
    "from tensorflow.keras.layers import LSTM\n",
    "from tensorflow.keras.layers import Dense\n",
    "\n",
    "from tensorflow.keras.layers import Dropout\n",
    "stack_lstm_model=Sequential()\n",
    "stack_lstm_model.add(Embedding(len(word_index)+1, #Vocablury number\n",
    "                                    100, #Embedding dim\n",
    "                                    weights=[embedding_matrix], #Embeddings matrix pre-trained model\n",
    "                                    trainable=False, #False.\n",
    "                                  input_length=500))#maxlens\n",
    "stack_lstm_model.add(Dropout(0.3))\n",
    "stack_lstm_model.add(LSTM(64,return_sequences=True))\n",
    "stack_lstm_model.add(Dropout(0.3))\n",
    "stack_lstm_model.add(LSTM(64))\n",
    "stack_lstm_model.add(Dense(1,activation='sigmoid'))\n",
    "stack_lstm_model.compile(loss='binary_crossentropy',optimizer=tf.keras.optimizers.Adam(3e-3),metrics=['accuracy'])\n",
    "print(stack_lstm_model.summary())"
   ]
  },
  {
   "cell_type": "code",
   "execution_count": 225,
   "metadata": {},
   "outputs": [],
   "source": [
    "stack_lstm_model.compile(loss = \"binary_crossentropy\",\n",
    "                 optimizer = tf.keras.optimizers.Adam(3e-3),\n",
    "                 metrics= [\"accuracy\"])"
   ]
  },
  {
   "cell_type": "code",
   "execution_count": 226,
   "metadata": {},
   "outputs": [
    {
     "name": "stdout",
     "output_type": "stream",
     "text": [
      "Epoch 1/20\n",
      "462/462 [==============================] - 33s 64ms/step - loss: 0.3473 - accuracy: 0.8511 - val_loss: 0.2660 - val_accuracy: 0.8910\n",
      "Epoch 2/20\n",
      "462/462 [==============================] - 29s 63ms/step - loss: 0.2605 - accuracy: 0.8917 - val_loss: 0.2339 - val_accuracy: 0.9026\n",
      "Epoch 3/20\n",
      "462/462 [==============================] - 29s 63ms/step - loss: 0.2404 - accuracy: 0.9007 - val_loss: 0.2208 - val_accuracy: 0.9056\n",
      "Epoch 4/20\n",
      "462/462 [==============================] - 29s 63ms/step - loss: 0.2301 - accuracy: 0.9064 - val_loss: 0.2237 - val_accuracy: 0.9056\n",
      "Epoch 5/20\n",
      "462/462 [==============================] - 29s 63ms/step - loss: 0.2173 - accuracy: 0.9110 - val_loss: 0.2215 - val_accuracy: 0.9074\n",
      "Epoch 6/20\n",
      "462/462 [==============================] - 29s 63ms/step - loss: 0.2089 - accuracy: 0.9141 - val_loss: 0.2187 - val_accuracy: 0.9035\n",
      "Epoch 7/20\n",
      "462/462 [==============================] - 29s 63ms/step - loss: 0.2030 - accuracy: 0.9179 - val_loss: 0.2113 - val_accuracy: 0.9144\n",
      "Epoch 8/20\n",
      "462/462 [==============================] - 29s 63ms/step - loss: 0.1981 - accuracy: 0.9187 - val_loss: 0.2095 - val_accuracy: 0.9123\n",
      "Epoch 9/20\n",
      "462/462 [==============================] - 29s 63ms/step - loss: 0.1925 - accuracy: 0.9215 - val_loss: 0.2126 - val_accuracy: 0.9147\n",
      "Epoch 10/20\n",
      "462/462 [==============================] - 29s 63ms/step - loss: 0.1889 - accuracy: 0.9233 - val_loss: 0.2097 - val_accuracy: 0.9153\n",
      "Epoch 11/20\n",
      "462/462 [==============================] - 29s 63ms/step - loss: 0.1931 - accuracy: 0.9204 - val_loss: 0.2442 - val_accuracy: 0.9041\n",
      "Epoch 12/20\n",
      "462/462 [==============================] - 29s 63ms/step - loss: 0.1990 - accuracy: 0.9182 - val_loss: 0.2098 - val_accuracy: 0.9141\n",
      "Epoch 13/20\n",
      "462/462 [==============================] - 29s 63ms/step - loss: 0.1815 - accuracy: 0.9259 - val_loss: 0.2139 - val_accuracy: 0.9065\n",
      "Restoring model weights from the end of the best epoch.\n",
      "Epoch 00013: early stopping\n"
     ]
    }
   ],
   "source": [
    "callback=keras.callbacks.EarlyStopping(monitor='val_loss',min_delta=0, patience=5, verbose=2, mode='auto', restore_best_weights=True)\n",
    "history = stack_lstm_model.fit(\n",
    "    pad_sequences,train_y,\n",
    "    batch_size= 64,\n",
    "    epochs= 20,\n",
    "    validation_split= 0.1,\n",
    "    verbose=1,callbacks=[callback]\n",
    ")"
   ]
  },
  {
   "cell_type": "code",
   "execution_count": 227,
   "metadata": {},
   "outputs": [
    {
     "data": {
      "image/png": "[encoded data removed]",
      "text/plain": [
       "<Figure size 432x288 with 1 Axes>"
      ]
     },
     "metadata": {},
     "output_type": "display_data"
    }
   ],
   "source": [
    "from sklearn.metrics import roc_curve\n",
    "y_pred=stack_lstm_model.predict(x_testing).ravel()\n",
    "fpr, tpr, thresholds = roc_curve(test_y, y_pred)\n",
    "from sklearn.metrics import auc\n",
    "auc_keras = auc(fpr, tpr)\n",
    "plt.figure(1)\n",
    "plt.plot([0, 1], [0, 1], 'k--')\n",
    "plt.plot(fpr, tpr, label='Keras (area = {:.3f})'.format(auc_keras))\n",
    "plt.xlabel('False positive rate')\n",
    "plt.ylabel('True positive rate')\n",
    "plt.title('ROC curve')\n",
    "plt.legend(loc='best')\n",
    "plt.show()"
   ]
  },
  {
   "cell_type": "code",
   "execution_count": 228,
   "metadata": {},
   "outputs": [
    {
     "name": "stdout",
     "output_type": "stream",
     "text": [
      "The best threshold is 0.53593063\n",
      "              precision    recall  f1-score   support\n",
      "\n",
      "           0     0.9085    0.9310    0.9196      4289\n",
      "           1     0.9224    0.8974    0.9097      3919\n",
      "\n",
      "    accuracy                         0.9150      8208\n",
      "   macro avg     0.9155    0.9142    0.9147      8208\n",
      "weighted avg     0.9151    0.9150    0.9149      8208\n",
      "\n"
     ]
    }
   ],
   "source": [
    "from sklearn.metrics import roc_curve\n",
    "import numpy as np\n",
    "from sklearn.metrics import classification_report\n",
    "fpr, tpr, thresholds = roc_curve(test_y, y_pred)\n",
    "y=tpr-fpr\n",
    "idx=np.argmax(y)#Youden_index\n",
    "best_threshold=thresholds[idx]\n",
    "print(\"The best threshold is\",best_threshold)\n",
    "print(classification_report(test_y, y_pred >best_threshold ,digits=4))"
   ]
  },
  {
   "cell_type": "code",
   "execution_count": null,
   "metadata": {},
   "outputs": [],
   "source": []
  },
  {
   "cell_type": "code",
   "execution_count": 180,
   "metadata": {},
   "outputs": [
    {
     "name": "stderr",
     "output_type": "stream",
     "text": [
      "WARNING:absl:Found untraced functions such as lstm_cell_1_layer_call_fn, lstm_cell_1_layer_call_and_return_conditional_losses, lstm_cell_2_layer_call_fn, lstm_cell_2_layer_call_and_return_conditional_losses, lstm_cell_4_layer_call_fn while saving (showing 5 of 20). These functions will not be directly callable after loading.\n"
     ]
    },
    {
     "name": "stdout",
     "output_type": "stream",
     "text": [
      "INFO:tensorflow:Assets written to: week6_1model\\assets\n"
     ]
    },
    {
     "name": "stderr",
     "output_type": "stream",
     "text": [
      "INFO:tensorflow:Assets written to: week6_1model\\assets\n"
     ]
    }
   ],
   "source": [
    "bi_model.save('week7_1model')"
   ]
  },
  {
   "cell_type": "code",
   "execution_count": 259,
   "metadata": {},
   "outputs": [],
   "source": [
    "from tensorflow.keras.models import load_model \n",
    "new_model = tf.keras.models.load_model('week6_1model')"
   ]
  },
  {
   "cell_type": "code",
   "execution_count": 62,
   "metadata": {},
   "outputs": [],
   "source": [
    "sample_text=[\"This movie is kind of a mixed bag. There are certain elements of it that I think are creative, but by far it is definitely one of the lesser Marvel films. The only thing I disagree with Martin Scorsese about is that Marvel movies are like theme park rides because there are ones like Endgame, Thor Ragnarok (my personal favourite Marvel movie), Civil War, The Avengers, Infinity War and many others that have a far deeper meaning and much more than just entertainment. Overall, Venom is one of those okay movies that doesn't deserve hate, the scenes where the Venom inside Tom Hardy's character is talking to him are pretty hilarious\"]\n",
    "sequences = tokenizer.texts_to_sequences(sample_text)"
   ]
  },
  {
   "cell_type": "code",
   "execution_count": 58,
   "metadata": {},
   "outputs": [],
   "source": [
    "sample_text=[\"Only saw this once or twice - I don't remember - many years ago; haven't been interested in seeing it again since there was a time when I was younger and I slightly enjoyed dumb movies but this went to deep into stupidity. That's about it - nothing good about it just a drag!\"]\n",
    "sequences = tokenizer.texts_to_sequences(sample_text)"
   ]
  },
  {
   "cell_type": "code",
   "execution_count": 56,
   "metadata": {},
   "outputs": [],
   "source": [
    "sample_text=[\"I enjoyed watching the movie, but it is obvious from its name and poster that it is a terrible movie. I don't regret watching :)\"]\n",
    "sequences = tokenizer.texts_to_sequences(sample_text)"
   ]
  },
  {
   "cell_type": "code",
   "execution_count": 62,
   "metadata": {},
   "outputs": [],
   "source": [
    "sample_text=[\"There seems to be quite a bit of agreement on what Im about to say about the film. Venom doesnt quite know what it is. It cant decide wether its a goofy, action or a horror movie. Therefore its all of it and none at the same time. The goofy jokes are pretty lame, which is why they are funny, you dont laugh with the writers, you laugh at them. The action scenes are meh at best, car chase : check motorcycle : check ridiculous (bad) cgi fight: check sure, watching Tom Hardy motorcross in San Francisco is quite fun, but its not really action. Finally, the horror; there are glimpses, glimmers of hope scattered around this movie. Little snippets of what could have been, but as soon as they appear they disappear. Two scenes really stood out to me due to their potential. After quite a lot of buildup of Venom getting into the building (BY RUNNING UP IT), Eddie decides to take the lift down. Instead of having Eddie walk into the SWAT team, they should have been swarming the building crawling through the floors looking for him. Then, they could have had an ALIEN like hunting scene where Venom slowly takes out the task force one by one, in true horror movie fashion. The other obvious horror scene could have been using the creepy little girl that delivers RIOT to the Musk wannabe, they could have homaged The Shining, they could have pulled an exorcist, they could have done a million things, but the little girl just has white pupils and a deep voice. Throughout the movie there are just continuous disappointments because you see what it is missing. Instead of the cheap love story and all the stupid overdone things they should have been ballsy with their movie. Yes the movie DID make 800+ million, however im sure it was going to do that anyway. Venom is probably one of the most badass characters in comic history, and Tom Hardy is Tom Hardy. I would have loved to see something along these lines: Symbiote hunts Eddie. Symbiote captures Eddie and they become Venom. Venom starts unleashing hell because he can, hunts SWAT etc. Venom goes after Musk wannabe and Kills him. Throw some more horror elements in there, and it would have made for a much more satisfactory watch. I have always adored Venom, and this movie had so much potential, but it was all for nothing. No rewatchability. Nothing worth remembering. Just a flick. It was funny seeing Tom Hardy being a bit of a pussball, but even he cant help a crap script and an even worse film.\"]\n",
    "sequences = tokenizer.texts_to_sequences(sample_text)"
   ]
  },
  {
   "cell_type": "code",
   "execution_count": 63,
   "metadata": {},
   "outputs": [],
   "source": [
    "pad_sequences = tf.keras.preprocessing.sequence.pad_sequences(sequences,\n",
    "                                                             maxlen = 500)"
   ]
  },
  {
   "cell_type": "code",
   "execution_count": 58,
   "metadata": {},
   "outputs": [
    {
     "data": {
      "text/plain": [
       "array([[   0,    0,    0,    0,    0,    0,    0,    0,    0,    0,    0,\n",
       "           0,    0,    0,    0,    0,    0,    0,    0,    0,    0,    0,\n",
       "           0,    0,    0,    0,    0,    0,    0,    0,    0,    0,    0,\n",
       "           0,    0,    0,    0,    0,    0,    0,    0,    0,    0,    0,\n",
       "           0,    0,    0,    0,    0,    0,    0,    0,    0,    0,    0,\n",
       "           0,    0,    0,    0,    0,    0,    0,    0,    0,    0,    0,\n",
       "           0,    0,    0,    0,    0,    0,    0,    0,    0,    0,    0,\n",
       "           0,    0,    0,    0,    0,    0,    0,    0,    0,    0,    0,\n",
       "           0,    0,    0,    0,    0,    0,    0,    0,    0,    0,    0,\n",
       "           0,    0,    0,    0,    0,    0,    0,    0,    0,    0,    0,\n",
       "           0,    0,    0,    0,    0,    0,    0,    0,    0,    0,    0,\n",
       "           0,    0,    0,    0,    0,    0,    0,    0,    0,    0,    0,\n",
       "           0,    0,    0,    0,    0,    0,    0,    0,    0,    0,    0,\n",
       "           0,    0,    0,    0,    0,    0,    0,    0,    0,    0,    0,\n",
       "           0,    0,    0,    0,    0,    0,    0,    0,    0,    0,    0,\n",
       "           0,    0,    0,    0,    0,    0,    0,    0,    0,    0,    0,\n",
       "           0,    0,    0,    0,    0,    0,    0,    0,    0,    0,    0,\n",
       "           0,    0,    0,    0,    0,    0,    0,    0,    0,    0,    0,\n",
       "           0,    0,    0,    0,    0,    0,    0,    0,    0,    0,    0,\n",
       "           0,    0,    0,    0,    0,    0,    0,    0,    0,    0,    0,\n",
       "           0,    0,    0,    0,    0,    0,    0,    0,    0,    0,    0,\n",
       "           0,    0,    0,    0,    0,    0,    0,    0,    0,    0,    0,\n",
       "           0,    0,    0,    0,    0,    0,    0,    0,    0,    0,    0,\n",
       "           0,    0,    0,    0,    0,    0,    0,    0,    0,    0,    0,\n",
       "           0,    0,    0,    0,    0,    0,    0,    0,    0,    0,    0,\n",
       "           0,    0,    0,    0,    0,    0,    0,    0,    0,    0,    0,\n",
       "           0,    0,    0,    0,    0,    0,    0,    0,    0,    0,    0,\n",
       "           0,    0,    0,    0,    0,    0,    0,    0,    0,    0,    0,\n",
       "           0,    0,    0,    0,    0,    0,    0,    0,    0,    0,    0,\n",
       "           0,    0,    0,    0,    0,    0,    0,    0,    0,    0,    0,\n",
       "           0,    0,    0,    0,    0,    0,    0,    0,    0,    0,    0,\n",
       "           0,    0,    0,    0,    0,    0,    0,    0,    0,    0,    0,\n",
       "           0,    0,    0,    0,    0,    0,    0,    0,    0,    0,    0,\n",
       "           0,    0,    0,    0,    0,    0,    0,    0,    0,    0,    0,\n",
       "           0,    0,    0,    0,    0,    0,    0,    0,    0,    0,    0,\n",
       "           0,    0,    0,    0,    0,    0,    0,    0,    0,    0,    0,\n",
       "           0,    0,    0,    0,    0,    0,    0,    0,    0,    0,    0,\n",
       "           0,    0,    0,    0,    0,    0,    0,    0,    0,    0,    0,\n",
       "           0,    0,    0,    0,    0,    0,    0,    0,    0,    0,    0,\n",
       "           0,    0,    0,    0,    0,    0,    0,    0,    0,    0,    0,\n",
       "           0,    0,    0,    0,    0,    0,    0,    0,    0,    0,    0,\n",
       "           0,    0,    0,    0,    0,    0,    0,    0,    0,    0,    0,\n",
       "           0,    0,    0,    0,    0,    0,    0,    0,    0,    0,    0,\n",
       "           0,    0,    0,    0,    5, 5267,  942,    1,  784,   29,   11,\n",
       "           8,  806,   33,  121,  149,    6, 5283,    9,   11,    8,    4,\n",
       "        2915,  784,    5, 5536,  942]])"
      ]
     },
     "execution_count": 58,
     "metadata": {},
     "output_type": "execute_result"
    }
   ],
   "source": [
    "pad_sequences"
   ]
  },
  {
   "cell_type": "code",
   "execution_count": 69,
   "metadata": {},
   "outputs": [],
   "source": [
    "sample_text=[\"Started Binging to Catch up and WOW what a PIECE OF CRAP\"]\n",
    "sequences = tokenizer.texts_to_sequences(sample_text)"
   ]
  },
  {
   "cell_type": "code",
   "execution_count": 94,
   "metadata": {},
   "outputs": [],
   "source": [
    "sample_text=[\"This latest offering is another disaster yet again from Daniel Craig. Besides his first movie viz. Casino Royale all the rest have been totally useless. It was an absolute burden to sit throught this 2.40 hrs long film. Definitely for me, the James Bond franchise has lost the absolute magical touch it used to have in the days of Sean Connery and Roger\"]\n",
    "sequences = tokenizer.texts_to_sequences(sample_text)"
   ]
  },
  {
   "cell_type": "code",
   "execution_count": 104,
   "metadata": {},
   "outputs": [],
   "source": [
    "sample_text=[\"\"]\n",
    "sequences = tokenizer.texts_to_sequences(sample_text)"
   ]
  },
  {
   "cell_type": "code",
   "execution_count": 51,
   "metadata": {},
   "outputs": [],
   "source": [
    "sample_text=[\"I enjoyed watching the movie, but it is obvious from its name and poster that it is a terrible movie. I don't regret watching :)\"]\n",
    "sequences = tokenizer.texts_to_sequences(sample_text)"
   ]
  },
  {
   "cell_type": "code",
   "execution_count": 79,
   "metadata": {},
   "outputs": [],
   "source": [
    "sample_text=[\"When you wake up from a good dream, you feel the reality is harsh. When you wake up after a bad dream, you will be sentimentally attached to the beauty of reality. But as long as life is good, reality and dreams don't matter.\"]\n",
    "sequences = tokenizer.texts_to_sequences(sample_text)"
   ]
  },
  {
   "cell_type": "code",
   "execution_count": 80,
   "metadata": {},
   "outputs": [],
   "source": [
    "pad_sequences = tf.keras.preprocessing.sequence.pad_sequences(sequences,\n",
    "                                                             maxlen = 500)"
   ]
  },
  {
   "cell_type": "code",
   "execution_count": 81,
   "metadata": {},
   "outputs": [
    {
     "data": {
      "text/plain": [
       "array([[   0,    0,    0,    0,    0,    0,    0,    0,    0,    0,    0,\n",
       "           0,    0,    0,    0,    0,    0,    0,    0,    0,    0,    0,\n",
       "           0,    0,    0,    0,    0,    0,    0,    0,    0,    0,    0,\n",
       "           0,    0,    0,    0,    0,    0,    0,    0,    0,    0,    0,\n",
       "           0,    0,    0,    0,    0,    0,    0,    0,    0,    0,    0,\n",
       "           0,    0,    0,    0,    0,    0,    0,    0,    0,    0,    0,\n",
       "           0,    0,    0,    0,    0,    0,    0,    0,    0,    0,    0,\n",
       "           0,    0,    0,    0,    0,    0,    0,    0,    0,    0,    0,\n",
       "           0,    0,    0,    0,    0,    0,    0,    0,    0,    0,    0,\n",
       "           0,    0,    0,    0,    0,    0,    0,    0,    0,    0,    0,\n",
       "           0,    0,    0,    0,    0,    0,    0,    0,    0,    0,    0,\n",
       "           0,    0,    0,    0,    0,    0,    0,    0,    0,    0,    0,\n",
       "           0,    0,    0,    0,    0,    0,    0,    0,    0,    0,    0,\n",
       "           0,    0,    0,    0,    0,    0,    0,    0,    0,    0,    0,\n",
       "           0,    0,    0,    0,    0,    0,    0,    0,    0,    0,    0,\n",
       "           0,    0,    0,    0,    0,    0,    0,    0,    0,    0,    0,\n",
       "           0,    0,    0,    0,    0,    0,    0,    0,    0,    0,    0,\n",
       "           0,    0,    0,    0,    0,    0,    0,    0,    0,    0,    0,\n",
       "           0,    0,    0,    0,    0,    0,    0,    0,    0,    0,    0,\n",
       "           0,    0,    0,    0,    0,    0,    0,    0,    0,    0,    0,\n",
       "           0,    0,    0,    0,    0,    0,    0,    0,    0,    0,    0,\n",
       "           0,    0,    0,    0,    0,    0,    0,    0,    0,    0,    0,\n",
       "           0,    0,    0,    0,    0,    0,    0,    0,    0,    0,    0,\n",
       "           0,    0,    0,    0,    0,    0,    0,    0,    0,    0,    0,\n",
       "           0,    0,    0,    0,    0,    0,    0,    0,    0,    0,    0,\n",
       "           0,    0,    0,    0,    0,    0,    0,    0,    0,    0,    0,\n",
       "           0,    0,    0,    0,    0,    0,    0,    0,    0,    0,    0,\n",
       "           0,    0,    0,    0,    0,    0,    0,    0,    0,    0,    0,\n",
       "           0,    0,    0,    0,    0,    0,    0,    0,    0,    0,    0,\n",
       "           0,    0,    0,    0,    0,    0,    0,    0,    0,    0,    0,\n",
       "           0,    0,    0,    0,    0,    0,    0,    0,    0,    0,    0,\n",
       "           0,    0,    0,    0,    0,    0,    0,    0,    0,    0,    0,\n",
       "           0,    0,    0,    0,    0,    0,    0,    0,    0,    0,    0,\n",
       "           0,    0,    0,    0,    0,    0,    0,    0,    0,    0,    0,\n",
       "           0,    0,    0,    0,    0,    0,    0,    0,    0,    0,    0,\n",
       "           0,    0,    0,    0,    0,    0,    0,    0,    0,    0,    0,\n",
       "           0,    0,    0,    0,    0,    0,    0,    0,    0,    0,    0,\n",
       "           0,    0,    0,    0,    0,    0,    0,    0,    0,    0,    0,\n",
       "           0,    0,    0,    0,    0,    0,    0,    0,    0,    0,    0,\n",
       "           0,    0,    0,    0,    0,    0,    0,    0,    0,    0,    0,\n",
       "           0,    0,    0,    0,    0,    0,    0,    0,    0,    0,    0,\n",
       "           0,    0,    0,    0,    0,    0,    0,   84,    2, 3247,   80,\n",
       "          33,    4,  117, 3482,    2,  256,    1, 1662,    8, 6418,   84,\n",
       "           2, 3247,   80,  175,    4,  270, 3482,    2,   39,   19, 5459,\n",
       "           3,    1, 6498,    7, 1662,   29,   22,  315,   22,  257,    8,\n",
       "         117, 1662,    5, 9024,  440]])"
      ]
     },
     "execution_count": 81,
     "metadata": {},
     "output_type": "execute_result"
    }
   ],
   "source": [
    "pad_sequences"
   ]
  },
  {
   "cell_type": "code",
   "execution_count": null,
   "metadata": {},
   "outputs": [],
   "source": []
  },
  {
   "cell_type": "code",
   "execution_count": 82,
   "metadata": {},
   "outputs": [],
   "source": [
    "predictions =bi_model.predict(pad_sequences) "
   ]
  },
  {
   "cell_type": "code",
   "execution_count": 230,
   "metadata": {},
   "outputs": [],
   "source": [
    "predictions =new_model.predict(pad_sequences) "
   ]
  },
  {
   "cell_type": "code",
   "execution_count": 83,
   "metadata": {},
   "outputs": [
    {
     "data": {
      "text/plain": [
       "array([[0.6534879]], dtype=float32)"
      ]
     },
     "execution_count": 83,
     "metadata": {},
     "output_type": "execute_result"
    }
   ],
   "source": [
    "predictions "
   ]
  },
  {
   "cell_type": "code",
   "execution_count": null,
   "metadata": {},
   "outputs": [],
   "source": []
  },
  {
   "cell_type": "code",
   "execution_count": null,
   "metadata": {},
   "outputs": [],
   "source": [
    "embedding = \"https://tfhub.dev/google/nnlm-en-dim128/2\"    \n",
    "    \n",
    "hub_layer = hub.KerasLayer(embedding,output_shape=[128], input_shape=[], dtype=tf.string, trainable=True)"
   ]
  }
 ],
 "metadata": {
  "kernelspec": {
   "display_name": "Python 3",
   "language": "python",
   "name": "python3"
  },
  "language_info": {
   "codemirror_mode": {
    "name": "ipython",
    "version": 3
   },
   "file_extension": ".py",
   "mimetype": "text/x-python",
   "name": "python",
   "nbconvert_exporter": "python",
   "pygments_lexer": "ipython3",
   "version": "3.6.13"
  }
 },
 "nbformat": 4,
 "nbformat_minor": 4
}
