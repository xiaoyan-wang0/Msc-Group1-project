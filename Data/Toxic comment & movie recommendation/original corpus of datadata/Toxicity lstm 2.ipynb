{
 "cells": [
  {
   "cell_type": "code",
   "execution_count": 88,
   "metadata": {},
   "outputs": [
    {
     "name": "stderr",
     "output_type": "stream",
     "text": [
      "[nltk_data] Downloading package stopwords to\n",
      "[nltk_data]     C:\\Users\\TengkaiGao\\AppData\\Roaming\\nltk_data...\n",
      "[nltk_data]   Package stopwords is already up-to-date!\n"
     ]
    }
   ],
   "source": [
    "import seaborn as sns\n",
    "import matplotlib.pyplot as plt\n",
    "import pandas as pd\n",
    "import numpy as np\n",
    "import tensorflow as tf\n",
    "from tensorflow.keras.preprocessing import text,sequence\n",
    "from tensorflow.keras.models import Sequential\n",
    "from tensorflow.keras.layers import Dense,Dropout,Activation\n",
    "from tensorflow.keras.layers import Embedding\n",
    "from tensorflow.keras.layers import Conv1D,GlobalMaxPooling1D,MaxPooling1D\n",
    "from sklearn.model_selection import train_test_split\n",
    "import re    #for regex\n",
    "import string\n",
    "from tensorflow import keras\n",
    "import nltk\n",
    "nltk.download('stopwords')\n",
    "from wordcloud import WordCloud"
   ]
  },
  {
   "cell_type": "code",
   "execution_count": 89,
   "metadata": {},
   "outputs": [],
   "source": [
    "train = pd.read_csv('G:/toxic_final.csv')"
   ]
  },
  {
   "cell_type": "code",
   "execution_count": 90,
   "metadata": {},
   "outputs": [
    {
     "data": {
      "text/html": [
       "<div>\n",
       "<style scoped>\n",
       "    .dataframe tbody tr th:only-of-type {\n",
       "        vertical-align: middle;\n",
       "    }\n",
       "\n",
       "    .dataframe tbody tr th {\n",
       "        vertical-align: top;\n",
       "    }\n",
       "\n",
       "    .dataframe thead th {\n",
       "        text-align: right;\n",
       "    }\n",
       "</style>\n",
       "<table border=\"1\" class=\"dataframe\">\n",
       "  <thead>\n",
       "    <tr style=\"text-align: right;\">\n",
       "      <th></th>\n",
       "      <th>Unnamed: 0</th>\n",
       "      <th>Unnamed: 0.1</th>\n",
       "      <th>comment_text</th>\n",
       "      <th>Toxic</th>\n",
       "    </tr>\n",
       "  </thead>\n",
       "  <tbody>\n",
       "    <tr>\n",
       "      <th>0</th>\n",
       "      <td>0</td>\n",
       "      <td>61</td>\n",
       "      <td>discussion requires both parties to explain th...</td>\n",
       "      <td>0</td>\n",
       "    </tr>\n",
       "    <tr>\n",
       "      <th>1</th>\n",
       "      <td>1</td>\n",
       "      <td>40630</td>\n",
       "      <td>avoiding edit wars   acroterion i have been tr...</td>\n",
       "      <td>0</td>\n",
       "    </tr>\n",
       "    <tr>\n",
       "      <th>2</th>\n",
       "      <td>2</td>\n",
       "      <td>12124</td>\n",
       "      <td>omg i have never thought of it that way pure g...</td>\n",
       "      <td>0</td>\n",
       "    </tr>\n",
       "    <tr>\n",
       "      <th>3</th>\n",
       "      <td>3</td>\n",
       "      <td>11380</td>\n",
       "      <td>because of our recent edits to skycable the us...</td>\n",
       "      <td>0</td>\n",
       "    </tr>\n",
       "    <tr>\n",
       "      <th>4</th>\n",
       "      <td>4</td>\n",
       "      <td>5844</td>\n",
       "      <td>no harm done i deleted the second comment</td>\n",
       "      <td>0</td>\n",
       "    </tr>\n",
       "    <tr>\n",
       "      <th>...</th>\n",
       "      <td>...</td>\n",
       "      <td>...</td>\n",
       "      <td>...</td>\n",
       "      <td>...</td>\n",
       "    </tr>\n",
       "    <tr>\n",
       "      <th>41034</th>\n",
       "      <td>41034</td>\n",
       "      <td>43459</td>\n",
       "      <td>new mutants putlocker about to be the  google ...</td>\n",
       "      <td>1</td>\n",
       "    </tr>\n",
       "    <tr>\n",
       "      <th>41035</th>\n",
       "      <td>41035</td>\n",
       "      <td>43460</td>\n",
       "      <td>it was better than the new mutants there were ...</td>\n",
       "      <td>1</td>\n",
       "    </tr>\n",
       "    <tr>\n",
       "      <th>41036</th>\n",
       "      <td>41036</td>\n",
       "      <td>43461</td>\n",
       "      <td>whenever i think that I am truly fast  furious...</td>\n",
       "      <td>1</td>\n",
       "    </tr>\n",
       "    <tr>\n",
       "      <th>41037</th>\n",
       "      <td>41037</td>\n",
       "      <td>43462</td>\n",
       "      <td>my man was not to happy i left on this harley ...</td>\n",
       "      <td>1</td>\n",
       "    </tr>\n",
       "    <tr>\n",
       "      <th>41038</th>\n",
       "      <td>41038</td>\n",
       "      <td>43463</td>\n",
       "      <td>just got my ass worn the fuck out in an exhaus...</td>\n",
       "      <td>1</td>\n",
       "    </tr>\n",
       "  </tbody>\n",
       "</table>\n",
       "<p>41039 rows × 4 columns</p>\n",
       "</div>"
      ],
      "text/plain": [
       "       Unnamed: 0  Unnamed: 0.1  \\\n",
       "0               0            61   \n",
       "1               1         40630   \n",
       "2               2         12124   \n",
       "3               3         11380   \n",
       "4               4          5844   \n",
       "...           ...           ...   \n",
       "41034       41034         43459   \n",
       "41035       41035         43460   \n",
       "41036       41036         43461   \n",
       "41037       41037         43462   \n",
       "41038       41038         43463   \n",
       "\n",
       "                                            comment_text  Toxic  \n",
       "0      discussion requires both parties to explain th...      0  \n",
       "1      avoiding edit wars   acroterion i have been tr...      0  \n",
       "2      omg i have never thought of it that way pure g...      0  \n",
       "3      because of our recent edits to skycable the us...      0  \n",
       "4              no harm done i deleted the second comment      0  \n",
       "...                                                  ...    ...  \n",
       "41034  new mutants putlocker about to be the  google ...      1  \n",
       "41035  it was better than the new mutants there were ...      1  \n",
       "41036  whenever i think that I am truly fast  furious...      1  \n",
       "41037  my man was not to happy i left on this harley ...      1  \n",
       "41038  just got my ass worn the fuck out in an exhaus...      1  \n",
       "\n",
       "[41039 rows x 4 columns]"
      ]
     },
     "execution_count": 90,
     "metadata": {},
     "output_type": "execute_result"
    }
   ],
   "source": [
    "train"
   ]
  },
  {
   "cell_type": "code",
   "execution_count": 91,
   "metadata": {},
   "outputs": [
    {
     "data": {
      "image/png": "[encoded data removed]",
      "text/plain": [
       "<Figure size 432x288 with 1 Axes>"
      ]
     },
     "metadata": {},
     "output_type": "display_data"
    }
   ],
   "source": [
    "target_count = train.groupby('Toxic').size().reset_index(name='counts')\n",
    "plt.bar(target_count.Toxic, target_count.counts)\n",
    "plt.xticks([0,1], labels=[\"Non_toxic\", \"Toxic\"])\n",
    "plt.title(\"Target Distribution\")\n",
    "plt.show()"
   ]
  },
  {
   "cell_type": "code",
   "execution_count": 92,
   "metadata": {},
   "outputs": [],
   "source": [
    "train['comment_text'] = pd.DataFrame(train[\"comment_text\"].astype('str')) #transfomer to str "
   ]
  },
  {
   "cell_type": "code",
   "execution_count": 116,
   "metadata": {},
   "outputs": [],
   "source": [
    "x=train[\"comment_text\"]\n",
    "y=train[\"Toxic\"]"
   ]
  },
  {
   "cell_type": "code",
   "execution_count": null,
   "metadata": {},
   "outputs": [],
   "source": []
  },
  {
   "cell_type": "code",
   "execution_count": 117,
   "metadata": {},
   "outputs": [],
   "source": [
    "#Splitting the data into train and test\n",
    "train_x, test_x, train_y, test_y = train_test_split(x,y, test_size=0.2, random_state=2,shuffle=True)"
   ]
  },
  {
   "cell_type": "code",
   "execution_count": 118,
   "metadata": {},
   "outputs": [],
   "source": [
    "max_feature = 3000#max feature 3000\n",
    "tokenizer = tf.keras.preprocessing.text.Tokenizer(max_feature,\n",
    "                                                  lower= True,\n",
    "                                                  filters= '!\"#$%&()*+,-./:;<=>?@[\\\\]^_`{|}~\\t\\n',\n",
    "                                                  split = \" \")#tokenizer \n",
    "\n",
    "tokenizer.fit_on_texts(train_x)"
   ]
  },
  {
   "cell_type": "code",
   "execution_count": 119,
   "metadata": {},
   "outputs": [],
   "source": [
    "sequences = tokenizer.texts_to_sequences(train_x)"
   ]
  },
  {
   "cell_type": "code",
   "execution_count": 120,
   "metadata": {},
   "outputs": [],
   "source": [
    "pad_sequences = tf.keras.preprocessing.sequence.pad_sequences(sequences,\n",
    "                                                             maxlen = 500)"
   ]
  },
  {
   "cell_type": "code",
   "execution_count": 121,
   "metadata": {},
   "outputs": [],
   "source": [
    "test_x_tokenized=tokenizer.texts_to_sequences(test_x)\n",
    "x_testing=tf.keras.preprocessing.sequence.pad_sequences(test_x_tokenized,maxlen=500)"
   ]
  },
  {
   "cell_type": "code",
   "execution_count": 122,
   "metadata": {},
   "outputs": [
    {
     "data": {
      "text/plain": [
       "array([[   0,    0,    0, ...,    3,    2,  116],\n",
       "       [   0,    0,    0, ...,  448,  221,  139],\n",
       "       [   0,    0,    0, ...,  666,   42,   91],\n",
       "       ...,\n",
       "       [   0,    0,    0, ..., 1049,  111, 1212],\n",
       "       [   0,    0,    0, ...,    7,    1, 1298],\n",
       "       [   0,    0,    0, ...,   12,   28,  204]])"
      ]
     },
     "execution_count": 122,
     "metadata": {},
     "output_type": "execute_result"
    }
   ],
   "source": [
    "pad_sequences"
   ]
  },
  {
   "cell_type": "code",
   "execution_count": null,
   "metadata": {},
   "outputs": [],
   "source": []
  },
  {
   "cell_type": "code",
   "execution_count": null,
   "metadata": {},
   "outputs": [],
   "source": []
  },
  {
   "cell_type": "code",
   "execution_count": 123,
   "metadata": {},
   "outputs": [
    {
     "name": "stdout",
     "output_type": "stream",
     "text": [
      "Model: \"sequential_15\"\n",
      "_________________________________________________________________\n",
      "Layer (type)                 Output Shape              Param #   \n",
      "=================================================================\n",
      "embedding_14 (Embedding)     (None, 500, 64)           192000    \n",
      "_________________________________________________________________\n",
      "dropout_27 (Dropout)         (None, 500, 64)           0         \n",
      "_________________________________________________________________\n",
      "lstm_22 (LSTM)               (None, 64)                33024     \n",
      "_________________________________________________________________\n",
      "dropout_28 (Dropout)         (None, 64)                0         \n",
      "_________________________________________________________________\n",
      "dense_14 (Dense)             (None, 1)                 65        \n",
      "=================================================================\n",
      "Total params: 225,089\n",
      "Trainable params: 225,089\n",
      "Non-trainable params: 0\n",
      "_________________________________________________________________\n"
     ]
    }
   ],
   "source": [
    "model_lstm = tf.keras.Sequential([tf.keras.layers.Embedding(max_feature,64,input_length = 500),\n",
    "                                 tf.keras.layers.Dropout(0.3),\n",
    "                                 tf.keras.layers.LSTM(64),\n",
    "                                 tf.keras.layers.Dropout(0.3),\n",
    "                                 tf.keras.layers.Dense(1, activation = \"sigmoid\")]\n",
    "                                )\n",
    "\n",
    "model_lstm.summary()"
   ]
  },
  {
   "cell_type": "code",
   "execution_count": 124,
   "metadata": {},
   "outputs": [],
   "source": [
    "callback=keras.callbacks.EarlyStopping(monitor='val_loss',min_delta=0, patience=5, verbose=2, mode='auto', restore_best_weights=True)\n"
   ]
  },
  {
   "cell_type": "code",
   "execution_count": 125,
   "metadata": {},
   "outputs": [],
   "source": [
    "model_lstm.compile(loss = \"binary_crossentropy\",\n",
    "                 optimizer = tf.keras.optimizers.Adam(3e-3),\n",
    "                 metrics= [\"accuracy\"])"
   ]
  },
  {
   "cell_type": "code",
   "execution_count": 126,
   "metadata": {},
   "outputs": [
    {
     "name": "stdout",
     "output_type": "stream",
     "text": [
      "Epoch 1/20\n",
      "462/462 [==============================] - 18s 34ms/step - loss: 0.3008 - accuracy: 0.8731 - val_loss: 0.2617 - val_accuracy: 0.8995\n",
      "Epoch 2/20\n",
      "462/462 [==============================] - 15s 33ms/step - loss: 0.2148 - accuracy: 0.9167 - val_loss: 0.2231 - val_accuracy: 0.9083\n",
      "Epoch 3/20\n",
      "462/462 [==============================] - 15s 33ms/step - loss: 0.1807 - accuracy: 0.9304 - val_loss: 0.2331 - val_accuracy: 0.9056\n",
      "Epoch 4/20\n",
      "462/462 [==============================] - 15s 33ms/step - loss: 0.1640 - accuracy: 0.9365 - val_loss: 0.2338 - val_accuracy: 0.9050\n",
      "Epoch 5/20\n",
      "462/462 [==============================] - 15s 33ms/step - loss: 0.1501 - accuracy: 0.9410 - val_loss: 0.2413 - val_accuracy: 0.9077\n",
      "Epoch 6/20\n",
      "462/462 [==============================] - 15s 33ms/step - loss: 0.1384 - accuracy: 0.9450 - val_loss: 0.2606 - val_accuracy: 0.9053\n",
      "Epoch 7/20\n",
      "462/462 [==============================] - 15s 33ms/step - loss: 0.1257 - accuracy: 0.9485 - val_loss: 0.2788 - val_accuracy: 0.8952\n",
      "Restoring model weights from the end of the best epoch.\n",
      "Epoch 00007: early stopping\n"
     ]
    }
   ],
   "source": [
    "history = model_lstm.fit(\n",
    "    pad_sequences,train_y,\n",
    "    batch_size= 64,\n",
    "    epochs= 20,\n",
    "    validation_split= 0.1,\n",
    "    verbose=1,callbacks=[callback]\n",
    ")"
   ]
  },
  {
   "cell_type": "code",
   "execution_count": 127,
   "metadata": {},
   "outputs": [
    {
     "data": {
      "image/png": "[encoded data removed]",
      "text/plain": [
       "<Figure size 432x288 with 1 Axes>"
      ]
     },
     "metadata": {},
     "output_type": "display_data"
    }
   ],
   "source": [
    "from sklearn.metrics import roc_curve\n",
    "y_pred=model_lstm.predict(x_testing)\n",
    "fpr, tpr, thresholds = roc_curve(test_y, y_pred)\n",
    "from sklearn.metrics import auc\n",
    "auc_keras = auc(fpr, tpr)\n",
    "plt.figure(1)\n",
    "plt.plot([0, 1], [0, 1], 'k--')\n",
    "plt.plot(fpr, tpr, label='Keras (area = {:.3f})'.format(auc_keras))\n",
    "plt.xlabel('False positive rate')\n",
    "plt.ylabel('True positive rate')\n",
    "plt.title('ROC curve')\n",
    "plt.legend(loc='best')\n",
    "plt.show()"
   ]
  },
  {
   "cell_type": "code",
   "execution_count": 128,
   "metadata": {},
   "outputs": [
    {
     "name": "stdout",
     "output_type": "stream",
     "text": [
      "The best threshold is 0.47931874\n",
      "              precision    recall  f1-score   support\n",
      "\n",
      "           0     0.9073    0.9265    0.9168      4162\n",
      "           1     0.9227    0.9026    0.9125      4046\n",
      "\n",
      "    accuracy                         0.9147      8208\n",
      "   macro avg     0.9150    0.9145    0.9147      8208\n",
      "weighted avg     0.9149    0.9147    0.9147      8208\n",
      "\n"
     ]
    }
   ],
   "source": [
    "from sklearn.metrics import roc_curve\n",
    "from sklearn.metrics import classification_report\n",
    "import numpy as np\n",
    "fpr, tpr, thresholds = roc_curve(test_y, y_pred)\n",
    "y=tpr-fpr\n",
    "idx=np.argmax(y)#Youden_index\n",
    "best_threshold=thresholds[idx]\n",
    "print(\"The best threshold is\",best_threshold)\n",
    "print(classification_report(test_y, y_pred >best_threshold ,digits=4))"
   ]
  },
  {
   "cell_type": "code",
   "execution_count": 129,
   "metadata": {},
   "outputs": [],
   "source": [
    "import matplotlib.pyplot as plt\n",
    "plt.style.use('ggplot')\n",
    "\n",
    "def plot_history(history):\n",
    "    acc = history.history['accuracy']\n",
    "    val_acc = history.history['val_accuracy']\n",
    "    loss = history.history['loss']\n",
    "    val_loss = history.history['val_loss']\n",
    "    x = range(1, len(acc) + 1)\n",
    "\n",
    "    plt.figure(figsize=(12, 5))\n",
    "    plt.subplot(1, 2, 1)\n",
    "    plt.plot(x, acc, 'b', label='Training acc')\n",
    "    plt.plot(x, val_acc, 'r', label='Validation acc')\n",
    "    plt.title('Training and validation accuracy')\n",
    "    plt.legend()\n",
    "    plt.subplot(1, 2, 2)\n",
    "    plt.plot(x, loss, 'b', label='Training loss')\n",
    "    plt.plot(x, val_loss, 'r', label='Validation loss')\n",
    "    plt.title('Training and validation loss')\n",
    "    plt.legend()"
   ]
  },
  {
   "cell_type": "code",
   "execution_count": 130,
   "metadata": {},
   "outputs": [
    {
     "data": {
      "image/png": "[encoded data removed]",
      "text/plain": [
       "<Figure size 864x360 with 2 Axes>"
      ]
     },
     "metadata": {},
     "output_type": "display_data"
    }
   ],
   "source": [
    "plot_history(history)"
   ]
  },
  {
   "cell_type": "code",
   "execution_count": 131,
   "metadata": {},
   "outputs": [
    {
     "name": "stdout",
     "output_type": "stream",
     "text": [
      "Model: \"sequential_16\"\n",
      "_________________________________________________________________\n",
      "Layer (type)                 Output Shape              Param #   \n",
      "=================================================================\n",
      "embedding_15 (Embedding)     (None, 500, 64)           192000    \n",
      "_________________________________________________________________\n",
      "dropout_29 (Dropout)         (None, 500, 64)           0         \n",
      "_________________________________________________________________\n",
      "lstm_23 (LSTM)               (None, 500, 64)           33024     \n",
      "_________________________________________________________________\n",
      "dropout_30 (Dropout)         (None, 500, 64)           0         \n",
      "_________________________________________________________________\n",
      "lstm_24 (LSTM)               (None, 64)                33024     \n",
      "_________________________________________________________________\n",
      "dense_15 (Dense)             (None, 1)                 65        \n",
      "=================================================================\n",
      "Total params: 258,113\n",
      "Trainable params: 258,113\n",
      "Non-trainable params: 0\n",
      "_________________________________________________________________\n"
     ]
    }
   ],
   "source": [
    "model_stack_lstm = tf.keras.Sequential([tf.keras.layers.Embedding(max_feature,64,input_length = 500),\n",
    "                                tf.keras.layers.Dropout(0.3),\n",
    "                                 tf.keras.layers.LSTM(64,return_sequences = True),\n",
    "                                 tf.keras.layers.Dropout(0.3),\n",
    "                                 tf.keras.layers.LSTM(64),\n",
    "                                 tf.keras.layers.Dense(1, activation = \"sigmoid\")]\n",
    "                                )\n",
    "\n",
    "model_stack_lstm .summary()"
   ]
  },
  {
   "cell_type": "code",
   "execution_count": 132,
   "metadata": {},
   "outputs": [],
   "source": [
    "model_stack_lstm.compile(loss = \"binary_crossentropy\",\n",
    "                 optimizer = tf.keras.optimizers.Adam(3e-3),\n",
    "                 metrics= [\"accuracy\"])"
   ]
  },
  {
   "cell_type": "code",
   "execution_count": 133,
   "metadata": {},
   "outputs": [
    {
     "name": "stdout",
     "output_type": "stream",
     "text": [
      "Epoch 1/20\n",
      "462/462 [==============================] - 35s 64ms/step - loss: 0.2983 - accuracy: 0.8724 - val_loss: 0.2258 - val_accuracy: 0.9077\n",
      "Epoch 2/20\n",
      "462/462 [==============================] - 29s 62ms/step - loss: 0.2226 - accuracy: 0.9128 - val_loss: 0.2399 - val_accuracy: 0.9056\n",
      "Epoch 3/20\n",
      "462/462 [==============================] - 29s 62ms/step - loss: 0.1783 - accuracy: 0.9298 - val_loss: 0.2327 - val_accuracy: 0.9059\n",
      "Epoch 4/20\n",
      "462/462 [==============================] - 29s 62ms/step - loss: 0.1641 - accuracy: 0.9349 - val_loss: 0.2366 - val_accuracy: 0.9041\n",
      "Epoch 5/20\n",
      "462/462 [==============================] - 29s 62ms/step - loss: 0.1522 - accuracy: 0.9397 - val_loss: 0.2458 - val_accuracy: 0.9023\n",
      "Epoch 6/20\n",
      "462/462 [==============================] - 29s 62ms/step - loss: 0.1375 - accuracy: 0.9448 - val_loss: 0.2602 - val_accuracy: 0.9004\n",
      "Restoring model weights from the end of the best epoch.\n",
      "Epoch 00006: early stopping\n"
     ]
    }
   ],
   "source": [
    "history = model_stack_lstm.fit(\n",
    "    pad_sequences,train_y,\n",
    "    batch_size= 64,\n",
    "    epochs= 20,\n",
    "    validation_split= 0.1,\n",
    "    verbose=1,callbacks=[callback]\n",
    ")"
   ]
  },
  {
   "cell_type": "code",
   "execution_count": 134,
   "metadata": {},
   "outputs": [
    {
     "data": {
      "image/png": "[encoded data removed]",
      "text/plain": [
       "<Figure size 432x288 with 1 Axes>"
      ]
     },
     "metadata": {},
     "output_type": "display_data"
    }
   ],
   "source": [
    "from sklearn.metrics import roc_curve\n",
    "y_pred=model_stack_lstm.predict(x_testing)\n",
    "fpr, tpr, thresholds = roc_curve(test_y, y_pred)\n",
    "from sklearn.metrics import auc\n",
    "auc_keras = auc(fpr, tpr)\n",
    "plt.figure(1)\n",
    "plt.plot([0, 1], [0, 1], 'k--')\n",
    "plt.plot(fpr, tpr, label='Keras (area = {:.3f})'.format(auc_keras))\n",
    "plt.xlabel('False positive rate')\n",
    "plt.ylabel('True positive rate')\n",
    "plt.title('ROC curve')\n",
    "plt.legend(loc='best')\n",
    "plt.show()"
   ]
  },
  {
   "cell_type": "code",
   "execution_count": 135,
   "metadata": {},
   "outputs": [
    {
     "name": "stdout",
     "output_type": "stream",
     "text": [
      "The best threshold is 0.586825\n",
      "              precision    recall  f1-score   support\n",
      "\n",
      "           0     0.9007    0.9241    0.9122      4162\n",
      "           1     0.9198    0.8952    0.9073      4046\n",
      "\n",
      "    accuracy                         0.9098      8208\n",
      "   macro avg     0.9102    0.9096    0.9098      8208\n",
      "weighted avg     0.9101    0.9098    0.9098      8208\n",
      "\n"
     ]
    }
   ],
   "source": [
    "from sklearn.metrics import roc_curve\n",
    "from sklearn.metrics import classification_report\n",
    "import numpy as np\n",
    "fpr, tpr, thresholds = roc_curve(test_y, y_pred)\n",
    "y=tpr-fpr\n",
    "idx=np.argmax(y)#Youden_index\n",
    "best_threshold=thresholds[idx]\n",
    "print(\"The best threshold is\",best_threshold)\n",
    "print(classification_report(test_y, y_pred >best_threshold ,digits=4))"
   ]
  },
  {
   "cell_type": "code",
   "execution_count": 136,
   "metadata": {},
   "outputs": [
    {
     "name": "stdout",
     "output_type": "stream",
     "text": [
      "Model: \"sequential_17\"\n",
      "_________________________________________________________________\n",
      "Layer (type)                 Output Shape              Param #   \n",
      "=================================================================\n",
      "embedding_16 (Embedding)     (None, 500, 64)           192000    \n",
      "_________________________________________________________________\n",
      "bidirectional_4 (Bidirection (None, 500, 128)          66048     \n",
      "_________________________________________________________________\n",
      "dropout_31 (Dropout)         (None, 500, 128)          0         \n",
      "_________________________________________________________________\n",
      "bidirectional_5 (Bidirection (None, 128)               98816     \n",
      "_________________________________________________________________\n",
      "dense_16 (Dense)             (None, 1)                 129       \n",
      "=================================================================\n",
      "Total params: 356,993\n",
      "Trainable params: 356,993\n",
      "Non-trainable params: 0\n",
      "_________________________________________________________________\n",
      "None\n"
     ]
    }
   ],
   "source": [
    "from tensorflow.keras.layers import LSTM\n",
    "from tensorflow.keras.layers import Dense\n",
    "from tensorflow.keras.layers import Bidirectional\n",
    "from tensorflow.keras.layers import Dropout\n",
    "bi_model=Sequential()\n",
    "bi_model.add(Embedding(max_feature,64,input_length = 500))\n",
    "bi_model.add(Bidirectional(LSTM(64,return_sequences=True)))\n",
    "bi_model.add(Dropout(0.3))\n",
    "bi_model.add(Bidirectional(LSTM(64))) #lstm with 100 neurons\n",
    "bi_model.add(Dense(1,activation='sigmoid'))\n",
    "bi_model.compile(loss='binary_crossentropy',optimizer=tf.keras.optimizers.Adam(3e-3),metrics=['accuracy'])\n",
    "print(bi_model.summary())"
   ]
  },
  {
   "cell_type": "code",
   "execution_count": 137,
   "metadata": {},
   "outputs": [
    {
     "name": "stdout",
     "output_type": "stream",
     "text": [
      "Epoch 1/20\n",
      "462/462 [==============================] - 66s 127ms/step - loss: 0.2979 - accuracy: 0.8757 - val_loss: 0.2877 - val_accuracy: 0.8904\n",
      "Epoch 2/20\n",
      "462/462 [==============================] - 57s 124ms/step - loss: 0.1989 - accuracy: 0.9231 - val_loss: 0.2332 - val_accuracy: 0.9038\n",
      "Epoch 3/20\n",
      "462/462 [==============================] - 57s 124ms/step - loss: 0.1753 - accuracy: 0.9312 - val_loss: 0.2425 - val_accuracy: 0.9059\n",
      "Epoch 4/20\n",
      "462/462 [==============================] - 58s 125ms/step - loss: 0.1598 - accuracy: 0.9387 - val_loss: 0.2540 - val_accuracy: 0.9016\n",
      "Epoch 5/20\n",
      "462/462 [==============================] - 58s 125ms/step - loss: 0.1410 - accuracy: 0.9452 - val_loss: 0.2967 - val_accuracy: 0.9035\n",
      "Epoch 6/20\n",
      "462/462 [==============================] - 58s 125ms/step - loss: 0.1211 - accuracy: 0.9535 - val_loss: 0.2767 - val_accuracy: 0.9010\n",
      "Epoch 7/20\n",
      "462/462 [==============================] - 58s 125ms/step - loss: 0.1043 - accuracy: 0.9603 - val_loss: 0.3190 - val_accuracy: 0.8919\n",
      "Restoring model weights from the end of the best epoch.\n",
      "Epoch 00007: early stopping\n"
     ]
    }
   ],
   "source": [
    "history = bi_model.fit(\n",
    "    pad_sequences,train_y,\n",
    "    batch_size= 64,\n",
    "    epochs= 20,\n",
    "    validation_split= 0.1,\n",
    "    verbose=1,callbacks=[callback]\n",
    ")"
   ]
  },
  {
   "cell_type": "code",
   "execution_count": 138,
   "metadata": {},
   "outputs": [
    {
     "data": {
      "image/png": "[encoded data removed]",
      "text/plain": [
       "<Figure size 432x288 with 1 Axes>"
      ]
     },
     "metadata": {},
     "output_type": "display_data"
    }
   ],
   "source": [
    "from sklearn.metrics import roc_curve\n",
    "y_pred=bi_model.predict(x_testing)\n",
    "fpr, tpr, thresholds = roc_curve(test_y, y_pred)\n",
    "from sklearn.metrics import auc\n",
    "auc_keras = auc(fpr, tpr)\n",
    "plt.figure(1)\n",
    "plt.plot([0, 1], [0, 1], 'k--')\n",
    "plt.plot(fpr, tpr, label='Keras (area = {:.3f})'.format(auc_keras))\n",
    "plt.xlabel('False positive rate')\n",
    "plt.ylabel('True positive rate')\n",
    "plt.title('ROC curve')\n",
    "plt.legend(loc='best')\n",
    "plt.show()"
   ]
  },
  {
   "cell_type": "code",
   "execution_count": 139,
   "metadata": {},
   "outputs": [
    {
     "name": "stdout",
     "output_type": "stream",
     "text": [
      "The best threshold is 0.43688783\n",
      "              precision    recall  f1-score   support\n",
      "\n",
      "           0     0.9097    0.9246    0.9171      4162\n",
      "           1     0.9211    0.9056    0.9133      4046\n",
      "\n",
      "    accuracy                         0.9152      8208\n",
      "   macro avg     0.9154    0.9151    0.9152      8208\n",
      "weighted avg     0.9153    0.9152    0.9152      8208\n",
      "\n"
     ]
    }
   ],
   "source": [
    "from sklearn.metrics import roc_curve\n",
    "from sklearn.metrics import classification_report\n",
    "import numpy as np\n",
    "fpr, tpr, thresholds = roc_curve(test_y, y_pred)\n",
    "y=tpr-fpr\n",
    "idx=np.argmax(y)#Youden_index\n",
    "best_threshold=thresholds[idx]\n",
    "print(\"The best threshold is\",best_threshold)\n",
    "print(classification_report(test_y, y_pred >best_threshold ,digits=4))"
   ]
  },
  {
   "cell_type": "code",
   "execution_count": null,
   "metadata": {},
   "outputs": [],
   "source": []
  },
  {
   "cell_type": "code",
   "execution_count": null,
   "metadata": {},
   "outputs": [],
   "source": []
  }
 ],
 "metadata": {
  "kernelspec": {
   "display_name": "Python 3",
   "language": "python",
   "name": "python3"
  },
  "language_info": {
   "codemirror_mode": {
    "name": "ipython",
    "version": 3
   },
   "file_extension": ".py",
   "mimetype": "text/x-python",
   "name": "python",
   "nbconvert_exporter": "python",
   "pygments_lexer": "ipython3",
   "version": "3.6.13"
  }
 },
 "nbformat": 4,
 "nbformat_minor": 5
}
