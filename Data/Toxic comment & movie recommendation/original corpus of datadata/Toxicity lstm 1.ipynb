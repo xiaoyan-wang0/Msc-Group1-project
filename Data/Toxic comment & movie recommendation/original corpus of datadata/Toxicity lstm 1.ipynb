{
 "cells": [
  {
   "cell_type": "code",
   "execution_count": 88,
   "metadata": {},
   "outputs": [
    {
     "name": "stderr",
     "output_type": "stream",
     "text": [
      "[nltk_data] Downloading package stopwords to\n",
      "[nltk_data]     C:\\Users\\TengkaiGao\\AppData\\Roaming\\nltk_data...\n",
      "[nltk_data]   Package stopwords is already up-to-date!\n"
     ]
    }
   ],
   "source": [
    "import seaborn as sns\n",
    "import matplotlib.pyplot as plt\n",
    "import pandas as pd\n",
    "import numpy as np\n",
    "import tensorflow as tf\n",
    "from tensorflow.keras.preprocessing import text,sequence\n",
    "from tensorflow.keras.models import Sequential\n",
    "from tensorflow.keras.layers import Dense,Dropout,Activation\n",
    "from tensorflow.keras.layers import Embedding\n",
    "from tensorflow.keras.layers import Conv1D,GlobalMaxPooling1D,MaxPooling1D\n",
    "from sklearn.model_selection import train_test_split\n",
    "import re    #for regex\n",
    "import string\n",
    "from tensorflow import keras\n",
    "import nltk\n",
    "nltk.download('stopwords')\n",
    "from wordcloud import WordCloud"
   ]
  },
  {
   "cell_type": "code",
   "execution_count": 89,
   "metadata": {},
   "outputs": [],
   "source": [
    "train = pd.read_csv('G:/toxic_final.csv')"
   ]
  },
  {
   "cell_type": "code",
   "execution_count": 90,
   "metadata": {},
   "outputs": [
    {
     "data": {
      "text/html": [
       "<div>\n",
       "<style scoped>\n",
       "    .dataframe tbody tr th:only-of-type {\n",
       "        vertical-align: middle;\n",
       "    }\n",
       "\n",
       "    .dataframe tbody tr th {\n",
       "        vertical-align: top;\n",
       "    }\n",
       "\n",
       "    .dataframe thead th {\n",
       "        text-align: right;\n",
       "    }\n",
       "</style>\n",
       "<table border=\"1\" class=\"dataframe\">\n",
       "  <thead>\n",
       "    <tr style=\"text-align: right;\">\n",
       "      <th></th>\n",
       "      <th>Unnamed: 0</th>\n",
       "      <th>Unnamed: 0.1</th>\n",
       "      <th>comment_text</th>\n",
       "      <th>Toxic</th>\n",
       "    </tr>\n",
       "  </thead>\n",
       "  <tbody>\n",
       "    <tr>\n",
       "      <th>0</th>\n",
       "      <td>0</td>\n",
       "      <td>61</td>\n",
       "      <td>discussion requires both parties to explain th...</td>\n",
       "      <td>0</td>\n",
       "    </tr>\n",
       "    <tr>\n",
       "      <th>1</th>\n",
       "      <td>1</td>\n",
       "      <td>40630</td>\n",
       "      <td>avoiding edit wars   acroterion i have been tr...</td>\n",
       "      <td>0</td>\n",
       "    </tr>\n",
       "    <tr>\n",
       "      <th>2</th>\n",
       "      <td>2</td>\n",
       "      <td>12124</td>\n",
       "      <td>omg i have never thought of it that way pure g...</td>\n",
       "      <td>0</td>\n",
       "    </tr>\n",
       "    <tr>\n",
       "      <th>3</th>\n",
       "      <td>3</td>\n",
       "      <td>11380</td>\n",
       "      <td>because of our recent edits to skycable the us...</td>\n",
       "      <td>0</td>\n",
       "    </tr>\n",
       "    <tr>\n",
       "      <th>4</th>\n",
       "      <td>4</td>\n",
       "      <td>5844</td>\n",
       "      <td>no harm done i deleted the second comment</td>\n",
       "      <td>0</td>\n",
       "    </tr>\n",
       "    <tr>\n",
       "      <th>...</th>\n",
       "      <td>...</td>\n",
       "      <td>...</td>\n",
       "      <td>...</td>\n",
       "      <td>...</td>\n",
       "    </tr>\n",
       "    <tr>\n",
       "      <th>41034</th>\n",
       "      <td>41034</td>\n",
       "      <td>43459</td>\n",
       "      <td>new mutants putlocker about to be the  google ...</td>\n",
       "      <td>1</td>\n",
       "    </tr>\n",
       "    <tr>\n",
       "      <th>41035</th>\n",
       "      <td>41035</td>\n",
       "      <td>43460</td>\n",
       "      <td>it was better than the new mutants there were ...</td>\n",
       "      <td>1</td>\n",
       "    </tr>\n",
       "    <tr>\n",
       "      <th>41036</th>\n",
       "      <td>41036</td>\n",
       "      <td>43461</td>\n",
       "      <td>whenever i think that I am truly fast  furious...</td>\n",
       "      <td>1</td>\n",
       "    </tr>\n",
       "    <tr>\n",
       "      <th>41037</th>\n",
       "      <td>41037</td>\n",
       "      <td>43462</td>\n",
       "      <td>my man was not to happy i left on this harley ...</td>\n",
       "      <td>1</td>\n",
       "    </tr>\n",
       "    <tr>\n",
       "      <th>41038</th>\n",
       "      <td>41038</td>\n",
       "      <td>43463</td>\n",
       "      <td>just got my ass worn the fuck out in an exhaus...</td>\n",
       "      <td>1</td>\n",
       "    </tr>\n",
       "  </tbody>\n",
       "</table>\n",
       "<p>41039 rows × 4 columns</p>\n",
       "</div>"
      ],
      "text/plain": [
       "       Unnamed: 0  Unnamed: 0.1  \\\n",
       "0               0            61   \n",
       "1               1         40630   \n",
       "2               2         12124   \n",
       "3               3         11380   \n",
       "4               4          5844   \n",
       "...           ...           ...   \n",
       "41034       41034         43459   \n",
       "41035       41035         43460   \n",
       "41036       41036         43461   \n",
       "41037       41037         43462   \n",
       "41038       41038         43463   \n",
       "\n",
       "                                            comment_text  Toxic  \n",
       "0      discussion requires both parties to explain th...      0  \n",
       "1      avoiding edit wars   acroterion i have been tr...      0  \n",
       "2      omg i have never thought of it that way pure g...      0  \n",
       "3      because of our recent edits to skycable the us...      0  \n",
       "4              no harm done i deleted the second comment      0  \n",
       "...                                                  ...    ...  \n",
       "41034  new mutants putlocker about to be the  google ...      1  \n",
       "41035  it was better than the new mutants there were ...      1  \n",
       "41036  whenever i think that I am truly fast  furious...      1  \n",
       "41037  my man was not to happy i left on this harley ...      1  \n",
       "41038  just got my ass worn the fuck out in an exhaus...      1  \n",
       "\n",
       "[41039 rows x 4 columns]"
      ]
     },
     "execution_count": 90,
     "metadata": {},
     "output_type": "execute_result"
    }
   ],
   "source": [
    "train"
   ]
  },
  {
   "cell_type": "code",
   "execution_count": 91,
   "metadata": {},
   "outputs": [
    {
     "data": {
      "image/png": "[encoded data removed]",
      "text/plain": [
       "<Figure size 432x288 with 1 Axes>"
      ]
     },
     "metadata": {},
     "output_type": "display_data"
    }
   ],
   "source": [
    "target_count = train.groupby('Toxic').size().reset_index(name='counts')\n",
    "plt.bar(target_count.Toxic, target_count.counts)\n",
    "plt.xticks([0,1], labels=[\"Non_toxic\", \"Toxic\"])\n",
    "plt.title(\"Target Distribution\")\n",
    "plt.show()"
   ]
  },
  {
   "cell_type": "code",
   "execution_count": 92,
   "metadata": {},
   "outputs": [],
   "source": [
    "train['comment_text'] = pd.DataFrame(train[\"comment_text\"].astype('str')) #transfomer to str "
   ]
  },
  {
   "cell_type": "code",
   "execution_count": 93,
   "metadata": {},
   "outputs": [],
   "source": [
    "x=train[\"comment_text\"]\n",
    "y=train[\"Toxic\"]"
   ]
  },
  {
   "cell_type": "code",
   "execution_count": null,
   "metadata": {},
   "outputs": [],
   "source": []
  },
  {
   "cell_type": "code",
   "execution_count": 94,
   "metadata": {},
   "outputs": [],
   "source": [
    "#Splitting the data into train and test\n",
    "train_x, test_x, train_y, test_y = train_test_split(x,y, test_size=0.2, random_state=1,shuffle=True)"
   ]
  },
  {
   "cell_type": "code",
   "execution_count": 95,
   "metadata": {},
   "outputs": [],
   "source": [
    "max_feature = 3000#max feature 3000\n",
    "tokenizer = tf.keras.preprocessing.text.Tokenizer(max_feature,\n",
    "                                                  lower= True,\n",
    "                                                  filters= '!\"#$%&()*+,-./:;<=>?@[\\\\]^_`{|}~\\t\\n',\n",
    "                                                  split = \" \")#tokenizer \n",
    "\n",
    "tokenizer.fit_on_texts(train_x)"
   ]
  },
  {
   "cell_type": "code",
   "execution_count": 96,
   "metadata": {},
   "outputs": [],
   "source": [
    "sequences = tokenizer.texts_to_sequences(train_x)"
   ]
  },
  {
   "cell_type": "code",
   "execution_count": 97,
   "metadata": {},
   "outputs": [],
   "source": [
    "pad_sequences = tf.keras.preprocessing.sequence.pad_sequences(sequences,\n",
    "                                                             maxlen = 500)"
   ]
  },
  {
   "cell_type": "code",
   "execution_count": 98,
   "metadata": {},
   "outputs": [],
   "source": [
    "test_x_tokenized=tokenizer.texts_to_sequences(test_x)\n",
    "x_testing=tf.keras.preprocessing.sequence.pad_sequences(test_x_tokenized,maxlen=500)"
   ]
  },
  {
   "cell_type": "code",
   "execution_count": 99,
   "metadata": {},
   "outputs": [
    {
     "data": {
      "text/plain": [
       "array([[   0,    0,    0, ...,   36, 2045,  247],\n",
       "       [   0,    0,    0, ...,  145,    2,  324],\n",
       "       [   0,    0,    0, ...,  411,  356,   25],\n",
       "       ...,\n",
       "       [   0,    0,    0, ...,  582,    3,  202],\n",
       "       [   0,    0,    0, ...,    9,   95,  179],\n",
       "       [   0,    0,    0, ...,    4,   28,   12]])"
      ]
     },
     "execution_count": 99,
     "metadata": {},
     "output_type": "execute_result"
    }
   ],
   "source": [
    "pad_sequences"
   ]
  },
  {
   "cell_type": "code",
   "execution_count": null,
   "metadata": {},
   "outputs": [],
   "source": []
  },
  {
   "cell_type": "code",
   "execution_count": null,
   "metadata": {},
   "outputs": [],
   "source": []
  },
  {
   "cell_type": "code",
   "execution_count": 101,
   "metadata": {},
   "outputs": [
    {
     "name": "stdout",
     "output_type": "stream",
     "text": [
      "Model: \"sequential_12\"\n",
      "_________________________________________________________________\n",
      "Layer (type)                 Output Shape              Param #   \n",
      "=================================================================\n",
      "embedding_11 (Embedding)     (None, 500, 64)           192000    \n",
      "_________________________________________________________________\n",
      "dropout_22 (Dropout)         (None, 500, 64)           0         \n",
      "_________________________________________________________________\n",
      "lstm_17 (LSTM)               (None, 64)                33024     \n",
      "_________________________________________________________________\n",
      "dropout_23 (Dropout)         (None, 64)                0         \n",
      "_________________________________________________________________\n",
      "dense_11 (Dense)             (None, 1)                 65        \n",
      "=================================================================\n",
      "Total params: 225,089\n",
      "Trainable params: 225,089\n",
      "Non-trainable params: 0\n",
      "_________________________________________________________________\n"
     ]
    }
   ],
   "source": [
    "model_lstm = tf.keras.Sequential([tf.keras.layers.Embedding(max_feature,64,input_length = 500),\n",
    "                                 tf.keras.layers.Dropout(0.3),\n",
    "                                 tf.keras.layers.LSTM(64),\n",
    "                                 tf.keras.layers.Dropout(0.3),\n",
    "                                 tf.keras.layers.Dense(1, activation = \"sigmoid\")]\n",
    "                                )\n",
    "\n",
    "model_lstm.summary()"
   ]
  },
  {
   "cell_type": "code",
   "execution_count": 102,
   "metadata": {},
   "outputs": [],
   "source": [
    "callback=keras.callbacks.EarlyStopping(monitor='val_loss',min_delta=0, patience=5, verbose=2, mode='auto', restore_best_weights=True)\n"
   ]
  },
  {
   "cell_type": "code",
   "execution_count": 103,
   "metadata": {},
   "outputs": [],
   "source": [
    "model_lstm.compile(loss = \"binary_crossentropy\",\n",
    "                 optimizer = tf.keras.optimizers.Adam(3e-3),\n",
    "                 metrics= [\"accuracy\"])"
   ]
  },
  {
   "cell_type": "code",
   "execution_count": 104,
   "metadata": {},
   "outputs": [
    {
     "name": "stdout",
     "output_type": "stream",
     "text": [
      "Epoch 1/20\n",
      "462/462 [==============================] - 18s 34ms/step - loss: 0.3035 - accuracy: 0.8725 - val_loss: 0.2425 - val_accuracy: 0.8992\n",
      "Epoch 2/20\n",
      "462/462 [==============================] - 15s 33ms/step - loss: 0.2028 - accuracy: 0.9187 - val_loss: 0.2487 - val_accuracy: 0.9035curacy: \n",
      "Epoch 3/20\n",
      "462/462 [==============================] - 15s 33ms/step - loss: 0.1830 - accuracy: 0.9281 - val_loss: 0.2542 - val_accuracy: 0.9019\n",
      "Epoch 4/20\n",
      "462/462 [==============================] - 15s 33ms/step - loss: 0.1642 - accuracy: 0.9356 - val_loss: 0.2559 - val_accuracy: 0.9086\n",
      "Epoch 5/20\n",
      "462/462 [==============================] - 15s 33ms/step - loss: 0.1486 - accuracy: 0.9408 - val_loss: 0.2664 - val_accuracy: 0.9074\n",
      "Epoch 6/20\n",
      "462/462 [==============================] - 15s 33ms/step - loss: 0.1500 - accuracy: 0.9411 - val_loss: 0.2900 - val_accuracy: 0.9065\n",
      "Restoring model weights from the end of the best epoch.\n",
      "Epoch 00006: early stopping\n"
     ]
    }
   ],
   "source": [
    "history = model_lstm.fit(\n",
    "    pad_sequences,train_y,\n",
    "    batch_size= 64,\n",
    "    epochs= 20,\n",
    "    validation_split= 0.1,\n",
    "    verbose=1,callbacks=[callback]\n",
    ")"
   ]
  },
  {
   "cell_type": "code",
   "execution_count": 105,
   "metadata": {},
   "outputs": [
    {
     "data": {
      "image/png": "[encoded data removed]",
      "text/plain": [
       "<Figure size 432x288 with 1 Axes>"
      ]
     },
     "metadata": {},
     "output_type": "display_data"
    }
   ],
   "source": [
    "from sklearn.metrics import roc_curve\n",
    "y_pred=model_lstm.predict(x_testing)\n",
    "fpr, tpr, thresholds = roc_curve(test_y, y_pred)\n",
    "from sklearn.metrics import auc\n",
    "auc_keras = auc(fpr, tpr)\n",
    "plt.figure(1)\n",
    "plt.plot([0, 1], [0, 1], 'k--')\n",
    "plt.plot(fpr, tpr, label='Keras (area = {:.3f})'.format(auc_keras))\n",
    "plt.xlabel('False positive rate')\n",
    "plt.ylabel('True positive rate')\n",
    "plt.title('ROC curve')\n",
    "plt.legend(loc='best')\n",
    "plt.show()"
   ]
  },
  {
   "cell_type": "code",
   "execution_count": 106,
   "metadata": {},
   "outputs": [
    {
     "name": "stdout",
     "output_type": "stream",
     "text": [
      "The best threshold is 0.50681406\n",
      "              precision    recall  f1-score   support\n",
      "\n",
      "           0     0.9109    0.9247    0.9177      4234\n",
      "           1     0.9184    0.9036    0.9110      3974\n",
      "\n",
      "    accuracy                         0.9145      8208\n",
      "   macro avg     0.9147    0.9141    0.9143      8208\n",
      "weighted avg     0.9145    0.9145    0.9144      8208\n",
      "\n"
     ]
    }
   ],
   "source": [
    "from sklearn.metrics import roc_curve\n",
    "from sklearn.metrics import classification_report\n",
    "import numpy as np\n",
    "fpr, tpr, thresholds = roc_curve(test_y, y_pred)\n",
    "y=tpr-fpr\n",
    "idx=np.argmax(y)#Youden_index\n",
    "best_threshold=thresholds[idx]\n",
    "print(\"The best threshold is\",best_threshold)\n",
    "print(classification_report(test_y, y_pred >best_threshold ,digits=4))"
   ]
  },
  {
   "cell_type": "code",
   "execution_count": 33,
   "metadata": {},
   "outputs": [],
   "source": [
    "import matplotlib.pyplot as plt\n",
    "plt.style.use('ggplot')\n",
    "\n",
    "def plot_history(history):\n",
    "    acc = history.history['accuracy']\n",
    "    val_acc = history.history['val_accuracy']\n",
    "    loss = history.history['loss']\n",
    "    val_loss = history.history['val_loss']\n",
    "    x = range(1, len(acc) + 1)\n",
    "\n",
    "    plt.figure(figsize=(12, 5))\n",
    "    plt.subplot(1, 2, 1)\n",
    "    plt.plot(x, acc, 'b', label='Training acc')\n",
    "    plt.plot(x, val_acc, 'r', label='Validation acc')\n",
    "    plt.title('Training and validation accuracy')\n",
    "    plt.legend()\n",
    "    plt.subplot(1, 2, 2)\n",
    "    plt.plot(x, loss, 'b', label='Training loss')\n",
    "    plt.plot(x, val_loss, 'r', label='Validation loss')\n",
    "    plt.title('Training and validation loss')\n",
    "    plt.legend()"
   ]
  },
  {
   "cell_type": "code",
   "execution_count": 34,
   "metadata": {},
   "outputs": [
    {
     "data": {
      "image/png": "[encoded data removed]",
      "text/plain": [
       "<Figure size 864x360 with 2 Axes>"
      ]
     },
     "metadata": {},
     "output_type": "display_data"
    }
   ],
   "source": [
    "plot_history(history)"
   ]
  },
  {
   "cell_type": "code",
   "execution_count": 107,
   "metadata": {},
   "outputs": [
    {
     "name": "stdout",
     "output_type": "stream",
     "text": [
      "Model: \"sequential_13\"\n",
      "_________________________________________________________________\n",
      "Layer (type)                 Output Shape              Param #   \n",
      "=================================================================\n",
      "embedding_12 (Embedding)     (None, 500, 64)           192000    \n",
      "_________________________________________________________________\n",
      "dropout_24 (Dropout)         (None, 500, 64)           0         \n",
      "_________________________________________________________________\n",
      "lstm_18 (LSTM)               (None, 500, 64)           33024     \n",
      "_________________________________________________________________\n",
      "dropout_25 (Dropout)         (None, 500, 64)           0         \n",
      "_________________________________________________________________\n",
      "lstm_19 (LSTM)               (None, 64)                33024     \n",
      "_________________________________________________________________\n",
      "dense_12 (Dense)             (None, 1)                 65        \n",
      "=================================================================\n",
      "Total params: 258,113\n",
      "Trainable params: 258,113\n",
      "Non-trainable params: 0\n",
      "_________________________________________________________________\n"
     ]
    }
   ],
   "source": [
    "model_stack_lstm = tf.keras.Sequential([tf.keras.layers.Embedding(max_feature,64,input_length = 500),\n",
    "                                tf.keras.layers.Dropout(0.3),\n",
    "                                 tf.keras.layers.LSTM(64,return_sequences = True),\n",
    "                                 tf.keras.layers.Dropout(0.3),\n",
    "                                 tf.keras.layers.LSTM(64),\n",
    "                                 tf.keras.layers.Dense(1, activation = \"sigmoid\")]\n",
    "                                )\n",
    "\n",
    "model_stack_lstm .summary()"
   ]
  },
  {
   "cell_type": "code",
   "execution_count": 108,
   "metadata": {},
   "outputs": [],
   "source": [
    "model_stack_lstm.compile(loss = \"binary_crossentropy\",\n",
    "                 optimizer = tf.keras.optimizers.Adam(3e-3),\n",
    "                 metrics= [\"accuracy\"])"
   ]
  },
  {
   "cell_type": "code",
   "execution_count": 109,
   "metadata": {},
   "outputs": [
    {
     "name": "stdout",
     "output_type": "stream",
     "text": [
      "Epoch 1/20\n",
      "462/462 [==============================] - 34s 64ms/step - loss: 0.3021 - accuracy: 0.8718 - val_loss: 0.2444 - val_accuracy: 0.9013\n",
      "Epoch 2/20\n",
      "462/462 [==============================] - 29s 63ms/step - loss: 0.2035 - accuracy: 0.9187 - val_loss: 0.2317 - val_accuracy: 0.9068\n",
      "Epoch 3/20\n",
      "462/462 [==============================] - 29s 63ms/step - loss: 0.1843 - accuracy: 0.9270 - val_loss: 0.2510 - val_accuracy: 0.9041\n",
      "Epoch 4/20\n",
      "462/462 [==============================] - 29s 63ms/step - loss: 0.1711 - accuracy: 0.9315 - val_loss: 0.2539 - val_accuracy: 0.9010\n",
      "Epoch 5/20\n",
      "462/462 [==============================] - 29s 62ms/step - loss: 0.1559 - accuracy: 0.9358 - val_loss: 0.2443 - val_accuracy: 0.9077\n",
      "Epoch 6/20\n",
      "462/462 [==============================] - 29s 63ms/step - loss: 0.1394 - accuracy: 0.9429 - val_loss: 0.2688 - val_accuracy: 0.9056\n",
      "Epoch 7/20\n",
      "462/462 [==============================] - 29s 63ms/step - loss: 0.1448 - accuracy: 0.9419 - val_loss: 0.2636 - val_accuracy: 0.9016\n",
      "Restoring model weights from the end of the best epoch.\n",
      "Epoch 00007: early stopping\n"
     ]
    }
   ],
   "source": [
    "history = model_stack_lstm.fit(\n",
    "    pad_sequences,train_y,\n",
    "    batch_size= 64,\n",
    "    epochs= 20,\n",
    "    validation_split= 0.1,\n",
    "    verbose=1,callbacks=[callback]\n",
    ")"
   ]
  },
  {
   "cell_type": "code",
   "execution_count": 110,
   "metadata": {},
   "outputs": [
    {
     "data": {
      "image/png": "[encoded data removed]",
      "text/plain": [
       "<Figure size 432x288 with 1 Axes>"
      ]
     },
     "metadata": {},
     "output_type": "display_data"
    }
   ],
   "source": [
    "from sklearn.metrics import roc_curve\n",
    "y_pred=model_stack_lstm.predict(x_testing)\n",
    "fpr, tpr, thresholds = roc_curve(test_y, y_pred)\n",
    "from sklearn.metrics import auc\n",
    "auc_keras = auc(fpr, tpr)\n",
    "plt.figure(1)\n",
    "plt.plot([0, 1], [0, 1], 'k--')\n",
    "plt.plot(fpr, tpr, label='Keras (area = {:.3f})'.format(auc_keras))\n",
    "plt.xlabel('False positive rate')\n",
    "plt.ylabel('True positive rate')\n",
    "plt.title('ROC curve')\n",
    "plt.legend(loc='best')\n",
    "plt.show()"
   ]
  },
  {
   "cell_type": "code",
   "execution_count": 111,
   "metadata": {},
   "outputs": [
    {
     "name": "stdout",
     "output_type": "stream",
     "text": [
      "The best threshold is 0.6011906\n",
      "              precision    recall  f1-score   support\n",
      "\n",
      "           0     0.9000    0.9400    0.9196      4234\n",
      "           1     0.9329    0.8888    0.9103      3974\n",
      "\n",
      "    accuracy                         0.9152      8208\n",
      "   macro avg     0.9165    0.9144    0.9150      8208\n",
      "weighted avg     0.9160    0.9152    0.9151      8208\n",
      "\n"
     ]
    }
   ],
   "source": [
    "from sklearn.metrics import roc_curve\n",
    "from sklearn.metrics import classification_report\n",
    "import numpy as np\n",
    "fpr, tpr, thresholds = roc_curve(test_y, y_pred)\n",
    "y=tpr-fpr\n",
    "idx=np.argmax(y)#Youden_index\n",
    "best_threshold=thresholds[idx]\n",
    "print(\"The best threshold is\",best_threshold)\n",
    "print(classification_report(test_y, y_pred >best_threshold ,digits=4))"
   ]
  },
  {
   "cell_type": "code",
   "execution_count": 112,
   "metadata": {},
   "outputs": [
    {
     "name": "stdout",
     "output_type": "stream",
     "text": [
      "Model: \"sequential_14\"\n",
      "_________________________________________________________________\n",
      "Layer (type)                 Output Shape              Param #   \n",
      "=================================================================\n",
      "embedding_13 (Embedding)     (None, 500, 64)           192000    \n",
      "_________________________________________________________________\n",
      "bidirectional_2 (Bidirection (None, 500, 128)          66048     \n",
      "_________________________________________________________________\n",
      "dropout_26 (Dropout)         (None, 500, 128)          0         \n",
      "_________________________________________________________________\n",
      "bidirectional_3 (Bidirection (None, 128)               98816     \n",
      "_________________________________________________________________\n",
      "dense_13 (Dense)             (None, 1)                 129       \n",
      "=================================================================\n",
      "Total params: 356,993\n",
      "Trainable params: 356,993\n",
      "Non-trainable params: 0\n",
      "_________________________________________________________________\n",
      "None\n"
     ]
    }
   ],
   "source": [
    "from tensorflow.keras.layers import LSTM\n",
    "from tensorflow.keras.layers import Dense\n",
    "from tensorflow.keras.layers import Bidirectional\n",
    "from tensorflow.keras.layers import Dropout\n",
    "bi_model=Sequential()\n",
    "bi_model.add(Embedding(max_feature,64,input_length = 500))\n",
    "bi_model.add(Bidirectional(LSTM(64,return_sequences=True)))\n",
    "bi_model.add(Dropout(0.3))\n",
    "bi_model.add(Bidirectional(LSTM(64))) #lstm with 100 neurons\n",
    "bi_model.add(Dense(1,activation='sigmoid'))\n",
    "bi_model.compile(loss='binary_crossentropy',optimizer=tf.keras.optimizers.Adam(3e-3),metrics=['accuracy'])\n",
    "print(bi_model.summary())"
   ]
  },
  {
   "cell_type": "code",
   "execution_count": 113,
   "metadata": {},
   "outputs": [
    {
     "name": "stdout",
     "output_type": "stream",
     "text": [
      "Epoch 1/20\n",
      "462/462 [==============================] - 70s 127ms/step - loss: 0.3079 - accuracy: 0.8719 - val_loss: 0.2621 - val_accuracy: 0.8867\n",
      "Epoch 2/20\n",
      "462/462 [==============================] - 57s 124ms/step - loss: 0.2218 - accuracy: 0.9137 - val_loss: 0.2357 - val_accuracy: 0.9032\n",
      "Epoch 3/20\n",
      "462/462 [==============================] - 57s 123ms/step - loss: 0.1870 - accuracy: 0.9270 - val_loss: 0.2464 - val_accuracy: 0.9013\n",
      "Epoch 4/20\n",
      "462/462 [==============================] - 57s 124ms/step - loss: 0.1737 - accuracy: 0.9321 - val_loss: 0.2456 - val_accuracy: 0.9071\n",
      "Epoch 5/20\n",
      "462/462 [==============================] - 58s 125ms/step - loss: 0.1553 - accuracy: 0.9390 - val_loss: 0.2403 - val_accuracy: 0.9062\n",
      "Epoch 6/20\n",
      "462/462 [==============================] - 58s 125ms/step - loss: 0.1367 - accuracy: 0.9469 - val_loss: 0.3035 - val_accuracy: 0.8992\n",
      "Epoch 7/20\n",
      "462/462 [==============================] - 57s 124ms/step - loss: 0.1229 - accuracy: 0.9522 - val_loss: 0.2995 - val_accuracy: 0.8962\n",
      "Restoring model weights from the end of the best epoch.\n",
      "Epoch 00007: early stopping\n"
     ]
    }
   ],
   "source": [
    "history = bi_model.fit(\n",
    "    pad_sequences,train_y,\n",
    "    batch_size= 64,\n",
    "    epochs= 20,\n",
    "    validation_split= 0.1,\n",
    "    verbose=1,callbacks=[callback]\n",
    ")"
   ]
  },
  {
   "cell_type": "code",
   "execution_count": 114,
   "metadata": {},
   "outputs": [
    {
     "data": {
      "image/png": "[encoded data removed]",
      "text/plain": [
       "<Figure size 432x288 with 1 Axes>"
      ]
     },
     "metadata": {},
     "output_type": "display_data"
    }
   ],
   "source": [
    "from sklearn.metrics import roc_curve\n",
    "y_pred=bi_model.predict(x_testing)\n",
    "fpr, tpr, thresholds = roc_curve(test_y, y_pred)\n",
    "from sklearn.metrics import auc\n",
    "auc_keras = auc(fpr, tpr)\n",
    "plt.figure(1)\n",
    "plt.plot([0, 1], [0, 1], 'k--')\n",
    "plt.plot(fpr, tpr, label='Keras (area = {:.3f})'.format(auc_keras))\n",
    "plt.xlabel('False positive rate')\n",
    "plt.ylabel('True positive rate')\n",
    "plt.title('ROC curve')\n",
    "plt.legend(loc='best')\n",
    "plt.show()"
   ]
  },
  {
   "cell_type": "code",
   "execution_count": 115,
   "metadata": {},
   "outputs": [
    {
     "name": "stdout",
     "output_type": "stream",
     "text": [
      "The best threshold is 0.36545476\n",
      "              precision    recall  f1-score   support\n",
      "\n",
      "           0     0.9160    0.9091    0.9125      4234\n",
      "           1     0.9039    0.9112    0.9075      3974\n",
      "\n",
      "    accuracy                         0.9101      8208\n",
      "   macro avg     0.9099    0.9101    0.9100      8208\n",
      "weighted avg     0.9101    0.9101    0.9101      8208\n",
      "\n"
     ]
    }
   ],
   "source": [
    "from sklearn.metrics import roc_curve\n",
    "from sklearn.metrics import classification_report\n",
    "import numpy as np\n",
    "fpr, tpr, thresholds = roc_curve(test_y, y_pred)\n",
    "y=tpr-fpr\n",
    "idx=np.argmax(y)#Youden_index\n",
    "best_threshold=thresholds[idx]\n",
    "print(\"The best threshold is\",best_threshold)\n",
    "print(classification_report(test_y, y_pred >best_threshold ,digits=4))"
   ]
  },
  {
   "cell_type": "code",
   "execution_count": null,
   "metadata": {},
   "outputs": [],
   "source": []
  }
 ],
 "metadata": {
  "kernelspec": {
   "display_name": "Python 3",
   "language": "python",
   "name": "python3"
  },
  "language_info": {
   "codemirror_mode": {
    "name": "ipython",
    "version": 3
   },
   "file_extension": ".py",
   "mimetype": "text/x-python",
   "name": "python",
   "nbconvert_exporter": "python",
   "pygments_lexer": "ipython3",
   "version": "3.6.13"
  }
 },
 "nbformat": 4,
 "nbformat_minor": 5
}
