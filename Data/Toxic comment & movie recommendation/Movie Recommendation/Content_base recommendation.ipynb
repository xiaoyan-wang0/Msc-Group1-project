{
 "cells": [
  {
   "cell_type": "code",
   "execution_count": 1,
   "metadata": {},
   "outputs": [],
   "source": [
    "import seaborn as sns\n",
    "import matplotlib.pyplot as plt\n",
    "import pandas as pd\n",
    "import numpy as np\n",
    "import numpy as np # linear algebra\n",
    "import pandas as pd # data processing, CSV file I/O (e.g. pd.read_csv)"
   ]
  },
  {
   "cell_type": "code",
   "execution_count": 2,
   "metadata": {},
   "outputs": [],
   "source": [
    "import pandas as pd\n",
    "import numpy as np\n",
    "from sklearn.feature_extraction.text import TfidfVectorizer \n",
    "from sklearn.metrics.pairwise import pairwise_kernels"
   ]
  },
  {
   "cell_type": "code",
   "execution_count": null,
   "metadata": {},
   "outputs": [],
   "source": []
  },
  {
   "cell_type": "code",
   "execution_count": 3,
   "metadata": {},
   "outputs": [],
   "source": [
    "train_movies_1 = pd.read_csv('F:/final.csv')"
   ]
  },
  {
   "cell_type": "code",
   "execution_count": 4,
   "metadata": {},
   "outputs": [
    {
     "name": "stdout",
     "output_type": "stream",
     "text": [
      "<class 'pandas.core.frame.DataFrame'>\n"
     ]
    }
   ],
   "source": [
    "print(type(train_movies_1))"
   ]
  },
  {
   "cell_type": "code",
   "execution_count": 5,
   "metadata": {},
   "outputs": [
    {
     "data": {
      "text/plain": [
       "Unnamed: 0       int64\n",
       "Unnamed: 0.1     int64\n",
       "title           object\n",
       "id               int64\n",
       "overview        object\n",
       "genre_ids       object\n",
       "dtype: object"
      ]
     },
     "execution_count": 5,
     "metadata": {},
     "output_type": "execute_result"
    }
   ],
   "source": [
    "train_movies_1.dtypes"
   ]
  },
  {
   "cell_type": "code",
   "execution_count": 6,
   "metadata": {},
   "outputs": [
    {
     "data": {
      "text/plain": [
       "Unnamed: 0      0\n",
       "Unnamed: 0.1    0\n",
       "title           0\n",
       "id              0\n",
       "overview        0\n",
       "genre_ids       0\n",
       "dtype: int64"
      ]
     },
     "execution_count": 6,
     "metadata": {},
     "output_type": "execute_result"
    }
   ],
   "source": [
    "train_movies_1.isnull().sum(axis=0)"
   ]
  },
  {
   "cell_type": "code",
   "execution_count": 7,
   "metadata": {},
   "outputs": [
    {
     "data": {
      "text/html": [
       "<div>\n",
       "<style scoped>\n",
       "    .dataframe tbody tr th:only-of-type {\n",
       "        vertical-align: middle;\n",
       "    }\n",
       "\n",
       "    .dataframe tbody tr th {\n",
       "        vertical-align: top;\n",
       "    }\n",
       "\n",
       "    .dataframe thead th {\n",
       "        text-align: right;\n",
       "    }\n",
       "</style>\n",
       "<table border=\"1\" class=\"dataframe\">\n",
       "  <thead>\n",
       "    <tr style=\"text-align: right;\">\n",
       "      <th></th>\n",
       "      <th>Unnamed: 0</th>\n",
       "      <th>Unnamed: 0.1</th>\n",
       "      <th>title</th>\n",
       "      <th>id</th>\n",
       "      <th>overview</th>\n",
       "      <th>genre_ids</th>\n",
       "    </tr>\n",
       "  </thead>\n",
       "  <tbody>\n",
       "    <tr>\n",
       "      <th>0</th>\n",
       "      <td>0</td>\n",
       "      <td>0</td>\n",
       "      <td>Venom: Let There Be Carnage</td>\n",
       "      <td>580489</td>\n",
       "      <td>After finding a host body in investigative rep...</td>\n",
       "      <td>[878, 28]</td>\n",
       "    </tr>\n",
       "    <tr>\n",
       "      <th>1</th>\n",
       "      <td>1</td>\n",
       "      <td>1</td>\n",
       "      <td>The Addams Family 2</td>\n",
       "      <td>639721</td>\n",
       "      <td>The Addams get tangled up in more wacky advent...</td>\n",
       "      <td>[16, 35, 10751]</td>\n",
       "    </tr>\n",
       "    <tr>\n",
       "      <th>2</th>\n",
       "      <td>2</td>\n",
       "      <td>2</td>\n",
       "      <td>The Protégé</td>\n",
       "      <td>645788</td>\n",
       "      <td>Rescued as a child by the legendary assassin M...</td>\n",
       "      <td>[28, 80, 53]</td>\n",
       "    </tr>\n",
       "    <tr>\n",
       "      <th>3</th>\n",
       "      <td>3</td>\n",
       "      <td>3</td>\n",
       "      <td>The Many Saints of Newark</td>\n",
       "      <td>524369</td>\n",
       "      <td>Young Anthony Soprano is growing up in one of ...</td>\n",
       "      <td>[80, 18]</td>\n",
       "    </tr>\n",
       "    <tr>\n",
       "      <th>4</th>\n",
       "      <td>4</td>\n",
       "      <td>4</td>\n",
       "      <td>Demonic</td>\n",
       "      <td>774021</td>\n",
       "      <td>A young woman unleashes terrifying demons when...</td>\n",
       "      <td>[27, 53]</td>\n",
       "    </tr>\n",
       "    <tr>\n",
       "      <th>...</th>\n",
       "      <td>...</td>\n",
       "      <td>...</td>\n",
       "      <td>...</td>\n",
       "      <td>...</td>\n",
       "      <td>...</td>\n",
       "      <td>...</td>\n",
       "    </tr>\n",
       "    <tr>\n",
       "      <th>10292</th>\n",
       "      <td>10473</td>\n",
       "      <td>10006</td>\n",
       "      <td>The To Do List</td>\n",
       "      <td>129139</td>\n",
       "      <td>Feeling pressured to become more sexually expe...</td>\n",
       "      <td>[35, 10749]</td>\n",
       "    </tr>\n",
       "    <tr>\n",
       "      <th>10293</th>\n",
       "      <td>10474</td>\n",
       "      <td>10007</td>\n",
       "      <td>Winter's Bone</td>\n",
       "      <td>39013</td>\n",
       "      <td>17 year-old Ree Dolly sets out to track down h...</td>\n",
       "      <td>[18]</td>\n",
       "    </tr>\n",
       "    <tr>\n",
       "      <th>10294</th>\n",
       "      <td>10475</td>\n",
       "      <td>10008</td>\n",
       "      <td>Border</td>\n",
       "      <td>517839</td>\n",
       "      <td>When a border guard with a sixth sense for ide...</td>\n",
       "      <td>[14, 18, 80]</td>\n",
       "    </tr>\n",
       "    <tr>\n",
       "      <th>10295</th>\n",
       "      <td>10476</td>\n",
       "      <td>10009</td>\n",
       "      <td>Seeds</td>\n",
       "      <td>507498</td>\n",
       "      <td>When his increasingly depraved behavior spiral...</td>\n",
       "      <td>[27, 53]</td>\n",
       "    </tr>\n",
       "    <tr>\n",
       "      <th>10296</th>\n",
       "      <td>10477</td>\n",
       "      <td>10010</td>\n",
       "      <td>Setup</td>\n",
       "      <td>70586</td>\n",
       "      <td>A group of friends plan out a detailed heist t...</td>\n",
       "      <td>[28, 80, 18, 53]</td>\n",
       "    </tr>\n",
       "  </tbody>\n",
       "</table>\n",
       "<p>10297 rows × 6 columns</p>\n",
       "</div>"
      ],
      "text/plain": [
       "       Unnamed: 0  Unnamed: 0.1                        title      id  \\\n",
       "0               0             0  Venom: Let There Be Carnage  580489   \n",
       "1               1             1          The Addams Family 2  639721   \n",
       "2               2             2                  The Protégé  645788   \n",
       "3               3             3    The Many Saints of Newark  524369   \n",
       "4               4             4                      Demonic  774021   \n",
       "...           ...           ...                          ...     ...   \n",
       "10292       10473         10006               The To Do List  129139   \n",
       "10293       10474         10007                Winter's Bone   39013   \n",
       "10294       10475         10008                       Border  517839   \n",
       "10295       10476         10009                        Seeds  507498   \n",
       "10296       10477         10010                        Setup   70586   \n",
       "\n",
       "                                                overview         genre_ids  \n",
       "0      After finding a host body in investigative rep...         [878, 28]  \n",
       "1      The Addams get tangled up in more wacky advent...   [16, 35, 10751]  \n",
       "2      Rescued as a child by the legendary assassin M...      [28, 80, 53]  \n",
       "3      Young Anthony Soprano is growing up in one of ...          [80, 18]  \n",
       "4      A young woman unleashes terrifying demons when...          [27, 53]  \n",
       "...                                                  ...               ...  \n",
       "10292  Feeling pressured to become more sexually expe...       [35, 10749]  \n",
       "10293  17 year-old Ree Dolly sets out to track down h...              [18]  \n",
       "10294  When a border guard with a sixth sense for ide...      [14, 18, 80]  \n",
       "10295  When his increasingly depraved behavior spiral...          [27, 53]  \n",
       "10296  A group of friends plan out a detailed heist t...  [28, 80, 18, 53]  \n",
       "\n",
       "[10297 rows x 6 columns]"
      ]
     },
     "execution_count": 7,
     "metadata": {},
     "output_type": "execute_result"
    }
   ],
   "source": [
    "train_movies_1.dropna()"
   ]
  },
  {
   "cell_type": "code",
   "execution_count": 8,
   "metadata": {},
   "outputs": [],
   "source": [
    "train_movies_1.drop([\"Unnamed: 0\",\"Unnamed: 0.1\",'genre_ids'], axis = 1,inplace = True) "
   ]
  },
  {
   "cell_type": "code",
   "execution_count": 9,
   "metadata": {},
   "outputs": [
    {
     "data": {
      "text/html": [
       "<div>\n",
       "<style scoped>\n",
       "    .dataframe tbody tr th:only-of-type {\n",
       "        vertical-align: middle;\n",
       "    }\n",
       "\n",
       "    .dataframe tbody tr th {\n",
       "        vertical-align: top;\n",
       "    }\n",
       "\n",
       "    .dataframe thead th {\n",
       "        text-align: right;\n",
       "    }\n",
       "</style>\n",
       "<table border=\"1\" class=\"dataframe\">\n",
       "  <thead>\n",
       "    <tr style=\"text-align: right;\">\n",
       "      <th></th>\n",
       "      <th>title</th>\n",
       "      <th>id</th>\n",
       "      <th>overview</th>\n",
       "    </tr>\n",
       "  </thead>\n",
       "  <tbody>\n",
       "    <tr>\n",
       "      <th>0</th>\n",
       "      <td>Venom: Let There Be Carnage</td>\n",
       "      <td>580489</td>\n",
       "      <td>After finding a host body in investigative rep...</td>\n",
       "    </tr>\n",
       "    <tr>\n",
       "      <th>1</th>\n",
       "      <td>The Addams Family 2</td>\n",
       "      <td>639721</td>\n",
       "      <td>The Addams get tangled up in more wacky advent...</td>\n",
       "    </tr>\n",
       "    <tr>\n",
       "      <th>2</th>\n",
       "      <td>The Protégé</td>\n",
       "      <td>645788</td>\n",
       "      <td>Rescued as a child by the legendary assassin M...</td>\n",
       "    </tr>\n",
       "    <tr>\n",
       "      <th>3</th>\n",
       "      <td>The Many Saints of Newark</td>\n",
       "      <td>524369</td>\n",
       "      <td>Young Anthony Soprano is growing up in one of ...</td>\n",
       "    </tr>\n",
       "    <tr>\n",
       "      <th>4</th>\n",
       "      <td>Demonic</td>\n",
       "      <td>774021</td>\n",
       "      <td>A young woman unleashes terrifying demons when...</td>\n",
       "    </tr>\n",
       "    <tr>\n",
       "      <th>...</th>\n",
       "      <td>...</td>\n",
       "      <td>...</td>\n",
       "      <td>...</td>\n",
       "    </tr>\n",
       "    <tr>\n",
       "      <th>10292</th>\n",
       "      <td>The To Do List</td>\n",
       "      <td>129139</td>\n",
       "      <td>Feeling pressured to become more sexually expe...</td>\n",
       "    </tr>\n",
       "    <tr>\n",
       "      <th>10293</th>\n",
       "      <td>Winter's Bone</td>\n",
       "      <td>39013</td>\n",
       "      <td>17 year-old Ree Dolly sets out to track down h...</td>\n",
       "    </tr>\n",
       "    <tr>\n",
       "      <th>10294</th>\n",
       "      <td>Border</td>\n",
       "      <td>517839</td>\n",
       "      <td>When a border guard with a sixth sense for ide...</td>\n",
       "    </tr>\n",
       "    <tr>\n",
       "      <th>10295</th>\n",
       "      <td>Seeds</td>\n",
       "      <td>507498</td>\n",
       "      <td>When his increasingly depraved behavior spiral...</td>\n",
       "    </tr>\n",
       "    <tr>\n",
       "      <th>10296</th>\n",
       "      <td>Setup</td>\n",
       "      <td>70586</td>\n",
       "      <td>A group of friends plan out a detailed heist t...</td>\n",
       "    </tr>\n",
       "  </tbody>\n",
       "</table>\n",
       "<p>10297 rows × 3 columns</p>\n",
       "</div>"
      ],
      "text/plain": [
       "                             title      id  \\\n",
       "0      Venom: Let There Be Carnage  580489   \n",
       "1              The Addams Family 2  639721   \n",
       "2                      The Protégé  645788   \n",
       "3        The Many Saints of Newark  524369   \n",
       "4                          Demonic  774021   \n",
       "...                            ...     ...   \n",
       "10292               The To Do List  129139   \n",
       "10293                Winter's Bone   39013   \n",
       "10294                       Border  517839   \n",
       "10295                        Seeds  507498   \n",
       "10296                        Setup   70586   \n",
       "\n",
       "                                                overview  \n",
       "0      After finding a host body in investigative rep...  \n",
       "1      The Addams get tangled up in more wacky advent...  \n",
       "2      Rescued as a child by the legendary assassin M...  \n",
       "3      Young Anthony Soprano is growing up in one of ...  \n",
       "4      A young woman unleashes terrifying demons when...  \n",
       "...                                                  ...  \n",
       "10292  Feeling pressured to become more sexually expe...  \n",
       "10293  17 year-old Ree Dolly sets out to track down h...  \n",
       "10294  When a border guard with a sixth sense for ide...  \n",
       "10295  When his increasingly depraved behavior spiral...  \n",
       "10296  A group of friends plan out a detailed heist t...  \n",
       "\n",
       "[10297 rows x 3 columns]"
      ]
     },
     "execution_count": 9,
     "metadata": {},
     "output_type": "execute_result"
    }
   ],
   "source": [
    "train_movies_1"
   ]
  },
  {
   "cell_type": "code",
   "execution_count": 10,
   "metadata": {},
   "outputs": [],
   "source": [
    "train_movies_1=train_movies_1.drop_duplicates()"
   ]
  },
  {
   "cell_type": "code",
   "execution_count": 11,
   "metadata": {},
   "outputs": [
    {
     "data": {
      "text/html": [
       "<div>\n",
       "<style scoped>\n",
       "    .dataframe tbody tr th:only-of-type {\n",
       "        vertical-align: middle;\n",
       "    }\n",
       "\n",
       "    .dataframe tbody tr th {\n",
       "        vertical-align: top;\n",
       "    }\n",
       "\n",
       "    .dataframe thead th {\n",
       "        text-align: right;\n",
       "    }\n",
       "</style>\n",
       "<table border=\"1\" class=\"dataframe\">\n",
       "  <thead>\n",
       "    <tr style=\"text-align: right;\">\n",
       "      <th></th>\n",
       "      <th>title</th>\n",
       "      <th>id</th>\n",
       "      <th>overview</th>\n",
       "    </tr>\n",
       "  </thead>\n",
       "  <tbody>\n",
       "    <tr>\n",
       "      <th>0</th>\n",
       "      <td>Venom: Let There Be Carnage</td>\n",
       "      <td>580489</td>\n",
       "      <td>After finding a host body in investigative rep...</td>\n",
       "    </tr>\n",
       "    <tr>\n",
       "      <th>1</th>\n",
       "      <td>The Addams Family 2</td>\n",
       "      <td>639721</td>\n",
       "      <td>The Addams get tangled up in more wacky advent...</td>\n",
       "    </tr>\n",
       "    <tr>\n",
       "      <th>2</th>\n",
       "      <td>The Protégé</td>\n",
       "      <td>645788</td>\n",
       "      <td>Rescued as a child by the legendary assassin M...</td>\n",
       "    </tr>\n",
       "    <tr>\n",
       "      <th>3</th>\n",
       "      <td>The Many Saints of Newark</td>\n",
       "      <td>524369</td>\n",
       "      <td>Young Anthony Soprano is growing up in one of ...</td>\n",
       "    </tr>\n",
       "    <tr>\n",
       "      <th>4</th>\n",
       "      <td>Demonic</td>\n",
       "      <td>774021</td>\n",
       "      <td>A young woman unleashes terrifying demons when...</td>\n",
       "    </tr>\n",
       "    <tr>\n",
       "      <th>...</th>\n",
       "      <td>...</td>\n",
       "      <td>...</td>\n",
       "      <td>...</td>\n",
       "    </tr>\n",
       "    <tr>\n",
       "      <th>10292</th>\n",
       "      <td>The To Do List</td>\n",
       "      <td>129139</td>\n",
       "      <td>Feeling pressured to become more sexually expe...</td>\n",
       "    </tr>\n",
       "    <tr>\n",
       "      <th>10293</th>\n",
       "      <td>Winter's Bone</td>\n",
       "      <td>39013</td>\n",
       "      <td>17 year-old Ree Dolly sets out to track down h...</td>\n",
       "    </tr>\n",
       "    <tr>\n",
       "      <th>10294</th>\n",
       "      <td>Border</td>\n",
       "      <td>517839</td>\n",
       "      <td>When a border guard with a sixth sense for ide...</td>\n",
       "    </tr>\n",
       "    <tr>\n",
       "      <th>10295</th>\n",
       "      <td>Seeds</td>\n",
       "      <td>507498</td>\n",
       "      <td>When his increasingly depraved behavior spiral...</td>\n",
       "    </tr>\n",
       "    <tr>\n",
       "      <th>10296</th>\n",
       "      <td>Setup</td>\n",
       "      <td>70586</td>\n",
       "      <td>A group of friends plan out a detailed heist t...</td>\n",
       "    </tr>\n",
       "  </tbody>\n",
       "</table>\n",
       "<p>10184 rows × 3 columns</p>\n",
       "</div>"
      ],
      "text/plain": [
       "                             title      id  \\\n",
       "0      Venom: Let There Be Carnage  580489   \n",
       "1              The Addams Family 2  639721   \n",
       "2                      The Protégé  645788   \n",
       "3        The Many Saints of Newark  524369   \n",
       "4                          Demonic  774021   \n",
       "...                            ...     ...   \n",
       "10292               The To Do List  129139   \n",
       "10293                Winter's Bone   39013   \n",
       "10294                       Border  517839   \n",
       "10295                        Seeds  507498   \n",
       "10296                        Setup   70586   \n",
       "\n",
       "                                                overview  \n",
       "0      After finding a host body in investigative rep...  \n",
       "1      The Addams get tangled up in more wacky advent...  \n",
       "2      Rescued as a child by the legendary assassin M...  \n",
       "3      Young Anthony Soprano is growing up in one of ...  \n",
       "4      A young woman unleashes terrifying demons when...  \n",
       "...                                                  ...  \n",
       "10292  Feeling pressured to become more sexually expe...  \n",
       "10293  17 year-old Ree Dolly sets out to track down h...  \n",
       "10294  When a border guard with a sixth sense for ide...  \n",
       "10295  When his increasingly depraved behavior spiral...  \n",
       "10296  A group of friends plan out a detailed heist t...  \n",
       "\n",
       "[10184 rows x 3 columns]"
      ]
     },
     "execution_count": 11,
     "metadata": {},
     "output_type": "execute_result"
    }
   ],
   "source": [
    "train_movies_1"
   ]
  },
  {
   "cell_type": "code",
   "execution_count": 12,
   "metadata": {},
   "outputs": [],
   "source": [
    "train_movies_1=train_movies_1.reset_index(drop=True)"
   ]
  },
  {
   "cell_type": "code",
   "execution_count": 13,
   "metadata": {},
   "outputs": [
    {
     "data": {
      "text/html": [
       "<div>\n",
       "<style scoped>\n",
       "    .dataframe tbody tr th:only-of-type {\n",
       "        vertical-align: middle;\n",
       "    }\n",
       "\n",
       "    .dataframe tbody tr th {\n",
       "        vertical-align: top;\n",
       "    }\n",
       "\n",
       "    .dataframe thead th {\n",
       "        text-align: right;\n",
       "    }\n",
       "</style>\n",
       "<table border=\"1\" class=\"dataframe\">\n",
       "  <thead>\n",
       "    <tr style=\"text-align: right;\">\n",
       "      <th></th>\n",
       "      <th>title</th>\n",
       "      <th>id</th>\n",
       "      <th>overview</th>\n",
       "    </tr>\n",
       "  </thead>\n",
       "  <tbody>\n",
       "    <tr>\n",
       "      <th>0</th>\n",
       "      <td>Venom: Let There Be Carnage</td>\n",
       "      <td>580489</td>\n",
       "      <td>After finding a host body in investigative rep...</td>\n",
       "    </tr>\n",
       "    <tr>\n",
       "      <th>1</th>\n",
       "      <td>The Addams Family 2</td>\n",
       "      <td>639721</td>\n",
       "      <td>The Addams get tangled up in more wacky advent...</td>\n",
       "    </tr>\n",
       "    <tr>\n",
       "      <th>2</th>\n",
       "      <td>The Protégé</td>\n",
       "      <td>645788</td>\n",
       "      <td>Rescued as a child by the legendary assassin M...</td>\n",
       "    </tr>\n",
       "    <tr>\n",
       "      <th>3</th>\n",
       "      <td>The Many Saints of Newark</td>\n",
       "      <td>524369</td>\n",
       "      <td>Young Anthony Soprano is growing up in one of ...</td>\n",
       "    </tr>\n",
       "    <tr>\n",
       "      <th>4</th>\n",
       "      <td>Demonic</td>\n",
       "      <td>774021</td>\n",
       "      <td>A young woman unleashes terrifying demons when...</td>\n",
       "    </tr>\n",
       "    <tr>\n",
       "      <th>...</th>\n",
       "      <td>...</td>\n",
       "      <td>...</td>\n",
       "      <td>...</td>\n",
       "    </tr>\n",
       "    <tr>\n",
       "      <th>10179</th>\n",
       "      <td>The To Do List</td>\n",
       "      <td>129139</td>\n",
       "      <td>Feeling pressured to become more sexually expe...</td>\n",
       "    </tr>\n",
       "    <tr>\n",
       "      <th>10180</th>\n",
       "      <td>Winter's Bone</td>\n",
       "      <td>39013</td>\n",
       "      <td>17 year-old Ree Dolly sets out to track down h...</td>\n",
       "    </tr>\n",
       "    <tr>\n",
       "      <th>10181</th>\n",
       "      <td>Border</td>\n",
       "      <td>517839</td>\n",
       "      <td>When a border guard with a sixth sense for ide...</td>\n",
       "    </tr>\n",
       "    <tr>\n",
       "      <th>10182</th>\n",
       "      <td>Seeds</td>\n",
       "      <td>507498</td>\n",
       "      <td>When his increasingly depraved behavior spiral...</td>\n",
       "    </tr>\n",
       "    <tr>\n",
       "      <th>10183</th>\n",
       "      <td>Setup</td>\n",
       "      <td>70586</td>\n",
       "      <td>A group of friends plan out a detailed heist t...</td>\n",
       "    </tr>\n",
       "  </tbody>\n",
       "</table>\n",
       "<p>10184 rows × 3 columns</p>\n",
       "</div>"
      ],
      "text/plain": [
       "                             title      id  \\\n",
       "0      Venom: Let There Be Carnage  580489   \n",
       "1              The Addams Family 2  639721   \n",
       "2                      The Protégé  645788   \n",
       "3        The Many Saints of Newark  524369   \n",
       "4                          Demonic  774021   \n",
       "...                            ...     ...   \n",
       "10179               The To Do List  129139   \n",
       "10180                Winter's Bone   39013   \n",
       "10181                       Border  517839   \n",
       "10182                        Seeds  507498   \n",
       "10183                        Setup   70586   \n",
       "\n",
       "                                                overview  \n",
       "0      After finding a host body in investigative rep...  \n",
       "1      The Addams get tangled up in more wacky advent...  \n",
       "2      Rescued as a child by the legendary assassin M...  \n",
       "3      Young Anthony Soprano is growing up in one of ...  \n",
       "4      A young woman unleashes terrifying demons when...  \n",
       "...                                                  ...  \n",
       "10179  Feeling pressured to become more sexually expe...  \n",
       "10180  17 year-old Ree Dolly sets out to track down h...  \n",
       "10181  When a border guard with a sixth sense for ide...  \n",
       "10182  When his increasingly depraved behavior spiral...  \n",
       "10183  A group of friends plan out a detailed heist t...  \n",
       "\n",
       "[10184 rows x 3 columns]"
      ]
     },
     "execution_count": 13,
     "metadata": {},
     "output_type": "execute_result"
    }
   ],
   "source": [
    "train_movies_1"
   ]
  },
  {
   "cell_type": "code",
   "execution_count": 14,
   "metadata": {},
   "outputs": [
    {
     "data": {
      "text/html": [
       "<div>\n",
       "<style scoped>\n",
       "    .dataframe tbody tr th:only-of-type {\n",
       "        vertical-align: middle;\n",
       "    }\n",
       "\n",
       "    .dataframe tbody tr th {\n",
       "        vertical-align: top;\n",
       "    }\n",
       "\n",
       "    .dataframe thead th {\n",
       "        text-align: right;\n",
       "    }\n",
       "</style>\n",
       "<table border=\"1\" class=\"dataframe\">\n",
       "  <thead>\n",
       "    <tr style=\"text-align: right;\">\n",
       "      <th></th>\n",
       "      <th>title</th>\n",
       "      <th>id</th>\n",
       "      <th>overview</th>\n",
       "    </tr>\n",
       "  </thead>\n",
       "  <tbody>\n",
       "    <tr>\n",
       "      <th>1</th>\n",
       "      <td>The Addams Family 2</td>\n",
       "      <td>639721</td>\n",
       "      <td>The Addams get tangled up in more wacky advent...</td>\n",
       "    </tr>\n",
       "  </tbody>\n",
       "</table>\n",
       "</div>"
      ],
      "text/plain": [
       "                 title      id  \\\n",
       "1  The Addams Family 2  639721   \n",
       "\n",
       "                                            overview  \n",
       "1  The Addams get tangled up in more wacky advent...  "
      ]
     },
     "execution_count": 14,
     "metadata": {},
     "output_type": "execute_result"
    }
   ],
   "source": [
    "train_movies_1.loc[(train_movies_1['id'] == 639721)]"
   ]
  },
  {
   "cell_type": "code",
   "execution_count": 15,
   "metadata": {},
   "outputs": [
    {
     "data": {
      "text/html": [
       "<div>\n",
       "<style scoped>\n",
       "    .dataframe tbody tr th:only-of-type {\n",
       "        vertical-align: middle;\n",
       "    }\n",
       "\n",
       "    .dataframe tbody tr th {\n",
       "        vertical-align: top;\n",
       "    }\n",
       "\n",
       "    .dataframe thead th {\n",
       "        text-align: right;\n",
       "    }\n",
       "</style>\n",
       "<table border=\"1\" class=\"dataframe\">\n",
       "  <thead>\n",
       "    <tr style=\"text-align: right;\">\n",
       "      <th></th>\n",
       "      <th>title</th>\n",
       "      <th>id</th>\n",
       "      <th>overview</th>\n",
       "    </tr>\n",
       "  </thead>\n",
       "  <tbody>\n",
       "    <tr>\n",
       "      <th>2457</th>\n",
       "      <td>Addams Family Reunion</td>\n",
       "      <td>11508</td>\n",
       "      <td>The Addams Family goes on a search for their r...</td>\n",
       "    </tr>\n",
       "  </tbody>\n",
       "</table>\n",
       "</div>"
      ],
      "text/plain": [
       "                      title     id  \\\n",
       "2457  Addams Family Reunion  11508   \n",
       "\n",
       "                                               overview  \n",
       "2457  The Addams Family goes on a search for their r...  "
      ]
     },
     "execution_count": 15,
     "metadata": {},
     "output_type": "execute_result"
    }
   ],
   "source": [
    "train_movies_1.loc[(train_movies_1['id'] == 11508)]"
   ]
  },
  {
   "cell_type": "code",
   "execution_count": 16,
   "metadata": {},
   "outputs": [
    {
     "data": {
      "text/plain": [
       "639721"
      ]
     },
     "execution_count": 16,
     "metadata": {},
     "output_type": "execute_result"
    }
   ],
   "source": [
    "639721"
   ]
  },
  {
   "cell_type": "code",
   "execution_count": 17,
   "metadata": {},
   "outputs": [],
   "source": [
    "tf=TfidfVectorizer(stop_words=\"english\")\n",
    "tf_matrix= tf.fit_transform(train_movies_1['overview'])"
   ]
  },
  {
   "cell_type": "code",
   "execution_count": 18,
   "metadata": {},
   "outputs": [],
   "source": [
    "consine_sim= pairwise_kernels(tf_matrix,tf_matrix)"
   ]
  },
  {
   "cell_type": "code",
   "execution_count": 21,
   "metadata": {},
   "outputs": [],
   "source": [
    "indexs= pd.Series(train_movies_1.index, index=train_movies_1[\"id\"])"
   ]
  },
  {
   "cell_type": "code",
   "execution_count": 22,
   "metadata": {},
   "outputs": [
    {
     "data": {
      "text/plain": [
       "id\n",
       "580489        0\n",
       "639721        1\n",
       "645788        2\n",
       "524369        3\n",
       "774021        4\n",
       "          ...  \n",
       "129139    10179\n",
       "39013     10180\n",
       "517839    10181\n",
       "507498    10182\n",
       "70586     10183\n",
       "Length: 10184, dtype: int64"
      ]
     },
     "execution_count": 22,
     "metadata": {},
     "output_type": "execute_result"
    }
   ],
   "source": [
    "indexs"
   ]
  },
  {
   "cell_type": "code",
   "execution_count": 24,
   "metadata": {},
   "outputs": [],
   "source": [
    "idx= indexs[774021]"
   ]
  },
  {
   "cell_type": "code",
   "execution_count": 25,
   "metadata": {},
   "outputs": [
    {
     "data": {
      "text/plain": [
       "4"
      ]
     },
     "execution_count": 25,
     "metadata": {},
     "output_type": "execute_result"
    }
   ],
   "source": [
    "idx"
   ]
  },
  {
   "cell_type": "code",
   "execution_count": 26,
   "metadata": {},
   "outputs": [],
   "source": [
    "def get_recomendation(id, similar= consine_sim):\n",
    "    idx= indexs[id]# movie index\n",
    "    sim_score= enumerate(consine_sim[idx])#Simplify Looping With Counters\n",
    "    sim_score= sorted (sim_score, key=lambda x: x[1], reverse= True)#check and sort\n",
    "    sim_score=sim_score[1:10]#print top 10\n",
    "    sim_index=[i[0] for i in sim_score]\n",
    "    print(train_movies_1[\"id\"].iloc[sim_index])\n",
    " \n",
    "\n"
   ]
  },
  {
   "cell_type": "code",
   "execution_count": 27,
   "metadata": {},
   "outputs": [
    {
     "name": "stdout",
     "output_type": "stream",
     "text": [
      "9040    107596\n",
      "2457     11508\n",
      "3626    127082\n",
      "7389      6878\n",
      "1333    715123\n",
      "9600     42979\n",
      "6592    567733\n",
      "3671     25472\n",
      "617     481084\n",
      "Name: id, dtype: int64\n"
     ]
    }
   ],
   "source": [
    "get_recomendation(639721)"
   ]
  },
  {
   "cell_type": "code",
   "execution_count": null,
   "metadata": {},
   "outputs": [],
   "source": []
  }
 ],
 "metadata": {
  "kernelspec": {
   "display_name": "Python 3",
   "language": "python",
   "name": "python3"
  },
  "language_info": {
   "codemirror_mode": {
    "name": "ipython",
    "version": 3
   },
   "file_extension": ".py",
   "mimetype": "text/x-python",
   "name": "python",
   "nbconvert_exporter": "python",
   "pygments_lexer": "ipython3",
   "version": "3.6.13"
  }
 },
 "nbformat": 4,
 "nbformat_minor": 4
}
