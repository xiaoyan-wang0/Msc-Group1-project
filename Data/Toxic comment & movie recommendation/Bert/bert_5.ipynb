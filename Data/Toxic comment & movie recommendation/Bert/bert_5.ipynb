{
  "cells": [
    {
      "cell_type": "code",
      "execution_count": null,
      "metadata": {
        "id": "xMrOHKFHe8gM"
      },
      "outputs": [],
      "source": [
        ""
      ]
    },
    {
      "cell_type": "code",
      "execution_count": null,
      "metadata": {
        "id": "IosP7Xn6fZph"
      },
      "outputs": [],
      "source": [
        "import numpy as np\n",
        "import pandas as pd\n",
        "import tensorflow as tf\n",
        "import tensorflow_hub as hub\n",
        "import tensorflow_datasets as tfds\n",
        "import tensorflow_text as text\n",
        "from official.nlp import optimization #AdamW optimizer\n",
        "import re    #for regex\n",
        "import seaborn as sns\n",
        "import matplotlib.pyplot as plt\n",
        "import string\n",
        "from tensorflow import keras\n",
        "import re    #for regex\n",
        "import nltk\n",
        "from sklearn.model_selection import train_test_split\n"
      ]
    },
    {
      "cell_type": "code",
      "execution_count": null,
      "metadata": {
        "id": "ujvzEU90kch6"
      },
      "outputs": [],
      "source": [
        ""
      ]
    },
    {
      "cell_type": "code",
      "execution_count": null,
      "metadata": {
        "id": "kZ_NjjdylAz_"
      },
      "outputs": [],
      "source": [
        ""
      ]
    },
    {
      "cell_type": "code",
      "execution_count": null,
      "metadata": {
        "id": "hJn1jto8UvvU"
      },
      "outputs": [],
      "source": [
        ""
      ]
    },
    {
      "cell_type": "code",
      "execution_count": null,
      "metadata": {
        "id": "nFZKV0EqfosH"
      },
      "outputs": [],
      "source": [
        "train = pd.read_csv('toxic_5.csv')"
      ]
    },
    {
      "cell_type": "code",
      "execution_count": null,
      "metadata": {
        "colab": {
          "base_uri": "https://localhost:8080/",
          "height": 424
        },
        "id": "MsEV0xH2iKIN",
        "outputId": "5760e109-f74a-4639-eaec-26503f329570"
      },
      "outputs": [
        {
          "data": {
            "text/html": [
              "<div>\n",
              "<style scoped>\n",
              "    .dataframe tbody tr th:only-of-type {\n",
              "        vertical-align: middle;\n",
              "    }\n",
              "\n",
              "    .dataframe tbody tr th {\n",
              "        vertical-align: top;\n",
              "    }\n",
              "\n",
              "    .dataframe thead th {\n",
              "        text-align: right;\n",
              "    }\n",
              "</style>\n",
              "<table border=\"1\" class=\"dataframe\">\n",
              "  <thead>\n",
              "    <tr style=\"text-align: right;\">\n",
              "      <th></th>\n",
              "      <th>Unnamed: 0</th>\n",
              "      <th>comment_text</th>\n",
              "      <th>Toxic</th>\n",
              "    </tr>\n",
              "  </thead>\n",
              "  <tbody>\n",
              "    <tr>\n",
              "      <th>0</th>\n",
              "      <td>61</td>\n",
              "      <td>Discussion requires both parties to explain th...</td>\n",
              "      <td>0</td>\n",
              "    </tr>\n",
              "    <tr>\n",
              "      <th>1</th>\n",
              "      <td>40630</td>\n",
              "      <td>Avoiding Edit Wars \\n\\nAcroterion, I have been...</td>\n",
              "      <td>0</td>\n",
              "    </tr>\n",
              "    <tr>\n",
              "      <th>2</th>\n",
              "      <td>12124</td>\n",
              "      <td>omg I've never thought of it that way. pure ge...</td>\n",
              "      <td>0</td>\n",
              "    </tr>\n",
              "    <tr>\n",
              "      <th>3</th>\n",
              "      <td>11380</td>\n",
              "      <td>Because of our recent edits to SkyCable, the u...</td>\n",
              "      <td>0</td>\n",
              "    </tr>\n",
              "    <tr>\n",
              "      <th>4</th>\n",
              "      <td>5844</td>\n",
              "      <td>No harm done i deleted the second comment</td>\n",
              "      <td>0</td>\n",
              "    </tr>\n",
              "    <tr>\n",
              "      <th>...</th>\n",
              "      <td>...</td>\n",
              "      <td>...</td>\n",
              "      <td>...</td>\n",
              "    </tr>\n",
              "    <tr>\n",
              "      <th>41034</th>\n",
              "      <td>43459</td>\n",
              "      <td>new mutants putlocker” about to be the #1 goog...</td>\n",
              "      <td>1</td>\n",
              "    </tr>\n",
              "    <tr>\n",
              "      <th>41035</th>\n",
              "      <td>43460</td>\n",
              "      <td>It was better than the New Mutants. There were...</td>\n",
              "      <td>1</td>\n",
              "    </tr>\n",
              "    <tr>\n",
              "      <th>41036</th>\n",
              "      <td>43461</td>\n",
              "      <td>Whenever I THINK that I’m TRULY Fast &amp; Furious...</td>\n",
              "      <td>1</td>\n",
              "    </tr>\n",
              "    <tr>\n",
              "      <th>41037</th>\n",
              "      <td>43462</td>\n",
              "      <td>My man wasn't to happy I left on this Harley D...</td>\n",
              "      <td>1</td>\n",
              "    </tr>\n",
              "    <tr>\n",
              "      <th>41038</th>\n",
              "      <td>43463</td>\n",
              "      <td>just got my ass worn the fuck out in an exhaus...</td>\n",
              "      <td>1</td>\n",
              "    </tr>\n",
              "  </tbody>\n",
              "</table>\n",
              "<p>41039 rows × 3 columns</p>\n",
              "</div>"
            ],
            "text/plain": [
              "       Unnamed: 0                                       comment_text  Toxic\n",
              "0              61  Discussion requires both parties to explain th...      0\n",
              "1           40630  Avoiding Edit Wars \\n\\nAcroterion, I have been...      0\n",
              "2           12124  omg I've never thought of it that way. pure ge...      0\n",
              "3           11380  Because of our recent edits to SkyCable, the u...      0\n",
              "4            5844          No harm done i deleted the second comment      0\n",
              "...           ...                                                ...    ...\n",
              "41034       43459  new mutants putlocker” about to be the #1 goog...      1\n",
              "41035       43460  It was better than the New Mutants. There were...      1\n",
              "41036       43461  Whenever I THINK that I’m TRULY Fast & Furious...      1\n",
              "41037       43462  My man wasn't to happy I left on this Harley D...      1\n",
              "41038       43463  just got my ass worn the fuck out in an exhaus...      1\n",
              "\n",
              "[41039 rows x 3 columns]"
            ]
          },
          "execution_count": 4,
          "metadata": {},
          "output_type": "execute_result"
        }
      ],
      "source": [
        "train"
      ]
    },
    {
      "cell_type": "code",
      "execution_count": null,
      "metadata": {
        "id": "ivYCbquIUpLB"
      },
      "outputs": [],
      "source": [
        " "
      ]
    },
    {
      "cell_type": "code",
      "execution_count": null,
      "metadata": {
        "id": "IeoMNxRsiN13"
      },
      "outputs": [],
      "source": [
        "train['comment_text'] = pd.DataFrame(train[\"comment_text\"].astype('str')) "
      ]
    },
    {
      "cell_type": "code",
      "execution_count": null,
      "metadata": {
        "colab": {
          "base_uri": "https://localhost:8080/"
        },
        "id": "1VLPo0sTU0GU",
        "outputId": "e838b4d0-8987-477b-ded3-f02d0474da00"
      },
      "outputs": [
        {
          "name": "stdout",
          "output_type": "stream",
          "text": [
            "Requirement already satisfied: contractions in c:\\users\\daniel\\anaconda3\\envs\\tensorflow_gpu\\lib\\site-packages (0.0.58)\n",
            "Requirement already satisfied: textsearch>=0.0.21 in c:\\users\\daniel\\anaconda3\\envs\\tensorflow_gpu\\lib\\site-packages (from contractions) (0.0.21)\n",
            "Requirement already satisfied: anyascii in c:\\users\\daniel\\anaconda3\\envs\\tensorflow_gpu\\lib\\site-packages (from textsearch>=0.0.21->contractions) (0.3.0)\n",
            "Requirement already satisfied: pyahocorasick in c:\\users\\daniel\\anaconda3\\envs\\tensorflow_gpu\\lib\\site-packages (from textsearch>=0.0.21->contractions) (1.4.2)\n"
          ]
        },
        {
          "name": "stderr",
          "output_type": "stream",
          "text": [
            "C:\\Users\\Daniel\\anaconda3\\envs\\tensorflow_gpu\\lib\\site-packages\\ipykernel_launcher.py:24: SettingWithCopyWarning: \n",
            "A value is trying to be set on a copy of a slice from a DataFrame\n",
            "\n",
            "See the caveats in the documentation: https://pandas.pydata.org/pandas-docs/stable/user_guide/indexing.html#returning-a-view-versus-a-copy\n"
          ]
        }
      ],
      "source": [
        "\n",
        "\n",
        "import re\n",
        "!pip install contractions\n",
        "import contractions\n",
        "\n",
        "\n",
        "i=0\n",
        "for doc in train.comment_text:\n",
        "    doc = doc.lower()\n",
        "    doc=  re.sub(r\"https?://\\S+|www\\.\\S+\",'', doc)  #Remove URLs from a sample string\n",
        "    doc = re.sub(r'http[s]?://(?:[a-z]|[0-9]|[$-_@.&+]|[!*\\(\\),]|(?:%[0-9a-f][0-9a-f]))+', '', doc) # clean url\n",
        "    doc = re.sub(r'#(\\w+)', '',doc)   # clean hashes\n",
        "    doc = re.sub(r'[^\\x00-\\x7f]',r'', doc) #Remove non-ASCII characters \n",
        "    doc = re.sub(r'@(\\w+)', '', doc)   # clean @\n",
        "    doc = re.sub(r'<[^>]+>', '',doc)  # clean tags\n",
        "    doc = re.sub(r,doc)      # clean digits\n",
        "    doc=re.sub(r'<.*?>','',doc)\n",
        "    doc = re.sub(\"#\", \" \",doc)\n",
        "    doc = re.sub(\":::\", \" \", doc)\n",
        "    doc = re.sub(\"\\n\", \" \",doc)\n",
        "    doc=re.sub(r'[^a-zA-Z\\s]','',doc,re.I|re.A)\n",
        "    punctuation = set(string.punctuation)  #remove the punctuation\n",
        "    doc = \"\".join([p for p in doc if p not in punctuation])\n",
        "    doc=contractions.fix(doc)\n",
        "    train.comment_text[i]=doc\n",
        "    i+=1"
      ]
    },
    {
      "cell_type": "code",
      "execution_count": null,
      "metadata": {
        "colab": {
          "base_uri": "https://localhost:8080/",
          "height": 424
        },
        "id": "hJQSJcsuWLpc",
        "outputId": "ada6d3e5-df4f-4f60-ffde-baaf0a60133e"
      },
      "outputs": [
        {
          "data": {
            "text/html": [
              "<div>\n",
              "<style scoped>\n",
              "    .dataframe tbody tr th:only-of-type {\n",
              "        vertical-align: middle;\n",
              "    }\n",
              "\n",
              "    .dataframe tbody tr th {\n",
              "        vertical-align: top;\n",
              "    }\n",
              "\n",
              "    .dataframe thead th {\n",
              "        text-align: right;\n",
              "    }\n",
              "</style>\n",
              "<table border=\"1\" class=\"dataframe\">\n",
              "  <thead>\n",
              "    <tr style=\"text-align: right;\">\n",
              "      <th></th>\n",
              "      <th>Unnamed: 0</th>\n",
              "      <th>comment_text</th>\n",
              "      <th>Toxic</th>\n",
              "    </tr>\n",
              "  </thead>\n",
              "  <tbody>\n",
              "    <tr>\n",
              "      <th>0</th>\n",
              "      <td>61</td>\n",
              "      <td>discussion requires both parties to explain th...</td>\n",
              "      <td>0</td>\n",
              "    </tr>\n",
              "    <tr>\n",
              "      <th>1</th>\n",
              "      <td>40630</td>\n",
              "      <td>avoiding edit wars   acroterion i have been tr...</td>\n",
              "      <td>0</td>\n",
              "    </tr>\n",
              "    <tr>\n",
              "      <th>2</th>\n",
              "      <td>12124</td>\n",
              "      <td>omg I have never thought of it that way pure g...</td>\n",
              "      <td>0</td>\n",
              "    </tr>\n",
              "    <tr>\n",
              "      <th>3</th>\n",
              "      <td>11380</td>\n",
              "      <td>because of our recent edits to skycable the us...</td>\n",
              "      <td>0</td>\n",
              "    </tr>\n",
              "    <tr>\n",
              "      <th>4</th>\n",
              "      <td>5844</td>\n",
              "      <td>no harm done i deleted the second comment</td>\n",
              "      <td>0</td>\n",
              "    </tr>\n",
              "    <tr>\n",
              "      <th>...</th>\n",
              "      <td>...</td>\n",
              "      <td>...</td>\n",
              "      <td>...</td>\n",
              "    </tr>\n",
              "    <tr>\n",
              "      <th>41034</th>\n",
              "      <td>43459</td>\n",
              "      <td>new mutants putlocker about to be the  google ...</td>\n",
              "      <td>1</td>\n",
              "    </tr>\n",
              "    <tr>\n",
              "      <th>41035</th>\n",
              "      <td>43460</td>\n",
              "      <td>it was better than the new mutants there were ...</td>\n",
              "      <td>1</td>\n",
              "    </tr>\n",
              "    <tr>\n",
              "      <th>41036</th>\n",
              "      <td>43461</td>\n",
              "      <td>whenever i think that I am truly fast  furious...</td>\n",
              "      <td>1</td>\n",
              "    </tr>\n",
              "    <tr>\n",
              "      <th>41037</th>\n",
              "      <td>43462</td>\n",
              "      <td>my man was not to happy i left on this harley ...</td>\n",
              "      <td>1</td>\n",
              "    </tr>\n",
              "    <tr>\n",
              "      <th>41038</th>\n",
              "      <td>43463</td>\n",
              "      <td>just got my ass worn the fuck out in an exhaus...</td>\n",
              "      <td>1</td>\n",
              "    </tr>\n",
              "  </tbody>\n",
              "</table>\n",
              "<p>41039 rows × 3 columns</p>\n",
              "</div>"
            ],
            "text/plain": [
              "       Unnamed: 0                                       comment_text  Toxic\n",
              "0              61  discussion requires both parties to explain th...      0\n",
              "1           40630  avoiding edit wars   acroterion i have been tr...      0\n",
              "2           12124  omg I have never thought of it that way pure g...      0\n",
              "3           11380  because of our recent edits to skycable the us...      0\n",
              "4            5844          no harm done i deleted the second comment      0\n",
              "...           ...                                                ...    ...\n",
              "41034       43459  new mutants putlocker about to be the  google ...      1\n",
              "41035       43460  it was better than the new mutants there were ...      1\n",
              "41036       43461  whenever i think that I am truly fast  furious...      1\n",
              "41037       43462  my man was not to happy i left on this harley ...      1\n",
              "41038       43463  just got my ass worn the fuck out in an exhaus...      1\n",
              "\n",
              "[41039 rows x 3 columns]"
            ]
          },
          "execution_count": 7,
          "metadata": {},
          "output_type": "execute_result"
        }
      ],
      "source": [
        "train"
      ]
    },
    {
      "cell_type": "code",
      "execution_count": null,
      "metadata": {
        "colab": {
          "base_uri": "https://localhost:8080/",
          "height": 35
        },
        "id": "bmODijvxWhKu",
        "outputId": "22c376af-03ed-4a9e-a1b8-47f890868959"
      },
      "outputs": [
        {
          "data": {
            "text/plain": [
              "'just got my ass worn the fuck out in an exhausting threesome my muscles are falling off my body like metal on a fast  furious car that is going too damn fast'"
            ]
          },
          "execution_count": 8,
          "metadata": {},
          "output_type": "execute_result"
        }
      ],
      "source": [
        "doc"
      ]
    },
    {
      "cell_type": "code",
      "execution_count": null,
      "metadata": {
        "id": "ZFWgIlw0prt9"
      },
      "outputs": [],
      "source": [
        "x=train[\"comment_text\"]\n",
        "y=train[\"Toxic\"]"
      ]
    },
    {
      "cell_type": "code",
      "execution_count": null,
      "metadata": {
        "id": "bywqEF-Np9J2"
      },
      "outputs": [],
      "source": [
        "train_x, test_x, train_y, test_y = train_test_split(x,y, test_size=0.2, random_state=1,shuffle=True)"
      ]
    },
    {
      "cell_type": "code",
      "execution_count": null,
      "metadata": {
        "id": "DeUaWCI6jpN9"
      },
      "outputs": [],
      "source": [
        "tfhub_encoder = \"https://tfhub.dev/tensorflow/small_bert/bert_en_uncased_L-4_H-512_A-8/1\"\n",
        "tfhub_preprocession = \"https://tfhub.dev/tensorflow/bert_en_uncased_preprocess/3\""
      ]
    },
    {
      "cell_type": "code",
      "execution_count": null,
      "metadata": {
        "id": "ZCyYwBHIpaqu"
      },
      "outputs": [],
      "source": [
        "def build_bert_model():\n",
        "    text_input = tf.keras.layers.Input(shape=(), dtype=tf.string,name='text_input')\n",
        "    pre_processing_layer = hub.KerasLayer(tfhub_preprocession,name='pre_processing')\n",
        "    encoder_inputs = pre_processing_layer(text_input)\n",
        "    encoder = hub.KerasLayer(tfhub_encoder,trainable=True,name='bert_encoder')\n",
        "    outputs = encoder(encoder_inputs)\n",
        "    net = outputs['pooled_output']\n",
        "    net = tf.keras.layers.Dropout(0.2)(net)\n",
        "    net = tf.keras.layers.Dense(1, activation='sigmoid', name='bert_classifier')(net)\n",
        "    return tf.keras.Model(text_input, net)"
      ]
    },
    {
      "cell_type": "code",
      "execution_count": null,
      "metadata": {
        "id": "S1RZxEOdqXH3"
      },
      "outputs": [],
      "source": [
        "classifier_model = build_bert_model()\n",
        "\n"
      ]
    },
    {
      "cell_type": "code",
      "execution_count": null,
      "metadata": {
        "id": "9oUf-Cb7q6Ef"
      },
      "outputs": [],
      "source": [
        "loss = tf.keras.losses.BinaryCrossentropy(from_logits=True)\n",
        "metrics = tf.metrics.BinaryAccuracy()"
      ]
    },
    {
      "cell_type": "code",
      "execution_count": null,
      "metadata": {
        "id": "VCyolKOPq9pW"
      },
      "outputs": [],
      "source": [
        "epochs = 10\n",
        "steps_per_epoch = 500\n",
        "num_train_steps = steps_per_epoch * epochs\n",
        "num_warmup_steps = int(0.1*num_train_steps)\n",
        "\n",
        "init_lr = 4e-5\n",
        "optimizer = optimization.create_optimizer(init_lr=init_lr,\n",
        "                                          num_train_steps=num_train_steps,\n",
        "                                          num_warmup_steps=num_warmup_steps,\n",
        "                                          optimizer_type='adamw')"
      ]
    },
    {
      "cell_type": "code",
      "execution_count": null,
      "metadata": {
        "id": "1Ph-RflWrGSL"
      },
      "outputs": [],
      "source": [
        "\n",
        "classifier_model.compile(optimizer=optimizer,loss=loss,metrics=metrics)"
      ]
    },
    {
      "cell_type": "code",
      "execution_count": null,
      "metadata": {
        "colab": {
          "base_uri": "https://localhost:8080/"
        },
        "id": "1O-0UofkrJrS",
        "outputId": "e938ef2d-2344-4516-94e2-df639151f4bd"
      },
      "outputs": [
        {
          "name": "stdout",
          "output_type": "stream",
          "text": [
            "Epoch 1/10\n",
            "924/924 [==============================] - 162s 175ms/step - loss: 0.1669 - binary_accuracy: 0.9369 - val_loss: 0.1771 - val_binary_accuracy: 0.9303\n",
            "Epoch 2/10\n",
            "924/924 [==============================] - 162s 175ms/step - loss: 0.1144 - binary_accuracy: 0.9598 - val_loss: 0.2504 - val_binary_accuracy: 0.9275\n",
            "Epoch 3/10\n",
            "924/924 [==============================] - 160s 173ms/step - loss: 0.0788 - binary_accuracy: 0.9749 - val_loss: 0.2778 - val_binary_accuracy: 0.9281\n",
            "Epoch 4/10\n",
            "924/924 [==============================] - 159s 172ms/step - loss: 0.0511 - binary_accuracy: 0.9846 - val_loss: 0.3592 - val_binary_accuracy: 0.9309\n",
            "Epoch 5/10\n",
            "924/924 [==============================] - 163s 176ms/step - loss: 0.0372 - binary_accuracy: 0.9889 - val_loss: 0.3794 - val_binary_accuracy: 0.9275\n",
            "Restoring model weights from the end of the best epoch.\n",
            "Epoch 00005: early stopping\n"
          ]
        }
      ],
      "source": [
        "callback=keras.callbacks.EarlyStopping(monitor='val_loss',min_delta=0, patience=5, verbose=2, mode='auto', restore_best_weights=True)\n",
        "history = classifier_model.fit(x=train_x,y=train_y,\n",
        "                               validation_split=0.1,shuffle=True,\n",
        "                               epochs=epochs,callbacks=[callback])"
      ]
    },
    {
      "cell_type": "code",
      "execution_count": null,
      "metadata": {
        "colab": {
          "base_uri": "https://localhost:8080/"
        },
        "id": "OeK0jCFHS7sm",
        "outputId": "00cfbb83-4ec5-4613-bd42-f1929e7f0a92"
      },
      "outputs": [
        {
          "name": "stderr",
          "output_type": "stream",
          "text": [
            "WARNING:absl:Found untraced functions such as restored_function_body, restored_function_body, restored_function_body, restored_function_body, restored_function_body while saving (showing 5 of 310). These functions will not be directly callable after loading.\n"
          ]
        },
        {
          "name": "stdout",
          "output_type": "stream",
          "text": [
            "INFO:tensorflow:Assets written to: toxic_bert_model\\assets\n"
          ]
        },
        {
          "name": "stderr",
          "output_type": "stream",
          "text": [
            "INFO:tensorflow:Assets written to: toxic_bert_model\\assets\n"
          ]
        }
      ],
      "source": [
        "classifier_model.save('toxic_bert_model')"
      ]
    },
    {
      "cell_type": "code",
      "execution_count": null,
      "metadata": {
        "colab": {
          "base_uri": "https://localhost:8080/",
          "height": 295
        },
        "id": "kI8-wwb5Umvv",
        "outputId": "3cc4cb83-1d81-4b46-a169-ae015bb02ca5"
      },
      "outputs": [
        {
          "data": {
            "image/png": "[encoded data removed]",
            "text/plain": [
              "<Figure size 432x288 with 1 Axes>"
            ]
          },
          "metadata": {
            "needs_background": "light"
          },
          "output_type": "display_data"
        }
      ],
      "source": [
        "from sklearn.metrics import roc_curve\n",
        "y_pred=classifier_model.predict(test_x)\n",
        "fpr, tpr, thresholds = roc_curve(test_y, y_pred)\n",
        "from sklearn.metrics import auc\n",
        "auc_keras = auc(fpr, tpr)\n",
        "plt.figure(1)\n",
        "plt.plot([0, 1], [0, 1], 'k--')\n",
        "plt.plot(fpr, tpr, label='Keras (area = {:.3f})'.format(auc_keras))\n",
        "plt.xlabel('False positive rate')\n",
        "plt.ylabel('True positive rate')\n",
        "plt.title('ROC curve')\n",
        "plt.legend(loc='best')\n",
        "plt.show()"
      ]
    },
    {
      "cell_type": "code",
      "execution_count": null,
      "metadata": {
        "colab": {
          "base_uri": "https://localhost:8080/"
        },
        "id": "x7brz43QUxvZ",
        "outputId": "ff874ef0-9f6c-4e9b-b8b0-dc03c0fe86ed"
      },
      "outputs": [
        {
          "name": "stdout",
          "output_type": "stream",
          "text": [
            "The best threshold is [0.63255656]\n",
            "              precision    recall  f1-score   support\n",
            "\n",
            "           0     0.9414    0.9291    0.9352      4234\n",
            "           1     0.9255    0.9383    0.9319      3974\n",
            "\n",
            "    accuracy                         0.9336      8208\n",
            "   macro avg     0.9335    0.9337    0.9336      8208\n",
            "weighted avg     0.9337    0.9336    0.9336      8208\n",
            "\n"
          ]
        }
      ],
      "source": [
        "from sklearn.metrics import roc_curve\n",
        "import numpy as np\n",
        "from sklearn.metrics import classification_report\n",
        "fpr, tpr, thresholds = roc_curve(test_y, y_pred)\n",
        "RightIndex=(tpr-fpr)\n",
        "index=np.where(RightIndex==max(RightIndex))#Youden_index\n",
        "\n",
        "best_threshold=thresholds[index]\n",
        "\n",
        "print(\"The best threshold is\",best_threshold)\n",
        "print(classification_report(test_y, y_pred>best_threshold ,digits=4))"
      ]
    },
    {
      "cell_type": "code",
      "execution_count": null,
      "metadata": {
        "id": "Gxw0PUljYAWZ"
      },
      "outputs": [],
      "source": [
        "def Find_Optimal_Cutoff(TPR, FPR, threshold):\n",
        "    y = TPR - FPR\n",
        "    Youden_index = np.argmax(y)  # Only the first occurrence is returned.\n",
        "    optimal_threshold = threshold[Youden_index]\n",
        "    point = [FPR[Youden_index], TPR[Youden_index]]\n",
        "    return optimal_threshold, point"
      ]
    },
    {
      "cell_type": "code",
      "execution_count": null,
      "metadata": {
        "id": "niOY6OU_YB3E"
      },
      "outputs": [],
      "source": [
        "def ROC(label, y_prob):\n",
        "\n",
        "    fpr, tpr, thresholds = roc_curve(label, y_prob)\n",
        "    roc_auc = auc(fpr, tpr)\n",
        "    optimal_th, optimal_point = Find_Optimal_Cutoff(TPR=tpr, FPR=fpr, threshold=thresholds)\n",
        "    return fpr, tpr, roc_auc, optimal_th, optimal_point"
      ]
    },
    {
      "cell_type": "code",
      "execution_count": null,
      "metadata": {
        "colab": {
          "base_uri": "https://localhost:8080/",
          "height": 295
        },
        "id": "Qbwto_ysYFYm",
        "outputId": "f828066e-f390-48ad-caf6-2df38f985084"
      },
      "outputs": [
        {
          "data": {
            "image/png": "[encoded data removed]",
            "text/plain": [
              "<Figure size 432x288 with 1 Axes>"
            ]
          },
          "metadata": {
            "needs_background": "light"
          },
          "output_type": "display_data"
        }
      ],
      "source": [
        "fpr, tpr, roc_auc, optimal_th, optimal_point = ROC(test_y,y_pred)\n",
        " \n",
        "plt.figure(1)\n",
        "plt.plot(fpr, tpr, label=f\"AUC = {roc_auc:.3f}\")\n",
        "plt.plot([0, 1], [0, 1], linestyle=\"--\")\n",
        "plt.plot(optimal_point[0], optimal_point[1], marker='o', color='r')\n",
        "plt.text(optimal_point[0], optimal_point[1], f'Threshold:{optimal_th:.2f}')\n",
        "plt.title(\"ROC-AUC\")\n",
        "plt.xlabel(\"False Positive Rate\")\n",
        "plt.ylabel(\"True Positive Rate\")\n",
        "plt.legend()\n",
        "plt.show()"
      ]
    },
    {
      "cell_type": "code",
      "execution_count": null,
      "metadata": {
        "id": "99RphqY0YFfz"
      },
      "outputs": [],
      "source": [
        "sample_text=[\"There seems to be quite a bit of agreement on what Im about to say about the film. Venom doesnt quite know what it is. It cant decide wether its a goofy, action or a horror movie. Therefore its all of it and none at the same time. The goofy jokes are pretty lame, which is why they are funny, you dont laugh with the writers, you laugh at them. The action scenes are meh at best, car chase : check motorcycle : check ridiculous (bad) cgi fight: check sure, watching Tom Hardy motorcross in San Francisco is quite fun, but its not really action. Finally, the horror; there are glimpses, glimmers of hope scattered around this movie. Little snippets of what could have been, but as soon as they appear they disappear. Two scenes really stood out to me due to their potential. After quite a lot of buildup of Venom getting into the building (BY RUNNING UP IT), Eddie decides to take the lift down. Instead of having Eddie walk into the SWAT team, they should have been swarming the building crawling through the floors looking for him. Then, they could have had an ALIEN like hunting scene where Venom slowly takes out the task force one by one, in true horror movie fashion. The other obvious horror scene could have been using the creepy little girl that delivers RIOT to the Musk wannabe, they could have homaged The Shining, they could have pulled an exorcist, they could have done a million things, but the little girl just has white pupils and a deep voice. Throughout the movie there are just continuous disappointments because you see what it is missing. Instead of the cheap love story and all the stupid overdone things they should have been ballsy with their movie. Yes the movie DID make 800+ million, however im sure it was going to do that anyway. Venom is probably one of the most badass characters in comic history, and Tom Hardy is Tom Hardy. I would have loved to see something along these lines: Symbiote hunts Eddie. Symbiote captures Eddie and they become Venom. Venom starts unleashing hell because he can, hunts SWAT etc. Venom goes after Musk wannabe and Kills him. Throw some more horror elements in there, and it would have made for a much more satisfactory watch. I have always adored Venom, and this movie had so much potential, but it was all for nothing. No rewatchability. Nothing worth remembering. Just a flick. It was funny seeing Tom Hardy being a bit of a pussball, but even he cant help a crap script and an even worse film.\"]"
      ]
    },
    {
      "cell_type": "code",
      "execution_count": null,
      "metadata": {
        "id": "rDlD3HOvUMIa"
      },
      "outputs": [],
      "source": [
        "sample_text=[\"I enjoyed watching the movie, but it is obvious from its name and poster that it is a terrible movie. I don't regret watching :)\"]"
      ]
    },
    {
      "cell_type": "code",
      "execution_count": null,
      "metadata": {
        "id": "4AqJagymUeVc"
      },
      "outputs": [],
      "source": [
        "sample_text=[\"Started Binging to Catch up and WOW what a PIECE OF CRAP\"]"
      ]
    },
    {
      "cell_type": "code",
      "execution_count": null,
      "metadata": {
        "id": "K5PHzkjMTlbW"
      },
      "outputs": [],
      "source": [
        "predictions =classifier_model.predict(sample_text) "
      ]
    },
    {
      "cell_type": "code",
      "execution_count": null,
      "metadata": {
        "colab": {
          "base_uri": "https://localhost:8080/"
        },
        "id": "TM8O8KOET0SI",
        "outputId": "7c9e3e8d-bc32-4e9b-9ebf-a6f2489c066e"
      },
      "outputs": [
        {
          "data": {
            "text/plain": [
              "<tf.Tensor: shape=(1, 1), dtype=float32, numpy=array([[0.9902728]], dtype=float32)>"
            ]
          },
          "execution_count": 28,
          "metadata": {},
          "output_type": "execute_result"
        }
      ],
      "source": [
        "tf.sigmoid(predictions)"
      ]
    },
    {
      "cell_type": "code",
      "execution_count": null,
      "metadata": {
        "id": "2AAED9eUZTon"
      },
      "outputs": [],
      "source": [
        "sample_text=[\"Fack off\"]"
      ]
    },
    {
      "cell_type": "code",
      "execution_count": null,
      "metadata": {
        "id": "dtou8AmHZTon"
      },
      "outputs": [],
      "source": [
        "predictions =classifier_model.predict(sample_text) "
      ]
    },
    {
      "cell_type": "code",
      "execution_count": null,
      "metadata": {
        "id": "V-QLIf9AZTon",
        "outputId": "7506af76-664c-4477-de13-2f437ac79495"
      },
      "outputs": [
        {
          "data": {
            "text/plain": [
              "<tf.Tensor: shape=(1, 1), dtype=float32, numpy=array([[0.9854166]], dtype=float32)>"
            ]
          },
          "execution_count": 31,
          "metadata": {},
          "output_type": "execute_result"
        }
      ],
      "source": [
        "tf.sigmoid(predictions)"
      ]
    },
    {
      "cell_type": "code",
      "execution_count": null,
      "metadata": {
        "id": "FTQqFsShZTon",
        "outputId": "4669955c-f74e-4415-b5b4-f98b7290ebcb"
      },
      "outputs": [
        {
          "data": {
            "text/plain": [
              "array([[0.9818225]], dtype=float32)"
            ]
          },
          "execution_count": 47,
          "metadata": {},
          "output_type": "execute_result"
        }
      ],
      "source": [
        "predictions"
      ]
    },
    {
      "cell_type": "code",
      "execution_count": null,
      "metadata": {
        "id": "9NIdhLzuZToo"
      },
      "outputs": [],
      "source": [
        ""
      ]
    },
    {
      "cell_type": "code",
      "execution_count": null,
      "metadata": {
        "id": "1KGv9BHzZToo"
      },
      "outputs": [],
      "source": [
        ""
      ]
    },
    {
      "cell_type": "code",
      "execution_count": null,
      "metadata": {
        "id": "PvL3G9A-ZToo",
        "outputId": "b1445c8f-fde2-403f-c9fe-2321e202bbb4"
      },
      "outputs": [
        {
          "name": "stdout",
          "output_type": "stream",
          "text": [
            "['#']\n"
          ]
        }
      ],
      "source": [
        "import re\n",
        "\n",
        "string=\"xiao yan wang NB#\"\n",
        "print(re.findall(r\"[^a-zA-z0-9\\s]\",string))\n",
        "\n"
      ]
    },
    {
      "cell_type": "code",
      "execution_count": null,
      "metadata": {
        "id": "GtMJOzXAZToo"
      },
      "outputs": [],
      "source": [
        ""
      ]
    },
    {
      "cell_type": "code",
      "execution_count": null,
      "metadata": {
        "id": "G-ggCdkbZToo"
      },
      "outputs": [],
      "source": [
        ""
      ]
    }
  ],
  "metadata": {
    "accelerator": "GPU",
    "colab": {
      "name": "bert _3080.ipynb",
      "provenance": []
    },
    "kernelspec": {
      "display_name": "Python 3",
      "language": "python",
      "name": "python3"
    },
    "language_info": {
      "codemirror_mode": {
        "name": "ipython",
        "version": 3
      },
      "file_extension": ".py",
      "mimetype": "text/x-python",
      "name": "python",
      "nbconvert_exporter": "python",
      "pygments_lexer": "ipython3",
      "version": "3.6.13"
    }
  },
  "nbformat": 4,
  "nbformat_minor": 0
}