{
  "nbformat": 4,
  "nbformat_minor": 0,
  "metadata": {
    "colab": {
      "name": "Untitled1.ipynb",
      "provenance": [],
      "collapsed_sections": []
    },
    "kernelspec": {
      "name": "python3",
      "display_name": "Python 3"
    },
    "language_info": {
      "name": "python"
    },
    "accelerator": "GPU"
  },
  "cells": [
    {
      "cell_type": "code",
      "metadata": {
        "id": "6VnyJwyZfnkv",
        "colab": {
          "base_uri": "https://localhost:8080/"
        },
        "outputId": "12a343bd-b7ad-4eff-b623-4ea8ba8130b3"
      },
      "source": [
        "from google.colab import drive\n",
        "drive.mount('/content/drive')"
      ],
      "execution_count": 2,
      "outputs": [
        {
          "output_type": "stream",
          "name": "stdout",
          "text": [
            "Drive already mounted at /content/drive; to attempt to forcibly remount, call drive.mount(\"/content/drive\", force_remount=True).\n"
          ]
        }
      ]
    },
    {
      "cell_type": "code",
      "metadata": {
        "id": "KpQSotrWJ3fF"
      },
      "source": [
        "import numpy as np\n",
        "import tensorflow as tf\n",
        "import tensorflow_hub as hub\n",
        "import seaborn as sns\n",
        "import matplotlib.pyplot as plt\n",
        "import pandas as pd\n",
        "import tensorflow as tf\n",
        "from tensorflow.keras.models import Sequential\n",
        "from tensorflow.keras.layers import Dense,Dropout,Activation\n",
        "from tensorflow.keras.layers import Embedding\n",
        "from tensorflow.keras.layers import Conv1D,GlobalMaxPooling1D,MaxPooling1D\n",
        "from sklearn.model_selection import train_test_split\n",
        "from keras.layers import Dense, Bidirectional, LSTM, Dropout, BatchNormalization,CuDNNLSTM\n",
        "from tensorflow import keras"
      ],
      "execution_count": 3,
      "outputs": []
    },
    {
      "cell_type": "code",
      "metadata": {
        "id": "nFZKV0EqfosH"
      },
      "source": [
        "train = pd.read_csv('/content/drive/MyDrive/toxic_5.csv')"
      ],
      "execution_count": 4,
      "outputs": []
    },
    {
      "cell_type": "code",
      "metadata": {
        "id": "r_RCPFTyJ3qq"
      },
      "source": [
        "train['comment_text'] = pd.DataFrame(train[\"comment_text\"].astype('str')) "
      ],
      "execution_count": 5,
      "outputs": []
    },
    {
      "cell_type": "code",
      "metadata": {
        "id": "uauRj4EaJ3tf"
      },
      "source": [
        ""
      ],
      "execution_count": null,
      "outputs": []
    },
    {
      "cell_type": "code",
      "metadata": {
        "id": "ZFWgIlw0prt9"
      },
      "source": [
        "x=train[\"comment_text\"]\n",
        "y=train[\"Toxic\"]"
      ],
      "execution_count": 6,
      "outputs": []
    },
    {
      "cell_type": "code",
      "metadata": {
        "id": "Zqdm5nlbKsL0"
      },
      "source": [
        ""
      ],
      "execution_count": null,
      "outputs": []
    },
    {
      "cell_type": "code",
      "metadata": {
        "id": "bywqEF-Np9J2"
      },
      "source": [
        "train_x, test_x, train_y, test_y = train_test_split(x,y, test_size=0.2, random_state=1,shuffle=True)"
      ],
      "execution_count": 7,
      "outputs": []
    },
    {
      "cell_type": "code",
      "metadata": {
        "id": "5dur0ozAKsWt"
      },
      "source": [
        "embedding = \"https://tfhub.dev/google/nnlm-en-dim128/2\"    \n",
        "    \n",
        "hub_layer = hub.KerasLayer(embedding,output_shape=[128], input_shape=[], dtype=tf.string, trainable=True)"
      ],
      "execution_count": 8,
      "outputs": []
    },
    {
      "cell_type": "code",
      "metadata": {
        "colab": {
          "base_uri": "https://localhost:8080/"
        },
        "id": "GchTUOm9KsaO",
        "outputId": "8569e337-e3d1-44b8-dbb4-de8317565f68"
      },
      "source": [
        "from tensorflow.keras.layers import LSTM\n",
        "from tensorflow.keras.layers import Dense\n",
        "from tensorflow.keras.layers import Bidirectional\n",
        "from tensorflow.keras.layers import Dropout\n",
        "bi_model=Sequential()\n",
        "bi_model.add(hub_layer)\n",
        "bi_model.add(tf.keras.layers.Reshape((1,128)))\n",
        "bi_model.add(Dropout(0.3))\n",
        "bi_model.add(Bidirectional(CuDNNLSTM(128,return_sequences=True)))\n",
        "bi_model.add(Dropout(0.3))\n",
        "bi_model.add(Bidirectional(CuDNNLSTM(128))) #lstm with 100 neurons\n",
        "bi_model.add(Dropout(0.3))\n",
        "bi_model.add(Dense(1,activation='sigmoid'))\n",
        "bi_model.compile(loss='binary_crossentropy',optimizer=tf.keras.optimizers.Adam(3e-3),metrics=['accuracy'])\n",
        "print(bi_model.summary())"
      ],
      "execution_count": 9,
      "outputs": [
        {
          "output_type": "stream",
          "name": "stdout",
          "text": [
            "Model: \"sequential\"\n",
            "_________________________________________________________________\n",
            " Layer (type)                Output Shape              Param #   \n",
            "=================================================================\n",
            " keras_layer (KerasLayer)    (None, 128)               124642688 \n",
            "                                                                 \n",
            " reshape (Reshape)           (None, 1, 128)            0         \n",
            "                                                                 \n",
            " dropout (Dropout)           (None, 1, 128)            0         \n",
            "                                                                 \n",
            " bidirectional (Bidirectiona  (None, 1, 256)           264192    \n",
            " l)                                                              \n",
            "                                                                 \n",
            " dropout_1 (Dropout)         (None, 1, 256)            0         \n",
            "                                                                 \n",
            " bidirectional_1 (Bidirectio  (None, 256)              395264    \n",
            " nal)                                                            \n",
            "                                                                 \n",
            " dropout_2 (Dropout)         (None, 256)               0         \n",
            "                                                                 \n",
            " dense (Dense)               (None, 1)                 257       \n",
            "                                                                 \n",
            "=================================================================\n",
            "Total params: 125,302,401\n",
            "Trainable params: 125,302,401\n",
            "Non-trainable params: 0\n",
            "_________________________________________________________________\n",
            "None\n"
          ]
        }
      ]
    },
    {
      "cell_type": "code",
      "metadata": {
        "colab": {
          "base_uri": "https://localhost:8080/"
        },
        "id": "BnDcSnGRLCV2",
        "outputId": "3aba237c-d596-409d-ee9f-094054fb0e3e"
      },
      "source": [
        "callback=keras.callbacks.EarlyStopping(monitor='val_loss',min_delta=0, patience=10, verbose=2, mode='auto', restore_best_weights=True)\n",
        "history = bi_model.fit(x=train_x, y=train_y, batch_size=128, verbose=1, epochs=20, validation_split= 0.1,shuffle=True,callbacks=[callback])"
      ],
      "execution_count": 10,
      "outputs": [
        {
          "output_type": "stream",
          "name": "stdout",
          "text": [
            "Epoch 1/20\n",
            "231/231 [==============================] - 36s 130ms/step - loss: 0.3262 - accuracy: 0.8625 - val_loss: 0.2811 - val_accuracy: 0.8797\n",
            "Epoch 2/20\n",
            "231/231 [==============================] - 28s 122ms/step - loss: 0.1790 - accuracy: 0.9286 - val_loss: 0.3062 - val_accuracy: 0.8739\n",
            "Epoch 3/20\n",
            "231/231 [==============================] - 28s 122ms/step - loss: 0.1038 - accuracy: 0.9577 - val_loss: 0.4515 - val_accuracy: 0.8660\n",
            "Epoch 4/20\n",
            "231/231 [==============================] - 28s 122ms/step - loss: 0.0734 - accuracy: 0.9682 - val_loss: 0.5026 - val_accuracy: 0.8630\n",
            "Epoch 5/20\n",
            "231/231 [==============================] - 28s 121ms/step - loss: 0.0544 - accuracy: 0.9785 - val_loss: 0.5233 - val_accuracy: 0.8648\n",
            "Epoch 6/20\n",
            "231/231 [==============================] - 28s 121ms/step - loss: 0.0374 - accuracy: 0.9861 - val_loss: 0.6375 - val_accuracy: 0.8627\n",
            "Epoch 7/20\n",
            "231/231 [==============================] - 28s 122ms/step - loss: 0.0260 - accuracy: 0.9902 - val_loss: 0.6900 - val_accuracy: 0.8584\n",
            "Epoch 8/20\n",
            "231/231 [==============================] - 28s 122ms/step - loss: 0.0215 - accuracy: 0.9922 - val_loss: 0.8037 - val_accuracy: 0.8575\n",
            "Epoch 9/20\n",
            "231/231 [==============================] - 28s 122ms/step - loss: 0.0187 - accuracy: 0.9930 - val_loss: 0.7612 - val_accuracy: 0.8621\n",
            "Epoch 10/20\n",
            "231/231 [==============================] - 28s 122ms/step - loss: 0.0154 - accuracy: 0.9945 - val_loss: 0.8587 - val_accuracy: 0.8496\n",
            "Epoch 11/20\n",
            "231/231 [==============================] - ETA: 0s - loss: 0.0123 - accuracy: 0.9957Restoring model weights from the end of the best epoch: 1.\n",
            "231/231 [==============================] - 28s 123ms/step - loss: 0.0123 - accuracy: 0.9957 - val_loss: 0.8872 - val_accuracy: 0.8502\n",
            "Epoch 00011: early stopping\n"
          ]
        }
      ]
    },
    {
      "cell_type": "code",
      "metadata": {
        "colab": {
          "base_uri": "https://localhost:8080/",
          "height": 295
        },
        "id": "AQ4waDGENggm",
        "outputId": "cad6b429-c339-416b-e27f-dfc2c594a116"
      },
      "source": [
        "from sklearn.metrics import roc_curve\n",
        "y_pred=bi_model.predict(test_x).ravel()\n",
        "fpr, tpr, thresholds = roc_curve(test_y, y_pred)\n",
        "from sklearn.metrics import auc\n",
        "auc_keras = auc(fpr, tpr)\n",
        "plt.figure(1)\n",
        "plt.plot([0, 1], [0, 1], 'k--')\n",
        "plt.plot(fpr, tpr, label='Keras (area = {:.3f})'.format(auc_keras))\n",
        "plt.xlabel('False positive rate')\n",
        "plt.ylabel('True positive rate')\n",
        "plt.title('ROC curve')\n",
        "plt.legend(loc='best')\n",
        "plt.show()"
      ],
      "execution_count": 12,
      "outputs": [
        {
          "output_type": "display_data",
          "data": {
            "image/png": "[encoded data removed]",
            "text/plain": [
              "<Figure size 432x288 with 1 Axes>"
            ]
          },
          "metadata": {
            "needs_background": "light"
          }
        }
      ]
    },
    {
      "cell_type": "code",
      "metadata": {
        "colab": {
          "base_uri": "https://localhost:8080/"
        },
        "id": "RS2uXckJLCjX",
        "outputId": "c8631512-1bf3-4919-c046-6df628daca62"
      },
      "source": [
        "from sklearn.metrics import roc_curve\n",
        "import numpy as np\n",
        "from sklearn.metrics import classification_report\n",
        "fpr, tpr, thresholds = roc_curve(test_y, y_pred)\n",
        "y=tpr-fpr\n",
        "idx=np.argmax(y)#Youden_index\n",
        "best_threshold=thresholds[idx]\n",
        "print(\"The best threshold is\",best_threshold)\n",
        "print(classification_report(test_y, y_pred >best_threshold ,digits=4))"
      ],
      "execution_count": 13,
      "outputs": [
        {
          "output_type": "stream",
          "name": "stdout",
          "text": [
            "The best threshold is 0.5684738\n",
            "              precision    recall  f1-score   support\n",
            "\n",
            "           0     0.8804    0.8987    0.8894      4234\n",
            "           1     0.8896    0.8699    0.8796      3974\n",
            "\n",
            "    accuracy                         0.8847      8208\n",
            "   macro avg     0.8850    0.8843    0.8845      8208\n",
            "weighted avg     0.8848    0.8847    0.8847      8208\n",
            "\n"
          ]
        }
      ]
    },
    {
      "cell_type": "code",
      "metadata": {
        "id": "6aMPx3HaN8F0"
      },
      "source": [
        ""
      ],
      "execution_count": null,
      "outputs": []
    },
    {
      "cell_type": "code",
      "metadata": {
        "colab": {
          "base_uri": "https://localhost:8080/"
        },
        "id": "QHzPYVWjN8Vn",
        "outputId": "75774385-35a6-4a6e-e15c-cb7b3115897d"
      },
      "source": [
        "from tensorflow.keras.layers import LSTM\n",
        "from tensorflow.keras.layers import Dense\n",
        "\n",
        "from tensorflow.keras.layers import Dropout\n",
        "lstm_model=Sequential()\n",
        "lstm_model.add(hub_layer)\n",
        "lstm_model.add(tf.keras.layers.Reshape((1,128)))\n",
        "lstm_model.add(LSTM(64))\n",
        "lstm_model.add(Dropout(0.3))\n",
        "lstm_model.add(Dense(1,activation='sigmoid'))\n",
        "lstm_model.compile(loss='binary_crossentropy',optimizer=tf.keras.optimizers.Adam(3e-3),metrics=['accuracy'])\n",
        "print(lstm_model.summary())"
      ],
      "execution_count": 16,
      "outputs": [
        {
          "output_type": "stream",
          "name": "stdout",
          "text": [
            "Model: \"sequential_1\"\n",
            "_________________________________________________________________\n",
            " Layer (type)                Output Shape              Param #   \n",
            "=================================================================\n",
            " keras_layer (KerasLayer)    (None, 128)               124642688 \n",
            "                                                                 \n",
            " reshape_1 (Reshape)         (None, 1, 128)            0         \n",
            "                                                                 \n",
            " lstm (LSTM)                 (None, 64)                49408     \n",
            "                                                                 \n",
            " dropout_3 (Dropout)         (None, 64)                0         \n",
            "                                                                 \n",
            " dense_1 (Dense)             (None, 1)                 65        \n",
            "                                                                 \n",
            "=================================================================\n",
            "Total params: 124,692,161\n",
            "Trainable params: 124,692,161\n",
            "Non-trainable params: 0\n",
            "_________________________________________________________________\n",
            "None\n",
            "Model: \"sequential_2\"\n",
            "_________________________________________________________________\n",
            " Layer (type)                Output Shape              Param #   \n",
            "=================================================================\n",
            " keras_layer (KerasLayer)    (None, 128)               124642688 \n",
            "                                                                 \n",
            " reshape_2 (Reshape)         (None, 1, 128)            0         \n",
            "                                                                 \n",
            " lstm_1 (LSTM)               (None, 64)                49408     \n",
            "                                                                 \n",
            " dropout_4 (Dropout)         (None, 64)                0         \n",
            "                                                                 \n",
            " dense_2 (Dense)             (None, 1)                 65        \n",
            "                                                                 \n",
            "=================================================================\n",
            "Total params: 124,692,161\n",
            "Trainable params: 124,692,161\n",
            "Non-trainable params: 0\n",
            "_________________________________________________________________\n",
            "None\n"
          ]
        }
      ]
    },
    {
      "cell_type": "code",
      "metadata": {
        "colab": {
          "base_uri": "https://localhost:8080/"
        },
        "id": "zVlA0CWUN8Y9",
        "outputId": "64f5bee4-b6ab-48d9-cb3a-7de5e8e741a8"
      },
      "source": [
        "callback=keras.callbacks.EarlyStopping(monitor='val_loss',min_delta=0, patience=10, verbose=2, mode='auto', restore_best_weights=True)\n",
        "history = lstm_model.fit(x=train_x, y=train_y, batch_size=128, verbose=1, epochs=20, validation_split= 0.1,shuffle=True,callbacks=[callback])"
      ],
      "execution_count": 15,
      "outputs": [
        {
          "output_type": "stream",
          "name": "stdout",
          "text": [
            "Epoch 1/20\n",
            "231/231 [==============================] - 31s 123ms/step - loss: 0.2335 - accuracy: 0.9140 - val_loss: 0.2994 - val_accuracy: 0.8752\n",
            "Epoch 2/20\n",
            "231/231 [==============================] - 27s 119ms/step - loss: 0.1205 - accuracy: 0.9550 - val_loss: 0.3905 - val_accuracy: 0.8636\n",
            "Epoch 3/20\n",
            "231/231 [==============================] - 27s 119ms/step - loss: 0.0724 - accuracy: 0.9716 - val_loss: 0.4684 - val_accuracy: 0.8611\n",
            "Epoch 4/20\n",
            "231/231 [==============================] - 27s 118ms/step - loss: 0.0460 - accuracy: 0.9809 - val_loss: 0.5724 - val_accuracy: 0.8627\n",
            "Epoch 5/20\n",
            "231/231 [==============================] - 27s 119ms/step - loss: 0.0339 - accuracy: 0.9849 - val_loss: 0.7433 - val_accuracy: 0.8602\n",
            "Epoch 6/20\n",
            "231/231 [==============================] - 28s 119ms/step - loss: 0.0261 - accuracy: 0.9894 - val_loss: 0.8069 - val_accuracy: 0.8569\n",
            "Epoch 7/20\n",
            "231/231 [==============================] - 27s 119ms/step - loss: 0.0219 - accuracy: 0.9912 - val_loss: 0.8789 - val_accuracy: 0.8581\n",
            "Epoch 8/20\n",
            "231/231 [==============================] - 27s 119ms/step - loss: 0.0213 - accuracy: 0.9930 - val_loss: 0.8752 - val_accuracy: 0.8627\n",
            "Epoch 9/20\n",
            "231/231 [==============================] - 27s 118ms/step - loss: 0.0113 - accuracy: 0.9962 - val_loss: 0.9539 - val_accuracy: 0.8605\n",
            "Epoch 10/20\n",
            "231/231 [==============================] - 27s 119ms/step - loss: 0.0076 - accuracy: 0.9973 - val_loss: 1.0772 - val_accuracy: 0.8520\n",
            "Epoch 11/20\n",
            "231/231 [==============================] - ETA: 0s - loss: 0.0075 - accuracy: 0.9972Restoring model weights from the end of the best epoch: 1.\n",
            "231/231 [==============================] - 28s 119ms/step - loss: 0.0075 - accuracy: 0.9972 - val_loss: 1.1035 - val_accuracy: 0.8532\n",
            "Epoch 00011: early stopping\n"
          ]
        }
      ]
    },
    {
      "cell_type": "code",
      "metadata": {
        "colab": {
          "base_uri": "https://localhost:8080/",
          "height": 295
        },
        "id": "wSml6tPxN8gK",
        "outputId": "fd50f011-1a05-426a-97dc-50c97ca751b2"
      },
      "source": [
        "from sklearn.metrics import roc_curve\n",
        "y_pred=lstm_model.predict(test_x).ravel()\n",
        "fpr, tpr, thresholds = roc_curve(test_y, y_pred)\n",
        "from sklearn.metrics import auc\n",
        "auc_keras = auc(fpr, tpr)\n",
        "plt.figure(1)\n",
        "plt.plot([0, 1], [0, 1], 'k--')\n",
        "plt.plot(fpr, tpr, label='Keras (area = {:.3f})'.format(auc_keras))\n",
        "plt.xlabel('False positive rate')\n",
        "plt.ylabel('True positive rate')\n",
        "plt.title('ROC curve')\n",
        "plt.legend(loc='best')\n",
        "plt.show()"
      ],
      "execution_count": 17,
      "outputs": [
        {
          "output_type": "display_data",
          "data": {
            "image/png": "[encoded data removed]",
            "text/plain": [
              "<Figure size 432x288 with 1 Axes>"
            ]
          },
          "metadata": {
            "needs_background": "light"
          }
        }
      ]
    },
    {
      "cell_type": "code",
      "metadata": {
        "colab": {
          "base_uri": "https://localhost:8080/"
        },
        "id": "NAuRZVesN8jV",
        "outputId": "ca0f321c-e7f7-4b41-dfd8-55a004a92e0a"
      },
      "source": [
        "from sklearn.metrics import roc_curve\n",
        "import numpy as np\n",
        "from sklearn.metrics import classification_report\n",
        "fpr, tpr, thresholds = roc_curve(test_y, y_pred)\n",
        "y=tpr-fpr\n",
        "idx=np.argmax(y)#Youden_index\n",
        "best_threshold=thresholds[idx]\n",
        "print(\"The best threshold is\",best_threshold)\n",
        "print(classification_report(test_y, y_pred >best_threshold ,digits=4))"
      ],
      "execution_count": 18,
      "outputs": [
        {
          "output_type": "stream",
          "name": "stdout",
          "text": [
            "The best threshold is 0.48745725\n",
            "              precision    recall  f1-score   support\n",
            "\n",
            "           0     0.5597    0.5661    0.5629      4234\n",
            "           1     0.5320    0.5254    0.5287      3974\n",
            "\n",
            "    accuracy                         0.5464      8208\n",
            "   macro avg     0.5458    0.5458    0.5458      8208\n",
            "weighted avg     0.5463    0.5464    0.5463      8208\n",
            "\n"
          ]
        }
      ]
    },
    {
      "cell_type": "code",
      "metadata": {
        "id": "jXIYsT9hN8l-"
      },
      "source": [
        ""
      ],
      "execution_count": null,
      "outputs": []
    }
  ]
}