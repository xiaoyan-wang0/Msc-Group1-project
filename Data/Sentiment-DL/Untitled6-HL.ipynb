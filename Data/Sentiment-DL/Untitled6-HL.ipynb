{
 "cells": [
  {
   "cell_type": "code",
   "execution_count": null,
   "id": "aa3a1f9f",
   "metadata": {},
   "outputs": [],
   "source": []
  },
  {
   "cell_type": "code",
   "execution_count": 61,
   "id": "290fec67",
   "metadata": {},
   "outputs": [],
   "source": [
    "import pandas as pd # data processing, CSV file I/O (e.g. pd.read_csv)"
   ]
  },
  {
   "cell_type": "code",
   "execution_count": 62,
   "id": "a42ca4ae",
   "metadata": {},
   "outputs": [],
   "source": [
    "bw= pd.read_csv('en.csv')"
   ]
  },
  {
   "cell_type": "code",
   "execution_count": 63,
   "id": "62fcd9fe",
   "metadata": {},
   "outputs": [
    {
     "data": {
      "text/html": [
       "<div>\n",
       "<style scoped>\n",
       "    .dataframe tbody tr th:only-of-type {\n",
       "        vertical-align: middle;\n",
       "    }\n",
       "\n",
       "    .dataframe tbody tr th {\n",
       "        vertical-align: top;\n",
       "    }\n",
       "\n",
       "    .dataframe thead th {\n",
       "        text-align: right;\n",
       "    }\n",
       "</style>\n",
       "<table border=\"1\" class=\"dataframe\">\n",
       "  <thead>\n",
       "    <tr style=\"text-align: right;\">\n",
       "      <th></th>\n",
       "      <th>en_bad_words</th>\n",
       "    </tr>\n",
       "  </thead>\n",
       "  <tbody>\n",
       "    <tr>\n",
       "      <th>0</th>\n",
       "      <td>2g1c</td>\n",
       "    </tr>\n",
       "    <tr>\n",
       "      <th>1</th>\n",
       "      <td>2 girls 1 cup</td>\n",
       "    </tr>\n",
       "    <tr>\n",
       "      <th>2</th>\n",
       "      <td>acrotomophilia</td>\n",
       "    </tr>\n",
       "    <tr>\n",
       "      <th>3</th>\n",
       "      <td>alabama hot pocket</td>\n",
       "    </tr>\n",
       "    <tr>\n",
       "      <th>4</th>\n",
       "      <td>alaskan pipeline</td>\n",
       "    </tr>\n",
       "    <tr>\n",
       "      <th>...</th>\n",
       "      <td>...</td>\n",
       "    </tr>\n",
       "    <tr>\n",
       "      <th>382</th>\n",
       "      <td>yaoi</td>\n",
       "    </tr>\n",
       "    <tr>\n",
       "      <th>383</th>\n",
       "      <td>yellow showers</td>\n",
       "    </tr>\n",
       "    <tr>\n",
       "      <th>384</th>\n",
       "      <td>yiffy</td>\n",
       "    </tr>\n",
       "    <tr>\n",
       "      <th>385</th>\n",
       "      <td>zoophilia</td>\n",
       "    </tr>\n",
       "    <tr>\n",
       "      <th>386</th>\n",
       "      <td>__</td>\n",
       "    </tr>\n",
       "  </tbody>\n",
       "</table>\n",
       "<p>387 rows × 1 columns</p>\n",
       "</div>"
      ],
      "text/plain": [
       "           en_bad_words\n",
       "0                  2g1c\n",
       "1         2 girls 1 cup\n",
       "2        acrotomophilia\n",
       "3    alabama hot pocket\n",
       "4      alaskan pipeline\n",
       "..                  ...\n",
       "382                yaoi\n",
       "383      yellow showers\n",
       "384               yiffy\n",
       "385           zoophilia\n",
       "386                  __\n",
       "\n",
       "[387 rows x 1 columns]"
      ]
     },
     "execution_count": 63,
     "metadata": {},
     "output_type": "execute_result"
    }
   ],
   "source": [
    "bw"
   ]
  },
  {
   "cell_type": "code",
   "execution_count": 64,
   "id": "0200ed53",
   "metadata": {},
   "outputs": [],
   "source": [
    "test = bw[\"en_bad_words\"]"
   ]
  },
  {
   "cell_type": "code",
   "execution_count": 65,
   "id": "d172ad8c",
   "metadata": {},
   "outputs": [
    {
     "data": {
      "text/plain": [
       "0                    2g1c\n",
       "1           2 girls 1 cup\n",
       "2          acrotomophilia\n",
       "3      alabama hot pocket\n",
       "4        alaskan pipeline\n",
       "              ...        \n",
       "382                  yaoi\n",
       "383        yellow showers\n",
       "384                 yiffy\n",
       "385             zoophilia\n",
       "386                    __\n",
       "Name: en_bad_words, Length: 387, dtype: object"
      ]
     },
     "execution_count": 65,
     "metadata": {},
     "output_type": "execute_result"
    }
   ],
   "source": [
    "test"
   ]
  },
  {
   "cell_type": "code",
   "execution_count": 66,
   "id": "47f4726e",
   "metadata": {},
   "outputs": [],
   "source": [
    "import csv\n",
    "csv_file = r'en.csv'\n",
    "txt_file = r'en.txt'\n",
    "with open(txt_file, \"w\") as my_output_file:\n",
    "    with open(csv_file, \"r\") as my_input_file:\n",
    "        reader = csv.reader(my_input_file)\n",
    "        next(reader)  # skip the header\n",
    "        my_output_file.write(','.join(row[0] for row in reader))"
   ]
  },
  {
   "cell_type": "code",
   "execution_count": 67,
   "id": "e16b7b23",
   "metadata": {},
   "outputs": [],
   "source": [
    "bw2= pd.read_csv('en.txt')"
   ]
  },
  {
   "cell_type": "code",
   "execution_count": 68,
   "id": "7394b338",
   "metadata": {},
   "outputs": [
    {
     "data": {
      "text/html": [
       "<div>\n",
       "<style scoped>\n",
       "    .dataframe tbody tr th:only-of-type {\n",
       "        vertical-align: middle;\n",
       "    }\n",
       "\n",
       "    .dataframe tbody tr th {\n",
       "        vertical-align: top;\n",
       "    }\n",
       "\n",
       "    .dataframe thead th {\n",
       "        text-align: right;\n",
       "    }\n",
       "</style>\n",
       "<table border=\"1\" class=\"dataframe\">\n",
       "  <thead>\n",
       "    <tr style=\"text-align: right;\">\n",
       "      <th></th>\n",
       "      <th>2g1c</th>\n",
       "      <th>2 girls 1 cup</th>\n",
       "      <th>acrotomophilia</th>\n",
       "      <th>alabama hot pocket</th>\n",
       "      <th>alaskan pipeline</th>\n",
       "      <th>anal</th>\n",
       "      <th>anilingus</th>\n",
       "      <th>anus</th>\n",
       "      <th>apeshit</th>\n",
       "      <th>arsehole</th>\n",
       "      <th>...</th>\n",
       "      <th>white power</th>\n",
       "      <th>wrapping men</th>\n",
       "      <th>wrinkled starfish</th>\n",
       "      <th>xx</th>\n",
       "      <th>xxx</th>\n",
       "      <th>yaoi</th>\n",
       "      <th>yellow showers</th>\n",
       "      <th>yiffy</th>\n",
       "      <th>zoophilia</th>\n",
       "      <th>__</th>\n",
       "    </tr>\n",
       "  </thead>\n",
       "  <tbody>\n",
       "  </tbody>\n",
       "</table>\n",
       "<p>0 rows × 387 columns</p>\n",
       "</div>"
      ],
      "text/plain": [
       "Empty DataFrame\n",
       "Columns: [2g1c, 2 girls 1 cup, acrotomophilia, alabama hot pocket, alaskan pipeline, anal, anilingus, anus, apeshit, arsehole, ass, asshole, assmunch, auto erotic, autoerotic, babeland, baby batter, baby juice, ball gag, ball gravy, ball kicking, ball licking, ball sack, ball sucking, bangbros, bareback, barely legal, barenaked, bastard, bastardo, bastinado, bbw, bdsm, beaner, beaners, beaver cleaver, beaver lips, bestiality, big black, big breasts, big knockers, big tits, bimbos, birdlock, bitch, bitches, black cock, blonde action, blonde on blonde action, blowjob, blow job, blow your load, blue waffle, blumpkin, bollocks, bondage, boner, boob, boobs, booty call, brown showers, brunette action, bukkake, bulldyke, bullet vibe, bullshit, bung hole, bunghole, busty, butt, buttcheeks, butthole, camel toe, camgirl, camslut, camwhore, carpet muncher, carpetmuncher, chocolate rosebuds, circlejerk, cleveland steamer, clit, clitoris, clover clamps, clusterfuck, cock, cocks, coprolagnia, coprophilia, cornhole, coon, coons, creampie, cum, cumming, cunnilingus, cunt, dafuq, dank, darkie, ...]\n",
       "Index: []\n",
       "\n",
       "[0 rows x 387 columns]"
      ]
     },
     "execution_count": 68,
     "metadata": {},
     "output_type": "execute_result"
    }
   ],
   "source": [
    "bw2"
   ]
  },
  {
   "cell_type": "code",
   "execution_count": null,
   "id": "c01ac082",
   "metadata": {},
   "outputs": [],
   "source": []
  },
  {
   "cell_type": "code",
   "execution_count": null,
   "id": "0e5a627a",
   "metadata": {},
   "outputs": [],
   "source": [
    "\n"
   ]
  },
  {
   "cell_type": "code",
   "execution_count": 69,
   "id": "d982ca79",
   "metadata": {},
   "outputs": [
    {
     "name": "stdout",
     "output_type": "stream",
     "text": [
      "\u001b[41m\u001b[37mfuck\u001b[0m you .\n",
      "xiao yan wang \u001b[41m\u001b[37mfucking\u001b[0m nb\n"
     ]
    }
   ],
   "source": [
    "from termcolor import colored\n",
    "text='fuck you .'\n",
    "text2 = 'xiao yan wang fucking NB'\n",
    "l1=bw2\n",
    "result = \" \".join(colored(t,'white','on_red') if t in l1 else t for t in text.lower().split())\n",
    "result2 = \" \".join(colored(t,'white','on_red') if t in l1 else t for t in text2.lower().split())\n",
    "print(result)\n",
    "print(result2)"
   ]
  },
  {
   "cell_type": "code",
   "execution_count": null,
   "id": "97e64a7f",
   "metadata": {},
   "outputs": [],
   "source": []
  }
 ],
 "metadata": {
  "kernelspec": {
   "display_name": "Python 3",
   "language": "python",
   "name": "python3"
  },
  "language_info": {
   "codemirror_mode": {
    "name": "ipython",
    "version": 3
   },
   "file_extension": ".py",
   "mimetype": "text/x-python",
   "name": "python",
   "nbconvert_exporter": "python",
   "pygments_lexer": "ipython3",
   "version": "3.6.13"
  }
 },
 "nbformat": 4,
 "nbformat_minor": 5
}
