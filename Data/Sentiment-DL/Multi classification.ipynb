{
 "cells": [
  {
   "cell_type": "code",
   "execution_count": 1,
   "id": "0d946e63",
   "metadata": {},
   "outputs": [
    {
     "name": "stderr",
     "output_type": "stream",
     "text": [
      "[nltk_data] Downloading package stopwords to\n",
      "[nltk_data]     C:\\Users\\Daniel\\AppData\\Roaming\\nltk_data...\n",
      "[nltk_data]   Package stopwords is already up-to-date!\n"
     ]
    }
   ],
   "source": [
    "import seaborn as sns\n",
    "import matplotlib.pyplot as plt\n",
    "import pandas as pd\n",
    "import numpy as np\n",
    "import numpy as np # linear algebra\n",
    "import pandas as pd # data processing, CSV file I/O (e.g. pd.read_csv)\n",
    "import tensorflow as tf\n",
    "from tensorflow.keras.preprocessing import text,sequence\n",
    "from tensorflow.keras.models import Sequential\n",
    "from tensorflow.keras.layers import Dense,Dropout,Activation\n",
    "from tensorflow.keras.layers import Embedding\n",
    "from tensorflow.keras.layers import Conv1D,GlobalMaxPooling1D,MaxPooling1D\n",
    "from sklearn.model_selection import train_test_split\n",
    "import tensorflow_hub as hub\n",
    "import tensorflow_text as text\n",
    "import re    #for regex\n",
    "import string\n",
    "import re    #for regex\n",
    "import nltk\n",
    "import nltk\n",
    "nltk.download('stopwords')\n",
    "from wordcloud import WordCloud\n",
    "from nltk.corpus import stopwords"
   ]
  },
  {
   "cell_type": "code",
   "execution_count": 2,
   "id": "9907ea31",
   "metadata": {},
   "outputs": [],
   "source": [
    "train = pd.read_csv('IMDB Dataset.csv')"
   ]
  },
  {
   "cell_type": "code",
   "execution_count": 3,
   "id": "65d5166f",
   "metadata": {},
   "outputs": [
    {
     "data": {
      "text/html": [
       "<div>\n",
       "<style scoped>\n",
       "    .dataframe tbody tr th:only-of-type {\n",
       "        vertical-align: middle;\n",
       "    }\n",
       "\n",
       "    .dataframe tbody tr th {\n",
       "        vertical-align: top;\n",
       "    }\n",
       "\n",
       "    .dataframe thead th {\n",
       "        text-align: right;\n",
       "    }\n",
       "</style>\n",
       "<table border=\"1\" class=\"dataframe\">\n",
       "  <thead>\n",
       "    <tr style=\"text-align: right;\">\n",
       "      <th></th>\n",
       "      <th>review</th>\n",
       "      <th>sentiment</th>\n",
       "    </tr>\n",
       "  </thead>\n",
       "  <tbody>\n",
       "    <tr>\n",
       "      <th>0</th>\n",
       "      <td>One of the other reviewers has mentioned that ...</td>\n",
       "      <td>positive</td>\n",
       "    </tr>\n",
       "    <tr>\n",
       "      <th>1</th>\n",
       "      <td>A wonderful little production. &lt;br /&gt;&lt;br /&gt;The...</td>\n",
       "      <td>positive</td>\n",
       "    </tr>\n",
       "    <tr>\n",
       "      <th>2</th>\n",
       "      <td>I thought this was a wonderful way to spend ti...</td>\n",
       "      <td>positive</td>\n",
       "    </tr>\n",
       "    <tr>\n",
       "      <th>3</th>\n",
       "      <td>Basically there's a family where a little boy ...</td>\n",
       "      <td>negative</td>\n",
       "    </tr>\n",
       "    <tr>\n",
       "      <th>4</th>\n",
       "      <td>Petter Mattei's \"Love in the Time of Money\" is...</td>\n",
       "      <td>positive</td>\n",
       "    </tr>\n",
       "    <tr>\n",
       "      <th>...</th>\n",
       "      <td>...</td>\n",
       "      <td>...</td>\n",
       "    </tr>\n",
       "    <tr>\n",
       "      <th>49995</th>\n",
       "      <td>I thought this movie did a down right good job...</td>\n",
       "      <td>positive</td>\n",
       "    </tr>\n",
       "    <tr>\n",
       "      <th>49996</th>\n",
       "      <td>Bad plot, bad dialogue, bad acting, idiotic di...</td>\n",
       "      <td>negative</td>\n",
       "    </tr>\n",
       "    <tr>\n",
       "      <th>49997</th>\n",
       "      <td>I am a Catholic taught in parochial elementary...</td>\n",
       "      <td>negative</td>\n",
       "    </tr>\n",
       "    <tr>\n",
       "      <th>49998</th>\n",
       "      <td>I'm going to have to disagree with the previou...</td>\n",
       "      <td>negative</td>\n",
       "    </tr>\n",
       "    <tr>\n",
       "      <th>49999</th>\n",
       "      <td>No one expects the Star Trek movies to be high...</td>\n",
       "      <td>negative</td>\n",
       "    </tr>\n",
       "  </tbody>\n",
       "</table>\n",
       "<p>50000 rows × 2 columns</p>\n",
       "</div>"
      ],
      "text/plain": [
       "                                                  review sentiment\n",
       "0      One of the other reviewers has mentioned that ...  positive\n",
       "1      A wonderful little production. <br /><br />The...  positive\n",
       "2      I thought this was a wonderful way to spend ti...  positive\n",
       "3      Basically there's a family where a little boy ...  negative\n",
       "4      Petter Mattei's \"Love in the Time of Money\" is...  positive\n",
       "...                                                  ...       ...\n",
       "49995  I thought this movie did a down right good job...  positive\n",
       "49996  Bad plot, bad dialogue, bad acting, idiotic di...  negative\n",
       "49997  I am a Catholic taught in parochial elementary...  negative\n",
       "49998  I'm going to have to disagree with the previou...  negative\n",
       "49999  No one expects the Star Trek movies to be high...  negative\n",
       "\n",
       "[50000 rows x 2 columns]"
      ]
     },
     "execution_count": 3,
     "metadata": {},
     "output_type": "execute_result"
    }
   ],
   "source": [
    "train"
   ]
  },
  {
   "cell_type": "code",
   "execution_count": null,
   "id": "e449791d",
   "metadata": {},
   "outputs": [],
   "source": []
  },
  {
   "cell_type": "code",
   "execution_count": 4,
   "id": "7328eea3",
   "metadata": {},
   "outputs": [
    {
     "data": {
      "image/png": "[encoded data removed]",
      "text/plain": [
       "<Figure size 432x288 with 1 Axes>"
      ]
     },
     "metadata": {
      "needs_background": "light"
     },
     "output_type": "display_data"
    }
   ],
   "source": [
    "C = ['sentiment']\n",
    "\n",
    "for i in C:\n",
    "    ch = pd.crosstab(train[i], train['sentiment'])  \n",
    "    ch.plot.bar()   \n",
    "    plt.show() "
   ]
  },
  {
   "cell_type": "code",
   "execution_count": 5,
   "id": "8d0883b2",
   "metadata": {},
   "outputs": [
    {
     "data": {
      "text/plain": [
       "review       object\n",
       "sentiment    object\n",
       "dtype: object"
      ]
     },
     "execution_count": 5,
     "metadata": {},
     "output_type": "execute_result"
    }
   ],
   "source": [
    "train.dtypes"
   ]
  },
  {
   "cell_type": "code",
   "execution_count": 6,
   "id": "65b53cf2",
   "metadata": {},
   "outputs": [],
   "source": [
    "labeling = {\n",
    "    'positive':1, \n",
    "    'negative':0\n",
    "}\n",
    "\n",
    "train['sentiment'] = train['sentiment'].apply(lambda x : labeling[x])"
   ]
  },
  {
   "cell_type": "code",
   "execution_count": 7,
   "id": "d4b6f98c",
   "metadata": {},
   "outputs": [
    {
     "data": {
      "text/plain": [
       "review       object\n",
       "sentiment     int64\n",
       "dtype: object"
      ]
     },
     "execution_count": 7,
     "metadata": {},
     "output_type": "execute_result"
    }
   ],
   "source": [
    "train.dtypes"
   ]
  },
  {
   "cell_type": "code",
   "execution_count": 8,
   "id": "51f2ac4b",
   "metadata": {},
   "outputs": [],
   "source": [
    "clean = {\n",
    "\"aren't\" : \"are not\",\n",
    "\"can't\" : \"can not\",\n",
    "\"couldn't\" : \"could not\",\n",
    "\"didn't\" : \"did not\",\n",
    "\"doesn't\" : \"does not\",\n",
    "\"don't\" : \"do not\",\n",
    "\"hadn't\" : \"had not\",\n",
    "\"hasn't\" : \"has not\",\n",
    "\"haven't\" : \"have not\",\n",
    "\"he'd\" : \"he would\",\n",
    "\"he'll\" : \"he will\",\n",
    "\"he's\" : \"he is\",\n",
    "\"i'd\" : \"I would\",\n",
    "\"i'd\" : \"I had\",\n",
    "\"i'll\" : \"I will\",\n",
    "\"i'm\" : \"I am\",\n",
    "\"isn't\" : \"is not\",\n",
    "\"it's\" : \"it is\",\n",
    "\"it'll\":\"it will\",\n",
    "\"i've\" : \"I have\",\n",
    "\"let's\" : \"let us\",\n",
    "\"mightn't\" : \"might not\",\n",
    "\"mustn't\" : \"must not\",\n",
    "\"shan't\" : \"shall not\",\n",
    "\"she'd\" : \"she would\",\n",
    "\"she'll\" : \"she will\",\n",
    "\"she's\" : \"she is\",\n",
    "\"shouldn't\" : \"should not\",\n",
    "\"that's\" : \"that is\",\n",
    "\"there's\" : \"there is\",\n",
    "\"they'd\" : \"they would\",\n",
    "\"they'll\" : \"they will\",\n",
    "\"they're\" : \"they are\",\n",
    "\"they've\" : \"they have\",\n",
    "\"we'd\" : \"we would\",\n",
    "\"we're\" : \"we are\",\n",
    "\"weren't\" : \"were not\",\n",
    "\"we've\" : \"we have\",\n",
    "\"what'll\" : \"what will\",\n",
    "\"what're\" : \"what are\",\n",
    "\"what's\" : \"what is\",\n",
    "\"what've\" : \"what have\",\n",
    "\"where's\" : \"where is\",\n",
    "\"who'd\" : \"who would\",\n",
    "\"who'll\" : \"who will\",\n",
    "\"who're\" : \"who are\",\n",
    "\"who's\" : \"who is\",\n",
    "\"who've\" : \"who have\",\n",
    "\"won't\" : \"will not\",\n",
    "\"wouldn't\" : \"would not\",\n",
    "\"you'd\" : \"you would\",\n",
    "\"you'll\" : \"you will\",\n",
    "\"you're\" : \"you are\",\n",
    "\"you've\" : \"you have\",\n",
    "\"'re\": \" are\",\n",
    "\"wasn't\": \"was not\",\n",
    "\"we'll\":\" will\",\n",
    "\"didn't\": \"did not\",\n",
    "\"tryin'\":\"trying\"\n",
    "}"
   ]
  },
  {
   "cell_type": "code",
   "execution_count": 9,
   "id": "6c6a5f47",
   "metadata": {},
   "outputs": [],
   "source": [
    "def clean_text(text):\n",
    "    \n",
    "    text = text.lower()\n",
    "    text = re.sub(r'http[s]?://(?:[a-z]|[0-9]|[$-_@.&+]|[!*\\(\\),]|(?:%[0-9a-f][0-9a-f]))+', '', text) # clean url\n",
    "    text = re.sub(r'#(\\w+)', '', text)   # clean hashes\n",
    "    text = re.sub(r'@(\\w+)', '', text)   # clean @\n",
    "    text = re.sub(r'<[^>]+>', '', text)  # clean tags\n",
    "    text = re.sub(r'\\d+', '', text)      # clean digits\n",
    "    text = [clean[word] if word in clean else word for word in text.split()] \n",
    "    \n",
    "   \n",
    "    \n",
    "    return text"
   ]
  },
  {
   "cell_type": "code",
   "execution_count": 10,
   "id": "70f01fdd",
   "metadata": {},
   "outputs": [],
   "source": [
    "train['review_clean'] = train['review'].apply(lambda x: clean_text(x))"
   ]
  },
  {
   "cell_type": "code",
   "execution_count": 11,
   "id": "1a978db0",
   "metadata": {},
   "outputs": [],
   "source": [
    "x=train[\"review_clean\"]\n",
    "y=train[\"sentiment\"]"
   ]
  },
  {
   "cell_type": "code",
   "execution_count": null,
   "id": "c00d8aff",
   "metadata": {},
   "outputs": [],
   "source": []
  },
  {
   "cell_type": "code",
   "execution_count": 12,
   "id": "6c587662",
   "metadata": {},
   "outputs": [],
   "source": [
    "train_x, test_x, train_y, test_y = train_test_split(x,y, test_size=0.2, random_state=1,shuffle=True)\n"
   ]
  },
  {
   "cell_type": "code",
   "execution_count": 13,
   "id": "4aee0c0e",
   "metadata": {},
   "outputs": [],
   "source": [
    "X_train, X_val, y_train, y_val  = train_test_split(train_x, train_y, test_size=0.16, random_state=1) "
   ]
  },
  {
   "cell_type": "code",
   "execution_count": 14,
   "id": "342d215d",
   "metadata": {},
   "outputs": [
    {
     "name": "stdout",
     "output_type": "stream",
     "text": [
      "Number of reviews in the training set : 33600\n",
      "Number of reviews in the validation set : 6400\n",
      "Number of reviews in the testing set : 10000\n"
     ]
    }
   ],
   "source": [
    "print('Number of reviews in the training set : {}'.format(len(X_train)))\n",
    "print('Number of reviews in the validation set : {}'.format(len(X_val)))\n",
    "print('Number of reviews in the testing set : {}'.format(len(test_x)))"
   ]
  },
  {
   "cell_type": "code",
   "execution_count": 15,
   "id": "55791d20",
   "metadata": {},
   "outputs": [],
   "source": [
    "max_feature = 10000\n",
    "tokenizer = tf.keras.preprocessing.text.Tokenizer(max_feature,\n",
    "                                                  lower= True,\n",
    "                                                  filters= '!\"#$%&()*+,-./:;<=>?@[\\\\]^_`{|}~\\t\\n',\n",
    "                                                  split = \" \")\n",
    "\n",
    "tokenizer.fit_on_texts(train_x)"
   ]
  },
  {
   "cell_type": "code",
   "execution_count": 16,
   "id": "637bc816",
   "metadata": {},
   "outputs": [],
   "source": [
    "sequences = tokenizer.texts_to_sequences(train_x)"
   ]
  },
  {
   "cell_type": "code",
   "execution_count": 17,
   "id": "9c255211",
   "metadata": {},
   "outputs": [],
   "source": [
    "pad_sequences = tf.keras.preprocessing.sequence.pad_sequences(sequences,\n",
    "                                                             maxlen = 300)"
   ]
  },
  {
   "cell_type": "code",
   "execution_count": 18,
   "id": "8bb6b19c",
   "metadata": {},
   "outputs": [],
   "source": [
    "test_x_tokenized=tokenizer.texts_to_sequences(test_x)\n",
    "x_testing=tf.keras.preprocessing.sequence.pad_sequences(test_x_tokenized,maxlen=300)"
   ]
  },
  {
   "cell_type": "code",
   "execution_count": 19,
   "id": "e83a92f5",
   "metadata": {},
   "outputs": [],
   "source": [
    "from keras import backend as K\n",
    "\n",
    "\n",
    "def recall_m(y_true, y_pred):\n",
    "    true_positives = K.sum(K.round(K.clip(y_true * y_pred, 0, 1)))\n",
    "    possible_positives = K.sum(K.round(K.clip(y_true, 0, 1)))\n",
    "    recall = true_positives / (possible_positives + K.epsilon())\n",
    "    return recall\n",
    "\n",
    "def precision_m(y_true, y_pred):\n",
    "    true_positives = K.sum(K.round(K.clip(y_true * y_pred, 0, 1)))\n",
    "    predicted_positives = K.sum(K.round(K.clip(y_pred, 0, 1)))\n",
    "    precision = true_positives / (predicted_positives + K.epsilon())\n",
    "    return precision\n",
    "\n",
    "def f1_m(y_true, y_pred):\n",
    "    precision = precision_m(y_true, y_pred)\n",
    "    recall = recall_m(y_true, y_pred)\n",
    "    return 2*((precision*recall)/(precision+recall+K.epsilon()))"
   ]
  },
  {
   "cell_type": "code",
   "execution_count": 132,
   "id": "8181a823",
   "metadata": {},
   "outputs": [],
   "source": [
    "from tensorflow.keras.layers import Bidirectional\n",
    "from tensorflow.keras.layers import LSTM\n",
    "model5 = tf.keras.Sequential()\n",
    "model5.add(Embedding(7000,256,input_length=300))\n",
    "model5.add(Conv1D(256,10,activation='relu'))\n",
    "model5.add(Bidirectional(LSTM(128,return_sequences=True)))\n",
    "model5.add(LSTM(64))\n",
    "model5.add(Dropout(0.4))\n",
    "model5.add(Dense(1,activation='sigmoid',name='classifier'))"
   ]
  },
  {
   "cell_type": "code",
   "execution_count": 133,
   "id": "e16af633",
   "metadata": {},
   "outputs": [
    {
     "name": "stdout",
     "output_type": "stream",
     "text": [
      "Model: \"sequential_4\"\n",
      "_________________________________________________________________\n",
      "Layer (type)                 Output Shape              Param #   \n",
      "=================================================================\n",
      "embedding_4 (Embedding)      (None, 300, 256)          1792000   \n",
      "_________________________________________________________________\n",
      "conv1d_4 (Conv1D)            (None, 291, 256)          655616    \n",
      "_________________________________________________________________\n",
      "bidirectional_4 (Bidirection (None, 291, 256)          394240    \n",
      "_________________________________________________________________\n",
      "lstm_9 (LSTM)                (None, 64)                82176     \n",
      "_________________________________________________________________\n",
      "dropout_4 (Dropout)          (None, 64)                0         \n",
      "_________________________________________________________________\n",
      "classifier (Dense)           (None, 1)                 65        \n",
      "=================================================================\n",
      "Total params: 2,924,097\n",
      "Trainable params: 2,924,097\n",
      "Non-trainable params: 0\n",
      "_________________________________________________________________\n"
     ]
    }
   ],
   "source": [
    "model5.summary()"
   ]
  },
  {
   "cell_type": "code",
   "execution_count": 134,
   "id": "f2ecab04",
   "metadata": {},
   "outputs": [],
   "source": [
    "model5.compile(loss='binary_crossentropy',\n",
    "              optimizer='adam',\n",
    "              metrics=['acc',f1_m,precision_m, recall_m]\n",
    "             )"
   ]
  },
  {
   "cell_type": "code",
   "execution_count": 135,
   "id": "ee5c125f",
   "metadata": {},
   "outputs": [
    {
     "name": "stdout",
     "output_type": "stream",
     "text": [
      "Epoch 1/10\n",
      "282/282 [==============================] - 23s 66ms/step - loss: 0.4754 - acc: 0.7745 - f1_m: 0.7584 - precision_m: 0.7784 - recall_m: 0.7619 - val_loss: 0.3807 - val_acc: 0.8342 - val_f1_m: 0.8403 - val_precision_m: 0.8044 - val_recall_m: 0.8816\n",
      "Epoch 2/10\n",
      "282/282 [==============================] - 18s 65ms/step - loss: 0.3179 - acc: 0.8711 - f1_m: 0.8697 - precision_m: 0.8779 - recall_m: 0.8684 - val_loss: 0.3160 - val_acc: 0.8660 - val_f1_m: 0.8567 - val_precision_m: 0.9158 - val_recall_m: 0.8065\n",
      "Epoch 3/10\n",
      "282/282 [==============================] - 19s 66ms/step - loss: 0.2348 - acc: 0.9093 - f1_m: 0.9092 - precision_m: 0.9104 - recall_m: 0.9105 - val_loss: 0.2988 - val_acc: 0.8770 - val_f1_m: 0.8771 - val_precision_m: 0.8829 - val_recall_m: 0.8727\n",
      "Epoch 4/10\n",
      "282/282 [==============================] - 19s 66ms/step - loss: 0.1684 - acc: 0.9372 - f1_m: 0.9370 - precision_m: 0.9387 - recall_m: 0.9370 - val_loss: 0.3265 - val_acc: 0.8773 - val_f1_m: 0.8749 - val_precision_m: 0.8870 - val_recall_m: 0.8647\n",
      "Epoch 5/10\n",
      "282/282 [==============================] - 19s 67ms/step - loss: 0.1069 - acc: 0.9629 - f1_m: 0.9626 - precision_m: 0.9629 - recall_m: 0.9634 - val_loss: 0.3776 - val_acc: 0.8622 - val_f1_m: 0.8659 - val_precision_m: 0.8362 - val_recall_m: 0.8993\n",
      "Epoch 6/10\n",
      "282/282 [==============================] - 19s 67ms/step - loss: 0.0657 - acc: 0.9781 - f1_m: 0.9780 - precision_m: 0.9789 - recall_m: 0.9778 - val_loss: 0.4370 - val_acc: 0.8715 - val_f1_m: 0.8669 - val_precision_m: 0.8895 - val_recall_m: 0.8473\n",
      "Epoch 7/10\n",
      "282/282 [==============================] - 19s 67ms/step - loss: 0.0354 - acc: 0.9887 - f1_m: 0.9885 - precision_m: 0.9885 - recall_m: 0.9888 - val_loss: 0.4758 - val_acc: 0.8805 - val_f1_m: 0.8783 - val_precision_m: 0.8890 - val_recall_m: 0.8701\n",
      "Epoch 8/10\n",
      "282/282 [==============================] - 19s 67ms/step - loss: 0.0325 - acc: 0.9892 - f1_m: 0.9892 - precision_m: 0.9889 - recall_m: 0.9898 - val_loss: 0.6168 - val_acc: 0.8625 - val_f1_m: 0.8633 - val_precision_m: 0.8506 - val_recall_m: 0.8791\n",
      "Epoch 9/10\n",
      "282/282 [==============================] - 19s 67ms/step - loss: 0.0202 - acc: 0.9936 - f1_m: 0.9936 - precision_m: 0.9931 - recall_m: 0.9941 - val_loss: 0.6119 - val_acc: 0.8547 - val_f1_m: 0.8504 - val_precision_m: 0.8651 - val_recall_m: 0.8386\n",
      "Epoch 10/10\n",
      "282/282 [==============================] - 19s 68ms/step - loss: 0.0213 - acc: 0.9929 - f1_m: 0.9929 - precision_m: 0.9931 - recall_m: 0.9930 - val_loss: 0.6231 - val_acc: 0.8625 - val_f1_m: 0.8597 - val_precision_m: 0.8669 - val_recall_m: 0.8546\n"
     ]
    }
   ],
   "source": [
    "history = model5.fit(x=pad_sequences, y=train_y, batch_size=128, verbose=1, epochs=10,  validation_split= 0.1/1.0,shuffle=True)"
   ]
  },
  {
   "cell_type": "code",
   "execution_count": 137,
   "id": "731115c2",
   "metadata": {},
   "outputs": [],
   "source": [
    "loss, accuracy, f1_score, precision, recall = model5.evaluate(x_testing, test_y, verbose=0)"
   ]
  },
  {
   "cell_type": "code",
   "execution_count": 138,
   "id": "e8f0f836",
   "metadata": {},
   "outputs": [
    {
     "name": "stdout",
     "output_type": "stream",
     "text": [
      "Loss: 0.6669936776161194\n",
      "Accuracy: 0.8521000146865845\n",
      "f1: 0.8448050618171692\n",
      "precision: 0.85943603515625\n",
      "recall: 0.8392179012298584\n"
     ]
    }
   ],
   "source": [
    "print(f'Loss: {loss}')\n",
    "print(f'Accuracy: {accuracy}')\n",
    "print(f'f1: {f1_score}')\n",
    "print(f'precision: {precision}')\n",
    "print(f'recall: {recall}')"
   ]
  },
  {
   "cell_type": "code",
   "execution_count": 139,
   "id": "f4a06593",
   "metadata": {},
   "outputs": [
    {
     "data": {
      "image/png": "[encoded data removed]",
      "text/plain": [
       "<Figure size 432x288 with 1 Axes>"
      ]
     },
     "metadata": {
      "needs_background": "light"
     },
     "output_type": "display_data"
    }
   ],
   "source": [
    "from sklearn.metrics import roc_curve\n",
    "y_pred_keras =model5.predict(x_testing).ravel()\n",
    "fpr_keras, tpr_keras, thresholds_keras = roc_curve(test_y, y_pred_keras)\n",
    "from sklearn.metrics import auc\n",
    "auc_keras = auc(fpr_keras, tpr_keras)\n",
    "plt.figure(1)\n",
    "plt.plot([0, 1], [0, 1], 'k--')\n",
    "plt.plot(fpr_keras, tpr_keras, label='Keras (area = {:.3f})'.format(auc_keras))\n",
    "plt.xlabel('False positive rate')\n",
    "plt.ylabel('True positive rate')\n",
    "plt.title('ROC curve')\n",
    "plt.legend(loc='best')\n",
    "plt.show()"
   ]
  },
  {
   "cell_type": "code",
   "execution_count": 141,
   "id": "83cf2e95",
   "metadata": {},
   "outputs": [],
   "source": [
    "from keras.layers.recurrent import LSTM, GRU,SimpleRNN"
   ]
  },
  {
   "cell_type": "code",
   "execution_count": 146,
   "id": "ef8903a7",
   "metadata": {},
   "outputs": [],
   "source": [
    "model6 = tf.keras.Sequential()\n",
    "model6.add(Embedding(7000,128,input_length=300))\n",
    "model6.add(SimpleRNN(64))\n",
    "model6.add(Dense(1, activation='sigmoid'))"
   ]
  },
  {
   "cell_type": "code",
   "execution_count": 147,
   "id": "9849f508",
   "metadata": {},
   "outputs": [
    {
     "name": "stdout",
     "output_type": "stream",
     "text": [
      "Model: \"sequential_9\"\n",
      "_________________________________________________________________\n",
      "Layer (type)                 Output Shape              Param #   \n",
      "=================================================================\n",
      "embedding_5 (Embedding)      (None, 300, 128)          896000    \n",
      "_________________________________________________________________\n",
      "simple_rnn_3 (SimpleRNN)     (None, 64)                12352     \n",
      "_________________________________________________________________\n",
      "dense_3 (Dense)              (None, 1)                 65        \n",
      "=================================================================\n",
      "Total params: 908,417\n",
      "Trainable params: 908,417\n",
      "Non-trainable params: 0\n",
      "_________________________________________________________________\n"
     ]
    }
   ],
   "source": [
    "model6.summary()"
   ]
  },
  {
   "cell_type": "code",
   "execution_count": 148,
   "id": "807804e7",
   "metadata": {},
   "outputs": [],
   "source": [
    "model6.compile(loss='binary_crossentropy',\n",
    "              optimizer='adam',\n",
    "              metrics=['acc',f1_m,precision_m, recall_m]\n",
    "             )"
   ]
  },
  {
   "cell_type": "code",
   "execution_count": 150,
   "id": "c537715d",
   "metadata": {},
   "outputs": [
    {
     "name": "stdout",
     "output_type": "stream",
     "text": [
      "Epoch 1/5\n",
      "282/282 [==============================] - 117s 413ms/step - loss: 0.6018 - acc: 0.6778 - f1_m: 0.6631 - precision_m: 0.7002 - recall_m: 0.6703 - val_loss: 0.5408 - val_acc: 0.7308 - val_f1_m: 0.7614 - val_precision_m: 0.6795 - val_recall_m: 0.8695\n",
      "Epoch 2/5\n",
      "282/282 [==============================] - 115s 408ms/step - loss: 0.3583 - acc: 0.8475 - f1_m: 0.8464 - precision_m: 0.8521 - recall_m: 0.8469 - val_loss: 0.4008 - val_acc: 0.8325 - val_f1_m: 0.8250 - val_precision_m: 0.8620 - val_recall_m: 0.7927\n",
      "Epoch 3/5\n",
      "282/282 [==============================] - 118s 419ms/step - loss: 0.2649 - acc: 0.8935 - f1_m: 0.8965 - precision_m: 0.8872 - recall_m: 0.9105 - val_loss: 0.4468 - val_acc: 0.8205 - val_f1_m: 0.8137 - val_precision_m: 0.8448 - val_recall_m: 0.7875\n",
      "Epoch 4/5\n",
      "282/282 [==============================] - 116s 411ms/step - loss: 0.1146 - acc: 0.9618 - f1_m: 0.9618 - precision_m: 0.9640 - recall_m: 0.9604 - val_loss: 0.5558 - val_acc: 0.7958 - val_f1_m: 0.7889 - val_precision_m: 0.8132 - val_recall_m: 0.7691\n",
      "Epoch 5/5\n",
      "282/282 [==============================] - 114s 406ms/step - loss: 0.0613 - acc: 0.9808 - f1_m: 0.9812 - precision_m: 0.9776 - recall_m: 0.9854 - val_loss: 0.6213 - val_acc: 0.8015 - val_f1_m: 0.8016 - val_precision_m: 0.7936 - val_recall_m: 0.8120\n"
     ]
    }
   ],
   "source": [
    "history = model6.fit(x=pad_sequences, y=train_y, batch_size=128, verbose=1, epochs=5,  validation_split= 0.1/1.0,shuffle=True)"
   ]
  },
  {
   "cell_type": "code",
   "execution_count": 153,
   "id": "0c02e35a",
   "metadata": {},
   "outputs": [],
   "source": [
    "loss, accuracy, f1_score, precision, recall = model6.evaluate(x_testing, test_y, verbose=0)"
   ]
  },
  {
   "cell_type": "code",
   "execution_count": 154,
   "id": "cd108df0",
   "metadata": {},
   "outputs": [
    {
     "name": "stdout",
     "output_type": "stream",
     "text": [
      "Loss: 0.6332632899284363\n",
      "Accuracy: 0.7985000014305115\n",
      "f1: 0.7949819564819336\n",
      "precision: 0.7871183156967163\n",
      "recall: 0.8135754466056824\n"
     ]
    }
   ],
   "source": [
    "print(f'Loss: {loss}')\n",
    "print(f'Accuracy: {accuracy}')\n",
    "print(f'f1: {f1_score}')\n",
    "print(f'precision: {precision}')\n",
    "print(f'recall: {recall}')"
   ]
  },
  {
   "cell_type": "code",
   "execution_count": 155,
   "id": "2b95d64f",
   "metadata": {},
   "outputs": [
    {
     "data": {
      "image/png": "[encoded data removed]",
      "text/plain": [
       "<Figure size 432x288 with 1 Axes>"
      ]
     },
     "metadata": {
      "needs_background": "light"
     },
     "output_type": "display_data"
    }
   ],
   "source": [
    "from sklearn.metrics import roc_curve\n",
    "y_pred_keras =model6.predict(x_testing).ravel()\n",
    "fpr_keras, tpr_keras, thresholds_keras = roc_curve(test_y, y_pred_keras)\n",
    "from sklearn.metrics import auc\n",
    "auc_keras = auc(fpr_keras, tpr_keras)\n",
    "plt.figure(1)\n",
    "plt.plot([0, 1], [0, 1], 'k--')\n",
    "plt.plot(fpr_keras, tpr_keras, label='Keras (area = {:.3f})'.format(auc_keras))\n",
    "plt.xlabel('False positive rate')\n",
    "plt.ylabel('True positive rate')\n",
    "plt.title('ROC curve')\n",
    "plt.legend(loc='best')\n",
    "plt.show()"
   ]
  },
  {
   "cell_type": "code",
   "execution_count": 22,
   "id": "bad00117",
   "metadata": {},
   "outputs": [],
   "source": [
    "from keras.layers.recurrent import LSTM, GRU,SimpleRNN"
   ]
  },
  {
   "cell_type": "code",
   "execution_count": 23,
   "id": "d4ffe7b1",
   "metadata": {},
   "outputs": [],
   "source": [
    "from keras.layers import SpatialDropout1D"
   ]
  },
  {
   "cell_type": "code",
   "execution_count": 24,
   "id": "b10113c2",
   "metadata": {},
   "outputs": [
    {
     "name": "stdout",
     "output_type": "stream",
     "text": [
      "Model: \"sequential_1\"\n",
      "_________________________________________________________________\n",
      "Layer (type)                 Output Shape              Param #   \n",
      "=================================================================\n",
      "embedding_1 (Embedding)      (None, 300, 64)           192000    \n",
      "_________________________________________________________________\n",
      "spatial_dropout1d_1 (Spatial (None, 300, 64)           0         \n",
      "_________________________________________________________________\n",
      "gru (GRU)                    (None, 300)               328500    \n",
      "_________________________________________________________________\n",
      "dense (Dense)                (None, 1)                 301       \n",
      "=================================================================\n",
      "Total params: 520,801\n",
      "Trainable params: 520,801\n",
      "Non-trainable params: 0\n",
      "_________________________________________________________________\n"
     ]
    }
   ],
   "source": [
    "model7 = tf.keras.Sequential()\n",
    "model7.add(Embedding(3000,64,input_length=300))\n",
    "model7.add(SpatialDropout1D(0.2))\n",
    "model7.add(GRU(300))\n",
    "model7.add(Dense(1, activation='sigmoid'))\n",
    "\n",
    "model7.summary()"
   ]
  },
  {
   "cell_type": "code",
   "execution_count": 25,
   "id": "fd7c7f1d",
   "metadata": {},
   "outputs": [],
   "source": [
    "model7.compile(loss='binary_crossentropy',\n",
    "              optimizer='adam',\n",
    "              metrics=['acc',f1_m,precision_m, recall_m]\n",
    "             )"
   ]
  },
  {
   "cell_type": "code",
   "execution_count": 26,
   "id": "cecb5f5e",
   "metadata": {},
   "outputs": [
    {
     "name": "stdout",
     "output_type": "stream",
     "text": [
      "Epoch 1/5\n",
      "282/282 [==============================] - 717s 3s/step - loss: 0.5221 - acc: 0.7264 - f1_m: 0.7414 - precision_m: 0.7275 - recall_m: 0.7806 - val_loss: 0.4334 - val_acc: 0.8065 - val_f1_m: 0.8236 - val_precision_m: 0.7512 - val_recall_m: 0.9140\n",
      "Epoch 2/5\n",
      "282/282 [==============================] - 718s 3s/step - loss: 0.3469 - acc: 0.8548 - f1_m: 0.8530 - precision_m: 0.8599 - recall_m: 0.8515 - val_loss: 0.3260 - val_acc: 0.8698 - val_f1_m: 0.8646 - val_precision_m: 0.8875 - val_recall_m: 0.8446\n",
      "Epoch 3/5\n",
      "282/282 [==============================] - 716s 3s/step - loss: 0.3013 - acc: 0.8801 - f1_m: 0.8797 - precision_m: 0.8826 - recall_m: 0.8802 - val_loss: 0.2950 - val_acc: 0.8802 - val_f1_m: 0.8806 - val_precision_m: 0.8761 - val_recall_m: 0.8868\n",
      "Epoch 4/5\n",
      "282/282 [==============================] - 699s 2s/step - loss: 0.2633 - acc: 0.8955 - f1_m: 0.8952 - precision_m: 0.8983 - recall_m: 0.8949 - val_loss: 0.2994 - val_acc: 0.8798 - val_f1_m: 0.8839 - val_precision_m: 0.8515 - val_recall_m: 0.9208\n",
      "Epoch 5/5\n",
      "282/282 [==============================] - 703s 2s/step - loss: 0.2376 - acc: 0.9071 - f1_m: 0.9066 - precision_m: 0.9096 - recall_m: 0.9060 - val_loss: 0.3037 - val_acc: 0.8698 - val_f1_m: 0.8695 - val_precision_m: 0.8753 - val_recall_m: 0.8653\n"
     ]
    }
   ],
   "source": [
    "history = model7.fit(x=pad_sequences, y=train_y, batch_size=128, verbose=1, epochs=5,  validation_split= 0.1/1.0,shuffle=True)"
   ]
  },
  {
   "cell_type": "code",
   "execution_count": 27,
   "id": "6c8c5e79",
   "metadata": {},
   "outputs": [],
   "source": [
    "loss, accuracy, f1_score, precision, recall = model7.evaluate(x_testing, test_y, verbose=0)"
   ]
  },
  {
   "cell_type": "code",
   "execution_count": 28,
   "id": "d7daee32",
   "metadata": {},
   "outputs": [
    {
     "name": "stdout",
     "output_type": "stream",
     "text": [
      "Loss: 0.3038695752620697\n",
      "Accuracy: 0.8733999729156494\n",
      "f1: 0.8686543703079224\n",
      "precision: 0.8818132877349854\n",
      "recall: 0.8638595938682556\n"
     ]
    }
   ],
   "source": [
    "print(f'Loss: {loss}')\n",
    "print(f'Accuracy: {accuracy}')\n",
    "print(f'f1: {f1_score}')\n",
    "print(f'precision: {precision}')\n",
    "print(f'recall: {recall}')"
   ]
  },
  {
   "cell_type": "code",
   "execution_count": 29,
   "id": "f51ff89e",
   "metadata": {},
   "outputs": [
    {
     "data": {
      "image/png": "[encoded data removed]",
      "text/plain": [
       "<Figure size 432x288 with 1 Axes>"
      ]
     },
     "metadata": {
      "needs_background": "light"
     },
     "output_type": "display_data"
    }
   ],
   "source": [
    "from sklearn.metrics import roc_curve\n",
    "y_pred_keras =model7.predict(x_testing).ravel()\n",
    "fpr_keras, tpr_keras, thresholds_keras = roc_curve(test_y, y_pred_keras)\n",
    "from sklearn.metrics import auc\n",
    "auc_keras = auc(fpr_keras, tpr_keras)\n",
    "plt.figure(1)\n",
    "plt.plot([0, 1], [0, 1], 'k--')\n",
    "plt.plot(fpr_keras, tpr_keras, label='Keras (area = {:.3f})'.format(auc_keras))\n",
    "plt.xlabel('False positive rate')\n",
    "plt.ylabel('True positive rate')\n",
    "plt.title('ROC curve')\n",
    "plt.legend(loc='best')\n",
    "plt.show()"
   ]
  },
  {
   "cell_type": "code",
   "execution_count": null,
   "id": "33e79df0",
   "metadata": {},
   "outputs": [],
   "source": []
  },
  {
   "cell_type": "code",
   "execution_count": null,
   "id": "880e2172",
   "metadata": {},
   "outputs": [],
   "source": []
  },
  {
   "cell_type": "code",
   "execution_count": null,
   "id": "557c0bc2",
   "metadata": {},
   "outputs": [],
   "source": []
  },
  {
   "cell_type": "code",
   "execution_count": 31,
   "id": "2f169bb8",
   "metadata": {},
   "outputs": [],
   "source": [
    "from gensim.scripts.glove2word2vec import glove2word2vec"
   ]
  },
  {
   "cell_type": "code",
   "execution_count": 32,
   "id": "f849ef47",
   "metadata": {},
   "outputs": [],
   "source": [
    "glove_input_file = 'glove.6B.50d.txt'"
   ]
  },
  {
   "cell_type": "code",
   "execution_count": 33,
   "id": "a8ceb52c",
   "metadata": {},
   "outputs": [],
   "source": [
    "word2vec_output_file = 'glove.6B.50d.txt.word2vec'"
   ]
  },
  {
   "cell_type": "code",
   "execution_count": 34,
   "id": "38693067",
   "metadata": {},
   "outputs": [
    {
     "name": "stderr",
     "output_type": "stream",
     "text": [
      "C:\\Users\\Daniel\\anaconda3\\envs\\tensorflow_gpu\\lib\\site-packages\\ipykernel_launcher.py:1: DeprecationWarning: Call to deprecated `glove2word2vec` (KeyedVectors.load_word2vec_format(.., binary=False, no_header=True) loads GLoVE text vectors.).\n",
      "  \"\"\"Entry point for launching an IPython kernel.\n"
     ]
    },
    {
     "data": {
      "text/plain": [
       "(400000, 50)"
      ]
     },
     "execution_count": 34,
     "metadata": {},
     "output_type": "execute_result"
    }
   ],
   "source": [
    "glove2word2vec(glove_input_file, word2vec_output_file)"
   ]
  },
  {
   "cell_type": "code",
   "execution_count": 35,
   "id": "00b61af6",
   "metadata": {},
   "outputs": [],
   "source": [
    "from gensim.models import Word2Vec, KeyedVectors\n",
    "\n",
    "# Load pretrained Glove model (in word2vec form)\n",
    "glove_model = KeyedVectors.load_word2vec_format(word2vec_output_file, binary=False)\n",
    "\n",
    "#Embedding length based on selected model - we are using 50d here.\n",
    "embedding_vector_length = 50"
   ]
  },
  {
   "cell_type": "code",
   "execution_count": 36,
   "id": "6d938309",
   "metadata": {},
   "outputs": [
    {
     "name": "stdout",
     "output_type": "stream",
     "text": [
      "(7001, 50)\n"
     ]
    }
   ],
   "source": [
    "embedding_matrix = np.zeros((7000 + 1, embedding_vector_length))\n",
    "print(embedding_matrix.shape)"
   ]
  },
  {
   "cell_type": "code",
   "execution_count": 37,
   "id": "3db926e3",
   "metadata": {},
   "outputs": [],
   "source": [
    "for word, i in sorted(tokenizer.word_index.items(),key=lambda x:x[1]):\n",
    "    if i > (7000+1):\n",
    "        break\n",
    "    try:\n",
    "        embedding_vector = glove_model[word] #Reading word's embedding from Glove model for a given word\n",
    "        embedding_matrix[i] = embedding_vector\n",
    "    except:\n",
    "        pass"
   ]
  },
  {
   "cell_type": "code",
   "execution_count": 38,
   "id": "eb3d2b6d",
   "metadata": {},
   "outputs": [
    {
     "data": {
      "text/plain": [
       "(7001, 50)"
      ]
     },
     "execution_count": 38,
     "metadata": {},
     "output_type": "execute_result"
    }
   ],
   "source": [
    "embedding_matrix.shape"
   ]
  },
  {
   "cell_type": "code",
   "execution_count": 190,
   "id": "10e3f74a",
   "metadata": {},
   "outputs": [],
   "source": [
    "model8 = tf.keras.Sequential()\n",
    "model8.add(tf.keras.layers.Embedding(7000 + 1, #Vocablury size\n",
    "                                    embedding_vector_length, #Embedding size\n",
    "                                    weights=[embedding_matrix], #Embeddings taken from pre-trained model\n",
    "                                    trainable=False, #As embeddings are already available, we will not train this layer. It will act as lookup layer.\n",
    "                                    input_length=300) #Number of words in each review\n",
    "         )\n",
    "model8.add(SimpleRNN(64))\n",
    "model8.add(Dense(1, activation='sigmoid'))"
   ]
  },
  {
   "cell_type": "code",
   "execution_count": 191,
   "id": "9d655f16",
   "metadata": {},
   "outputs": [
    {
     "name": "stdout",
     "output_type": "stream",
     "text": [
      "Model: \"sequential_18\"\n",
      "_________________________________________________________________\n",
      "Layer (type)                 Output Shape              Param #   \n",
      "=================================================================\n",
      "embedding_12 (Embedding)     (None, 300, 50)           350050    \n",
      "_________________________________________________________________\n",
      "simple_rnn_5 (SimpleRNN)     (None, 64)                7360      \n",
      "_________________________________________________________________\n",
      "dense_9 (Dense)              (None, 1)                 65        \n",
      "=================================================================\n",
      "Total params: 357,475\n",
      "Trainable params: 7,425\n",
      "Non-trainable params: 350,050\n",
      "_________________________________________________________________\n"
     ]
    }
   ],
   "source": [
    "model8.summary()"
   ]
  },
  {
   "cell_type": "code",
   "execution_count": 192,
   "id": "b023a087",
   "metadata": {},
   "outputs": [],
   "source": [
    "model8.compile(loss='binary_crossentropy',\n",
    "              optimizer='adam',\n",
    "              metrics=['acc',f1_m,precision_m, recall_m]\n",
    "             )"
   ]
  },
  {
   "cell_type": "code",
   "execution_count": 194,
   "id": "8df5e375",
   "metadata": {},
   "outputs": [
    {
     "name": "stdout",
     "output_type": "stream",
     "text": [
      "Epoch 1/10\n",
      "282/282 [==============================] - 105s 374ms/step - loss: 0.6678 - acc: 0.5903 - f1_m: 0.5644 - precision_m: 0.6112 - recall_m: 0.5796 - val_loss: 0.6640 - val_acc: 0.6003 - val_f1_m: 0.5768 - val_precision_m: 0.6115 - val_recall_m: 0.5497\n",
      "Epoch 2/10\n",
      "282/282 [==============================] - 105s 371ms/step - loss: 0.6249 - acc: 0.6564 - f1_m: 0.6404 - precision_m: 0.6810 - recall_m: 0.6462 - val_loss: 0.6039 - val_acc: 0.6855 - val_f1_m: 0.7069 - val_precision_m: 0.6552 - val_recall_m: 0.7695\n",
      "Epoch 3/10\n",
      "282/282 [==============================] - 105s 374ms/step - loss: 0.6258 - acc: 0.6507 - f1_m: 0.6335 - precision_m: 0.6749 - recall_m: 0.6342 - val_loss: 0.6232 - val_acc: 0.6620 - val_f1_m: 0.6202 - val_precision_m: 0.7036 - val_recall_m: 0.5572\n",
      "Epoch 4/10\n",
      "282/282 [==============================] - 104s 370ms/step - loss: 0.6735 - acc: 0.5831 - f1_m: 0.5469 - precision_m: 0.5956 - recall_m: 0.5673 - val_loss: 0.6651 - val_acc: 0.5920 - val_f1_m: 0.5966 - val_precision_m: 0.5852 - val_recall_m: 0.6126\n",
      "Epoch 5/10\n",
      "282/282 [==============================] - 102s 362ms/step - loss: 0.6693 - acc: 0.5893 - f1_m: 0.5660 - precision_m: 0.5983 - recall_m: 0.5712 - val_loss: 0.7257 - val_acc: 0.5205 - val_f1_m: 0.2128 - val_precision_m: 0.5574 - val_recall_m: 0.1329\n",
      "Epoch 6/10\n",
      "282/282 [==============================] - 106s 377ms/step - loss: 0.6791 - acc: 0.5701 - f1_m: 0.5246 - precision_m: 0.5918 - recall_m: 0.5264 - val_loss: 0.6745 - val_acc: 0.5850 - val_f1_m: 0.4436 - val_precision_m: 0.6662 - val_recall_m: 0.3369\n",
      "Epoch 7/10\n",
      "282/282 [==============================] - 105s 371ms/step - loss: 0.6781 - acc: 0.5721 - f1_m: 0.5454 - precision_m: 0.5959 - recall_m: 0.5747 - val_loss: 0.6905 - val_acc: 0.5250 - val_f1_m: 0.5565 - val_precision_m: 0.5219 - val_recall_m: 0.6010\n",
      "Epoch 8/10\n",
      "282/282 [==============================] - 103s 366ms/step - loss: 0.6710 - acc: 0.5836 - f1_m: 0.5872 - precision_m: 0.5905 - recall_m: 0.6166 - val_loss: 0.7223 - val_acc: 0.5433 - val_f1_m: 0.2007 - val_precision_m: 0.7618 - val_recall_m: 0.1181\n",
      "Epoch 9/10\n",
      "282/282 [==============================] - 107s 378ms/step - loss: 0.6756 - acc: 0.5776 - f1_m: 0.5514 - precision_m: 0.5832 - recall_m: 0.5823 - val_loss: 0.6629 - val_acc: 0.6083 - val_f1_m: 0.5424 - val_precision_m: 0.6488 - val_recall_m: 0.4690\n",
      "Epoch 10/10\n",
      "282/282 [==============================] - 103s 364ms/step - loss: 0.6441 - acc: 0.6299 - f1_m: 0.6068 - precision_m: 0.6582 - recall_m: 0.6123 - val_loss: 0.8156 - val_acc: 0.5677 - val_f1_m: 0.6895 - val_precision_m: 0.5382 - val_recall_m: 0.9653\n"
     ]
    }
   ],
   "source": [
    "history = model8.fit(x=pad_sequences, y=train_y, batch_size=128, verbose=1, epochs=10,  validation_split= 0.1/1.0,shuffle=True)"
   ]
  },
  {
   "cell_type": "code",
   "execution_count": 196,
   "id": "5207d3b0",
   "metadata": {},
   "outputs": [],
   "source": [
    "loss, accuracy, f1_score, precision, recall = model8.evaluate(x_testing, test_y, verbose=0)"
   ]
  },
  {
   "cell_type": "code",
   "execution_count": 197,
   "id": "64815771",
   "metadata": {},
   "outputs": [
    {
     "name": "stdout",
     "output_type": "stream",
     "text": [
      "Loss: 0.8031731247901917\n",
      "Accuracy: 0.5782999992370605\n",
      "f1: 0.6906901001930237\n",
      "precision: 0.5413169860839844\n",
      "recall: 0.970121443271637\n"
     ]
    }
   ],
   "source": [
    "print(f'Loss: {loss}')\n",
    "print(f'Accuracy: {accuracy}')\n",
    "print(f'f1: {f1_score}')\n",
    "print(f'precision: {precision}')\n",
    "print(f'recall: {recall}')"
   ]
  },
  {
   "cell_type": "code",
   "execution_count": 198,
   "id": "93469957",
   "metadata": {},
   "outputs": [
    {
     "data": {
      "image/png": "[encoded data removed]",
      "text/plain": [
       "<Figure size 432x288 with 1 Axes>"
      ]
     },
     "metadata": {
      "needs_background": "light"
     },
     "output_type": "display_data"
    }
   ],
   "source": [
    "from sklearn.metrics import roc_curve\n",
    "y_pred_keras =model8.predict(x_testing).ravel()\n",
    "fpr_keras, tpr_keras, thresholds_keras = roc_curve(test_y, y_pred_keras)\n",
    "from sklearn.metrics import auc\n",
    "auc_keras = auc(fpr_keras, tpr_keras)\n",
    "plt.figure(1)\n",
    "plt.plot([0, 1], [0, 1], 'k--')\n",
    "plt.plot(fpr_keras, tpr_keras, label='Keras (area = {:.3f})'.format(auc_keras))\n",
    "plt.xlabel('False positive rate')\n",
    "plt.ylabel('True positive rate')\n",
    "plt.title('ROC curve')\n",
    "plt.legend(loc='best')\n",
    "plt.show()"
   ]
  },
  {
   "cell_type": "code",
   "execution_count": null,
   "id": "6a57f8ce",
   "metadata": {},
   "outputs": [],
   "source": []
  },
  {
   "cell_type": "code",
   "execution_count": 47,
   "id": "a15cb3a9",
   "metadata": {},
   "outputs": [],
   "source": [
    "from tensorflow.keras.layers import Bidirectional\n",
    "model9=Sequential()\n",
    "model9.add(tf.keras.layers.Embedding(7000 + 1, #Vocablury size\n",
    "                                    embedding_vector_length, #Embedding size\n",
    "                                    weights=[embedding_matrix], #Embeddings taken from pre-trained model\n",
    "                                    trainable=False, #As embeddings are already available, we will not train this layer. It will act as lookup layer.\n",
    "                                    input_length=300)) #Number of words in each review\n",
    "model9.add(Bidirectional(LSTM(256,return_sequences=True,dropout=0.3)))\n",
    "model9.add(Dense(64))\n",
    "model9.add(Dropout(0.3))\n",
    "model9.add(Dense(1,activation='sigmoid'))\n",
    "\n",
    "\n",
    "\n"
   ]
  },
  {
   "cell_type": "code",
   "execution_count": 48,
   "id": "3949c3fb",
   "metadata": {},
   "outputs": [
    {
     "name": "stdout",
     "output_type": "stream",
     "text": [
      "Model: \"sequential_6\"\n",
      "_________________________________________________________________\n",
      "Layer (type)                 Output Shape              Param #   \n",
      "=================================================================\n",
      "embedding_5 (Embedding)      (None, 300, 50)           350050    \n",
      "_________________________________________________________________\n",
      "bidirectional_1 (Bidirection (None, 300, 512)          628736    \n",
      "_________________________________________________________________\n",
      "dense_2 (Dense)              (None, 300, 64)           32832     \n",
      "_________________________________________________________________\n",
      "dropout_1 (Dropout)          (None, 300, 64)           0         \n",
      "_________________________________________________________________\n",
      "dense_3 (Dense)              (None, 300, 1)            65        \n",
      "=================================================================\n",
      "Total params: 1,011,683\n",
      "Trainable params: 661,633\n",
      "Non-trainable params: 350,050\n",
      "_________________________________________________________________\n"
     ]
    }
   ],
   "source": [
    "model9.summary()"
   ]
  },
  {
   "cell_type": "code",
   "execution_count": 49,
   "id": "5ac6a044",
   "metadata": {},
   "outputs": [],
   "source": [
    "model9.compile(loss='binary_crossentropy',optimizer=tf.keras.optimizers.Adam(3e-3),metrics=['accuracy'])"
   ]
  },
  {
   "cell_type": "code",
   "execution_count": 50,
   "id": "de0e19ac",
   "metadata": {},
   "outputs": [
    {
     "name": "stdout",
     "output_type": "stream",
     "text": [
      "Epoch 1/5\n",
      "282/282 [==============================] - 1705s 6s/step - loss: 0.6677 - accuracy: 0.5721 - val_loss: 0.6159 - val_accuracy: 0.6223\n",
      "Epoch 2/5\n",
      "282/282 [==============================] - 1727s 6s/step - loss: 0.6178 - accuracy: 0.6213 - val_loss: 0.5781 - val_accuracy: 0.6460\n",
      "Epoch 3/5\n",
      "282/282 [==============================] - 1779s 6s/step - loss: 0.4810 - accuracy: 0.7714 - val_loss: 0.4153 - val_accuracy: 0.8100\n",
      "Epoch 4/5\n",
      "282/282 [==============================] - 1784s 6s/step - loss: 0.4358 - accuracy: 0.8001 - val_loss: 0.4021 - val_accuracy: 0.8171\n",
      "Epoch 5/5\n",
      "282/282 [==============================] - 1782s 6s/step - loss: 0.4094 - accuracy: 0.8146 - val_loss: 0.3607 - val_accuracy: 0.8384\n"
     ]
    }
   ],
   "source": [
    "history = model9.fit(x=pad_sequences, y=train_y, batch_size=128, verbose=1, epochs=5,  validation_split= 0.1,shuffle=True)"
   ]
  },
  {
   "cell_type": "code",
   "execution_count": null,
   "id": "fde239c7",
   "metadata": {},
   "outputs": [],
   "source": []
  },
  {
   "cell_type": "code",
   "execution_count": null,
   "id": "1935f0c6",
   "metadata": {},
   "outputs": [],
   "source": []
  },
  {
   "cell_type": "code",
   "execution_count": null,
   "id": "7bccbe46",
   "metadata": {},
   "outputs": [],
   "source": []
  },
  {
   "cell_type": "code",
   "execution_count": null,
   "id": "efa68dd7",
   "metadata": {},
   "outputs": [],
   "source": []
  }
 ],
 "metadata": {
  "kernelspec": {
   "display_name": "Python 3",
   "language": "python",
   "name": "python3"
  },
  "language_info": {
   "codemirror_mode": {
    "name": "ipython",
    "version": 3
   },
   "file_extension": ".py",
   "mimetype": "text/x-python",
   "name": "python",
   "nbconvert_exporter": "python",
   "pygments_lexer": "ipython3",
   "version": "3.6.13"
  }
 },
 "nbformat": 4,
 "nbformat_minor": 5
}
